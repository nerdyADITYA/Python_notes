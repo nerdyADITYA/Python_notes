{
 "cells": [
  {
   "cell_type": "code",
   "execution_count": 9,
   "metadata": {},
   "outputs": [
    {
     "name": "stdout",
     "output_type": "stream",
     "text": [
      "The Bus Seating capacity is: 50. So, the Final Fare amount should be: 5500.0\n",
      "The Cab Seating capacity is: 5. So, the Final Fare amount should be: 500\n"
     ]
    }
   ],
   "source": [
    "class Vehicle():\n",
    "    def __init__(self,name,mileage,capacity):\n",
    "        self.name = name\n",
    "        self.mileage = mileage\n",
    "        self.capacity = capacity\n",
    "    def default_fare(self):\n",
    "        self.fare = self.capacity * 100\n",
    "        return self.fare\n",
    "\n",
    "class Bus(Vehicle):\n",
    "    def busFare(self):\n",
    "        self.x = super().default_fare()\n",
    "        return self.x\n",
    "    def display(self):\n",
    "        print(f\"The Bus Seating capacity is: {self.capacity}. So, the Final Fare amount should be: {self.x+self.x*0.10}\")\n",
    "\n",
    "class Car(Vehicle):\n",
    "    def cabFare(self):\n",
    "        self.x = super().default_fare()\n",
    "        return self.x\n",
    "    def display(self):\n",
    "        print(f\"The Cab Seating capacity is: {self.capacity}. So, the Final Fare amount should be: {self.x}\")\n",
    "\n",
    "b1 = Bus(\"Aditya\",25,50)\n",
    "b1.busFare()\n",
    "b1.display()\n",
    "\n",
    "c1 = Car(\"Aditya\",35,5)\n",
    "c1.cabFare()\n",
    "c1.display()"
   ]
  },
  {
   "cell_type": "code",
   "execution_count": null,
   "metadata": {},
   "outputs": [],
   "source": []
  }
 ],
 "metadata": {
  "kernelspec": {
   "display_name": "Python 3",
   "language": "python",
   "name": "python3"
  },
  "language_info": {
   "codemirror_mode": {
    "name": "ipython",
    "version": 3
   },
   "file_extension": ".py",
   "mimetype": "text/x-python",
   "name": "python",
   "nbconvert_exporter": "python",
   "pygments_lexer": "ipython3",
   "version": "3.11.9"
  }
 },
 "nbformat": 4,
 "nbformat_minor": 2
}
