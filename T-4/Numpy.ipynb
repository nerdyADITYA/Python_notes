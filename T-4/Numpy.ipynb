{
 "cells": [
  {
   "cell_type": "code",
   "execution_count": 3,
   "metadata": {},
   "outputs": [
    {
     "name": "stdout",
     "output_type": "stream",
     "text": [
      "3\n",
      "10\n",
      "8\n",
      "[2 3 4 5]\n",
      "[ 3  4  5  6  7  8  9 10 11 12]\n",
      "[ 2  4  6  8 10 12 14 16 18 20]\n"
     ]
    }
   ],
   "source": [
    "import numpy as np # type: ignore\n",
    "# 1-D Array\n",
    "x = np.arange(1,11)\n",
    "print(x[2])\n",
    "print(x[9])\n",
    "print(x[-3])\n",
    "print(x[1:5])\n",
    "print(x+2)\n",
    "print(x*2)"
   ]
  },
  {
   "cell_type": "code",
   "execution_count": 1,
   "metadata": {},
   "outputs": [
    {
     "name": "stdout",
     "output_type": "stream",
     "text": [
      "[[1 2 3]\n",
      " [4 5 6]\n",
      " [7 8 9]]\n",
      "[[ 3  4  5]\n",
      " [ 6  7  8]\n",
      " [ 9 10 11]]\n",
      "[[ 2  4  6]\n",
      " [ 8 10 12]\n",
      " [14 16 18]]\n",
      "9\n",
      "6\n",
      "5\n"
     ]
    }
   ],
   "source": [
    "import numpy as np\n",
    "# 2-D Array\n",
    "x = np.arange(1,10).reshape(3,3)\n",
    "print(x)\n",
    "print(x+2)\n",
    "print(x*2)\n",
    "print(x[2][2])\n",
    "print(x[1][2])\n",
    "print(x[1][1])"
   ]
  },
  {
   "cell_type": "code",
   "execution_count": 41,
   "metadata": {},
   "outputs": [
    {
     "name": "stdout",
     "output_type": "stream",
     "text": [
      "[[[ 1  2]\n",
      "  [ 3  4]\n",
      "  [ 5  6]]\n",
      "\n",
      " [[ 7  8]\n",
      "  [ 9 10]\n",
      "  [11 12]]]\n",
      "4\n",
      "10\n",
      "6\n"
     ]
    }
   ],
   "source": [
    "import numpy as np\n",
    "# 3-D Array\n",
    "x = np.arange(1,13).reshape(2,3,2)\n",
    "print(x)\n",
    "print(x[0][1][1])\n",
    "print(x[1][1][1])\n",
    "print(x[0][2][1])"
   ]
  },
  {
   "cell_type": "code",
   "execution_count": 4,
   "metadata": {},
   "outputs": [
    {
     "name": "stdout",
     "output_type": "stream",
     "text": [
      "[[1 2 3]\n",
      " [4 5 6]]\n",
      "[[ 7  8  9]\n",
      " [10 11 12]]\n",
      "[[ 1  2  3  7  8  9]\n",
      " [ 4  5  6 10 11 12]]\n",
      "[[ 1  2  3]\n",
      " [ 4  5  6]\n",
      " [ 7  8  9]\n",
      " [10 11 12]]\n"
     ]
    }
   ],
   "source": [
    "x = np.arange(1,7).reshape(2,3)\n",
    "y = np.arange(7,13).reshape(2,3)\n",
    "print(x)\n",
    "print(y)\n",
    "z=np.concatenate((x,y),axis=1) #will concatenate column wise\n",
    "a=np.concatenate((x,y),axis=0) #will concatenate row wise\n",
    "print(z)\n",
    "print(a)"
   ]
  },
  {
   "cell_type": "code",
   "execution_count": 5,
   "metadata": {},
   "outputs": [
    {
     "name": "stdout",
     "output_type": "stream",
     "text": [
      "1\n",
      "2\n",
      "3\n",
      "4\n",
      "5\n",
      "6\n",
      "7\n",
      "8\n",
      "[[[1 2]\n",
      "  [3 4]]\n",
      "\n",
      " [[5 6]\n",
      "  [7 8]]]\n"
     ]
    }
   ],
   "source": [
    "import numpy as np\n",
    "x = np.arange(1,9).reshape(2,2,2)\n",
    "for i in np.nditer(x):\n",
    "    print(i)\n",
    "print(x)"
   ]
  },
  {
   "cell_type": "code",
   "execution_count": 6,
   "metadata": {},
   "outputs": [
    {
     "name": "stdout",
     "output_type": "stream",
     "text": [
      "[[1 2 3]\n",
      " [4 5 6]\n",
      " [7 8 9]]\n",
      "[[3]\n",
      " [6]\n",
      " [9]]\n",
      "[[2]\n",
      " [8]]\n",
      "[['1' '2' '3']\n",
      " ['4' '5' 'Cdnndndf']\n",
      " ['Cdnndndf' 'Cdnndndf' 'Cdnndndf']]\n",
      "[7 8 9]\n",
      "[1 4 7]\n"
     ]
    }
   ],
   "source": [
    "# Create 3*3 array from range 10 to 19\n",
    "# print third column from all rows\n",
    "# print odd rows and even columns from above array\n",
    "# find max and min from axix=0 and axix=1\n",
    "\n",
    "import numpy as np\n",
    "x = np.arange(1,10).reshape(3,3)\n",
    "l = np.arange(1,10).reshape(3,3) \n",
    "print(x)\n",
    "print(x[0:,2:])\n",
    "print(x[0::2,1:2])\n",
    "Max = np.max(x,axis=0)\n",
    "Min = np.min(x,axis=1)\n",
    "y = np.where(l>5,\"Cdnndndf\",l)\n",
    "print(y)\n",
    "print(Max)\n",
    "print(Min)"
   ]
  },
  {
   "cell_type": "code",
   "execution_count": null,
   "metadata": {},
   "outputs": [],
   "source": []
  }
 ],
 "metadata": {
  "kernelspec": {
   "display_name": "Python 3",
   "language": "python",
   "name": "python3"
  },
  "language_info": {
   "codemirror_mode": {
    "name": "ipython",
    "version": 3
   },
   "file_extension": ".py",
   "mimetype": "text/x-python",
   "name": "python",
   "nbconvert_exporter": "python",
   "pygments_lexer": "ipython3",
   "version": "3.11.9"
  }
 },
 "nbformat": 4,
 "nbformat_minor": 2
}
