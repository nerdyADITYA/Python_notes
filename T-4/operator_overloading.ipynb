{
 "cells": [
  {
   "cell_type": "code",
   "execution_count": 6,
   "metadata": {},
   "outputs": [
    {
     "name": "stdout",
     "output_type": "stream",
     "text": [
      "30\n",
      "-10\n",
      "200\n",
      "0.5\n",
      "0\n",
      "10\n",
      "100000000000000000000\n"
     ]
    }
   ],
   "source": [
    "class X:\n",
    "    def __init__(self,a):\n",
    "        self.a = a\n",
    "    def __add__(self,other):\n",
    "        return self.a + other.a\n",
    "    def __sub__(self,other):\n",
    "        return self.a - other.a\n",
    "    def __mul__(self,other):\n",
    "        return self.a * other.a\n",
    "    def __truediv__(self,other):\n",
    "        return self.a / other.a\n",
    "    def __floordiv__(self,other):\n",
    "        return self.a // other.a\n",
    "    def __mod__(self,other):\n",
    "        return self.a % other.a\n",
    "    def __pow__(self,other):\n",
    "        return self.a ** other.a\n",
    "x1 = X(10)\n",
    "x2 = X(20)\n",
    "print(x1+x2)\n",
    "print(x1-x2)\n",
    "print(x1*x2)\n",
    "print(x1/x2)\n",
    "print(x1//x2)\n",
    "print(x1%x2)\n",
    "print(x1**x2)\n",
    "\n"
   ]
  },
  {
   "cell_type": "code",
   "execution_count": 9,
   "metadata": {},
   "outputs": [
    {
     "name": "stdout",
     "output_type": "stream",
     "text": [
      "(30, 105)\n",
      "10,5\n",
      "20,100\n"
     ]
    }
   ],
   "source": [
    "class X:\n",
    "    def __init__(self,a,b):\n",
    "        self.a = a\n",
    "        self.b = b\n",
    "    def __add__(self,other):\n",
    "        real = self.a + other.a\n",
    "        img = self.b + other.b\n",
    "        return (real,img)\n",
    "    def __str__(self):\n",
    "        return f\"{self.a},{self.b}\"\n",
    "x1 = X(10,5)\n",
    "x2 = X(20,100)\n",
    "print(x1+x2)\n",
    "print(x1)\n",
    "print(x2)"
   ]
  },
  {
   "cell_type": "code",
   "execution_count": 10,
   "metadata": {},
   "outputs": [
    {
     "name": "stdout",
     "output_type": "stream",
     "text": [
      "True\n",
      "False\n",
      "True\n",
      "False\n",
      "False\n",
      "True\n"
     ]
    }
   ],
   "source": [
    "class X:\n",
    "    def __init__(self,a):\n",
    "        self.a = a\n",
    "    def __lt__(self,other):\n",
    "        return self.a < other.a\n",
    "    def __gt__(self,other):\n",
    "        return self.a > other.a\n",
    "    def __le__(self,other):\n",
    "        return self.a <= other.a\n",
    "    def __ge__(self,other):\n",
    "        return self.a >= other.a\n",
    "    def __eq__(self,other):\n",
    "        return self.a == other.a\n",
    "    def __ne__(self,other):\n",
    "        return self.a != other.a\n",
    "x1 = X(10)\n",
    "x2 = X(20)\n",
    "print(x1<x2)\n",
    "print(x1>x2)\n",
    "print(x1<=x2)\n",
    "print(x1>=x2)\n",
    "print(x1==x2)\n",
    "print(x1!=x2)"
   ]
  },
  {
   "cell_type": "code",
   "execution_count": 20,
   "metadata": {},
   "outputs": [
    {
     "name": "stdout",
     "output_type": "stream",
     "text": [
      "28.284271247461902\n",
      "1.0\n"
     ]
    }
   ],
   "source": [
    "class distance():\n",
    "    def __init__(self,x,y):\n",
    "        self.x = x\n",
    "        self.y = y\n",
    "    def __slope__(self,other):\n",
    "        self.sl = ((other.x - self.x)**2 + (other.y-self.y)**2)**0.5\n",
    "        return self.sl\n",
    "    def __distance__(self,other):\n",
    "        self.dis = (other.y-self.y)/(other.x-self.x)\n",
    "        return self.dis\n",
    "x1 = distance(10,20)\n",
    "x2 = distance(30,40)\n",
    "print(x1.__slope__(x2))\n",
    "print(x1.__distance__(x2))"
   ]
  },
  {
   "cell_type": "code",
   "execution_count": 21,
   "metadata": {},
   "outputs": [
    {
     "name": "stdout",
     "output_type": "stream",
     "text": [
      "Student Alice added.\n",
      "Student Bob added.\n",
      "\n",
      "Guide Details:\n",
      "Guide name: Dr. Smith\n",
      "Guide email: smith@example.com\n",
      "List of student\n",
      " - Alice alice@example.com\n",
      " - Bob bob@example.com\n",
      "Student Bob Removed.\n",
      "\n",
      "Updated Guide Details:\n",
      "Guide name: Dr. Smith\n",
      "Guide email: smith@example.com\n",
      "List of student\n",
      " - Alice alice@example.com\n",
      "Student Charlie is not found in list.\n"
     ]
    }
   ],
   "source": [
    "class Student:\n",
    "    def __init__(self,name,email):\n",
    "        self.name = name\n",
    "        self.email = email\n",
    "\n",
    "    def pudata(self):\n",
    "        print(f\"Student Name: {self.name}\")\n",
    "        print(f\"Student Email: {self.email}\")\n",
    "\n",
    "class PhDguide:\n",
    "    def __init__(self,name,email):\n",
    "        self.name = name\n",
    "        self.email = email\n",
    "        self.student = []\n",
    "\n",
    "    def putdata(self):\n",
    "        print(f\"Guide name: {self.name}\")\n",
    "        print(f\"Guide email: {self.email}\")\n",
    "        print(\"List of student\")\n",
    "        if self.student:\n",
    "            for i in self.student:\n",
    "                print(f\" - {i.name} {i.email}\")\n",
    "        else:\n",
    "            print(\"No Student assign\")\n",
    "\n",
    "    def add(self,i):\n",
    "        if isinstance(i,Student):\n",
    "            self.student.append(i)\n",
    "            print(f\"Student {i.name} added.\")\n",
    "        else:\n",
    "            print(\"Invalid studnet. Please provide student object.\")\n",
    "\n",
    "    def remove(self,i):\n",
    "        if i in self.student:\n",
    "            self.student.remove(i)\n",
    "            print(f\"Student {i.name} Removed.\")\n",
    "        else:\n",
    "            print(f\"Student {i.name} is not found in list.\")\n",
    "\n",
    "student1 = Student(\"Alice\", \"alice@example.com\")\n",
    "student2 = Student(\"Bob\", \"bob@example.com\")\n",
    "student3 = Student(\"Charlie\", \"charlie@example.com\")\n",
    "\n",
    "guide = PhDguide(\"Dr. Smith\", \"smith@example.com\")\n",
    "\n",
    "guide.add(student1)\n",
    "guide.add(student2)\n",
    "\n",
    "print(\"\\nGuide Details:\")\n",
    "guide.putdata()\n",
    "\n",
    "guide.remove(student2)\n",
    "\n",
    "print(\"\\nUpdated Guide Details:\")\n",
    "guide.putdata()\n",
    "\n",
    "guide.remove(student3)"
   ]
  },
  {
   "cell_type": "code",
   "execution_count": null,
   "metadata": {},
   "outputs": [],
   "source": []
  }
 ],
 "metadata": {
  "kernelspec": {
   "display_name": "Python 3",
   "language": "python",
   "name": "python3"
  },
  "language_info": {
   "codemirror_mode": {
    "name": "ipython",
    "version": 3
   },
   "file_extension": ".py",
   "mimetype": "text/x-python",
   "name": "python",
   "nbconvert_exporter": "python",
   "pygments_lexer": "ipython3",
   "version": "3.11.9"
  }
 },
 "nbformat": 4,
 "nbformat_minor": 2
}
