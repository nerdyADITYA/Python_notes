{
 "cells": [
  {
   "cell_type": "code",
   "execution_count": 1,
   "metadata": {},
   "outputs": [
    {
     "name": "stdout",
     "output_type": "stream",
     "text": [
      "gweijgwp\n",
      "Hello world\n"
     ]
    }
   ],
   "source": [
    "from abc import *\n",
    "\n",
    "class demo(ABC):\n",
    "    @abstractmethod\n",
    "    def display(self):\n",
    "        pass\n",
    "\n",
    "    def show(self):\n",
    "        print(\"Aditya Kadia\")\n",
    "\n",
    "class demo1(demo):\n",
    "    def display(self):\n",
    "        print(\"Hello world\")\n",
    "\n",
    "    def show(self):\n",
    "        print(\"gweijgwp\")\n",
    "\n",
    "d1 = demo1()\n",
    "d1.show()\n",
    "d1.display()"
   ]
  },
  {
   "cell_type": "code",
   "execution_count": 1,
   "metadata": {},
   "outputs": [
    {
     "name": "stdout",
     "output_type": "stream",
     "text": [
      "Gun: AK-47\n",
      "Area of army: 1500000 sq ft\n",
      "Gun: AK-47\n",
      "Area of Navy: 2000000 sq ft\n",
      "Gun: AK-47\n",
      "Area of Air force: 2500000 sq ft\n"
     ]
    }
   ],
   "source": [
    "from abc import *\n",
    "\n",
    "class defence(ABC):\n",
    "    @abstractmethod\n",
    "    def area(self):\n",
    "        pass\n",
    "\n",
    "    def guns(self):\n",
    "        print(\"Gun: AK-47\")\n",
    "\n",
    "class army(defence):\n",
    "    def area(self):\n",
    "        print(\"Area of army: 1500000 sq ft\")\n",
    "\n",
    "class navy(defence):\n",
    "    def area(self):\n",
    "        print(\"Area of Navy: 2000000 sq ft\")\n",
    "\n",
    "class airForce(defence):\n",
    "    def area(self):\n",
    "        print(\"Area of Air force: 2500000 sq ft\")\n",
    "\n",
    "a1 = army()\n",
    "a1.guns()\n",
    "a1.area()\n",
    "n1 = navy()\n",
    "n1.guns()\n",
    "n1.area()\n",
    "a2 = airForce()\n",
    "a2.guns()\n",
    "a2.area()"
   ]
  },
  {
   "cell_type": "code",
   "execution_count": 4,
   "metadata": {},
   "outputs": [
    {
     "name": "stdout",
     "output_type": "stream",
     "text": [
      "Area of rectangle: 6\n",
      "Area of Circle: 1256.0\n"
     ]
    }
   ],
   "source": [
    "from abc import *\n",
    "\n",
    "class Shape(ABC):\n",
    "    @abstractmethod\n",
    "    def calculate_area(self):\n",
    "        pass\n",
    "\n",
    "class rectangle(Shape):\n",
    "    def calculate_area(self):\n",
    "        length = int(input(\"Enter Lenght: \"))\n",
    "        breadth = int(input(\"Enter breadth: \"))\n",
    "        print(f\"Area of rectangle: {length*breadth}\")\n",
    "\n",
    "class circle(Shape):\n",
    "    def calculate_area(self):\n",
    "        radius = int(input(\"Enter Radius: \"))\n",
    "        area = 3.14*radius*radius\n",
    "        print(f\"Area of Circle: {area}\")\n",
    "\n",
    "r1 = rectangle()\n",
    "r1.calculate_area()\n",
    "c1 = circle()\n",
    "c1.calculate_area()"
   ]
  },
  {
   "cell_type": "code",
   "execution_count": 6,
   "metadata": {},
   "outputs": [
    {
     "name": "stdout",
     "output_type": "stream",
     "text": [
      "Employee name: Aditya; Employee ID: 101\n",
      "Employee Salary:  100000\n",
      "Total Perks: 40000.0\n",
      "DA: 35000.0; HRA: 17000.0; PF: 12000.0\n",
      "Net Salary:  140000.0\n"
     ]
    }
   ],
   "source": [
    "from abc import *\n",
    "\n",
    "class Employee(ABC):\n",
    "    @abstractmethod\n",
    "    def emp_id(self):\n",
    "        pass\n",
    "\n",
    "    def emp_deets(self):\n",
    "        name = input(\"Enter Employee name: \")\n",
    "        salary = int(input(\"Enter Employee Salary: \"))\n",
    "        id = int(input(\"Enter Employee ID: \"))\n",
    "        self.id = id\n",
    "        self.name = name\n",
    "        self.salary = salary\n",
    "    \n",
    "    def show(self):\n",
    "        print(f\"Employee name: {self.name}; Employee ID: {self.id}\")\n",
    "\n",
    "    def show_sal(self):\n",
    "        print(\"Employee Salary: \",self.salary)\n",
    "\n",
    "class perks(Employee):\n",
    "    def emp_id(self):\n",
    "        pass\n",
    "    def cal(self):\n",
    "        da = self.salary*0.35\n",
    "        self.da = da\n",
    "        hra = self.salary*0.17\n",
    "        self.hra = hra\n",
    "        pf = self.salary*0.12\n",
    "        self.pf = pf\n",
    "    def Perk(self):\n",
    "        perks = self.da+self.hra-self.pf\n",
    "        self.perks = perks\n",
    "        print(f\"Total Perks: {perks}\")\n",
    "\n",
    "class NetSalary(perks):\n",
    "    def emp_id(self):\n",
    "        pass\n",
    "    def total_sal(self):\n",
    "        tot_sal = self.salary+self.perks\n",
    "        self.total = tot_sal\n",
    "        print(f\"DA: {self.da}; HRA: {self.hra}; PF: {self.pf}\")\n",
    "        print(\"Net Salary: \",tot_sal)\n",
    "\n",
    "p1 = NetSalary()\n",
    "p1.emp_deets()\n",
    "p1.show()\n",
    "p1.show_sal()\n",
    "p1.cal()\n",
    "p1.Perk()\n",
    "p1.total_sal()\n"
   ]
  },
  {
   "cell_type": "code",
   "execution_count": null,
   "metadata": {},
   "outputs": [],
   "source": []
  }
 ],
 "metadata": {
  "kernelspec": {
   "display_name": "Python 3",
   "language": "python",
   "name": "python3"
  },
  "language_info": {
   "codemirror_mode": {
    "name": "ipython",
    "version": 3
   },
   "file_extension": ".py",
   "mimetype": "text/x-python",
   "name": "python",
   "nbconvert_exporter": "python",
   "pygments_lexer": "ipython3",
   "version": "3.11.9"
  }
 },
 "nbformat": 4,
 "nbformat_minor": 2
}
