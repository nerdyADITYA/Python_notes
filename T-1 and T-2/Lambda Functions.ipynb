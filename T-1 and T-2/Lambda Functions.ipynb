{
 "cells": [
  {
   "cell_type": "code",
   "execution_count": 2,
   "id": "f8e916df-491a-4944-b117-b198353425bf",
   "metadata": {},
   "outputs": [
    {
     "name": "stdout",
     "output_type": "stream",
     "text": [
      "[2, 4, 6, 8, 10, 12]\n"
     ]
    }
   ],
   "source": [
    "numbers = [1,2,3,4,5,6]\n",
    "\n",
    "result = map(lambda n : n*2, numbers)\n",
    "print(list(result))"
   ]
  },
  {
   "cell_type": "code",
   "execution_count": 10,
   "id": "ba66dbd6-84e1-4104-badf-540f9de963a6",
   "metadata": {},
   "outputs": [
    {
     "name": "stdout",
     "output_type": "stream",
     "text": [
      "Enter a list:  [1,2,3,4,5,6]\n"
     ]
    },
    {
     "name": "stdout",
     "output_type": "stream",
     "text": [
      "[1, 4, 9, 16, 25, 36]\n"
     ]
    }
   ],
   "source": [
    "numbers = eval(input(\"Enter a list: \"))\n",
    "\n",
    "ans = list(map(lambda n : n**2,numbers))\n",
    "print(ans)"
   ]
  },
  {
   "cell_type": "code",
   "execution_count": 12,
   "id": "402a777a-beee-4016-a371-8c7068b761eb",
   "metadata": {},
   "outputs": [
    {
     "name": "stdout",
     "output_type": "stream",
     "text": [
      "[9, 2, 6, 12, 20, 30, 42]\n"
     ]
    }
   ],
   "source": [
    "l1 = [9,1,2,3,4,5,6]\n",
    "l2 = [1,2,3,4,5,6,7]\n",
    "\n",
    "ans = list(map(lambda a,b: a*b,l1,l2))\n",
    "print(ans)"
   ]
  },
  {
   "cell_type": "code",
   "execution_count": null,
   "id": "9ff13b5d-2673-473f-9749-5e9a26692e2f",
   "metadata": {},
   "outputs": [
    {
     "name": "stdout",
     "output_type": "stream",
     "text": [
      "[False, True, False, True, False, True]\n",
      "[1, 3, 5]\n"
     ]
    }
   ],
   "source": [
    "numbers = [1,2,3,4,5,6]\n",
    "\n",
    "even = list(filter(lambda n : n%2 == 0,numbers))\n",
    "odd = list(filter(lambda n : n%2 != 0,numbers))\n",
    "\n",
    "print(even)\n",
    "print(odd)"
   ]
  },
  {
   "cell_type": "code",
   "execution_count": 22,
   "id": "9be3eef6-3adb-4703-8237-dd5ee0ef44bb",
   "metadata": {},
   "outputs": [
    {
     "name": "stdout",
     "output_type": "stream",
     "text": [
      "[-45, -30, -15]\n",
      "[0, 15, 30, 45]\n"
     ]
    }
   ],
   "source": [
    "l = list(range(-50,50))\n",
    "\n",
    "negative = list(filter(lambda n : n%3 == 0 and n%5 == 0 and n<0,l))\n",
    "positive = list(filter(lambda n : n%3 == 0 and n%5 == 0 and n>=0,l))\n",
    "\n",
    "print(negative)\n",
    "print(positive)"
   ]
  },
  {
   "cell_type": "code",
   "execution_count": 5,
   "id": "bed9a630-c15a-4aae-a398-13ca02d3611d",
   "metadata": {},
   "outputs": [
    {
     "name": "stdout",
     "output_type": "stream",
     "text": [
      "Sum of even numbers:  12\n"
     ]
    }
   ],
   "source": [
    "from functools import reduce\n",
    "\n",
    "numbers = [1,2,3,4,5,6]\n",
    "\n",
    "even = list(filter(lambda a : a%2 == 0,numbers ))\n",
    "# add = list(map(lambda x,y: x+y,even))\n",
    "add = reduce(lambda x,y : x+y,even)\n",
    "print(\"Sum of even numbers: \",add)"
   ]
  },
  {
   "cell_type": "code",
   "execution_count": 6,
   "id": "88dc79e6-6b78-481a-adb6-ba01ac5a3a66",
   "metadata": {},
   "outputs": [
    {
     "name": "stdout",
     "output_type": "stream",
     "text": [
      "[(5, 6), (2, 4), (1, 10)]\n"
     ]
    }
   ],
   "source": [
    "tup = ((1,10),(2,4),(5,6))\n",
    "\n",
    "s = sorted(tup, key = lambda x:x[0],reverse = True)\n",
    "\n",
    "print(s)"
   ]
  },
  {
   "cell_type": "code",
   "execution_count": 34,
   "id": "f73678cb-1d62-4e89-b5ed-0dfc3bc79914",
   "metadata": {},
   "outputs": [
    {
     "name": "stdout",
     "output_type": "stream",
     "text": [
      "[6, 12, 18, 24, 30, 36, 42, 48, 54, 60, 66, 72, 78, 84, 90, 96, 3, 9, 15, 21, 27, 33, 39, 45, 51, 57, 63, 69, 75, 81, 87, 93, 99]\n"
     ]
    }
   ],
   "source": [
    "l = list(range(1,100))\n",
    "\n",
    "even = list(filter(lambda a : a%2 == 0 and a%6 == 0,l))\n",
    "odd = list(filter(lambda a : a%2 != 0 and a%3==0,l))\n",
    "\n",
    "print(even + odd)"
   ]
  },
  {
   "cell_type": "code",
   "execution_count": 4,
   "id": "25b00e60-c150-42da-8bb7-fe828b433bb2",
   "metadata": {},
   "outputs": [
    {
     "name": "stdout",
     "output_type": "stream",
     "text": [
      "Positive numbers = [2, 73, 86, 5, 5, 3, 21, 3] & SUM = 198\n",
      "Negative numbers = [-25, -23, -64, -87] & SUM = -199\n"
     ]
    }
   ],
   "source": [
    "l = eval(input(\"Enter a list: \"))\n",
    "\n",
    "pos = list(filter(lambda a : a>0, l))\n",
    "neg = list(filter(lambda a : a<0, l))\n",
    "\n",
    "sum_pos = sum(pos)\n",
    "sum_neg = sum(neg)\n",
    "\n",
    "print(f\"Positive numbers = {pos} & SUM = {sum_pos}\")\n",
    "print(f\"Negative numbers = {neg} & SUM = {sum_neg}\")"
   ]
  },
  {
   "cell_type": "code",
   "execution_count": null,
   "id": "18cc2203",
   "metadata": {},
   "outputs": [],
   "source": []
  }
 ],
 "metadata": {
  "kernelspec": {
   "display_name": "Python 3",
   "language": "python",
   "name": "python3"
  },
  "language_info": {
   "codemirror_mode": {
    "name": "ipython",
    "version": 3
   },
   "file_extension": ".py",
   "mimetype": "text/x-python",
   "name": "python",
   "nbconvert_exporter": "python",
   "pygments_lexer": "ipython3",
   "version": "3.11.9"
  }
 },
 "nbformat": 4,
 "nbformat_minor": 5
}
