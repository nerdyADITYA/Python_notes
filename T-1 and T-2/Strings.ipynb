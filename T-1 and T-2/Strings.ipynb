{
 "cells": [
  {
   "cell_type": "code",
   "execution_count": 8,
   "id": "e3e83efe-e812-4a5e-ae8f-5976d4ea4f33",
   "metadata": {},
   "outputs": [
    {
     "name": "stdout",
     "output_type": "stream",
     "text": [
      "aba\n",
      "It is a palindrome !\n"
     ]
    }
   ],
   "source": [
    "s = input(\"Enter a String: \")\n",
    "\n",
    "pal = s[ : :-1]\n",
    "print(pal)\n",
    "if (s == pal):\n",
    "    print(\"It is a palindrome !\")\n",
    "else:\n",
    "    print(\"It is not palindrome\")\n"
   ]
  },
  {
   "cell_type": "code",
   "execution_count": 11,
   "id": "bbd2ac78-8224-463b-a946-8bc66e7f9b9b",
   "metadata": {},
   "outputs": [
    {
     "name": "stdout",
     "output_type": "stream",
     "text": [
      "Hey, ow are you?\n",
      "Hy o r o?\n",
      "e,Hwaeyu\n"
     ]
    }
   ],
   "source": [
    "x = \"Hey, How are you?\"\n",
    "n = int(input(\"Enter the index vlaue: \"))\n",
    "\n",
    "a = x[:n] + x[n+1:len(x)]\n",
    "b = x[0:len(x):2]\n",
    "c = x[1:len(x):2]\n",
    "\n",
    "print(a)\n",
    "print(b)\n",
    "print(c)\n"
   ]
  },
  {
   "cell_type": "code",
   "execution_count": 10,
   "id": "7b21f3fc-9f09-44cf-aee0-161eb3eeadfa",
   "metadata": {},
   "outputs": [
    {
     "name": "stdout",
     "output_type": "stream",
     "text": [
      "['a', 'b', 'c', 'd']\n"
     ]
    }
   ],
   "source": [
    "x = \"a,b,c,d\"\n",
    "ans = x.split(\",\")\n",
    "print(ans)"
   ]
  },
  {
   "cell_type": "code",
   "execution_count": 27,
   "id": "c8ebb2c5-29e2-4b3f-98cb-574d9c521d62",
   "metadata": {},
   "outputs": [
    {
     "name": "stdout",
     "output_type": "stream",
     "text": [
      "a,b,c,d\n"
     ]
    }
   ],
   "source": [
    "x = ['a', 'b', 'c', 'd']\n",
    "ans = \",\".join(x)\n",
    "print(ans)"
   ]
  },
  {
   "cell_type": "code",
   "execution_count": 28,
   "id": "c199604a-0285-4f89-9ae9-f976bc6e7873",
   "metadata": {},
   "outputs": [
    {
     "name": "stdout",
     "output_type": "stream",
     "text": [
      "This is class A6\n"
     ]
    }
   ],
   "source": [
    "x = \"This is class C8\"\n",
    "ans = x.replace(\"C8\",\"A6\")\n",
    "print(ans)"
   ]
  },
  {
   "cell_type": "code",
   "execution_count": 12,
   "id": "22777f1e-92fc-4848-b7af-0390b5aa21d3",
   "metadata": {},
   "outputs": [
    {
     "name": "stdout",
     "output_type": "stream",
     "text": [
      "['A', 'a', 'd', 'i', 't', 'y']\n",
      "['y', 't', 'i', 'd', 'a', 'A']\n"
     ]
    }
   ],
   "source": [
    "a = \"Aditya\"\n",
    "x = sorted(a)\n",
    "y = sorted(a,reverse = True)\n",
    "print(x)\n",
    "print(y)"
   ]
  },
  {
   "cell_type": "code",
   "execution_count": 38,
   "id": "5acf6b65-31cf-4bc6-a74f-d993902ed5a1",
   "metadata": {},
   "outputs": [
    {
     "name": "stdout",
     "output_type": "stream",
     "text": [
      "Enter Index value:  7\n"
     ]
    },
    {
     "name": "stdout",
     "output_type": "stream",
     "text": [
      "THIS IS a house\n"
     ]
    }
   ],
   "source": [
    "a = \"This is a house\"\n",
    "x = int(input(\"Enter Index value: \"))\n",
    "\n",
    "first_half = a[:x]\n",
    "second_half = a[x:len(a)]\n",
    "\n",
    "print(first_half.upper() + second_half.lower())\n"
   ]
  },
  {
   "cell_type": "code",
   "execution_count": 41,
   "id": "a28a958a-9688-4c56-8f85-97cc431908c4",
   "metadata": {},
   "outputs": [
    {
     "name": "stdout",
     "output_type": "stream",
     "text": [
      "Hello\n",
      "my\n",
      "name\n",
      "is\n",
      "Aditya\n",
      "Kadia\n"
     ]
    }
   ],
   "source": [
    "x = \"Hello my name is Aditya Kadia\"\n",
    "word = x.split(\" \")\n",
    "for i in word:\n",
    "    print(i)"
   ]
  },
  {
   "cell_type": "code",
   "execution_count": 49,
   "id": "2a5f4eb5-60c4-43b8-b1e8-1c09482f6619",
   "metadata": {},
   "outputs": [
    {
     "name": "stdout",
     "output_type": "stream",
     "text": [
      "Number of UpperCase: 2 and number of LowerCase: 9 Space: 1\n"
     ]
    }
   ],
   "source": [
    "s = \"Aditya Kadia\"\n",
    "count1 = 0\n",
    "count2 = 0\n",
    "n= 0\n",
    "for i in s:\n",
    "    if(i.isupper()):\n",
    "        count1 = count1+1\n",
    "    elif(i.islower()):\n",
    "        count2 = count2+1\n",
    "    else: \n",
    "        n = n+1\n",
    "        \n",
    "print(f\"Number of UpperCase: {count1} and number of LowerCase: {count2} Space: {n}\")    "
   ]
  },
  {
   "cell_type": "code",
   "execution_count": null,
   "id": "e1f104d4-9828-4f40-bda1-137669127d70",
   "metadata": {},
   "outputs": [
    {
     "name": "stdout",
     "output_type": "stream",
     "text": [
      "Enter Password:  wrehwAT@e5y54\n"
     ]
    },
    {
     "name": "stdout",
     "output_type": "stream",
     "text": [
      "Strong Password\n"
     ]
    }
   ],
   "source": [
    "x = input(\"Enter Password: \")\n",
    "u = 0\n",
    "c = 0\n",
    "d = 0\n",
    "if(len(x) >= 8):\n",
    "    for i in x:\n",
    "        if(i.isdigit()):\n",
    "            d = d+1\n",
    "        elif(i.isupper()):\n",
    "            u = u+1\n",
    "        elif(\"@\" in i and \"_\" in i and \"*\" in i):\n",
    "            c = c+1\n",
    "    if(d>=1 and u>=1 and c>=1):\n",
    "        print(\"Strong Password\")\n",
    "    else:\n",
    "        print(\"Your Password is Weak\")    \n",
    "else:\n",
    "    print(\"Password length must be greater than or equals to 8\")"
   ]
  },
  {
   "cell_type": "code",
   "execution_count": null,
   "id": "025ca5bb-9564-4545-a555-5f556d365daa",
   "metadata": {},
   "outputs": [],
   "source": []
  }
 ],
 "metadata": {
  "kernelspec": {
   "display_name": "Python 3",
   "language": "python",
   "name": "python3"
  },
  "language_info": {
   "codemirror_mode": {
    "name": "ipython",
    "version": 3
   },
   "file_extension": ".py",
   "mimetype": "text/x-python",
   "name": "python",
   "nbconvert_exporter": "python",
   "pygments_lexer": "ipython3",
   "version": "3.11.9"
  }
 },
 "nbformat": 4,
 "nbformat_minor": 5
}
