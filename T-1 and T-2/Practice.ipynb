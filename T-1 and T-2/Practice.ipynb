{
 "cells": [
  {
   "cell_type": "code",
   "execution_count": 1,
   "id": "dbfc2b23-2af6-4d67-aa90-8b46f8f57afb",
   "metadata": {},
   "outputs": [
    {
     "name": "stdout",
     "output_type": "stream",
     "text": [
      "He, How are you?\n"
     ]
    }
   ],
   "source": [
    "x = \"Hey, How are you?\"\n",
    "n = int(input(\"Enter the index vlaue: \"))\n",
    "\n",
    "a = x[:n] + x[n+1:len(x)]\n",
    "\n",
    "print(a)"
   ]
  },
  {
   "cell_type": "code",
   "execution_count": null,
   "id": "966c73a8-ccd9-4fe1-bed7-f321125e314b",
   "metadata": {},
   "outputs": [
    {
     "name": "stdout",
     "output_type": "stream",
     "text": [
      "Enter a String:  hello my name is aditya\n"
     ]
    },
    {
     "name": "stdout",
     "output_type": "stream",
     "text": [
      "New String:  hma\n"
     ]
    }
   ],
   "source": [
    "s = input(\"Enter a String: \")\n",
    "\n",
    "first = s[0]\n",
    "last = s[-1]\n",
    "middle = s[len(s) // 2]\n",
    "\n",
    "new = first + middle + last\n",
    "\n",
    "print(\"New String: \",new)"
   ]
  },
  {
   "cell_type": "code",
   "execution_count": 3,
   "id": "139fb905",
   "metadata": {},
   "outputs": [
    {
     "name": "stdout",
     "output_type": "stream",
     "text": [
      "Hello name Adiya\n"
     ]
    }
   ],
   "source": [
    "s = input(\"Enter a String: \")\n",
    "\n",
    "list = s.split(\" \")\n",
    "\n",
    "first = list[0]\n",
    "last = list[-1]\n",
    "middle = list[len(list) // 2]\n",
    "\n",
    "print(first+ \" \" + middle + \" \"+ last)"
   ]
  },
  {
   "cell_type": "code",
   "execution_count": null,
   "id": "3c2877c1-82bf-4c31-9f89-85589ea2b1de",
   "metadata": {},
   "outputs": [
    {
     "name": "stdout",
     "output_type": "stream",
     "text": [
      "Enter the main String:  Hello hello HELLO\n",
      "Enter the sub String:  hello\n"
     ]
    },
    {
     "name": "stdout",
     "output_type": "stream",
     "text": [
      "SubString found at position: 0\n",
      "SubString found at position: 6\n",
      "SubString found at position: 12\n"
     ]
    }
   ],
   "source": [
    "main = input(\"Enter the main String: \")\n",
    "sub = input(\"Enter the sub String: \")\n",
    "\n",
    "main_lower = main.lower()\n",
    "sub_lower = sub.lower()\n",
    "\n",
    "index = main_lower.find(sub_lower)\n",
    "\n",
    "while(index != -1):\n",
    "    print(f\"SubString found at position: {index}\")\n",
    "    index = main_lower.find(sub_lower,index + 1)"
   ]
  },
  {
   "cell_type": "code",
   "execution_count": 4,
   "id": "dc536a09-3e40-482d-a59f-59a73ad1f4f3",
   "metadata": {},
   "outputs": [
    {
     "name": "stdout",
     "output_type": "stream",
     "text": [
      "SUM = 45, AVERAGE = 5.0\n"
     ]
    }
   ],
   "source": [
    "s = input(\"Enter a String: \")\n",
    "\n",
    "Sum = 0\n",
    "count = 0\n",
    "\n",
    "for i in s:\n",
    "    if(i.isdigit()):\n",
    "        Sum = Sum+int(i)\n",
    "        count = count+1\n",
    "\n",
    "average = Sum/count\n",
    "\n",
    "print(f\"SUM = {Sum}, AVERAGE = {average}\")"
   ]
  },
  {
   "cell_type": "code",
   "execution_count": null,
   "id": "6e9261fd-a276-4ba4-8151-f76b7274f634",
   "metadata": {},
   "outputs": [
    {
     "name": "stdout",
     "output_type": "stream",
     "text": [
      "Enter a String:  abcdef\n"
     ]
    },
    {
     "name": "stdout",
     "output_type": "stream",
     "text": [
      "fedcba\n"
     ]
    }
   ],
   "source": [
    "s = input(\"Enter a String: \")\n",
    "\n",
    "ans = s[ : :-1]\n",
    "\n",
    "print(ans)"
   ]
  },
  {
   "cell_type": "code",
   "execution_count": null,
   "id": "ee88fa45-404f-476a-9d80-233065ae5f9e",
   "metadata": {},
   "outputs": [
    {
     "name": "stdout",
     "output_type": "stream",
     "text": [
      "Enter string:  Hello my name is Aditya Kadia\n"
     ]
    },
    {
     "name": "stdout",
     "output_type": "stream",
     "text": [
      "my\n",
      "name\n",
      "is\n",
      "Aditya\n"
     ]
    }
   ],
   "source": [
    "s = input(\"Enter string: \")\n",
    "words = s.split()\n",
    "\n",
    "for i in words:\n",
    "    if(len(i)%2 == 0):\n",
    "        print(i)"
   ]
  },
  {
   "cell_type": "code",
   "execution_count": null,
   "id": "fb2d86ac-c3a9-43d9-a149-364e6d57c740",
   "metadata": {},
   "outputs": [
    {
     "name": "stdout",
     "output_type": "stream",
     "text": [
      "Enter Index value:  8\n"
     ]
    },
    {
     "name": "stdout",
     "output_type": "stream",
     "text": [
      "THIS IS a house\n"
     ]
    }
   ],
   "source": [
    "a = \"This is a house\"\n",
    "x = int(input(\"Enter Index value: \"))\n",
    "\n",
    "first_half = a[:x]\n",
    "second_half = a[x:len(a)]\n",
    "\n",
    "print(first_half.upper() + second_half.lower())"
   ]
  },
  {
   "cell_type": "code",
   "execution_count": null,
   "id": "7fa6040b-869a-446e-ab3f-bc7a2b35b76c",
   "metadata": {},
   "outputs": [
    {
     "name": "stdout",
     "output_type": "stream",
     "text": [
      "Enter a String:  hello my name is aditya\n"
     ]
    },
    {
     "name": "stdout",
     "output_type": "stream",
     "text": [
      "HellO\n",
      "MY\n",
      "NamE\n",
      "IS\n",
      "AdityA\n"
     ]
    }
   ],
   "source": [
    "s = input(\"Enter a String: \")\n",
    "\n",
    "words = s.split()\n",
    "\n",
    "for i in words:\n",
    "    new = i[0].upper() + i[1:-1] + i[-1].upper()\n",
    "    print(new)"
   ]
  },
  {
   "cell_type": "code",
   "execution_count": null,
   "id": "e568475c-fece-4806-b502-97c9075ab1d2",
   "metadata": {},
   "outputs": [
    {
     "name": "stdout",
     "output_type": "stream",
     "text": [
      "Enter a string:  abcdefghi\n"
     ]
    },
    {
     "name": "stdout",
     "output_type": "stream",
     "text": [
      "Middle three characters:  def\n"
     ]
    }
   ],
   "source": [
    "s = input(\"Enter a string: \")\n",
    "\n",
    "middle = len(s)//2\n",
    "mid_three = s[middle-1:middle+2]\n",
    "\n",
    "print(\"Middle three characters: \", mid_three)"
   ]
  },
  {
   "cell_type": "code",
   "execution_count": null,
   "id": "7283dce1-b59f-4570-bbf5-eb71660c840a",
   "metadata": {},
   "outputs": [
    {
     "name": "stdout",
     "output_type": "stream",
     "text": [
      "Enter a string:  hello-my-name-is-aditya\n"
     ]
    },
    {
     "name": "stdout",
     "output_type": "stream",
     "text": [
      "['hello', 'my', 'name', 'is', 'aditya']\n"
     ]
    }
   ],
   "source": [
    "s = input(\"Enter a string: \")\n",
    "ans = s.split(\"-\")\n",
    "print(ans)"
   ]
  },
  {
   "cell_type": "code",
   "execution_count": 13,
   "id": "a4d85d2c-7595-4499-9149-7d95911f1b24",
   "metadata": {},
   "outputs": [
    {
     "name": "stdout",
     "output_type": "stream",
     "text": [
      " fkvac mcfkc\n"
     ]
    }
   ],
   "source": [
    "# Encryption program\n",
    "l = \"abcdefghijklmnopqrstuvwxyz\"\n",
    "s = input(\"Enter a string: \")\n",
    "shift = int(input(\"Enter a shift value: \"))\n",
    "temp = \"\"\n",
    "\n",
    "for i in s:\n",
    "    if i in l:\n",
    "        index = (l.index(i)+shift)%len(l)\n",
    "        temp = temp+l[index]\n",
    "    else:\n",
    "        temp = temp+\" \"\n",
    "\n",
    "print(temp)"
   ]
  },
  {
   "cell_type": "code",
   "execution_count": 11,
   "id": "6cb6e376-c297-4f13-bdac-a6b4b7ff559b",
   "metadata": {},
   "outputs": [
    {
     "name": "stdout",
     "output_type": "stream",
     "text": [
      "LTNJ GIE\n"
     ]
    }
   ],
   "source": [
    "# Encryption program\n",
    "s = input(\"Enter a string: \")\n",
    "key = int(input(\"Enter a key value: \"))\n",
    "temp = \"\"\n",
    "\n",
    "for i in range(key): \n",
    "    temp += s[i::key]\n",
    "\n",
    "print(temp)"
   ]
  },
  {
   "cell_type": "code",
   "execution_count": 9,
   "id": "ba25ce62-e962-43fc-ba81-c9746190445e",
   "metadata": {},
   "outputs": [
    {
     "name": "stdout",
     "output_type": "stream",
     "text": [
      "INVALID IP ADDRESS\n"
     ]
    }
   ],
   "source": [
    "s = input(\"Enter IP Address: \")\n",
    "c = 0\n",
    "a = s.split(\".\")\n",
    "flag  = 0\n",
    "if(len(a) == 4):\n",
    "    for i in a:\n",
    "        if (int(i) <= 255 and int(i) >=0):\n",
    "            flag = 1\n",
    "        else:\n",
    "            flag = 0\n",
    "    if(flag == 1):\n",
    "        print(\"VALID IP ADDRESS !!!!\")\n",
    "    else:\n",
    "        print(\"INVALID IP ADDRESS\")\n",
    "else:\n",
    "    print(\"INVALID IP ADDRESS\")"
   ]
  },
  {
   "cell_type": "code",
   "execution_count": null,
   "id": "60e948e7-ceee-448e-a221-d823d0b83936",
   "metadata": {},
   "outputs": [
    {
     "name": "stdout",
     "output_type": "stream",
     "text": [
      "Enter a String:  Aditya\n"
     ]
    },
    {
     "name": "stdout",
     "output_type": "stream",
     "text": [
      "#dity#\n"
     ]
    }
   ],
   "source": [
    "a = input(\"Enter a String: \")\n",
    "print(f\"#{a[1:-1]}#\")"
   ]
  },
  {
   "cell_type": "code",
   "execution_count": null,
   "id": "70e9532e-43af-4a8c-82d1-bbf5595cb8f6",
   "metadata": {},
   "outputs": [
    {
     "name": "stdout",
     "output_type": "stream",
     "text": [
      "Enter a list:  [\"Aditya\",\"Dwij\",\"Dharmik\"]\n"
     ]
    },
    {
     "name": "stdout",
     "output_type": "stream",
     "text": [
      "['#dity#', '#wi#', '#harmi#']\n"
     ]
    }
   ],
   "source": [
    "a = eval(input(\"Enter a list: \"))\n",
    "temp = []\n",
    "for i in a:\n",
    "    b = \"#\"+i[1:-1]+\"#\"\n",
    "    temp.append(b)\n",
    "print(temp)"
   ]
  },
  {
   "cell_type": "code",
   "execution_count": null,
   "id": "7335fb5f-2022-43b1-ba9a-761fb001d9e8",
   "metadata": {},
   "outputs": [
    {
     "name": "stdout",
     "output_type": "stream",
     "text": [
      "one thousand two hundered thirty four\n"
     ]
    }
   ],
   "source": [
    "ones = [\"zero\",\"one\",\"two\",\"three\",\"four\",\"five\",\"six\",\"seven\",\"eight\",\"nine\",\"ten\",\"eleven\",\"twelve\",\"thirteen\",\"fourteen\",\"fifteen\",\"sixteen\",\"seventeen\",\"eighteen\",\"nineteen\"]\n",
    "tens = [\"\",\"ten\",\"twenty\",\"thirty\",\"forty\",\"fifty\",\"sixty\",\"seventy\",\"eighty\",\"ninety\"]\n",
    "\n",
    "n = int(input(\"Enter number: \"))\n",
    "temp = \"\"\n",
    "\n",
    "if (n >= 1000):\n",
    "    temp = temp + ones[n//1000] + \" thousand\" +\" \"\n",
    "    n = n%1000\n",
    "if (n >= 100):\n",
    "    temp = temp + ones[n//100] + \" hundered\" + \" \"\n",
    "    n = n%100\n",
    "if(n >= 20):\n",
    "    temp = temp + tens[n//10] + \" \"\n",
    "    n = n%10\n",
    "if(n > 0):\n",
    "    temp = temp + ones[n]\n",
    "print(temp)\n"
   ]
  },
  {
   "cell_type": "code",
   "execution_count": 3,
   "id": "bfb06d62",
   "metadata": {},
   "outputs": [
    {
     "name": "stdout",
     "output_type": "stream",
     "text": [
      "Aditya\n"
     ]
    }
   ],
   "source": [
    "s = input(\"Enter string: \")\n",
    "x = [\"@\",\"#\",\"$\",\"%\",\"*\",\"_\",\"!\",\"?\"]\n",
    "temp = \"\"\n",
    "for i in s:\n",
    "    if i.isalpha():\n",
    "        temp = temp + i\n",
    "\n",
    "print(temp)"
   ]
  },
  {
   "cell_type": "code",
   "execution_count": null,
   "id": "6e9f8691",
   "metadata": {},
   "outputs": [
    {
     "name": "stdout",
     "output_type": "stream",
     "text": [
      "Aditya\n"
     ]
    }
   ],
   "source": [
    "s = input(\"Enter string: \")\n",
    "x = [\"@\",\"#\",\"$\",\"%\",\"*\",\"_\",\"!\",\"?\"]\n",
    "temp = \"\"\n",
    "for i in s:\n",
    "    if i not in x:\n",
    "        temp = temp + i\n",
    "\n",
    "print(temp)"
   ]
  },
  {
   "cell_type": "code",
   "execution_count": null,
   "id": "672f1f6b",
   "metadata": {},
   "outputs": [
    {
     "name": "stdout",
     "output_type": "stream",
     "text": [
      "a\n"
     ]
    }
   ],
   "source": [
    "s = input(\"Enter a string: \")\n",
    "temp = \"\"\n",
    "for i in range(len(s)):\n",
    "    if s[i] != s[i-1] or i == 0:\n",
    "        temp = temp+s[i]\n",
    "\n",
    "print(temp)"
   ]
  },
  {
   "cell_type": "code",
   "execution_count": null,
   "id": "dd78f904",
   "metadata": {},
   "outputs": [
    {
     "name": "stdout",
     "output_type": "stream",
     "text": [
      "Balanced Paranthese\n"
     ]
    }
   ],
   "source": [
    "s = input(\"Enter a string: \")\n",
    "\n",
    "if s.count(\"(\") == s.count(\")\") and s.count(\"{\") == s.count(\"}\") and s.count(\"[\") == s.count(\"]\"):\n",
    "    print(\"Balanced Paranthese\")\n",
    "else: \n",
    "    print(\"Not balanced !!!!\")"
   ]
  },
  {
   "cell_type": "code",
   "execution_count": 4,
   "id": "0a165d66",
   "metadata": {},
   "outputs": [
    {
     "name": "stdout",
     "output_type": "stream",
     "text": [
      "AAK\n"
     ]
    }
   ],
   "source": [
    "s = input(\"Enter string: \")\n",
    "a = s.split()\n",
    "temp = \"\"\n",
    "\n",
    "for i in a:\n",
    "    temp = temp + i[0]\n",
    "\n",
    "print(temp.upper())"
   ]
  },
  {
   "cell_type": "code",
   "execution_count": null,
   "id": "9132fe4c",
   "metadata": {},
   "outputs": [
    {
     "name": "stdout",
     "output_type": "stream",
     "text": [
      "[1, 6, 2, 6, 3, 6, 4, 6, 5]\n"
     ]
    }
   ],
   "source": [
    "l = eval(input(\"Enter a list: \"))\n",
    "temp = []\n",
    "for i in range(len(l) - 1):\n",
    "    temp.append(l[i])\n",
    "    temp.append(6)\n",
    "temp.append(l[-1])\n",
    "\n",
    "print(temp)"
   ]
  },
  {
   "cell_type": "code",
   "execution_count": null,
   "id": "e06f556d",
   "metadata": {},
   "outputs": [
    {
     "name": "stdout",
     "output_type": "stream",
     "text": [
      "[35, 77, 91]\n"
     ]
    }
   ],
   "source": [
    "l = list(range(1,100))\n",
    "temp = []\n",
    "for i in l:\n",
    "    if i%7 == 0 and (i//10)%2 !=0 and  (i%10)%2 !=0:\n",
    "        temp.append(i)\n",
    "print(temp)\n"
   ]
  },
  {
   "cell_type": "code",
   "execution_count": null,
   "id": "e5f1ec59",
   "metadata": {},
   "outputs": [
    {
     "name": "stdout",
     "output_type": "stream",
     "text": [
      "aDITYAkADIA\n"
     ]
    }
   ],
   "source": [
    "s = input(\"Enter a String: \")\n",
    "temp = \"\"\n",
    "for i in s: \n",
    "    if (i.isupper()):\n",
    "        temp = temp+i.lower()\n",
    "    elif(i.islower()):\n",
    "        temp = temp+i.upper()\n",
    "\n",
    "\n",
    "print(temp)"
   ]
  },
  {
   "cell_type": "code",
   "execution_count": null,
   "id": "7ba47f22",
   "metadata": {},
   "outputs": [
    {
     "name": "stdout",
     "output_type": "stream",
     "text": [
      "Strings are balanced\n"
     ]
    }
   ],
   "source": [
    "s1 = input(\"Enter string 1: \")\n",
    "s2 = input(\"Enter string 2: \")\n",
    "\n",
    "if len(s1) != len(s2):\n",
    "    print(\"Strings are not balanced\")\n",
    "else:\n",
    "    balanced = True\n",
    "    for i in s1:\n",
    "        if s1.count(i) != s2.count(i):\n",
    "            balanced = False\n",
    "            break\n",
    "    \n",
    "    if balanced:\n",
    "        print(\"Strings are balanced\")\n",
    "    else:\n",
    "        print(\"Strings are not balanced\")"
   ]
  },
  {
   "cell_type": "code",
   "execution_count": null,
   "id": "525a3b3f",
   "metadata": {},
   "outputs": [
    {
     "name": "stdout",
     "output_type": "stream",
     "text": [
      "Even max num = 642 and Odd max num = 2345\n"
     ]
    }
   ],
   "source": [
    "l = eval(input(\"Enter a List: \"))\n",
    "\n",
    "even = []\n",
    "odd = []\n",
    "\n",
    "for i in l:\n",
    "    if i%2 == 0:\n",
    "        even.append(i)\n",
    "    else:\n",
    "        odd.append(i)\n",
    "\n",
    "sort_even = sorted(even)\n",
    "sort_odd = sorted(odd)\n",
    "\n",
    "print(f\"Even max num = {sort_even[-1]} and Odd max num = {sort_odd[-1]}\")"
   ]
  },
  {
   "cell_type": "code",
   "execution_count": 1,
   "id": "8edd476d",
   "metadata": {},
   "outputs": [
    {
     "name": "stdout",
     "output_type": "stream",
     "text": [
      "{'hello': 1, 'hi': 1, 'good': 2, 'morning': 1, 'have': 2, 'a': 2, 'day': 1, 'and': 1, 'aditya': 1, 'motorcycle': 1}\n"
     ]
    }
   ],
   "source": [
    "s = \"hello hi good morning have a good day and aditya have a motorcycle\"\n",
    "\n",
    "d={}\n",
    "l = s.split(\" \")\n",
    "\n",
    "for i in l:\n",
    "    d[i] = d.get(i,0) + 1\n",
    "\n",
    "# x = sorted(d.items(),key=lambda a : a[1],reverse=True)\n",
    "print(d)\n",
    "\n"
   ]
  },
  {
   "cell_type": "code",
   "execution_count": 2,
   "id": "b8521e03",
   "metadata": {},
   "outputs": [
    {
     "name": "stdout",
     "output_type": "stream",
     "text": [
      "{'h': ['hello', 'hi', 'have', 'have'], 'g': ['good', 'good'], 'm': ['morning', 'motorcycle'], 'a': ['a', 'and', 'aditya', 'a'], 'd': ['day']}\n"
     ]
    }
   ],
   "source": [
    "s = \"hello hi good morning have a good day and aditya have a motorcycle\"\n",
    "\n",
    "d={}\n",
    "l = s.split()\n",
    "\n",
    "for i in l:\n",
    "    d[i[0]] = d.get(i[0],[])\n",
    "    d[i[0]].append(i)\n",
    "\n",
    "# x = sorted(d.items(),key=lambda a : a[1],reverse=True)\n",
    "\n",
    "\n",
    "print(d)"
   ]
  },
  {
   "cell_type": "code",
   "execution_count": 68,
   "id": "257c7613",
   "metadata": {},
   "outputs": [
    {
     "name": "stdout",
     "output_type": "stream",
     "text": [
      "Element 2 found at index 1.\n"
     ]
    }
   ],
   "source": [
    "l = eval(input(\"Enter elements: \"))\n",
    "n = int(input(\"Enter the number you want to find: \"))\n",
    "\n",
    "found = False\n",
    "for i in range(len(l)):\n",
    "    if l[i] == n:\n",
    "        print(f\"Element {n} found at index {i}.\")\n",
    "        found = True\n",
    "        break\n",
    "\n",
    "if not found:\n",
    "    print(f\"Element {n} not found in the list.\")"
   ]
  },
  {
   "cell_type": "code",
   "execution_count": null,
   "id": "eebc936a",
   "metadata": {},
   "outputs": [
    {
     "name": "stdout",
     "output_type": "stream",
     "text": [
      "{2: [2, 2, 2], 6: [6, 6, 6], 4: [4, 4], 3: [3, 3]}\n"
     ]
    }
   ],
   "source": [
    "l = eval(input(\"Enter elements: \"))\n",
    "d = {}\n",
    "\n",
    "for i in l:\n",
    "    d[i] = d.get(i,[])\n",
    "    d[i].append(i)\n",
    "\n",
    "sorted_d = dict(sorted(d.items(), key=lambda x: len(x[1]), reverse=True))\n",
    "\n",
    "print(sorted_d)"
   ]
  },
  {
   "cell_type": "code",
   "execution_count": null,
   "id": "a91ad1c1",
   "metadata": {},
   "outputs": [
    {
     "name": "stdout",
     "output_type": "stream",
     "text": [
      "3x3 Matrix: \n",
      "[1, 2, 3]\n",
      "[4, 5, 6]\n",
      "[7, 8, 9]\n"
     ]
    }
   ],
   "source": [
    "l = eval(input(\"Enter a Matrix: \"))\n",
    "\n",
    "print(\"3x3 Matrix: \")\n",
    "for i in l:\n",
    "    print(i)"
   ]
  },
  {
   "cell_type": "code",
   "execution_count": null,
   "id": "456ddf68",
   "metadata": {},
   "outputs": [
    {
     "name": "stdout",
     "output_type": "stream",
     "text": [
      "All possible combinations for these three digits are: \n",
      "1 2 3\n",
      "1 3 2\n",
      "2 1 3\n",
      "2 3 1\n",
      "3 1 2\n",
      "3 2 1\n"
     ]
    }
   ],
   "source": [
    "l = eval(input(\"Enter 3 numbers: \"))\n",
    "\n",
    "print(\"All possible combinations for these three digits are: \")\n",
    "for i in l:\n",
    "    for j in l:\n",
    "        for k in l:\n",
    "            if i!=j and j!=k and i!=k:\n",
    "                print(i,j,k)"
   ]
  },
  {
   "cell_type": "code",
   "execution_count": null,
   "id": "75338248",
   "metadata": {},
   "outputs": [
    {
     "name": "stdout",
     "output_type": "stream",
     "text": [
      "Original List:  [1, 2, 3, 4, 5]\n",
      "Shifted List:  [3, 4, 5, 1, 2]\n"
     ]
    }
   ],
   "source": [
    "l = eval(input(\"Enter list: \"))\n",
    "shift = int(input(\"Enter the number of position to shift left: \"))\n",
    "\n",
    "shift %= len(l)\n",
    "\n",
    "shift_list = l[shift: ] + l[:shift]\n",
    "\n",
    "print(\"Original List: \",l)\n",
    "print(\"Shifted List: \",shift_list)"
   ]
  },
  {
   "cell_type": "code",
   "execution_count": null,
   "id": "7addbc27",
   "metadata": {},
   "outputs": [
    {
     "name": "stdout",
     "output_type": "stream",
     "text": [
      "[(' ', 12), ('o', 8), ('a', 8), ('d', 5), ('h', 4), ('e', 4), ('l', 3), ('i', 3), ('g', 3), ('n', 3), ('y', 3), ('m', 2), ('r', 2), ('v', 2), ('t', 2), ('c', 2)]\n"
     ]
    }
   ],
   "source": [
    "s = \"hello hi good morning have a good day and aditya have a motorcycle\"\n",
    "\n",
    "d={}\n",
    "\n",
    "for i in s:\n",
    "    d[i] = d.get(i,0) + 1\n",
    "\n",
    "x = sorted(d.items(),key=lambda a : a[1],reverse=True)\n",
    "\n",
    "print(x)"
   ]
  },
  {
   "cell_type": "code",
   "execution_count": null,
   "id": "ba4439ed",
   "metadata": {},
   "outputs": [
    {
     "name": "stdout",
     "output_type": "stream",
     "text": [
      "{'hello': ['hello'], 'hi': ['hi'], 'good': ['good', 'good'], 'morning': ['morning'], 'have': ['have', 'have'], 'a': ['a', 'a'], 'day': ['day'], 'and': ['and'], 'aditya': ['aditya'], 'motorcycle': ['motorcycle']}\n"
     ]
    }
   ],
   "source": [
    "s = \"hello hi good morning have a good day and aditya have a motorcycle\"\n",
    "\n",
    "d={}\n",
    "l = s.split(\" \")\n",
    "\n",
    "for i in l:\n",
    "    d[i] = d.get(i,[])\n",
    "    d[i].append(i)\n",
    "\n",
    "print(d)"
   ]
  },
  {
   "cell_type": "code",
   "execution_count": null,
   "id": "ee06292a",
   "metadata": {},
   "outputs": [
    {
     "name": "stdout",
     "output_type": "stream",
     "text": [
      "Aditya@2005 Strong Password\n",
      "Aditya@ two thousand five\n"
     ]
    }
   ],
   "source": [
    "x = input(\"Enter Password: \")\n",
    "u = 0\n",
    "c = 0\n",
    "d = 0\n",
    "s = \"\"\n",
    "sp = \"\"\n",
    "ones = [\"zero\",\"one\",\"two\",\"three\",\"four\",\"five\",\"six\",\"seven\",\"eight\",\"nine\",\"ten\",\"eleven\",\"twelve\",\"thirteen\",\"fourteen\",\"fifteen\",\"sixteen\",\"seventeen\",\"eighteen\",\"nineteen\"]\n",
    "tens = [\"\",\"ten\",\"twenty\",\"thirty\",\"forty\",\"fifty\",\"sixty\",\"seventy\",\"eighty\",\"ninety\"]\n",
    "a=\"\"\n",
    "temp = \"\"\n",
    "\n",
    "\n",
    "if(len(x) >= 8):\n",
    "    for i in x:\n",
    "        if(i.isdigit()):\n",
    "            d = d+1\n",
    "            s = s+i\n",
    "            g = int(s)\n",
    "        elif(i.isupper()):\n",
    "            u = u+1\n",
    "        elif(\"@\" in i or \"#\" in i or \"_\" in i):\n",
    "            c = c+1\n",
    "            sp = sp+i\n",
    "    if(d>=1 and u>=1 and c>=1):\n",
    "        print(x,\"Strong Password\")\n",
    "    else:\n",
    "        print(\"Your Password is Weak\")    \n",
    "\n",
    "    if (g >= 1000):\n",
    "        temp = temp + ones[g//1000] + \" thousand \"\n",
    "        g = g%1000\n",
    "    if (g >= 100):\n",
    "        temp = temp + ones[g//100] + \" hundered \"\n",
    "        g = g%100\n",
    "    if(g >= 20):\n",
    "        temp = temp + tens[g//10] + \" \"\n",
    "        g = g%10\n",
    "    if(g > 0):\n",
    "        temp = temp + ones[g]\n",
    "\n",
    "\n",
    "    for i in x:\n",
    "        if i.isalpha():\n",
    "            a += i\n",
    "    print(a+sp+\" \"+temp)\n",
    "\n",
    "else:\n",
    "    print(\"Password length should be greater than 8\")\n",
    "    "
   ]
  },
  {
   "cell_type": "code",
   "execution_count": 59,
   "id": "aacdc427",
   "metadata": {},
   "outputs": [
    {
     "name": "stdout",
     "output_type": "stream",
     "text": [
      "Aditya@123 Strong Password\n",
      "Aditya@ one hundered twenty three\n"
     ]
    }
   ],
   "source": [
    "# Same code as above but using dictionary\n",
    "x = input(\"Enter Password: \")\n",
    "u = 0\n",
    "c = 0\n",
    "d = 0\n",
    "s = \"\"\n",
    "sp = \"\"\n",
    "dict = {1:\"one\",2:\"two\",3:\"three\",4:\"four\",5:\"five\",6:\"six\",7:\"seven\",8:\"eight\",9:\"nine\",10:\"ten\",11:\"eleven\",12:\"twelve\",13:\"thirteen\",14:\"fourteen\",15:\"fifteen\",16:\"sixteen\",17:\"seventeen\",18:\"eighteen\",19:\"nineteen\",20:\"twenty\",30:\"thirty\",40:\"fourty\",50:\"fifty\",60:\"sixty\",70:\"seventy\",80:\"eighty\",90:\"ninety\"}\n",
    "a=\"\"\n",
    "temp = \"\"\n",
    "\n",
    "\n",
    "if(len(x) >= 8):\n",
    "    for i in x:\n",
    "        if(i.isdigit()):\n",
    "            d = d+1\n",
    "            s = s+i\n",
    "            g = int(s)\n",
    "        elif(i.isupper()):\n",
    "            u = u+1\n",
    "        elif(\"@\" in i or \"#\" in i or \"_\" in i):\n",
    "            c = c+1\n",
    "            sp = sp+i\n",
    "    if(d>=1 and u>=1 and c>=1):\n",
    "        print(x,\"Strong Password\")\n",
    "    else:\n",
    "        print(\"Your Password is Weak\")    \n",
    "\n",
    "    if (g >= 1000):\n",
    "        temp = temp + dict[g//1000] + \" thousand \"\n",
    "        g = g%1000\n",
    "    if (g >= 100):\n",
    "        temp = temp + dict[g//100] + \" hundered \"\n",
    "        g = g%100\n",
    "    if(g >= 20):\n",
    "        temp = temp + dict[g//10*10] + \" \"\n",
    "        g = g%10\n",
    "    if(g > 0):\n",
    "        temp = temp + dict[g]\n",
    "\n",
    "\n",
    "    for i in x:\n",
    "        if i.isalpha():\n",
    "            a += i\n",
    "    print(a+sp+\" \"+temp)\n",
    "\n",
    "else:\n",
    "    print(\"Password length should be greater than 8\")\n",
    "    "
   ]
  },
  {
   "cell_type": "code",
   "execution_count": 11,
   "id": "47aacf4e",
   "metadata": {},
   "outputs": [
    {
     "name": "stdout",
     "output_type": "stream",
     "text": [
      "Number in words:  two thousand five\n"
     ]
    }
   ],
   "source": [
    "dict = {1:\"one\",2:\"two\",3:\"three\",4:\"four\",5:\"five\",6:\"six\",7:\"seven\",8:\"eight\",9:\"nine\",10:\"ten\",11:\"eleven\",12:\"twelve\",13:\"thirteen\",14:\"fourteen\",15:\"fifteen\",16:\"sixteen\",17:\"seventeen\",18:\"eighteen\",19:\"nineteen\",20:\"twenty\",30:\"thirty\",40:\"fourty\",50:\"fifty\",60:\"sixty\",70:\"seventy\",80:\"eighty\",90:\"ninety\"}\n",
    "n = int(input(\"Enter a number: \"))\n",
    "temp = \"\"\n",
    "\n",
    "if (n >= 1000):\n",
    "    temp = temp + dict[n//1000] + \" thousand \"\n",
    "    n = n%1000\n",
    "if (n >= 100):\n",
    "    temp = temp + dict[n//100] + \" hundered \"\n",
    "    n = n%100\n",
    "if(n >= 20):\n",
    "    temp = temp + dict[n//10*10] + \" \"\n",
    "    n = n%10\n",
    "if(n > 0):\n",
    "    temp = temp + dict[n]\n",
    "\n",
    "print(\"Number in words: \",temp)\n"
   ]
  },
  {
   "cell_type": "code",
   "execution_count": 9,
   "id": "4958bf67",
   "metadata": {},
   "outputs": [
    {
     "name": "stdout",
     "output_type": "stream",
     "text": [
      "Integer number:  1234\n"
     ]
    }
   ],
   "source": [
    "# ROMAN TO INTEGER\n",
    "dict = {\"I\":1,\"IV\":4,\"V\":5,\"IX\":9,\"X\":10,\"XL\":40,\"L\":50,\"XC\":90,\"C\":100,\"CD\":400,\"D\":500,\"CM\":900,\"M\":1000}\n",
    "n = input(\"Enter Roman Number: \")\n",
    "x = len(n)\n",
    "ans = 0\n",
    "i=0\n",
    "\n",
    "while i < x:\n",
    "        if i+1 < x and n[i:i+2] in dict:\n",
    "                ans = ans + dict[n[i:i+2]]\n",
    "                i+=2\n",
    "        else:\n",
    "                ans +=dict[n[i]]\n",
    "                i+=1\n",
    "\n",
    "print(\"Integer number: \",ans)"
   ]
  },
  {
   "cell_type": "code",
   "execution_count": 12,
   "id": "5e47dbc1",
   "metadata": {},
   "outputs": [
    {
     "name": "stdout",
     "output_type": "stream",
     "text": [
      "Roman Number:  MCCXXXIV\n",
      "Number in words:  one thousand two hundered thirty four\n"
     ]
    }
   ],
   "source": [
    "# INTEGER TO ROMAN\n",
    "dict = {1000: \"M\", 900: \"CM\", 500: \"D\", 400: \"CD\",100: \"C\", 90: \"XC\", 50: \"L\", 40: \"XL\",10: \"X\", 9: \"IX\", 5: \"V\", 4: \"IV\", 1: \"I\"}\n",
    "d = {1:\"one\",2:\"two\",3:\"three\",4:\"four\",5:\"five\",6:\"six\",7:\"seven\",8:\"eight\",9:\"nine\",10:\"ten\",11:\"eleven\",12:\"twelve\",13:\"thirteen\",14:\"fourteen\",15:\"fifteen\",16:\"sixteen\",17:\"seventeen\",18:\"eighteen\",19:\"nineteen\",20:\"twenty\",30:\"thirty\",40:\"fourty\",50:\"fifty\",60:\"sixty\",70:\"seventy\",80:\"eighty\",90:\"ninety\"}\n",
    "\n",
    "n = int(input(\"Enter Integer number: \"))\n",
    "num = n\n",
    "ans = \"\"\n",
    "\n",
    "\n",
    "for i in dict.keys():\n",
    "        while n >= i:\n",
    "                ans = ans+dict[i]\n",
    "                n -= i\n",
    "\n",
    "n = num\n",
    "temp=\"\"\n",
    "\n",
    "if (n >= 1000):\n",
    "        temp = temp + d[n//1000] + \" thousand \"\n",
    "        n = n%1000\n",
    "if (n >= 100):\n",
    "        temp = temp + d[n//100] + \" hundered \"\n",
    "        n = n%100\n",
    "if(n >= 20):\n",
    "        temp = temp + d[n//10*10] + \" \"\n",
    "        n = n%10\n",
    "if(n > 0):\n",
    "        temp = temp + d[n]\n",
    "\n",
    "\n",
    "print(\"Roman Number: \",ans)\n",
    "print(\"Number in words: \",temp)\n"
   ]
  },
  {
   "cell_type": "code",
   "execution_count": 20,
   "id": "72ae1ad9",
   "metadata": {},
   "outputs": [
    {
     "name": "stdout",
     "output_type": "stream",
     "text": [
      "Correct Username and Password !!!\n",
      "password Changed successfully !!!\n",
      "{'Adi': 'Adi@user2005', 'Dwij': '456@user', 'Dharmik': '789@user'}\n"
     ]
    }
   ],
   "source": [
    "d={\"Adi\":\"123@user\",\"Dwij\":\"456@user\",\"Dharmik\":\"789@user\"}\n",
    "attempts = 3\n",
    "di = 0\n",
    "u = 0\n",
    "c = 0\n",
    "while attempts > 0:\n",
    "    username = input(\"Enter User name: \")\n",
    "    password = input(\"Enter Password: \")\n",
    "\n",
    "    if username in d and d[username] == password:\n",
    "        print(\"Correct Username and Password !!!\")\n",
    "        new_pass = input(\"Enter new Password: \")\n",
    "        if(len(new_pass) >= 8):\n",
    "            for i in new_pass:\n",
    "                if(i.isdigit()):\n",
    "                    di = di+1\n",
    "                elif(i.isupper()):\n",
    "                    u = u+1\n",
    "                elif(\"@\" in i or \"#\" in i or \"_\" in i):\n",
    "                    c = c+1\n",
    "            if(di >=1 and u >=1 and c >=1):\n",
    "                d[username] = new_pass\n",
    "                print(\"password Changed successfully !!!\")\n",
    "                print(d)\n",
    "            else:\n",
    "                print(\"Your Password is weak !!!\")\n",
    "        else:\n",
    "            print(\"Password lenght must be greater than 8, Try Again!\")\n",
    "\n",
    "        break\n",
    "    else: \n",
    "        attempts = attempts-1\n",
    "        if attempts > 0:\n",
    "            print(f\"Incorrect Username and Password. You have {attempts} attempt left.\")\n",
    "        else:\n",
    "            print(\"Try Again Later after 24 hours.\")\n",
    "\n",
    "\n"
   ]
  },
  {
   "cell_type": "code",
   "execution_count": 3,
   "id": "756804a3",
   "metadata": {},
   "outputs": [
    {
     "name": "stdout",
     "output_type": "stream",
     "text": [
      "ddH  Heddo\n"
     ]
    }
   ],
   "source": [
    "s = \"dog cat groon\"\n",
    "\n",
    "y = s.maketrans(\"groon\",\"Heldo\",\"cat\")\n",
    "ans = s.translate(y)\n",
    "print(ans)"
   ]
  },
  {
   "cell_type": "code",
   "execution_count": 9,
   "id": "026c8bfd",
   "metadata": {},
   "outputs": [
    {
     "name": "stdout",
     "output_type": "stream",
     "text": [
      "Candy Distribution:  [2, 1, 2, 3, 1, 2, 3, 4, 1, 2]\n",
      "Total Candies Required:  21\n"
     ]
    }
   ],
   "source": [
    "# CANDY PROBLEM !!!!!!!!!!!!!!!!!!!!!!!!!!!!!!\n",
    "\n",
    "l = [5,2,4,7,1,3,5,8,3,6]\n",
    "c = [1] * len(l)\n",
    "count = 0\n",
    "\n",
    "for i in range(1,len(l)):\n",
    "    if l[i] > l[i-1]:\n",
    "        c[i] = c[i-1] + 1\n",
    "\n",
    "for i in range(len(l)-2,-1,-1):\n",
    "    if l[i] > l[i+1]:\n",
    "        c[i] = max(c[i],c[i+1]+1)\n",
    "\n",
    "total = sum(c)\n",
    "\n",
    "print(\"Candy Distribution: \",c)\n",
    "print(\"Total Candies Required: \",total)"
   ]
  },
  {
   "cell_type": "code",
   "execution_count": 12,
   "id": "d10d3fff",
   "metadata": {},
   "outputs": [
    {
     "name": "stdout",
     "output_type": "stream",
     "text": [
      "Number in words:  ['two', 'one']\n",
      "reverse List:  [2, 1]\n"
     ]
    }
   ],
   "source": [
    "l = eval(input(\"Enter a list: \"))\n",
    "l2 = []\n",
    "dict = {1:\"one\",2:\"two\",3:\"three\",4:\"four\",5:\"five\",6:\"six\",7:\"seven\",8:\"eight\",9:\"nine\"}\n",
    "temp=[]\n",
    "\n",
    "for i in l:\n",
    "    if i >= 0 and i<10:\n",
    "        l2.append(i)\n",
    "\n",
    "rev = l2[::-1]\n",
    "\n",
    "for i in rev:\n",
    "    if i>0:\n",
    "        temp.append(dict[i])\n",
    "\n",
    "print(\"Number in words: \",temp)\n",
    "print(\"reverse List: \",rev)"
   ]
  },
  {
   "cell_type": "code",
   "execution_count": 14,
   "id": "05c113a7",
   "metadata": {},
   "outputs": [
    {
     "name": "stdout",
     "output_type": "stream",
     "text": [
      "Original list: [5, 5, 2, 5, 8]\n",
      "list after removing the index: [5, 2, 5, 8]\n",
      "The list is balanced!\n",
      "The list is balanced!\n",
      "The list is balanced!\n",
      "The list is balanced!\n",
      "The list is balanced!\n",
      "Count:  5\n"
     ]
    }
   ],
   "source": [
    "l = [5,5,2,5,8]\n",
    "count = 0\n",
    "n = int(input(\"Enter index to be removed: \"))\n",
    "temp= l[:n]+l[n+1:]\n",
    "sum_even = sum(temp[::2])\n",
    "sum_odd = sum(temp[1::2])\n",
    "\n",
    "print(f\"Original list: {l}\")\n",
    "print(f\"list after removing the index: {temp}\")\n",
    "\n",
    "for i in range(len(l)):\n",
    "    if sum_even == sum_odd:\n",
    "        print(\"The list is balanced!\")\n",
    "        count+=1\n",
    "    else:\n",
    "        print(\"The list is not balanced !\")\n",
    "\n",
    "print(\"Count: \",count)"
   ]
  }
 ],
 "metadata": {
  "kernelspec": {
   "display_name": "Python 3",
   "language": "python",
   "name": "python3"
  },
  "language_info": {
   "codemirror_mode": {
    "name": "ipython",
    "version": 3
   },
   "file_extension": ".py",
   "mimetype": "text/x-python",
   "name": "python",
   "nbconvert_exporter": "python",
   "pygments_lexer": "ipython3",
   "version": "3.11.9"
  }
 },
 "nbformat": 4,
 "nbformat_minor": 5
}
