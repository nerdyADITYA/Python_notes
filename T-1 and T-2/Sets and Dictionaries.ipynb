{
 "cells": [
  {
   "cell_type": "code",
   "execution_count": null,
   "id": "cac1b6dd-80bf-442a-ae54-458a40b10b6d",
   "metadata": {},
   "outputs": [
    {
     "name": "stdout",
     "output_type": "stream",
     "text": [
      "{1, 2, 3, 4, 7, 8}\n",
      "{1, 2}\n",
      "{3, 4}\n",
      "{8, 7}\n",
      "False\n",
      "False\n",
      "False\n",
      "{3, 4, 7, 8}\n"
     ]
    }
   ],
   "source": [
    "a = {1,2,3,4}\n",
    "b = {2,1,7,8}\n",
    "\n",
    "print(a.union(b))\n",
    "print(a.intersection(b))\n",
    "print(a.difference(b))\n",
    "print(b.difference(a))\n",
    "print(a.issubset(b))\n",
    "print(a.issuperset(b))\n",
    "print(a.symmetric_difference(b))"
   ]
  },
  {
   "cell_type": "code",
   "execution_count": 13,
   "id": "f6a4b5ad-de1b-4180-a0f4-cfeb9602c7bc",
   "metadata": {},
   "outputs": [
    {
     "name": "stdout",
     "output_type": "stream",
     "text": [
      "Enter a set A:  {1,2,3,4,5}\n",
      "Enter a set B:  {1,2,3,4,5,6,7,8,9}\n"
     ]
    },
    {
     "name": "stdout",
     "output_type": "stream",
     "text": [
      "{1, 2, 3, 4, 5, 6, 7, 8, 9}\n",
      "{1, 2, 3, 4, 5}\n",
      "set()\n",
      "{8, 9, 6, 7}\n",
      "True\n",
      "False\n",
      "{6, 7, 8, 9}\n"
     ]
    }
   ],
   "source": [
    "a = eval(input(\"Enter a set A: \"))\n",
    "b = eval(input(\"Enter a set B: \"))\n",
    "\n",
    "print(a.union(b))\n",
    "print(a.intersection(b))\n",
    "print(a.difference(b))\n",
    "print(b.difference(a))\n",
    "print(a.issubset(b))\n",
    "print(a.issuperset(b))\n",
    "print(a.symmetric_difference(b))"
   ]
  },
  {
   "cell_type": "code",
   "execution_count": 21,
   "id": "fff6f684-a51d-48bd-b610-9ed028ea1129",
   "metadata": {},
   "outputs": [
    {
     "name": "stdout",
     "output_type": "stream",
     "text": [
      "Enter a set:  {1,2,3,4,5}\n"
     ]
    },
    {
     "data": {
      "text/plain": [
       "15"
      ]
     },
     "execution_count": 21,
     "metadata": {},
     "output_type": "execute_result"
    }
   ],
   "source": [
    "a = eval(input(\"Enter a set: \"))\n",
    "sum(a)"
   ]
  },
  {
   "cell_type": "code",
   "execution_count": 19,
   "id": "2324aca8-0a40-46de-89ba-27dff211c3f1",
   "metadata": {},
   "outputs": [
    {
     "name": "stdout",
     "output_type": "stream",
     "text": [
      "Enter a string:  hello\n"
     ]
    },
    {
     "name": "stdout",
     "output_type": "stream",
     "text": [
      "{'h', 'e', 'l', 'o'}\n"
     ]
    }
   ],
   "source": [
    "s = input(\"Enter a string: \")\n",
    "a = set(s)\n",
    "\n",
    "print(a)"
   ]
  },
  {
   "cell_type": "markdown",
   "id": "170786cd",
   "metadata": {},
   "source": [
    "***Dictionaries***"
   ]
  },
  {
   "cell_type": "code",
   "execution_count": null,
   "id": "abc27ca8-3064-4965-92ca-26f1daf7144a",
   "metadata": {},
   "outputs": [
    {
     "name": "stdout",
     "output_type": "stream",
     "text": [
      "dict_keys(['name', 'Age', 'course', 'College'])\n",
      "dict_values(['Aditya', 19, 'AIML', 'LJU'])\n",
      "{'name': 'Aditya Kadia'}\n"
     ]
    }
   ],
   "source": [
    "d = {\"name\":\"Aditya\", \"Age\":19, \"course\":\"AIML\", \"College\":\"LJU\"}\n",
    "\n",
    "print(d.keys())\n",
    "print(d.values())\n"
   ]
  },
  {
   "cell_type": "code",
   "execution_count": 4,
   "id": "fda81c91",
   "metadata": {},
   "outputs": [
    {
     "name": "stdout",
     "output_type": "stream",
     "text": [
      "{'name': 'Aditya Kadia', 'college': 'ITM', 'year': 2024}\n"
     ]
    }
   ],
   "source": [
    "temp = {}\n",
    "\n",
    "temp.update({\"name\":\"Aditya Kadia\"})\n",
    "temp.update({\"college\":\"ITM\"})\n",
    "temp.update({\"year\":2024})\n",
    "print(temp)"
   ]
  },
  {
   "cell_type": "code",
   "execution_count": 19,
   "id": "2a9f4a8e",
   "metadata": {},
   "outputs": [
    {
     "name": "stdout",
     "output_type": "stream",
     "text": [
      "{'virat': '13000', '': 'dhoni'}\n",
      "dict_keys(['virat', ''])\n",
      "dict_values(['13000', 'dhoni'])\n",
      "Runs scored by Virat =  13000\n"
     ]
    }
   ],
   "source": [
    "n = int(input(\"Enter the number of students: \"))\n",
    "d = {}\n",
    "for i in range(n):\n",
    "    k = input(\"Enter Player name: \")\n",
    "    v = input(\"Enter Player runs: \")\n",
    "    d.update({k:v})\n",
    "\n",
    "print(d)\n",
    "print(d.keys())\n",
    "print(d.values())\n",
    "\n",
    "x = d.get(\"virat\",-1)\n",
    "if x == -1:\n",
    "    print(\"Player not found\")\n",
    "else:\n",
    "    print(\"Runs scored by Virat = \",x)"
   ]
  },
  {
   "cell_type": "code",
   "execution_count": 1,
   "id": "edf6faaf",
   "metadata": {},
   "outputs": [
    {
     "name": "stdout",
     "output_type": "stream",
     "text": [
      "r\n",
      "b\n",
      "g\n",
      "Red\n",
      "Blue\n",
      "Green\n",
      "r:Red\n",
      "b:Blue\n",
      "g:Green\n"
     ]
    }
   ],
   "source": [
    "color = {\"r\":\"Red\",\"b\":\"Blue\",\"g\":\"Green\"}\n",
    "\n",
    "# to print only keys using loop\n",
    "for i in color:\n",
    "    print(i)\n",
    "\n",
    "# To print only values using loop\n",
    "for i in color:\n",
    "    print(color[i])\n",
    "\n",
    "# To print both key value pairs using loop\n",
    "for i,j in color.items():\n",
    "    print(i+\":\"+j)"
   ]
  },
  {
   "cell_type": "code",
   "execution_count": 34,
   "id": "3107354e",
   "metadata": {},
   "outputs": [
    {
     "name": "stdout",
     "output_type": "stream",
     "text": [
      "[(20, 'red'), (30, 'Green'), (50, 'Red')]\n",
      "[(30, 'Green'), (50, 'Red'), (20, 'red')]\n"
     ]
    }
   ],
   "source": [
    "color = {50:\"Red\",20:\"red\",30:\"Green\"}\n",
    "\n",
    "x = sorted(color.items(),key=lambda a : a[0])\n",
    "y = sorted(color.items(),key=lambda a : a[1])\n",
    "\n",
    "\n",
    "print(x)\n",
    "print(y)"
   ]
  },
  {
   "cell_type": "code",
   "execution_count": null,
   "id": "8f3f4847",
   "metadata": {},
   "outputs": [
    {
     "data": {
      "text/plain": [
       "dict_items([('India', 'Ahemdabad'), ('Dubai', 'Quatar'), ('Australia', 'Sydney'), ('USA', 'New York')])"
      ]
     },
     "execution_count": 40,
     "metadata": {},
     "output_type": "execute_result"
    }
   ],
   "source": [
    "country = [\"India\",\"Dubai\",\"Australia\",\"USA\"]\n",
    "city = [\"Ahemdabad\",\"Quatar\",\"Sydney\",\"New York\"]\n",
    "\n",
    "# zip is used to combine two different lists\n",
    "z = zip(country,city)\n",
    "\n",
    "d = dict(z)\n",
    "\n",
    "d.items()"
   ]
  },
  {
   "cell_type": "code",
   "execution_count": null,
   "id": "a8c3109f",
   "metadata": {},
   "outputs": [],
   "source": []
  }
 ],
 "metadata": {
  "kernelspec": {
   "display_name": "Python 3",
   "language": "python",
   "name": "python3"
  },
  "language_info": {
   "codemirror_mode": {
    "name": "ipython",
    "version": 3
   },
   "file_extension": ".py",
   "mimetype": "text/x-python",
   "name": "python",
   "nbconvert_exporter": "python",
   "pygments_lexer": "ipython3",
   "version": "3.11.9"
  }
 },
 "nbformat": 4,
 "nbformat_minor": 5
}
