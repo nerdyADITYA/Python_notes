{
 "cells": [
  {
   "cell_type": "code",
   "execution_count": 1,
   "id": "b4bc3b4f-5804-4d78-be0c-2cdce8754bf7",
   "metadata": {},
   "outputs": [
    {
     "name": "stdout",
     "output_type": "stream",
     "text": [
      "0 Hello\n",
      "1 Hello\n",
      "2 Hello\n",
      "3 Hello\n",
      "4 Hello\n",
      "5 Hello\n",
      "6 Hello\n",
      "7 Hello\n",
      "8 Hello\n",
      "9 Hello\n",
      "10 Hello\n"
     ]
    }
   ],
   "source": [
    "for s in range(11):\n",
    "    print(s,\"Hello\")"
   ]
  },
  {
   "cell_type": "code",
   "execution_count": 6,
   "id": "b9d1cf72-48b1-4315-be85-88b1357a5b84",
   "metadata": {},
   "outputs": [
    {
     "name": "stdout",
     "output_type": "stream",
     "text": [
      "1 Hello\n",
      "3 Hello\n",
      "5 Hello\n",
      "7 Hello\n",
      "9 Hello\n"
     ]
    }
   ],
   "source": [
    "for i in range(1,11,2):\n",
    "    print(i,\"Hello\")"
   ]
  },
  {
   "cell_type": "code",
   "execution_count": 5,
   "id": "aea8f095-0517-45b5-8792-f2220bba1ff3",
   "metadata": {},
   "outputs": [
    {
     "name": "stdout",
     "output_type": "stream",
     "text": [
      "2 Hello\n",
      "4 Hello\n",
      "6 Hello\n",
      "8 Hello\n",
      "10 Hello\n"
     ]
    }
   ],
   "source": [
    "for i in range(1,11):\n",
    "    if(i%2==0):\n",
    "        print(i,\"Hello\")"
   ]
  },
  {
   "cell_type": "code",
   "execution_count": 7,
   "id": "9a93c7c8-4d68-48a5-be6a-5ce1cb949389",
   "metadata": {},
   "outputs": [
    {
     "name": "stdout",
     "output_type": "stream",
     "text": [
      "Enter a number:  11\n"
     ]
    },
    {
     "name": "stdout",
     "output_type": "stream",
     "text": [
      "Sum: 55\n"
     ]
    }
   ],
   "source": [
    "a = 0\n",
    "n = int(input(\"Enter a number: \"))\n",
    "for i in range(1,n):\n",
    "    a = a+i\n",
    "print(\"Sum:\",a)\n"
   ]
  },
  {
   "cell_type": "code",
   "execution_count": 6,
   "id": "b31563fc-2fe6-4e42-9b46-c41608a1accc",
   "metadata": {},
   "outputs": [
    {
     "name": "stdout",
     "output_type": "stream",
     "text": [
      "Sum:  0\n",
      "Sum:  2\n",
      "Sum:  6\n",
      "Sum:  12\n",
      "Sum:  20\n",
      "Sum:  30\n",
      "Sum:  42\n",
      "Sum:  56\n",
      "Sum:  72\n",
      "Sum:  90\n",
      "Sum:  110\n",
      "Sum:  132\n",
      "Sum:  156\n",
      "Sum:  182\n",
      "Sum:  210\n",
      "Sum:  240\n",
      "Sum:  272\n",
      "Sum:  306\n",
      "Sum:  342\n",
      "Sum:  380\n",
      "Sum:  420\n",
      "Sum:  462\n",
      "Sum:  506\n",
      "Sum:  552\n",
      "Sum:  600\n",
      "Sum:  650\n",
      "Sum:  702\n",
      "Sum:  756\n",
      "Sum:  812\n",
      "Sum:  870\n",
      "Sum:  930\n",
      "Sum:  992\n",
      "Sum:  1056\n",
      "Sum:  1122\n",
      "Sum:  1190\n",
      "Sum:  1260\n",
      "Sum:  1332\n",
      "Sum:  1406\n",
      "Sum:  1482\n",
      "Sum:  1560\n",
      "Sum:  1640\n",
      "Sum:  1722\n",
      "Sum:  1806\n",
      "Sum:  1892\n",
      "Sum:  1980\n",
      "Sum:  2070\n",
      "Sum:  2162\n",
      "Sum:  2256\n",
      "Sum:  2352\n",
      "Sum:  2450\n",
      "Sum:  2550\n"
     ]
    }
   ],
   "source": [
    "a = 0\n",
    "for i in range(101):\n",
    "    if(i%2==0):\n",
    "        a = a+i\n",
    "        print(\"Sum: \",a)"
   ]
  },
  {
   "cell_type": "code",
   "execution_count": 10,
   "id": "a89cf0ab-f453-4390-8d4b-299a1bd04e21",
   "metadata": {},
   "outputs": [
    {
     "name": "stdout",
     "output_type": "stream",
     "text": [
      "Enter the starting number (a):  56\n",
      "Enter the ending number (b):  76\n",
      "Enter the divisor (c):  2\n"
     ]
    },
    {
     "name": "stdout",
     "output_type": "stream",
     "text": [
      "Number of numbers between 56 and 76 divisible by 2 is: 11\n"
     ]
    }
   ],
   "source": [
    "# Get inputs from the user\n",
    "a = int(input(\"Enter the starting number (a): \"))\n",
    "b = int(input(\"Enter the ending number (b): \"))\n",
    "c = int(input(\"Enter the divisor (c): \"))\n",
    "\n",
    "# Initialize counter for numbers divisible by c\n",
    "count = 0\n",
    "\n",
    "# Loop through numbers from a to b (inclusive)\n",
    "for num in range(a, b + 1):\n",
    "    if num % c == 0:\n",
    "        count += 1\n",
    "\n",
    "# Output the result\n",
    "print(f\"Number of numbers between {a} and {b} divisible by {c} is: {count}\")\n"
   ]
  },
  {
   "cell_type": "code",
   "execution_count": 9,
   "id": "24ce97ac-bdf9-4b74-ba5d-46725ef16e5e",
   "metadata": {},
   "outputs": [
    {
     "name": "stdout",
     "output_type": "stream",
     "text": [
      "Enter the number:  10\n"
     ]
    },
    {
     "name": "stdout",
     "output_type": "stream",
     "text": [
      "Sum =  55\n",
      "Average =  5.5\n"
     ]
    }
   ],
   "source": [
    "x = int(input(\"Enter the number: \"))\n",
    "a = 0 \n",
    "for i in range(x+1):\n",
    "    a = a+i\n",
    "average = a/x\n",
    "print(\"Sum = \",a)\n",
    "print(\"Average = \",average)"
   ]
  },
  {
   "cell_type": "code",
   "execution_count": 5,
   "id": "d0e21a2d-92d6-4a9d-996a-a7ad6690bb79",
   "metadata": {},
   "outputs": [
    {
     "name": "stdout",
     "output_type": "stream",
     "text": [
      "Enter number:  135\n",
      "Enter number:  12\n",
      "Enter number:  3\n",
      "Enter number:  4\n",
      "Enter number:  5\n",
      "Enter number:  6\n",
      "Enter number:  7\n",
      "Enter number:  8\n",
      "Enter number:  9\n",
      "Enter number:  9\n"
     ]
    },
    {
     "name": "stdout",
     "output_type": "stream",
     "text": [
      "Sum =  198\n",
      "Average =  19.8\n"
     ]
    }
   ],
   "source": [
    "s = 0\n",
    "for i in range(1,11):\n",
    "    n = int(input(\"Enter number: \"))\n",
    "    s = s+n\n",
    "avg = s/10\n",
    "print(\"Sum = \",s)\n",
    "print(\"Average = \",avg)"
   ]
  },
  {
   "cell_type": "code",
   "execution_count": 18,
   "id": "bc7d7cdf-704e-4785-ac00-94909ffc8aea",
   "metadata": {},
   "outputs": [
    {
     "name": "stdout",
     "output_type": "stream",
     "text": [
      "Enter the number to print its multiplication table:  3\n"
     ]
    },
    {
     "name": "stdout",
     "output_type": "stream",
     "text": [
      "Multiplication table for 3:\n",
      "3 x 1 = 3\n",
      "3 x 2 = 6\n",
      "3 x 3 = 9\n",
      "3 x 4 = 12\n",
      "3 x 5 = 15\n",
      "3 x 6 = 18\n",
      "3 x 7 = 21\n",
      "3 x 8 = 24\n",
      "3 x 9 = 27\n",
      "3 x 10 = 30\n"
     ]
    }
   ],
   "source": [
    "number = int(input(\"Enter the number to print its multiplication table: \"))\n",
    "print(f\"Multiplication table for {number}:\")\n",
    "\n",
    "for i in range(1, 11):\n",
    "    print(f\"{number} x {i} = {number * i}\")\n"
   ]
  },
  {
   "cell_type": "code",
   "execution_count": null,
   "id": "68f7e2e3-7a58-4bdd-a749-489786da638a",
   "metadata": {},
   "outputs": [
    {
     "ename": "IndentationError",
     "evalue": "expected an indented block after 'if' statement on line 7 (1939052599.py, line 8)",
     "output_type": "error",
     "traceback": [
      "\u001b[1;36m  Cell \u001b[1;32mIn[10], line 8\u001b[1;36m\u001b[0m\n\u001b[1;33m    print(f\"{n} is not a prime number\")\u001b[0m\n\u001b[1;37m    ^\u001b[0m\n\u001b[1;31mIndentationError\u001b[0m\u001b[1;31m:\u001b[0m expected an indented block after 'if' statement on line 7\n"
     ]
    }
   ],
   "source": [
    "# Prime number\n",
    "\n",
    "n = int(input(\"Enter number: \"))\n",
    "\n",
    "if(n > 1):\n",
    "        for i in range (2,int(n**0.5)+1):\n",
    "            if(n%i==0):\n",
    "                print(f\"{n} is not a prime number\")\n",
    "                break\n",
    "            \n",
    "            else:\n",
    "                print(f\"{n} is a prime number\")\n",
    "else:\n",
    "    print(f\"{n} is not a prime number\")"
   ]
  },
  {
   "cell_type": "code",
   "execution_count": 11,
   "id": "080bd30d-a903-42cf-871e-5d459896dac1",
   "metadata": {},
   "outputs": [
    {
     "name": "stdout",
     "output_type": "stream",
     "text": [
      "Enter the starting number:  1\n",
      "Enter the ending number:  10\n"
     ]
    },
    {
     "name": "stdout",
     "output_type": "stream",
     "text": [
      "Prime numbers between 1 and 10 are: \n",
      "2 3 5 7 "
     ]
    }
   ],
   "source": [
    "start = int(input(\"Enter the starting number: \"))\n",
    "end = int(input(\"Enter the ending number: \"))\n",
    "\n",
    "print(f\"Prime numbers between {start} and {end} are: \")\n",
    "\n",
    "for num in range(start,end+1):\n",
    "    if(num>1):\n",
    "        for i in range (2,int(num**0.5)+1):\n",
    "            if(num%i==0):\n",
    "                break\n",
    "        else:\n",
    "            print(num,end=\" \")"
   ]
  },
  {
   "cell_type": "code",
   "execution_count": 24,
   "id": "eab8cfe3-f365-44d5-8e98-404b48ccff9e",
   "metadata": {},
   "outputs": [
    {
     "name": "stdout",
     "output_type": "stream",
     "text": [
      "A\n",
      "D\n",
      "I\n",
      "T\n",
      "Y\n",
      "A\n"
     ]
    }
   ],
   "source": [
    "n = \"ADITYA\"\n",
    "for i in n:\n",
    "    print(i)"
   ]
  },
  {
   "cell_type": "code",
   "execution_count": 33,
   "id": "23aab016-efc2-4813-bfed-2d206e9f2084",
   "metadata": {},
   "outputs": [
    {
     "name": "stdout",
     "output_type": "stream",
     "text": [
      "No. of characters =  6\n"
     ]
    }
   ],
   "source": [
    "x = \"Aditya\"\n",
    "n = 0\n",
    "\n",
    "for i in x:\n",
    "    n = n + 1\n",
    "print(\"No. of characters = \",n)"
   ]
  },
  {
   "cell_type": "code",
   "execution_count": 35,
   "id": "aed318b0-4658-468d-80f9-aafacd697847",
   "metadata": {},
   "outputs": [
    {
     "name": "stdout",
     "output_type": "stream",
     "text": [
      "10\n",
      "9\n",
      "8\n",
      "7\n",
      "6\n",
      "5\n",
      "4\n",
      "3\n",
      "2\n",
      "1\n"
     ]
    }
   ],
   "source": [
    "for i in range(10,0,-1):\n",
    "    print(i)"
   ]
  },
  {
   "cell_type": "code",
   "execution_count": 11,
   "id": "960be9cd-daf2-4431-97d3-3aa05c2a5170",
   "metadata": {},
   "outputs": [
    {
     "name": "stdout",
     "output_type": "stream",
     "text": [
      "Enter number:  11\n"
     ]
    },
    {
     "name": "stdout",
     "output_type": "stream",
     "text": [
      "10\n",
      "8\n",
      "6\n",
      "4\n",
      "2\n",
      "0\n"
     ]
    }
   ],
   "source": [
    "x = int(input(\"Enter number: \"))\n",
    "i = 0\n",
    "\n",
    "while x >= i:\n",
    "    x = x-1\n",
    "    if(x%2==0):\n",
    "        print(x)\n"
   ]
  },
  {
   "cell_type": "code",
   "execution_count": 11,
   "id": "b17248d1-1500-47f6-a214-083dd220b7dd",
   "metadata": {},
   "outputs": [
    {
     "name": "stdout",
     "output_type": "stream",
     "text": [
      "1\n",
      "2\n",
      "3\n",
      "4\n",
      "6\n",
      "7\n",
      "8\n",
      "9\n",
      "10\n",
      "End of loop !!!\n"
     ]
    }
   ],
   "source": [
    "# Break and continue statement\n",
    "\n",
    "for i in range(1,11):\n",
    "    if (i==5):\n",
    "        # break\n",
    "        # continue\n",
    "        pass\n",
    "    else:\n",
    "        print(i)\n",
    "print(\"End of loop !!!\")"
   ]
  },
  {
   "cell_type": "code",
   "execution_count": 12,
   "id": "3858af4e-3abd-426b-a7e1-32e322e7b895",
   "metadata": {},
   "outputs": [
    {
     "name": "stdout",
     "output_type": "stream",
     "text": [
      "0\n",
      "1\n",
      "2\n",
      "4\n",
      "5\n"
     ]
    }
   ],
   "source": [
    "for i in range(7):\n",
    "    if(i==3 or i==6):\n",
    "        continue\n",
    "    print(i)"
   ]
  },
  {
   "cell_type": "code",
   "execution_count": 3,
   "id": "47eee24b-83a5-41f0-947f-17a19e376126",
   "metadata": {},
   "outputs": [
    {
     "name": "stdout",
     "output_type": "stream",
     "text": [
      "0\n",
      "2\n",
      "4\n",
      "6\n",
      "8\n",
      "10\n",
      "12\n",
      "14\n"
     ]
    }
   ],
   "source": [
    "for i in range(21):\n",
    "    if(i==15):\n",
    "        break\n",
    "    elif(i%2==0):\n",
    "        print(i)"
   ]
  },
  {
   "cell_type": "code",
   "execution_count": 7,
   "id": "68ca4eb2-a78b-46fc-abe5-9687cee89f5e",
   "metadata": {},
   "outputs": [
    {
     "name": "stdout",
     "output_type": "stream",
     "text": [
      "0\n",
      "2\n",
      "4\n",
      "6\n",
      "8\n"
     ]
    }
   ],
   "source": [
    "# Pass statement\n",
    "for i in range(10):\n",
    "    if(i%2==0):\n",
    "        print(i)\n",
    "    else:\n",
    "        pass\n",
    "        # continue"
   ]
  },
  {
   "cell_type": "code",
   "execution_count": 17,
   "id": "852433db-71bc-4297-aeaa-81a5a129c87f",
   "metadata": {},
   "outputs": [
    {
     "name": "stdout",
     "output_type": "stream",
     "text": [
      "ENTER NO:  12345\n"
     ]
    },
    {
     "name": "stdout",
     "output_type": "stream",
     "text": [
      "reversed number:  54321\n"
     ]
    }
   ],
   "source": [
    "# reverse number\n",
    "\n",
    "n = int(input(\"ENTER NO: \"))\n",
    "r = 0\n",
    "for i in range(n):\n",
    "    if (n==0):\n",
    "        break\n",
    "    l = n%10\n",
    "    r = r * 10 + l\n",
    "    n = n//10\n",
    "print(\"reversed number: \",r)"
   ]
  },
  {
   "cell_type": "code",
   "execution_count": 23,
   "id": "560cef5a-158a-4216-819b-fd3f8f594f5a",
   "metadata": {},
   "outputs": [
    {
     "name": "stdout",
     "output_type": "stream",
     "text": [
      "Enter the numbers of terms:  10\n"
     ]
    },
    {
     "name": "stdout",
     "output_type": "stream",
     "text": [
      "Fibonacci sequence up to 10 terms: \n",
      "0 1 1 2 3 5 8 13 21 34 "
     ]
    }
   ],
   "source": [
    "# Fibonacci series\n",
    "\n",
    "n = int(input(\"Enter the numbers of terms: \"))\n",
    "a,b = 0,1\n",
    "count = 0\n",
    "\n",
    "print(f\"Fibonacci sequence up to {n} terms: \")\n",
    "\n",
    "while count<n:\n",
    "    print(a,end=\" \")\n",
    "    nth = a + b\n",
    "    a = b\n",
    "    b = nth\n",
    "    count +=1"
   ]
  },
  {
   "cell_type": "code",
   "execution_count": 20,
   "id": "8bcbe227-b283-40c3-8c90-5b04ff3f26b7",
   "metadata": {},
   "outputs": [
    {
     "name": "stdout",
     "output_type": "stream",
     "text": [
      "Enter number:  4\n"
     ]
    },
    {
     "name": "stdout",
     "output_type": "stream",
     "text": [
      "24\n"
     ]
    }
   ],
   "source": [
    "# factorial\n",
    "n = int(input(\"Enter number: \"))\n",
    "fact = 1\n",
    "\n",
    "for i in range(n,1,-1):\n",
    "    fact *= i\n",
    "print(fact)"
   ]
  },
  {
   "cell_type": "code",
   "execution_count": 10,
   "id": "9f5b7fa8-e7d2-46a9-ae1f-036cc61f06d6",
   "metadata": {},
   "outputs": [
    {
     "name": "stdout",
     "output_type": "stream",
     "text": [
      "ENTER NUMBER:  153\n"
     ]
    },
    {
     "name": "stdout",
     "output_type": "stream",
     "text": [
      "ArmStrong number:  153\n"
     ]
    }
   ],
   "source": [
    "# Armstrong number\n",
    "\n",
    "n = int(input(\"ENTER NUMBER: \"))\n",
    "arm = 0\n",
    "temp = n\n",
    "\n",
    "for i in range(n):\n",
    "    l = n%10\n",
    "    arm = arm + l**3\n",
    "    n = n//10\n",
    "\n",
    "if(temp == arm):\n",
    "    print(\"ArmStrong number: \",arm)\n",
    "else:\n",
    "    print(\"It is not an Armstrong number\")"
   ]
  },
  {
   "cell_type": "code",
   "execution_count": 6,
   "id": "1e95153a-db26-4372-961d-fcffd4b7f5cc",
   "metadata": {},
   "outputs": [
    {
     "name": "stdout",
     "output_type": "stream",
     "text": [
      "TOTAL COUNT:  5\n",
      "enter number:  10\n",
      "enter number:  20\n",
      "enter number:  30\n",
      "enter number:  40\n",
      "enter number:  50\n"
     ]
    },
    {
     "name": "stdout",
     "output_type": "stream",
     "text": [
      "TOTAL SUM =  150\n",
      "AVERAGE =  30.0\n",
      "SUM OF EVEN NUMBERS =  150\n",
      "SUM OF ODD NUMBERS =  0\n",
      "MAX NUMBER =  50\n",
      "MIN NUMBER =  10\n",
      "SECOND MAX NUMBER =  40\n",
      "SECOND MIN NUMBER =  20\n",
      "THE MAXIMUM NUMBER IN LIST OF EVEN NUMBERS =  50\n",
      "THE MAXIMUM NUMBER IN LIST OF ODD NUMBERS =  0\n"
     ]
    }
   ],
   "source": [
    "x = int(input(\"TOTAL COUNT: \"))\n",
    "sum = 0\n",
    "sumeven = 0\n",
    "sumodd = 0\n",
    "\n",
    "max_num = 0\n",
    "min_num = float('inf')\n",
    "\n",
    "second_max = 0\n",
    "second_min = float('inf')\n",
    "\n",
    "evenMax_num = 0\n",
    "oddMax_num = 0\n",
    "\n",
    "for i in range(1,x+1):\n",
    "    n = int(input(\"enter number: \"))\n",
    "    sum = sum+n\n",
    "    average = sum/x\n",
    "    \n",
    "    if(n%2 == 0 and n>max_num):\n",
    "        evenMax_num = n\n",
    "        sumeven = sumeven + n\n",
    "    if(n%2 != 0 and n>max_num):\n",
    "        oddMax_num = n\n",
    "        sumodd = sumodd + n\n",
    "\n",
    "    if(n > max_num):\n",
    "        second_max = max_num\n",
    "        max_num = n\n",
    "    elif(n > second_max and n != max_num):\n",
    "        second_max = n\n",
    "    \n",
    "    if(n < min_num):\n",
    "        second_min = min_num\n",
    "        min_num = n\n",
    "    elif(n < second_min and n!= min_num):\n",
    "        second_min = n\n",
    "\n",
    "print(\"TOTAL SUM = \",sum)\n",
    "print(\"AVERAGE = \",average)\n",
    "print(\"SUM OF EVEN NUMBERS = \",sumeven)\n",
    "print(\"SUM OF ODD NUMBERS = \",sumodd)\n",
    "print(\"MAX NUMBER = \",max_num)\n",
    "print(\"MIN NUMBER = \",min_num)\n",
    "print(\"SECOND MAX NUMBER = \",second_max)\n",
    "print(\"SECOND MIN NUMBER = \",second_min)\n",
    "print(\"THE MAXIMUM NUMBER IN LIST OF EVEN NUMBERS = \",evenMax_num)\n",
    "print(\"THE MAXIMUM NUMBER IN LIST OF ODD NUMBERS = \",oddMax_num)"
   ]
  },
  {
   "cell_type": "code",
   "execution_count": 5,
   "id": "ce6be00b-7d95-4770-a3be-063cf62e3e76",
   "metadata": {},
   "outputs": [
    {
     "name": "stdout",
     "output_type": "stream",
     "text": [
      "Enter The powered number:  8\n"
     ]
    },
    {
     "name": "stdout",
     "output_type": "stream",
     "text": [
      "The exponent is 2 ^ 3\n"
     ]
    }
   ],
   "source": [
    "import math\n",
    "\n",
    "n = int(input(\"Enter The powered number: \"))\n",
    "power = int(math.log2(n))\n",
    "\n",
    "print(\"The exponent is 2 ^\",power)"
   ]
  },
  {
   "cell_type": "code",
   "execution_count": null,
   "id": "eaa776a2-6e4a-4378-b31b-28002de8e051",
   "metadata": {
    "scrolled": true
   },
   "outputs": [
    {
     "name": "stdout",
     "output_type": "stream",
     "text": [
      "enter number:  12345\n"
     ]
    },
    {
     "name": "stdout",
     "output_type": "stream",
     "text": [
      "23456\n"
     ]
    }
   ],
   "source": [
    "# Increment number\n",
    "n = int(input(\"enter number: \"))\n",
    "ans = 0\n",
    "m = 1\n",
    "\n",
    "while n > 0:\n",
    "    l = n%10\n",
    "    if(l == 9):\n",
    "        d=1\n",
    "    else:\n",
    "        d = l+1\n",
    "\n",
    "    ans = ans+d*m\n",
    "    m = m*10\n",
    "    n = n//10\n",
    "\n",
    "print(ans)"
   ]
  },
  {
   "cell_type": "code",
   "execution_count": 12,
   "id": "c4e5d07c-8526-4a8b-9086-01d15ff82c2d",
   "metadata": {},
   "outputs": [
    {
     "name": "stdout",
     "output_type": "stream",
     "text": [
      "Enter grade:  A\n",
      "Enter city level:  1\n"
     ]
    },
    {
     "name": "stdout",
     "output_type": "stream",
     "text": [
      "Gross Pay:  110100.0\n",
      "Annual Pay:  1321200.0\n",
      "Income tax:  142800.0\n"
     ]
    }
   ],
   "source": [
    "# QB - 180\n",
    "\n",
    "\"\"\"\n",
    "gross pay = basic pay (bp)+ hra + dra + other allowances(oa)+ transport allowance (ta) - professional tax(pt) - epf\n",
    "\n",
    "professional tax (pt) = rs.200 for each grade and each month\n",
    "\n",
    "class - 1 city hra = 0.3*bp\n",
    "class - 2 city hra = 0.2*bp\n",
    "class - 3 city hra = 0.1*bp\n",
    "\n",
    "dra = 0.5*bp\n",
    "pf = 0.11*bp\n",
    "ta = rs. 900\n",
    "\n",
    "annual pay = 12*gross pay\n",
    "\n",
    "\"\"\"\n",
    "\n",
    "bp = 0\n",
    "oa = 0\n",
    "grade = input(\"Enter grade: \")\n",
    "\n",
    "if(grade == \"A\"):\n",
    "    bp = 60000\n",
    "    oa = 8000\n",
    "elif(grade == \"B\"):\n",
    "    bp = 50000\n",
    "    oa = 7000\n",
    "elif(grade == \"C\"):\n",
    "    bp = 40000\n",
    "    oa = 6000\n",
    "elif(grade == \"D\"):\n",
    "    bp = 30000\n",
    "    oa = 5000\n",
    "elif(grade == \"E\"):\n",
    "    bp = 20000\n",
    "    oa = 4000\n",
    "elif(grade == \"F\"):\n",
    "    bp = 10000\n",
    "    oa = 3000\n",
    "    \n",
    "city = int(input(\"Enter city level: \"))\n",
    "hra = 1\n",
    "if(city == 1):\n",
    "    hra = 0.3*bp\n",
    "elif(city == 2):\n",
    "    hra = 0.2*bp\n",
    "elif(city == 3):\n",
    "    hra = 0.1*bp\n",
    "\n",
    "dra = 0.5*bp\n",
    "ta = 900\n",
    "pt = 200\n",
    "epf = 0.11*bp\n",
    "\n",
    "gross_pay = bp+hra+dra+oa+ta-pt-epf\n",
    "print(\"Gross Pay: \",gross_pay)\n",
    "annual_pay = 12*gross_pay\n",
    "print(\"Annual Pay: \",annual_pay)\n",
    "\n",
    "\n",
    "if(annual_pay <= 250000):\n",
    "    tax = 0\n",
    "elif(annual_pay <= 500000):\n",
    "    tax = (annual_pay - 250000)* 0.05\n",
    "elif annual_pay <= 750000:\n",
    "    tax = 12500 + (annual_pay - 500000) * 0.10\n",
    "elif annual_pay <= 1000000:\n",
    "    tax = 37500 + (annual_pay - 750000) * 0.15\n",
    "elif annual_pay <= 1250000:\n",
    "    tax = 75000 + (annual_pay - 1000000) * 0.20\n",
    "elif annual_pay <= 1500000:\n",
    "    tax = 125000 + (annual_pay - 1250000) * 0.25\n",
    "else:\n",
    "    tax = 187500 + (annual_pay - 1500000) * 0.30\n",
    "\n",
    "print(\"Income tax: \",tax)"
   ]
  },
  {
   "cell_type": "code",
   "execution_count": 1,
   "id": "d91e50db-a350-4f45-9b97-daf6baf84e17",
   "metadata": {},
   "outputs": [
    {
     "name": "stdout",
     "output_type": "stream",
     "text": [
      "Enter the ruppes:  25\n"
     ]
    }
   ],
   "source": [
    "n = int(input(\"Enter the ruppes: \"))\n",
    "if(n>=100):\n",
    "    note = n//100\n",
    "    r = n%100\n",
    "    print(\"100rs: \",note)\n",
    "    if(n>=50):\n",
    "        note = r//50 \n",
    "        r1 = r%50\n",
    "        print(\"50rs: \",note)\n",
    "        if(n>=20):\n",
    "            note = r1//20\n",
    "            r2 = r1%20\n",
    "            print(\"20rs: \",note)\n",
    "            if(n>=10):\n",
    "                note = r2//10\n",
    "                r3 = r2%10\n",
    "                print(\"10rs: \",note)\n",
    "                if(n>=5):\n",
    "                    note = r3//5\n",
    "                    r4 = r3%5\n",
    "                    print(\"5rs: \",note)\n",
    "                    if(n>=1):\n",
    "                        note = r4//1\n",
    "                        print(\"1rs: \",note)"
   ]
  },
  {
   "cell_type": "code",
   "execution_count": 7,
   "id": "764df827-5379-49b0-9461-649373ed6f0a",
   "metadata": {},
   "outputs": [
    {
     "name": "stdout",
     "output_type": "stream",
     "text": [
      "Enter number:  25\n",
      "Enter the number of iterations:  10\n"
     ]
    },
    {
     "data": {
      "text/plain": [
       "5.0"
      ]
     },
     "execution_count": 7,
     "metadata": {},
     "output_type": "execute_result"
    }
   ],
   "source": [
    "def sq(x,it):\n",
    "    g = x/2\n",
    "\n",
    "    for i in range(it):\n",
    "        g = (g+(x/g))/2\n",
    "    return g\n",
    "\n",
    "x = int(input(\"Enter number: \"))\n",
    "it = int(input(\"Enter the number of iterations: \"))\n",
    "\n",
    "sq(x,it)"
   ]
  },
  {
   "cell_type": "code",
   "execution_count": null,
   "id": "c9d0de7c-b9d4-45aa-8c47-020056f26a05",
   "metadata": {},
   "outputs": [],
   "source": []
  }
 ],
 "metadata": {
  "kernelspec": {
   "display_name": "Python 3 (ipykernel)",
   "language": "python",
   "name": "python3"
  },
  "language_info": {
   "codemirror_mode": {
    "name": "ipython",
    "version": 3
   },
   "file_extension": ".py",
   "mimetype": "text/x-python",
   "name": "python",
   "nbconvert_exporter": "python",
   "pygments_lexer": "ipython3",
   "version": "3.12.6"
  }
 },
 "nbformat": 4,
 "nbformat_minor": 5
}
