{
 "cells": [
  {
   "cell_type": "markdown",
   "id": "ade6ea25",
   "metadata": {},
   "source": [
    "# Q. 541 Write a python program to create a directory and subdirectory. It should print the current working directory path \n",
    "and list of names of files present in the given directory.\n"
   ]
  },
  {
   "cell_type": "code",
   "execution_count": 12,
   "id": "3b95d86b",
   "metadata": {},
   "outputs": [
    {
     "name": "stdout",
     "output_type": "stream",
     "text": [
      "Directory created\n"
     ]
    }
   ],
   "source": [
    "import os\n",
    "#to create new directory\n",
    "os.mkdir(\"D:\\Pyth\")\n",
    "#Open the folder in D Drive, and check MyPythonProjects folder will be created\n",
    "print(\"Directory created\")"
   ]
  },
  {
   "cell_type": "code",
   "execution_count": 16,
   "id": "d9e18c64",
   "metadata": {
    "scrolled": true
   },
   "outputs": [
    {
     "name": "stdout",
     "output_type": "stream",
     "text": [
      "SubDirectory created\n"
     ]
    }
   ],
   "source": [
    "import os\n",
    "#to create new directory\n",
    "os.mkdir(\"D:\\\\Pyth\\\\1234\")\n",
    "#Open the folder in D Drive, and check MyPythonProjects folder will be created\n",
    "print(\"SubDirectory created\")"
   ]
  },
  {
   "cell_type": "code",
   "execution_count": 17,
   "id": "db47f982",
   "metadata": {},
   "outputs": [
    {
     "name": "stdout",
     "output_type": "stream",
     "text": [
      "C:\\Users\\Abhi\n"
     ]
    }
   ],
   "source": [
    "#Program to get the following functions: getcwd(), mkdir()\n",
    "#import operating system\n",
    "import os\n",
    "#to create new directory\n",
    "print(os.getcwd())"
   ]
  },
  {
   "cell_type": "code",
   "execution_count": 18,
   "id": "c9fd21a6",
   "metadata": {},
   "outputs": [
    {
     "name": "stdout",
     "output_type": "stream",
     "text": [
      "['-1.14-windows.xml', '.conda', '.condarc', '.continuum', '.idlerc', '.ipynb_checkpoints', '.ipython', '.jupyter', '.vscode', '3D Objects', '560.txt', 'A3_T1.ipynb', 'abc.txt', 'anaconda3', 'AppData', 'Application Data', 'as.py', 'Ball.png', 'bhz.txt', 'C2_T1.ipynb', 'C3_T1.ipynb', 'C6_T1.ipynb', 'C7_T1.ipynb', 'ca.py', 'cal.py', 'calculator.py', 'Contacts', 'Cookies', 'data_file_one.txt', 'Desktop', 'Documents', 'Downloads', 'F1.txt', 'Favorites', 'file1.txt', 'file11.txt', 'file12.txt', 'file2.txt', 'filtercondition', 'filtercondition.rar', 'final obj.ipynb', 'first_word.py', 'hello.ipynb', 'image1.jpeg.py', 'image1.jpg', 'IPE schedule Sem-IV_SY_with External Name.pdf', 'Links', 'LJIET PG_ FRIEND LIST_CURRICULAR_SCHOLARSHIP FOR SIF.docx', 'Local Settings', 'modpract.py', 'moviere', 'Music', 'My Documents', 'NetHood', 'NTUSER.DAT', 'ntuser.dat.LOG1', 'ntuser.dat.LOG2', 'NTUSER.DAT{53b39e88-18c4-11ea-a811-000d3aa4692b}.TM.blf', 'NTUSER.DAT{53b39e88-18c4-11ea-a811-000d3aa4692b}.TMContainer00000000000000000001.regtrans-ms', 'NTUSER.DAT{53b39e88-18c4-11ea-a811-000d3aa4692b}.TMContainer00000000000000000002.regtrans-ms', 'ntuser.ini', 'OneDrive', 'output_file_three.txt', 'output_file_two.txt', 'Pattern matching.ipynb', 'Pictures', 'Practise_Program_for_T2-Q.ipynb', 'Practise_Program_for_T2.ipynb', 'PrintHood', 'Python QB checking.ipynb', 'Python-2 Files for IPE.rar', 'python1.txt', 'python2.txt', 'python3.txt', 'QP_25-11-2023.ipynb', 'Recent', 'Saved Games', 'ScStore', 'Searches', 'SendTo', 'shahabhi03', 'shahabhiC134', 'Start Menu', 'story.txt', 'T2_C1.ipynb', 'T2_C2.ipynb', 'T2_C5.ipynb', 'T2_C7.ipynb', 'T2_C9.ipynb', 'T3_C1.ipynb', 'T3_C6.ipynb', 'T3_Chapter 8_QB_AKS_solution.ipynb', 'Templates', 'Unit -8 QB_Long Questions.ipynb', 'Unit 3 Regular Expressions_AKS.ipynb', 'Unit 4- Immutable Data Structures_Practics Programs plus Theory_AKS.ipynb', 'Unit 6 QB Long Questions_AKS.ipynb', 'Unit-4 QB Long Questions_T2_AKS.ipynb', 'Unit-4 QB Long Questions_T2_AKS.pdf', 'Unit-5 QB Long Questions_T2_AKS.ipynb', 'Unit-7 QB Long Questions_Solution.ipynb', 'untitled', 'Untitled.ipynb', 'untitled1', 'Untitled1.ipynb', 'Untitled10.ipynb', 'Untitled11.ipynb', 'Untitled12.ipynb', 'Untitled13.ipynb', 'Untitled14.ipynb', 'Untitled15.ipynb', 'Untitled16.ipynb', 'Untitled17.ipynb', 'Untitled18.ipynb', 'Untitled19.ipynb', 'Untitled2.ipynb', 'Untitled20.ipynb', 'Untitled21.ipynb', 'Untitled22.ipynb', 'Untitled23.ipynb', 'Untitled24.ipynb', 'Untitled25.ipynb', 'Untitled26.ipynb', 'Untitled27.ipynb', 'Untitled28.ipynb', 'Untitled29.ipynb', 'Untitled3.ipynb', 'Untitled30.ipynb', 'Untitled4.ipynb', 'Untitled5.ipynb', 'Untitled6.ipynb', 'Untitled7.ipynb', 'Untitled8.ipynb', 'Untitled9.ipynb', 'user_input_lines.txt', 'Videos', '__pycache__']\n"
     ]
    }
   ],
   "source": [
    "#Program to get the following functions: listdir()\n",
    "#import operating system\n",
    "import os\n",
    "#to list directory\n",
    "print(os.listdir())"
   ]
  },
  {
   "cell_type": "markdown",
   "id": "b5dcf61a",
   "metadata": {},
   "source": [
    "# Q. 542\n",
    "Write a python program to make a module named cal.py which contain all the basic functions related to calculator like \n",
    "addition, subtraction, multiplication, and division import that module in another file and use that functions with number \n",
    "inputs given by user.\n"
   ]
  },
  {
   "attachments": {
    "image.png": {
     "image/png": "[encoded data removed]"
    }
   },
   "cell_type": "markdown",
   "id": "26349ab8",
   "metadata": {},
   "source": [
    "![image.png](attachment:image.png)"
   ]
  },
  {
   "cell_type": "code",
   "execution_count": 11,
   "id": "aa942092",
   "metadata": {},
   "outputs": [
    {
     "name": "stdout",
     "output_type": "stream",
     "text": [
      "15\n",
      "5\n",
      "50\n",
      "2.0\n"
     ]
    }
   ],
   "source": [
    "import ca\n",
    "ca.add(10,5)\n",
    "ca.sub(10,5)\n",
    "ca.mul(10,5)\n",
    "ca.div(10,5)"
   ]
  },
  {
   "cell_type": "markdown",
   "id": "724df77a",
   "metadata": {},
   "source": [
    "# Q. 543\n",
    "Write a program to create a module ‘first_word.py’, which returns the first word of any string passed. Show the working of \n",
    "the module, by calling the module with any suitable example.\n",
    "Input: ‘This is Python Programming’\n",
    "Output: ‘This’ "
   ]
  },
  {
   "cell_type": "code",
   "execution_count": 1,
   "id": "12bec175",
   "metadata": {},
   "outputs": [
    {
     "name": "stdout",
     "output_type": "stream",
     "text": [
      "Input: 'This is Python Programming'\n",
      "Output: 'This'\n"
     ]
    }
   ],
   "source": [
    "# main_script.py\n",
    "from first_word import get_first_word\n",
    "\n",
    "# Example usage\n",
    "input_string = 'This is Python Programming'\n",
    "result = get_first_word(input_string)\n",
    "\n",
    "print(f\"Input: '{input_string}'\")\n",
    "print(f\"Output: '{result}'\")\n"
   ]
  },
  {
   "cell_type": "markdown",
   "id": "500cc72a",
   "metadata": {},
   "source": [
    "# Q. 544 Write a python program to copy content of File1 into File2 in which all lines of a file1 or remaining portion of line except \n",
    "those that have hash sign (#) (means comments).\n",
    "Input:\n",
    "#Hello LJ\n",
    "Wish you happy Republic #Day\n",
    "Happy 74th Republic Day\n",
    "What a #Parade at Kartavya Path\n",
    "Very Happy after watching that parade\n",
    "Output:\n",
    "Wish you happy Republic \n",
    "Happy 74th Republic Day\n",
    "What a \n",
    "Very Happy after watching that parade"
   ]
  },
  {
   "cell_type": "code",
   "execution_count": 3,
   "id": "cfbdc4b4",
   "metadata": {},
   "outputs": [
    {
     "name": "stdout",
     "output_type": "stream",
     "text": [
      "Output:\n",
      "Wish you happy Republic\n",
      "Happy 74th Republic Day\n",
      "What a\n",
      "Very Happy after watching that parade\n",
      "\n"
     ]
    }
   ],
   "source": [
    "def copy_without_comments(file11, file12):\n",
    "    with open(file11, 'r') as f1, open(file12, 'w') as f2:\n",
    "        for line in f1:\n",
    "            # Remove text after '#' if present\n",
    "            modified_line = line.split('#', 1)[0].strip()\n",
    "            \n",
    "            # Write to File2 if the line is not empty after removing comments\n",
    "            if modified_line:\n",
    "                f2.write(modified_line + '\\n')\n",
    "\n",
    "# Example usage\n",
    "file11_path = 'file11.txt'\n",
    "file12_path = 'file12.txt'\n",
    "\n",
    "copy_without_comments(file11_path, file12_path)\n",
    "\n",
    "# Print the content of File2\n",
    "with open(file12_path, 'r') as f2:\n",
    "    print(\"Output:\")\n",
    "    print(f2.read())\n"
   ]
  },
  {
   "cell_type": "code",
   "execution_count": null,
   "id": "25fc3356",
   "metadata": {},
   "outputs": [],
   "source": []
  }
 ],
 "metadata": {
  "kernelspec": {
   "display_name": "Python 3 (ipykernel)",
   "language": "python",
   "name": "python3"
  },
  "language_info": {
   "codemirror_mode": {
    "name": "ipython",
    "version": 3
   },
   "file_extension": ".py",
   "mimetype": "text/x-python",
   "name": "python",
   "nbconvert_exporter": "python",
   "pygments_lexer": "ipython3",
   "version": "3.11.3"
  }
 },
 "nbformat": 4,
 "nbformat_minor": 5
}
