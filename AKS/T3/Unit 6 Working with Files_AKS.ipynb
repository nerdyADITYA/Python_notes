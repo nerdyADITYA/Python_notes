{
 "cells": [
  {
   "cell_type": "markdown",
   "id": "adcc8bc7",
   "metadata": {},
   "source": [
    "# Unit-6 Working With Files\n",
    "To store data temporarily and permanently, we use files. \n",
    "A file is the collection of data stored on a disk in one unit identified by filename.\n",
    "File handling is an important part of any web application.\n",
    "Python has several functions for creating, reading, updating, and deleting files.\n",
    "\n",
    "##Types of File\n",
    "\n",
    "1. Text File: Text file usually we use to store character data. For example, test.txt\n",
    "\n",
    "2. Binary File: The binary files are used to store binary data such as images, video files, audio files, etc.\n"
   ]
  },
  {
   "cell_type": "markdown",
   "id": "287113db",
   "metadata": {},
   "source": [
    "##Opening a File:\n",
    "Python provides an open() function that accepts two arguments, file name and access mode in which the file is accessed. The function returns a file object which can be used to perform various operations like reading, writing, etc.\n",
    "\n",
    "Before performing any operation like reading and writing the file, we need to open that file. \n",
    "\n",
    "Syntax for opening the file is:\n",
    "f=open(filename, mode)\n",
    "\n",
    "For text and binary file we have the following notation:\n",
    "\"t\" - Text - Default value. Text mode\n",
    "\n",
    "\"b\" - Binary - Binary mode (e.g. images)\n",
    "The files can be accessed using various modes like read, write, or append. The following are the details about the access mode to open a file.\n",
    "\n",
    "SN\tAccess mode\tDescription\n",
    "1.\tr-It opens the file to read-only mode. The file pointer exists at the beginning. The file is by default open in this mode if no access mode is passed.\n",
    "2.\trb-It opens the file to read-only in binary format. The file pointer exists at the beginning of the file.\n",
    "3.\tr+-It opens the file to read and write both. The file pointer exists at the beginning of the file.\n",
    "4.\trb+-It opens the file to read and write both in binary format. The file pointer exists at the beginning of the file.\n",
    "5.\tw-It opens the file to write only. It overwrites the file if previously exists or creates a new one if no file exists with the same name. The file pointer exists at the beginning of the file.\n",
    "6.\twb-It opens the file to write only in binary format. It overwrites the file if it exists previously or creates a new one if no file exists. The file pointer exists at the beginning of the file.\n",
    "7.\tw+-It opens the file to write and read both. It is different from r+ in the sense that it overwrites the previous file if one exists whereas r+ doesn't overwrite the previously written file. It creates a new file if no file exists. The file pointer exists at the beginning of the file.\n",
    "8.\twb+-It opens the file to write and read both in binary format. The file pointer exists at the beginning of the file.\n",
    "9.\ta-It opens the file in the append mode. The file pointer exists at the end of the previously written file if exists any. It creates a new file if no file exists with the same name.\n",
    "10.\tab-It opens the file in the append mode in binary format. The pointer exists at the end of the previously written file. It creates a new file in binary format if no file exists with the same name.\n",
    "11.\ta+-It opens a file to append and read both. The file pointer remains at the end of the file if a file exists. It creates a new file if no file exists with the same name.\n",
    "12.\tab+-It opens a file to append and read both in binary format. The file pointer remains at the end of the file."
   ]
  },
  {
   "cell_type": "code",
   "execution_count": 2,
   "id": "a70b707d",
   "metadata": {},
   "outputs": [],
   "source": [
    "#Program to show how to open the text file\n",
    "#Before opening we need to create the file in the same working directory\n",
    "f = open(\"demofile.txt\")"
   ]
  },
  {
   "cell_type": "markdown",
   "id": "30131852",
   "metadata": {},
   "source": [
    "##Closing a File\n",
    "After completing our operations on the file, it is highly recommended to close the file.\n",
    "For this we have close() function\n",
    "\n",
    "Syntax for closing a file is:\n",
    "f.close()"
   ]
  },
  {
   "cell_type": "code",
   "execution_count": 3,
   "id": "72840f78",
   "metadata": {},
   "outputs": [],
   "source": [
    "#Program to close the text file\n",
    "#Before closing the file should be opened\n",
    "f.close()"
   ]
  },
  {
   "cell_type": "code",
   "execution_count": 4,
   "id": "7599fbea",
   "metadata": {},
   "outputs": [
    {
     "name": "stdout",
     "output_type": "stream",
     "text": [
      "file is opened successfully\n"
     ]
    }
   ],
   "source": [
    "#Program Let's look at the simple example to open a file named \"demofile.txt\" (stored in the same directory) in read mode \n",
    "#and printing its content on the console.\n",
    "#Here read mode is used while opening\n",
    "fileptr = open(\"demofile.txt\",\"r\")    \n",
    "    \n",
    "if fileptr:    \n",
    "    print(\"file is opened successfully\")    "
   ]
  },
  {
   "cell_type": "markdown",
   "id": "27ecb976",
   "metadata": {},
   "source": [
    "##Various allowed modes during opening a file:\n",
    "Once we opened a file and we got file object, we can get various details related to that file\n",
    "by using its properties.\n",
    "\n",
    "name- Name of opened file.\n",
    "\n",
    "mode- Mode in which file is opened.\n",
    "\n",
    "closed - Returns boolean value indicates that file is closed or not.\n",
    "\n",
    "readable() - Returns boolean value indicates that whether file is readable or not.\n",
    "\n",
    "writable() - Returns boolean value indicates that whether file is writable or not.\n"
   ]
  },
  {
   "cell_type": "code",
   "execution_count": 12,
   "id": "89fc5ec4",
   "metadata": {},
   "outputs": [
    {
     "name": "stdout",
     "output_type": "stream",
     "text": [
      "File Name:  demofile.txt\n",
      "File Mode:  w\n",
      "Is File Readable:  False\n",
      "Is File writable:  True\n",
      "Is File Closed:  False\n",
      "Is File Closed:  True\n"
     ]
    }
   ],
   "source": [
    "#Example for using all properties.\n",
    "\n",
    "f=open(\"demofile.txt\",'w')\n",
    "print(\"File Name: \",f.name)\n",
    "print(\"File Mode: \",f.mode)\n",
    "print(\"Is File Readable: \", f.readable())\n",
    "print(\"Is File writable: \", f.writable())\n",
    "print(\"Is File Closed: \", f.closed)\n",
    "f.close()\n",
    "print(\"Is File Closed: \",f.closed)"
   ]
  },
  {
   "cell_type": "markdown",
   "id": "26d1617b",
   "metadata": {},
   "source": [
    "##Writing Data to text files:\n",
    "We can write character data to the text files by using following 2 methods:\n",
    "\n",
    "write(str)\n",
    "\n",
    "writelines(list of lines)\n",
    "\n",
    "In case of writelines the lines will be taken as an input in the form of list."
   ]
  },
  {
   "cell_type": "code",
   "execution_count": 8,
   "id": "f57ba0e4",
   "metadata": {},
   "outputs": [
    {
     "name": "stdout",
     "output_type": "stream",
     "text": [
      "Data written to file successfully\n"
     ]
    }
   ],
   "source": [
    "#Program Let's look at the simple example to open a file named \"demofile.txt\" (stored in the same directory) in read mode \n",
    "#and printing its content on the console.\n",
    "#Here write mode is used while opening\n",
    "f = open(\"demofile.txt\",\"w\")    \n",
    "a=f.write(\"Good Morning\\n\")\n",
    "f.write(\"Welcome to Class of Files in Python\\n\")\n",
    "#Check the text file already created i.e. demofile. If previously data was there in the demofile then\n",
    "#that data will be replaced (overriding) by the above data.\n",
    "print(\"Data written to file successfully\")\n",
    "f.close()"
   ]
  },
  {
   "cell_type": "code",
   "execution_count": 13,
   "id": "09a1961b",
   "metadata": {},
   "outputs": [
    {
     "name": "stdout",
     "output_type": "stream",
     "text": [
      "Data written to file successfully\n"
     ]
    }
   ],
   "source": [
    "#Program Let's look at the simple example to open a file named \"demofile.txt\" (stored in the same directory) in read mode \n",
    "#and printing its content on the console.\n",
    "#Here write mode is used while opening\n",
    "f = open(\"demofile.txt\",\"w\") \n",
    "list=[\"sunny\\n\",\"bunny\\n\",\"vinny\"]\n",
    "f.writelines(list)\n",
    "\n",
    "#Check the text file already created i.e. demofile. If previously data was there in the demofile then\n",
    "#that data will be replaced (overriding) by the above data.\n",
    "print(\"Data written to file successfully\")\n",
    "f.close()"
   ]
  },
  {
   "cell_type": "markdown",
   "id": "23072cac",
   "metadata": {},
   "source": [
    "##Append data in a file:\n",
    "\n",
    "In order to prevent the problem of overriding we need to use the append operation which adds the data instead of overridden.\n",
    "\n",
    "Syntax for append operation is:\n",
    "\n",
    "f=open(\"Filename\",\"a\")"
   ]
  },
  {
   "cell_type": "code",
   "execution_count": 14,
   "id": "70889051",
   "metadata": {},
   "outputs": [
    {
     "name": "stdout",
     "output_type": "stream",
     "text": [
      "List of Lines written to the file successfully\n"
     ]
    }
   ],
   "source": [
    "#Example for showing append operation in a file.\n",
    "f=open(\"demofile.txt\",\"a\")\n",
    "list=[\"Good Morning\\n\",\"Welcome to the class of Python\"]\n",
    "#Writing in text file using writelines operation\n",
    "f.writelines(list)\n",
    "#Print the message after writing\n",
    "print(\"List of Lines written to the file successfully\")\n",
    "f.close()"
   ]
  },
  {
   "cell_type": "markdown",
   "id": "8fb96650",
   "metadata": {},
   "source": [
    "##Reading Character Data from Text Files:\n",
    "We can read character data from text file by using following read methods.\n",
    "\n",
    "read() - To read total data from the file\n",
    "\n",
    "read(n) - To read 'n' characters from the file\n",
    "\n",
    "readline() - To read only one line\n",
    "\n",
    "readlines() - To read all lines into a list"
   ]
  },
  {
   "cell_type": "code",
   "execution_count": 15,
   "id": "3bc9ec01",
   "metadata": {},
   "outputs": [
    {
     "name": "stdout",
     "output_type": "stream",
     "text": [
      "sunny\n",
      "bunny\n",
      "vinnyGood Morning\n",
      "Welcome to the class of Python\n"
     ]
    }
   ],
   "source": [
    "#Example for reading total data from the file\n",
    "f=open(\"demofile.txt\",\"r\")\n",
    "data=f.read()\n",
    "print(data)\n",
    "f.close()"
   ]
  },
  {
   "cell_type": "code",
   "execution_count": 16,
   "id": "d4d9470e",
   "metadata": {},
   "outputs": [
    {
     "name": "stdout",
     "output_type": "stream",
     "text": [
      "sunny\n",
      "bunn\n"
     ]
    }
   ],
   "source": [
    "#Example for reading only first 10 characters\n",
    "f=open(\"demofile.txt\",\"r\")\n",
    "data=f.read(10)\n",
    "print(data)\n",
    "f.close()"
   ]
  },
  {
   "cell_type": "code",
   "execution_count": 17,
   "id": "5aeb1576",
   "metadata": {},
   "outputs": [
    {
     "name": "stdout",
     "output_type": "stream",
     "text": [
      "sunny\n",
      "\n"
     ]
    }
   ],
   "source": [
    "#Example for reading data line by line\n",
    "f=open(\"demofile.txt\",\"r\")\n",
    "data=f.readline()\n",
    "print(data)\n",
    "f.close()"
   ]
  },
  {
   "cell_type": "code",
   "execution_count": 19,
   "id": "78c12040",
   "metadata": {},
   "outputs": [
    {
     "name": "stdout",
     "output_type": "stream",
     "text": [
      "sunny\n",
      "bunny\n",
      "vinnyGood Morning\n",
      "Welcome to the class of Python"
     ]
    }
   ],
   "source": [
    "#Example to read all lines into list\n",
    "f=open(\"demofile.txt\",\"r\")\n",
    "data=f.readlines()\n",
    "for i in data:\n",
    "    print(i,end=\"\")\n",
    "\n",
    "f.close()"
   ]
  },
  {
   "cell_type": "code",
   "execution_count": 20,
   "id": "1ff84d59",
   "metadata": {},
   "outputs": [],
   "source": [
    "#Example to write a python program to write a list to a file.\n",
    "l=['A','B','C','D']\n",
    "f=open('demofile.txt','w')\n",
    "for i in l:\n",
    "    f.write(i +'\\n')\n",
    "f.close()"
   ]
  },
  {
   "cell_type": "code",
   "execution_count": 21,
   "id": "f22adb4c",
   "metadata": {},
   "outputs": [
    {
     "name": "stdout",
     "output_type": "stream",
     "text": [
      "A\n",
      "B\n",
      "C\n",
      "D\n",
      "\n"
     ]
    }
   ],
   "source": [
    "#Example for reading the entire program written above.\n",
    "\n",
    "f=open('demofile.txt','r')\n",
    "data=f.read()\n",
    "print(data)\n",
    "f.close()"
   ]
  },
  {
   "cell_type": "markdown",
   "id": "0546f4dc",
   "metadata": {},
   "source": [
    "##Seek() and tell() functions\n",
    "\n",
    "Once the file is opened in 'a+' mode, as usual we can use write() method to append the strings to the file. After writing the data, without closing the file, we can read strings from the file. But first of all, we should place the file handler to the begining of the file using seek() method as:\n",
    "\n",
    "f.seek(offset,fromwhere)\n",
    "\n",
    "Here, 'offset' represents how many bytes to move. \n",
    "'fromwhere' represents from which position to move.\n",
    "\n",
    "For example, 'fromwhere' is 0 represents from begining of file, 1 represents from the current position in the file and 2 represents from ending of the file.\n",
    "\n",
    "f.seek(10,0)\n",
    "The above seek() function will position the file handler at 10th byte from the begining of the file. So any reading operation will read the data from 10th byte onwards.\n",
    "\n",
    "f.seek(0,0)\n",
    "This will position the file handler at the 0th byte from the begining of the file. It means any reading operation will read the data quite from the begining of the file.\n",
    "\n",
    "tell() function:\n",
    "\n",
    "We know that data in the binary files is stored in the form of bytes. \n",
    "When we conduct reading or writing operations on a binary file, a file pointer moves inside the file depending on how many bytes are written or read from the file.\n",
    "\n",
    "For example, if we read 10 bytes of data from a file, the file pointer will be positioned at the 10th byte so that it is possible to continue reading from 11th byte onwards. \n",
    "To know the position of the file pointer, we can use the tell() method. \n",
    "It returns the current position of the file pointer from the begining of the file.\n",
    "\n",
    "Syntax of tell() is:\n",
    "n=f.tell()\n",
    "\n",
    "where, 'f' represents the file handler or file object. 'n' is an integer that represents the byte position where the file pointer is positioned.\n"
   ]
  },
  {
   "cell_type": "code",
   "execution_count": 22,
   "id": "e4ce12af",
   "metadata": {},
   "outputs": [
    {
     "data": {
      "text/plain": [
       "10"
      ]
     },
     "execution_count": 22,
     "metadata": {},
     "output_type": "execute_result"
    }
   ],
   "source": [
    "#Example of seek and tell function in Python.\n",
    "f=open(\"demofile.txt\",\"r\")\n",
    "#seek() takes the pointer to the required position of the program\n",
    "f.seek(10)\n",
    "#tell() represents the current position of the pointer\n",
    "f.tell()"
   ]
  },
  {
   "attachments": {
    "image.png": {
     "image/png": "[encoded data removed]"
    }
   },
   "cell_type": "markdown",
   "id": "cf175c8c",
   "metadata": {},
   "source": [
    "#Difference between r, r+, w, w+, a and a+\n",
    "\n",
    "\n",
    "![image.png](attachment:image.png)\n",
    "\n",
    "What is + means in open()?\n",
    "The + adds either reading or writing to an existing open mode, aka update mode.\n",
    "\n",
    "The r means reading file; r+ means reading and writing the file.\n",
    "The w means writing file; w+ means reading and writing the file.\n",
    "The a means writing file, append mode; a+ means reading and writing file, append mode.\n",
    "\n",
    "\n"
   ]
  },
  {
   "cell_type": "code",
   "execution_count": 2,
   "id": "3b244501",
   "metadata": {},
   "outputs": [
    {
     "name": "stdout",
     "output_type": "stream",
     "text": [
      "welcome to python 1\n",
      "welcome to python 2\n",
      "welcome to python 3\n",
      "welcome to python 4\n"
     ]
    }
   ],
   "source": [
    "#Example of r\n",
    "with open('files.txt') as f:  # default `r` mode\n",
    "    print(f.read())\n",
    "#In r mode, if we write the file, \n",
    "#Python throws io.UnsupportedOperation: not writable"
   ]
  },
  {
   "cell_type": "code",
   "execution_count": 4,
   "id": "9868bfed",
   "metadata": {},
   "outputs": [
    {
     "ename": "UnsupportedOperation",
     "evalue": "not writable",
     "output_type": "error",
     "traceback": [
      "\u001b[1;31m---------------------------------------------------------------------------\u001b[0m",
      "\u001b[1;31mUnsupportedOperation\u001b[0m                      Traceback (most recent call last)",
      "Cell \u001b[1;32mIn [4], line 2\u001b[0m\n\u001b[0;32m      1\u001b[0m \u001b[38;5;28;01mwith\u001b[39;00m \u001b[38;5;28mopen\u001b[39m(\u001b[38;5;124m'\u001b[39m\u001b[38;5;124mfiles.txt\u001b[39m\u001b[38;5;124m'\u001b[39m, \u001b[38;5;124m'\u001b[39m\u001b[38;5;124mr\u001b[39m\u001b[38;5;124m'\u001b[39m) \u001b[38;5;28;01mas\u001b[39;00m f:  \u001b[38;5;66;03m# default `r` mode\u001b[39;00m\n\u001b[1;32m----> 2\u001b[0m     \u001b[43mf\u001b[49m\u001b[38;5;241;43m.\u001b[39;49m\u001b[43mwrite\u001b[49m\u001b[43m(\u001b[49m\u001b[38;5;124;43m\"\u001b[39;49m\u001b[38;5;124;43mtest \u001b[39;49m\u001b[38;5;130;43;01m\\n\u001b[39;49;00m\u001b[38;5;124;43m\"\u001b[39;49m\u001b[43m)\u001b[49m\n",
      "\u001b[1;31mUnsupportedOperation\u001b[0m: not writable"
     ]
    }
   ],
   "source": [
    "#Python throws io.UnsupportedOperation: not writable\n",
    "with open('files.txt', 'r') as f:  # default `r` mode\n",
    "    f.write(\"test \\n\")"
   ]
  },
  {
   "cell_type": "markdown",
   "id": "cfdf18d8",
   "metadata": {},
   "source": [
    "#Read and write a file with r+\n",
    "In r+ mode, we can read and write the file, but the file pointer position is at the beginning of the file; if we write the file directly, it will overwrite the beginning content."
   ]
  },
  {
   "cell_type": "code",
   "execution_count": 6,
   "id": "6d049414",
   "metadata": {},
   "outputs": [],
   "source": [
    "#Example of r+ mode:\n",
    "with open('files.txt', 'r+') as f:\n",
    "    f.write(\"new line \\n\") \n",
    "#With this r+ mode it will write a new line\n",
    "# can be checked in text file"
   ]
  },
  {
   "attachments": {
    "image.png": {
     "image/png": "[encoded data removed]"
    }
   },
   "cell_type": "markdown",
   "id": "9c273887",
   "metadata": {},
   "source": [
    "![image.png](attachment:image.png)"
   ]
  },
  {
   "cell_type": "code",
   "execution_count": 9,
   "id": "9509f0a5",
   "metadata": {},
   "outputs": [
    {
     "name": "stdout",
     "output_type": "stream",
     "text": [
      "new line \n",
      "python 1\n",
      "welcome to python 2\n",
      "welcome to python 3\n",
      "welcome to python 4new line \n",
      "\n"
     ]
    }
   ],
   "source": [
    "#The below example uses f.read() to move the file pointer to the end of \n",
    "#the file, and append a new line.\n",
    "\n",
    "\n",
    "# alternative, open with `a` mode\n",
    "with open('files.txt', 'r+') as f:\n",
    "    data=f.read()                # move file position to the end of the file.\n",
    "    f.write(\"new line \\n\")\n",
    "    print(data)"
   ]
  },
  {
   "cell_type": "markdown",
   "id": "cc6339e9",
   "metadata": {},
   "source": [
    "#Difference between w and w+ in open()\n",
    "The w+ adds reading file to the existing w mode."
   ]
  },
  {
   "cell_type": "code",
   "execution_count": 10,
   "id": "357c7f21",
   "metadata": {},
   "outputs": [],
   "source": [
    "with open('files1.txt', 'w+') as f:   # create a new file or truncates it\n",
    "    f.write(\"test 1\\n\")\n",
    "    f.write(\"test 2\\n\")\n",
    "    f.write(\"test 3\\n\")   "
   ]
  },
  {
   "attachments": {
    "image.png": {
     "image/png": "[encoded data removed]"
    }
   },
   "cell_type": "markdown",
   "id": "fab8ad7a",
   "metadata": {},
   "source": [
    "![image.png](attachment:image.png)"
   ]
  },
  {
   "cell_type": "code",
   "execution_count": 11,
   "id": "e9dec6a5",
   "metadata": {},
   "outputs": [
    {
     "name": "stdout",
     "output_type": "stream",
     "text": [
      "test 1\n",
      "test 2\n",
      "test 3\n",
      "\n"
     ]
    }
   ],
   "source": [
    "#Read and write a file with w+\n",
    "\n",
    "with open('file.txt', 'w+') as f:   # create a new file or truncates it\n",
    "    f.write(\"test 1\\n\")\n",
    "    f.write(\"test 2\\n\")\n",
    "    f.write(\"test 3\\n\")             # now the file pointer is at the end\n",
    "    f.seek(0)                       # move the file pointer to the beginning\n",
    "    lines = f.read()                # read it, now we can read!\n",
    "    print(lines)                    # print it"
   ]
  },
  {
   "cell_type": "markdown",
   "id": "8324dc50",
   "metadata": {},
   "source": [
    "Difference between r+ and w+ in open()\n",
    "Below is the difference between r+ and w+:\n",
    "\n",
    "If the file does not exist, r+ throws FileNotFoundError; the w+ creates the file.\n",
    "If the file exists, r+ opens it without truncating; the w+ truncates the file and opens it."
   ]
  },
  {
   "cell_type": "markdown",
   "id": "7c5ab203",
   "metadata": {},
   "source": [
    "#Difference between a and a+ in open()\n",
    "The a+ adds reading file to the existing a mode."
   ]
  },
  {
   "cell_type": "code",
   "execution_count": 12,
   "id": "6916155f",
   "metadata": {},
   "outputs": [],
   "source": [
    "#Append a file with a\n",
    "\n",
    "with open('files1.txt', 'a') as f:\n",
    "    f.write(\"4\")"
   ]
  },
  {
   "attachments": {
    "image.png": {
     "image/png": "[encoded data removed]"
    }
   },
   "cell_type": "markdown",
   "id": "440fb1d0",
   "metadata": {},
   "source": [
    "![image.png](attachment:image.png)"
   ]
  },
  {
   "cell_type": "markdown",
   "id": "6f9fac5c",
   "metadata": {},
   "source": [
    "Append a file with a+\n",
    "Open a file for reading and writing with a+.\n",
    "Counts the number of the lines.\n",
    "Append the result to the file."
   ]
  },
  {
   "cell_type": "code",
   "execution_count": 14,
   "id": "4108fb7b",
   "metadata": {},
   "outputs": [
    {
     "name": "stdout",
     "output_type": "stream",
     "text": [
      "['test 1\\n', 'test 2\\n', 'test 3\\n', '4\\n', '4']\n"
     ]
    }
   ],
   "source": [
    "with open('files1.txt', 'a+') as f:\n",
    "    f.seek(0)                       # file pointer at end, move to beginning\n",
    "    lines = f.readlines()           # read all and file pointer at end again\n",
    "    f.write(\"\\n\" + str(len(lines))) # append number of lines to a file\n",
    "    print(lines)"
   ]
  },
  {
   "cell_type": "markdown",
   "id": "79539bf7",
   "metadata": {},
   "source": [
    "# Difference between r+ and a+ in open()\n",
    "Below is the difference between r+ and a+:\n",
    "\n",
    "If the file does not exist, r+ throws FileNotFoundError; the a+ creates the file.\n",
    "For r+ mode, the initial file pointer position at the beginning of the file; For a+ mode, the initial file pointer position at the end of the file."
   ]
  },
  {
   "cell_type": "markdown",
   "id": "224a7fde",
   "metadata": {},
   "source": [
    "# Difference between w+ and a+ in open()\n",
    "Below is the difference between w+ and a+:\n",
    "\n",
    "If the file exists, w+ truncates the file and opens it; a+ opens it without truncating.\n",
    "For w+ mode, the initial file pointer position at the beginning of the file; For a+ mode, the initial file pointer position at the end of the file."
   ]
  },
  {
   "cell_type": "code",
   "execution_count": null,
   "id": "a4992a85",
   "metadata": {},
   "outputs": [],
   "source": []
  },
  {
   "cell_type": "code",
   "execution_count": null,
   "id": "048ea549",
   "metadata": {},
   "outputs": [],
   "source": []
  },
  {
   "cell_type": "code",
   "execution_count": null,
   "id": "d596ec35",
   "metadata": {},
   "outputs": [],
   "source": []
  },
  {
   "cell_type": "code",
   "execution_count": 6,
   "id": "fde2441c",
   "metadata": {},
   "outputs": [
    {
     "name": "stdout",
     "output_type": "stream",
     "text": [
      "4\n"
     ]
    }
   ],
   "source": [
    "#Exercise\n",
    "#Write a python program to count the number of lines in a text file.\n",
    "lines=0\n",
    "f=open(\"as456.txt\",\"w+\")\n",
    "f.write(\"aaa\\n\")\n",
    "f.write(\"bbb\\n\")\n",
    "f.write(\"ccc\\n\")\n",
    "f.write(\"ddd\\n\")\n",
    "f.seek(0)\n",
    "for i in f.readline():\n",
    "    lines=lines+1\n",
    "print(lines)"
   ]
  },
  {
   "cell_type": "code",
   "execution_count": 17,
   "id": "2c1d1feb",
   "metadata": {},
   "outputs": [
    {
     "name": "stdout",
     "output_type": "stream",
     "text": [
      "Good Morning!\n",
      "Welcome to the class of Python-Working with files\n",
      "\n",
      "No. of words: 11\n",
      "No. of space: 8\n",
      "No. of char: 63\n"
     ]
    }
   ],
   "source": [
    "#Write a python program to count words, characters and spaces from a text file.\n",
    "space=0\n",
    "word=1\n",
    "ch=0\n",
    "f=open(\"demofile2.txt\",'r')\n",
    "data=f.read()\n",
    "print(data)\n",
    "for i in data:\n",
    "    ch+=1\n",
    "    if(i==' '):\n",
    "        space+=1\n",
    "    if(i==\" \" or i=='\\n'):\n",
    "        word+=1\n",
    "print(\"No. of words:\",word)\n",
    "print(\"No. of space:\",space)\n",
    "print(\"No. of char:\",ch-1)\n"
   ]
  },
  {
   "cell_type": "code",
   "execution_count": 9,
   "id": "8805c92b",
   "metadata": {},
   "outputs": [
    {
     "name": "stdout",
     "output_type": "stream",
     "text": [
      "hello : 1\n",
      "good : 1\n",
      "morning! : 1\n",
      "my : 1\n",
      "name : 1\n",
      "is : 1\n",
      "alpha. : 1\n",
      "today : 1\n",
      "we : 1\n",
      "are : 1\n",
      "going : 1\n",
      "to : 1\n",
      "learn : 1\n",
      "about : 1\n",
      "files : 1\n",
      "counts, : 1\n",
      "words : 1\n",
      "and : 1\n",
      "characters. : 1\n"
     ]
    }
   ],
   "source": [
    "#Write a program Count occurrence of each word in given text file (Using dictionary)\n",
    "# Open the file in read mode\n",
    "#For running we need to create first sample text file\n",
    "text = open(\"sample.txt\", \"r\")\n",
    "# Create an empty dictionary\n",
    "d = dict()\n",
    "# Loop through each line of the file\n",
    "for line in text:\n",
    "# Remove the leading spaces and newline character\n",
    "    line = line.strip()\n",
    "# Convert the characters in line to\n",
    "# lowercase to avoid case mismatch\n",
    "    line = line.lower()\n",
    "# Split the line into words\n",
    "    words = line.split(\" \")\n",
    "# Iterate over each word in line\n",
    "    for word in words:\n",
    "# Check if the word is already in dictionary\n",
    "        if word in d:\n",
    "# Increment count of word by 1\n",
    "            d[word] = d[word] + 1\n",
    "        else:\n",
    "# Add the word to dictionary with count 1\n",
    "            d[word] = 1\n",
    "# Print the contents of dictionary\n",
    "for key in list(d.keys()):\n",
    "    print(key,\":\", d[key])"
   ]
  },
  {
   "cell_type": "code",
   "execution_count": 18,
   "id": "e9d29188",
   "metadata": {},
   "outputs": [
    {
     "name": "stdout",
     "output_type": "stream",
     "text": [
      "Enter something ( for quit enter END ) :-Friends are crazy, Friends are naughty !\n",
      "Enter something ( for quit enter END ) :-Friends are honest, Friends are best !\n",
      "Enter something ( for quit enter END ) :-Friends are like keygen, friends are like license key !\n",
      "Enter something ( for quit enter END ) :-We are nothing without friends, Life is not possible without friends !\n",
      "Enter something ( for quit enter END ) :-END\n",
      "\n",
      "The Lines started with Capital letters are :-\n",
      "\n",
      "Friends are crazy, Friends are naughty !\n",
      "\n",
      "Friends are honest, Friends are best !\n",
      "\n",
      "Friends are like keygen, friends are like license key !\n",
      "\n",
      "We are nothing without friends, Life is not possible without friends !\n",
      "\n"
     ]
    }
   ],
   "source": [
    "#Write a program to accept string/sentences from the user till the user enters \"END\" to. \n",
    "#Save the data in a text file and then display only those sentences which begin with an uppercase alphabet.\n",
    "f = open(\"Pathwalla.txt\",\"w\")\n",
    "while True :\n",
    "\tsen = input(\"Enter something ( for quit enter END ) :-\")\n",
    "\tif sen == \"END\" :\n",
    "\t\tbreak\n",
    "\telse :\n",
    "\t\tf.write(sen + \"\\n\")\n",
    "f.close()\n",
    "print()\n",
    "print(\"The Lines started with Capital letters are :-\")\n",
    "f = open(\"Pathwalla.txt\",\"r\")\n",
    "print()\n",
    "data = f.readlines()\n",
    "for i in data :\n",
    "\tif i[0].isupper() :\n",
    "\t\tprint(i)\n",
    "f.close()"
   ]
  },
  {
   "cell_type": "code",
   "execution_count": 22,
   "id": "1928358d",
   "metadata": {},
   "outputs": [
    {
     "name": "stdout",
     "output_type": "stream",
     "text": [
      "Enter customer name:Prat\n",
      "Enter customer age:23\n"
     ]
    }
   ],
   "source": [
    "#Write a function cust_data() to \n",
    "#ask user to enter their names and age to store data in customer.txt file.\n",
    "def cust_data():\n",
    "    name = input(\"Enter customer name:\")\n",
    "    age=int(input(\"Enter customer age:\"))\n",
    "    data = str([name,age])\n",
    "    f = open(\"customer.txt\",\"w\")\n",
    "    f.write(data)\n",
    "    f.close()\n",
    "cust_data()"
   ]
  },
  {
   "attachments": {
    "image.png": {
     "image/png": "[encoded data removed]"
    }
   },
   "cell_type": "markdown",
   "id": "24c46549",
   "metadata": {},
   "source": [
    "![image.png](attachment:image.png)"
   ]
  },
  {
   "cell_type": "code",
   "execution_count": 23,
   "id": "b526701e",
   "metadata": {},
   "outputs": [
    {
     "name": "stdout",
     "output_type": "stream",
     "text": [
      "My city is very clean city.\n"
     ]
    }
   ],
   "source": [
    "#Write a python program to create and read the city.txt file \n",
    "#in one go and print the contents on the output screen.\n",
    "# Creating file with open() function\n",
    "f=open(\"city.txt\",\"w\")\n",
    "f.write(\"My city is very clean city.\")\n",
    "f.close()\n",
    "# Reading contents from city.txt file\n",
    "f=open(\"city.txt\",\"r\")\n",
    "dt = f.read()\n",
    "print(dt)\n",
    "f.close()"
   ]
  },
  {
   "cell_type": "code",
   "execution_count": 25,
   "id": "24f8d60b",
   "metadata": {},
   "outputs": [
    {
     "name": "stdout",
     "output_type": "stream",
     "text": [
      "no. of lines: 4\n"
     ]
    }
   ],
   "source": [
    "# Write a function count_lines() to count and display the total number of lines from the file. \n",
    "#Consider above file – friends.txt.\n",
    "\"\"\"Friends are crazy, Friends are naughty !\n",
    "Friends are honest, Friends are best !\n",
    "Friends are like keygen, friends are like license key !\n",
    "We are nothing without friends, Life is not possible without friends !\n",
    "\"\"\"\n",
    "def count_lines():\n",
    "    f = open(\"friends.txt\")\n",
    "    cnt =0\n",
    "    for lines in f:\n",
    "        cnt+=1\n",
    "    print(\"no. of lines:\",cnt)\n",
    "    f.close()\n",
    "count_lines()"
   ]
  },
  {
   "cell_type": "code",
   "execution_count": 27,
   "id": "d6030c69",
   "metadata": {},
   "outputs": [
    {
     "name": "stdout",
     "output_type": "stream",
     "text": [
      "Friends are crazy, Friends are naughty !\n",
      "\n",
      "Friends are like keygen, friends are like license key !\n",
      "\n"
     ]
    }
   ],
   "source": [
    "\"\"\"Write a function display_oddLines() \n",
    "to display odd number lines from the text file.\n",
    "Friends are crazy, Friends are naughty !\n",
    "Friends are honest, Friends are best !\n",
    "Friends are like keygen, friends are like license key !\n",
    "We are nothing without friends, Life is not possible without friends !\n",
    "\"\"\"\n",
    "def display_oddLines():\n",
    "    f = open(\"friends.txt\")\n",
    "    cnt =0\n",
    "    for lines in f:\n",
    "        cnt+=1\n",
    "        if cnt%2!=0:\n",
    "            print(lines)\n",
    "    f.close()\n",
    "display_oddLines()"
   ]
  },
  {
   "cell_type": "code",
   "execution_count": 29,
   "id": "9a9e9b32",
   "metadata": {},
   "outputs": [
    {
     "name": "stdout",
     "output_type": "stream",
     "text": [
      "Enter the Name of File: \n",
      "friends.txt\n",
      "All Characters Capitalized Successfully!\n"
     ]
    }
   ],
   "source": [
    "\"\"\"Write a python program that reads a text file and changes the file by capitalizing \n",
    "each character of file.\"\"\"\n",
    "totContent = \"\"\n",
    "print(\"Enter the Name of File: \")\n",
    "fileName = str(input())\n",
    "fileHandle = open(fileName, \"r\")\n",
    "\n",
    "for content in fileHandle:\n",
    "    newContent = content.upper()\n",
    "    totContent = totContent + newContent\n",
    "\n",
    "fileHandle.close()\n",
    "fileHandle = open(fileName, \"w\")\n",
    "fileHandle.write(totContent)\n",
    "\n",
    "print(\"All Characters Capitalized Successfully!\")\n",
    "fileHandle.close()"
   ]
  },
  {
   "cell_type": "code",
   "execution_count": 30,
   "id": "057b5b56",
   "metadata": {},
   "outputs": [
    {
     "name": "stdout",
     "output_type": "stream",
     "text": [
      "Enter the Name of Source File: \n",
      "friends.txt\n",
      "Enter the Name of Target File: \n",
      "files1.txt\n",
      "\n",
      "File Copied Successfully!\n"
     ]
    }
   ],
   "source": [
    "\"\"\"Write a Python program to copy the contents of a file to another file.\"\"\"\n",
    "print(\"Enter the Name of Source File: \")\n",
    "sFile = input()\n",
    "print(\"Enter the Name of Target File: \")\n",
    "tFile = input()\n",
    "\n",
    "fileHandle = open(sFile, \"r\")\n",
    "texts = fileHandle.readlines()\n",
    "fileHandle.close()\n",
    "\n",
    "fileHandle = open(tFile, \"w\")\n",
    "for s in texts:\n",
    "    fileHandle.write(s)\n",
    "fileHandle.close()\n",
    "\n",
    "print(\"\\nFile Copied Successfully!\")"
   ]
  },
  {
   "attachments": {
    "image.png": {
     "image/png": "[encoded data removed]"
    }
   },
   "cell_type": "markdown",
   "id": "d9cd6025",
   "metadata": {},
   "source": [
    "![image.png](attachment:image.png)"
   ]
  },
  {
   "cell_type": "code",
   "execution_count": 31,
   "id": "b5fac0f8",
   "metadata": {},
   "outputs": [
    {
     "name": "stdout",
     "output_type": "stream",
     "text": [
      "['FRIENDS,', 'POSSIBLE']\n"
     ]
    }
   ],
   "source": [
    "\"\"\"Write a python program to find the longest words in a read file. \"\"\"\n",
    "def longest_word(filename):\n",
    "    with open(filename, 'r') as infile:\n",
    "              words = infile.read().split()\n",
    "    max_len = len(max(words, key=len))\n",
    "    return [word for word in words if len(word) == max_len]\n",
    "\n",
    "print(longest_word('friends.txt'))"
   ]
  },
  {
   "cell_type": "code",
   "execution_count": 33,
   "id": "98559b7b",
   "metadata": {},
   "outputs": [],
   "source": [
    "\"\"\"Write a python program to read line by line from a given files file1 & file2 and write \n",
    "into file3. \"\"\"\n",
    "data = data2 = \"\"\n",
    "  \n",
    "# Reading data from file1\n",
    "with open('F1.txt') as fp:\n",
    "    data = fp.read()\n",
    "# Reading data from file2\n",
    "with open('F2.txt') as fp:\n",
    "    data2 = fp.read()\n",
    "# Merging 2 files\n",
    "# To add the data of file2\n",
    "# from next line\n",
    "data += \"\\n\"\n",
    "data += data2\n",
    "  \n",
    "with open ('F3.txt', 'w') as fp:\n",
    "    fp.write(data)"
   ]
  },
  {
   "attachments": {
    "image.png": {
     "image/png": "[encoded data removed]"
    }
   },
   "cell_type": "markdown",
   "id": "a74ce325",
   "metadata": {},
   "source": [
    "![image.png](attachment:image.png)"
   ]
  },
  {
   "cell_type": "code",
   "execution_count": 34,
   "id": "d87e2ee0",
   "metadata": {},
   "outputs": [
    {
     "name": "stdout",
     "output_type": "stream",
     "text": [
      "['FRIENDS ARE CRAZY, FRIENDS ARE NAUGHTY !\\n', 'FRIENDS ARE HONEST, FRIENDS ARE  BEST !\\n', 'FRIENDS ARE LIKE KEYGEN, FRIENDS ARE LIKE LICENSE KEY !\\n', 'WE ARE NOTHING WITHOUT FRIENDS, LIFE IS NOT POSSIBLE WITHOUT FRIENDS !']\n",
      "['FRIENDS ARE CRAZY, FRIENDS ARE NAUGHTY !', 'FRIENDS ARE HONEST, FRIENDS ARE  BEST !', 'FRIENDS ARE LIKE KEYGEN, FRIENDS ARE LIKE LICENSE KEY !', 'WE ARE NOTHING WITHOUT FRIENDS, LIFE IS NOT POSSIBLE WITHOUT FRIENDS !']\n"
     ]
    }
   ],
   "source": [
    "\"\"\"Write a python program to read whole text file line by line.\"\"\"\n",
    "with open(\"friends.txt\") as f:\n",
    "    content_list = f.readlines()\n",
    "\n",
    "# print the list\n",
    "print(content_list)\n",
    "\n",
    "# remove new line characters\n",
    "content_list = [x.strip() for x in content_list]\n",
    "print(content_list)"
   ]
  },
  {
   "cell_type": "code",
   "execution_count": 37,
   "id": "e455f8e5",
   "metadata": {},
   "outputs": [
    {
     "name": "stdout",
     "output_type": "stream",
     "text": [
      "string exist in a file\n"
     ]
    }
   ],
   "source": [
    "\"\"\"Write a python program to search for a string in text files\"\"\"\n",
    "def search_str(file_name, word):\n",
    "    with open(file_name, 'r') as file:\n",
    "        # read all content of a file\n",
    "        content = file.read()\n",
    "        # check if string present in a file\n",
    "        if word in content:\n",
    "            print('string exist in a file')\n",
    "        else:\n",
    "            print('string does not exist in a file')\n",
    "\n",
    "search_str('F3.txt', 'Friends')"
   ]
  },
  {
   "cell_type": "code",
   "execution_count": 38,
   "id": "e4e67c53",
   "metadata": {},
   "outputs": [
    {
     "name": "stdout",
     "output_type": "stream",
     "text": [
      "['Friends are crazy, Friends are naughty !', 'Friends are honest, Friends are best !', 'Friends are like keygen, friends are like license key !', 'We are nothing without friends, Life is not possible without friends !']\n"
     ]
    }
   ],
   "source": [
    "\"\"\" Write a Python program to remove newline characters from a file.\"\"\"\n",
    "def remove_newlines(fname):\n",
    "    flist = open(fname).readlines()\n",
    "    return [s.rstrip('\\n') for s in flist]\n",
    "\n",
    "print(remove_newlines(\"F1.txt\"))\n"
   ]
  },
  {
   "cell_type": "code",
   "execution_count": 39,
   "id": "95a2332f",
   "metadata": {},
   "outputs": [
    {
     "name": "stdout",
     "output_type": "stream",
     "text": [
      "False\n",
      "True\n"
     ]
    }
   ],
   "source": [
    "\"\"\"Write a Python program to assess if a file is closed or not.\"\"\"\n",
    "f = open('F1.txt','r')\n",
    "print(f.closed)\n",
    "f.close()\n",
    "print(f.closed)\n"
   ]
  },
  {
   "cell_type": "code",
   "execution_count": 41,
   "id": "2ca17c97",
   "metadata": {},
   "outputs": [
    {
     "name": "stdout",
     "output_type": "stream",
     "text": [
      "Most repeated word: friends\n",
      "Frequency: 8\n"
     ]
    }
   ],
   "source": [
    "\"\"\"Python program to find the most repeated word\n",
    "in a text file\"\"\"\n",
    "# Python program to find the most repeated word\n",
    "# in a text file\n",
    " \n",
    "# A file named \"gfg\", will be opened with the \n",
    "# reading mode.\n",
    "file = open(\"F1.txt\",\"r\")\n",
    "frequent_word = \"\"\n",
    "frequency = 0 \n",
    "words = []\n",
    " \n",
    "# Traversing file line by line\n",
    "for line in file:\n",
    "     \n",
    "    # splits each line into\n",
    "    # words and removing spaces\n",
    "    # and punctuations from the input\n",
    "    line_word = line.lower().replace(',','').replace('.','').split(\" \"); \n",
    "     \n",
    "    # Adding them to list words\n",
    "    for w in line_word: \n",
    "        words.append(w); \n",
    "         \n",
    "# Finding the max occurred word\n",
    "for i in range(0, len(words)): \n",
    "     \n",
    "    # Declaring count\n",
    "    count = 1; \n",
    "     \n",
    "    # Count each word in the file \n",
    "    for j in range(i+1, len(words)): \n",
    "        if(words[i] == words[j]): \n",
    "            count = count + 1; \n",
    " \n",
    "    # If the count value is more\n",
    "    # than highest frequency then\n",
    "    if(count > frequency): \n",
    "        frequency = count; \n",
    "        frequent_word = words[i]; \n",
    " \n",
    "print(\"Most repeated word: \" + frequent_word)\n",
    "print(\"Frequency: \" + str(frequency))\n",
    "file.close();"
   ]
  },
  {
   "cell_type": "code",
   "execution_count": 11,
   "id": "89140b60",
   "metadata": {},
   "outputs": [
    {
     "name": "stdout",
     "output_type": "stream",
     "text": [
      "Enter the Name of Source File: \n",
      "pager.txt\n",
      "1\n",
      "\n",
      "2\n",
      "\n",
      "3\n",
      "\n",
      "4\n",
      "\n",
      "5\n",
      "\n",
      "6\n",
      "\n",
      "7\n",
      "\n",
      "8\n",
      "\n",
      "9\n",
      "\n",
      "10\n",
      "\n",
      "11\n",
      "\n",
      "12\n",
      "\n",
      "13\n",
      "\n",
      "14\n",
      "\n",
      "15\n",
      "\n",
      "16\n",
      "\n",
      "17\n",
      "\n",
      "18\n",
      "\n",
      "19\n",
      "\n",
      "20\n",
      "\n",
      "21\n",
      "\n",
      "22\n",
      "\n",
      "23\n",
      "\n",
      "24\n",
      "\n",
      "25\n",
      "\n",
      "Read more lines? Enter y or ny\n",
      "26\n",
      "\n",
      "2\n",
      "\n",
      "7\n",
      "\n",
      "2\n",
      "\n",
      "8\n",
      "\n",
      "\n",
      "\n",
      "\n",
      "\n",
      "\n",
      "\n",
      "\n",
      "\n",
      "\n",
      "\n",
      "\n",
      "\n",
      "\n",
      "\n",
      "\n",
      "\n",
      "\n",
      "\n",
      "\n",
      "\n",
      "Read more lines? Enter y or nn\n"
     ]
    }
   ],
   "source": [
    "\"\"\"Write a \"pager\" program. Your solution should prompt for a filename, \n",
    "and display the text file 25 lines at a time, \n",
    "pausing each time to ask the user to \"press a key to continue\".\"\"\"\n",
    "print(\"Enter the Name of Source File: \")\n",
    "sFile = input()\n",
    "f = open(sFile, \"r\")\n",
    "flag = False\n",
    "count=0\n",
    "while True:\n",
    "    if flag == True:\n",
    "        break\n",
    "    print(f.readline())\n",
    "    count+=1\n",
    "    if count == 25:\n",
    "        count = 0\n",
    "        read_next = input('Read more lines? Enter y or n')\n",
    "        if read_next == 'n':\n",
    "            flag = True"
   ]
  },
  {
   "cell_type": "code",
   "execution_count": null,
   "id": "4ef6cc1a",
   "metadata": {},
   "outputs": [],
   "source": []
  }
 ],
 "metadata": {
  "kernelspec": {
   "display_name": "Python 3 (ipykernel)",
   "language": "python",
   "name": "python3"
  },
  "language_info": {
   "codemirror_mode": {
    "name": "ipython",
    "version": 3
   },
   "file_extension": ".py",
   "mimetype": "text/x-python",
   "name": "python",
   "nbconvert_exporter": "python",
   "pygments_lexer": "ipython3",
   "version": "3.11.3"
  }
 },
 "nbformat": 4,
 "nbformat_minor": 5
}
