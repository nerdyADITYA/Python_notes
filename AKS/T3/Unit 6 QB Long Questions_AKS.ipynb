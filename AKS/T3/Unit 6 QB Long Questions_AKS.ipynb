{
 "cells": [
  {
   "cell_type": "markdown",
   "id": "3ebe23be",
   "metadata": {
    "id": "3ebe23be"
   },
   "source": [
    "# Q. 514.Using a file which consists of multiple statements, find all the words from the file that can be made from all the characters\n",
    "of given user’s string.\n",
    "Note: If user enters same characters multiple times in a string, then word from file will only be eligible for output if it\n",
    "contains that character for same or more number of times in it. (if file have apple, greenapple and user’s string is ‘aepe’\n",
    "then output will only be greenapple. apple is not eligible as it contains e for 1 time only.\n",
    "For example:\n",
    "If a given file is:\n",
    "String entered by user: nas\n",
    "Output words will be: oranges, bananas, vitamins\n",
    "String entered by user: isi\n",
    "Output words will be: vitamins\n",
    "String entered by user: eee\n",
    "Output words will be: greenapple"
   ]
  },
  {
   "cell_type": "code",
   "execution_count": null,
   "id": "cc012144",
   "metadata": {
    "id": "cc012144",
    "outputId": "b8606eba-41a0-4776-b135-a1d44c3158fc"
   },
   "outputs": [
    {
     "name": "stdout",
     "output_type": "stream",
     "text": [
      "Enter a string: isi\n",
      "vitamins,"
     ]
    }
   ],
   "source": [
    "def is_eligible(word, user_string):\n",
    "    # Check if the word can be formed using characters from the user's string\n",
    "    for char in set(user_string):\n",
    "        if word.count(char) < user_string.count(char):\n",
    "            return False\n",
    "    return True\n",
    "eligible_words = []\n",
    "user_input = input(\"Enter a string: \").lower()\n",
    "with open('abc.txt', 'r') as file:\n",
    "    words = file.read().split()\n",
    "\n",
    "    for word in words:\n",
    "        if is_eligible(word, user_input):\n",
    "            eligible_words.append(word)\n",
    "\n",
    "\n",
    "for i in eligible_words:\n",
    "    print(i,end=\",\")"
   ]
  },
  {
   "cell_type": "markdown",
   "id": "e5700f88",
   "metadata": {
    "id": "e5700f88"
   },
   "source": [
    "# Q. 515 Write a Python program to reverse the content of a one file and store it in second file and also convert content of second\n",
    "file into uppercase and store it in third file and also count number of Vowels in third file and also print only 2nd line from\n",
    "the content of third file.\n",
    "Examples:\n",
    "If data file one contains the following data:\n",
    "Friends are crazy, Friends are naughty !\n",
    "Friends are honest, Friends are best !\n",
    "Output 1:\n",
    "! tseb era sdneirF ,tsenoh era sdneirF\n",
    "! ythguan era sdneirF ,yzarc era sdneirF\n",
    "Output 2:\n",
    "! TSEB ERA SDNEIRF ,TSENOH ERA SDNEIRF\n",
    "! YTHGUAN ERA SDNEIRF ,YZARC ERA SDNEIRF\n",
    "Output 3:\n",
    "Vowels = 22\n",
    "Output 4:\n",
    "! YTHGUAN ERA SDNEIRF ,YZARC ERA SDNEIRF"
   ]
  },
  {
   "cell_type": "code",
   "execution_count": null,
   "id": "4e32be0a",
   "metadata": {
    "id": "4e32be0a",
    "outputId": "03c43adf-b112-4c53-d459-0bc47a8ff830"
   },
   "outputs": [
    {
     "name": "stdout",
     "output_type": "stream",
     "text": [
      "Output 1:\n",
      "! tseb era sdneirF ,tsenoh era sdneirF\n",
      "! ythguan era sdneirF ,yzarc era sdneirF\n",
      "Output 2:\n",
      "! TSEB ERA SDNEIRF ,TSENOH ERA SDNEIRF\n",
      "! YTHGUAN ERA SDNEIRF ,YZARC ERA SDNEIRF\n",
      "Output 3:\n",
      "Vowels = 22\n",
      "Output 4:\n",
      "! YTHGUAN ERA SDNEIRF ,YZARC ERA SDNEIRF\n"
     ]
    }
   ],
   "source": [
    "def reverse_file(input_file, output_file):\n",
    "    with open(input_file, 'r') as file:\n",
    "        content = file.read()\n",
    "\n",
    "    reversed_content = content[::-1]\n",
    "\n",
    "    with open(output_file, 'w') as file:\n",
    "        file.write(reversed_content)\n",
    "\n",
    "def uppercase_file(input_file, output_file):\n",
    "    with open(input_file, 'r') as file:\n",
    "        content = file.read()\n",
    "\n",
    "    uppercase_content = content.upper()\n",
    "\n",
    "    with open(output_file, 'w') as file:\n",
    "        file.write(uppercase_content)\n",
    "\n",
    "def count_vowels(input_file):\n",
    "    with open(input_file, 'r') as file:\n",
    "        content = file.read()\n",
    "\n",
    "    vowel_count = sum(1 for char in content if char.lower() in 'aeiou')\n",
    "\n",
    "    return vowel_count\n",
    "\n",
    "# Example usage\n",
    "input_file = 'data_file_one.txt'\n",
    "output_file_two = 'output_file_two.txt'\n",
    "output_file_three = 'output_file_three.txt'\n",
    "\n",
    "# Task 1: Reverse content and store it in the second file\n",
    "reverse_file(input_file, output_file_two)\n",
    "\n",
    "# Task 2: Convert content to uppercase and store it in the third file\n",
    "uppercase_file(output_file_two, output_file_three)\n",
    "\n",
    "# Task 3: Count number of vowels in the third file\n",
    "vowel_count = count_vowels(output_file_three)\n",
    "\n",
    "# Task 4: Print only the 2nd line from the content of the third file\n",
    "with open(output_file_three, 'r') as file:\n",
    "    second_line = file.readlines()[1]\n",
    "\n",
    "# Displaying the results\n",
    "print(\"Output 1:\")\n",
    "print(open(output_file_two, 'r').read())\n",
    "print(\"Output 2:\")\n",
    "print(open(output_file_three, 'r').read())\n",
    "print(\"Output 3:\")\n",
    "print(f\"Vowels = {vowel_count}\")\n",
    "print(\"Output 4:\")\n",
    "print(second_line.strip())\n"
   ]
  },
  {
   "cell_type": "markdown",
   "id": "6679c11b",
   "metadata": {
    "id": "6679c11b"
   },
   "source": [
    "# Q. 516 Write a python program to extract a list of all four-letter words that start and end with the same letter from a given text file."
   ]
  },
  {
   "cell_type": "code",
   "execution_count": null,
   "id": "d442bf40",
   "metadata": {
    "id": "d442bf40",
    "outputId": "b3bce6a2-74f8-4433-c857-bc8e10946c9f"
   },
   "outputs": [
    {
     "name": "stdout",
     "output_type": "stream",
     "text": [
      "area,that,dead,"
     ]
    }
   ],
   "source": [
    "with open('560.txt', 'r') as file:\n",
    "    content = file.read().lower()  # Convert the content to lowercase for case-insensitive matching\n",
    "    words = content.split()\n",
    "    for word in words:\n",
    "        if len(word)==4 and word[0]==word[-1]:\n",
    "            four_letter_words=word\n",
    "            print(four_letter_words,end=\",\")"
   ]
  },
  {
   "cell_type": "markdown",
   "id": "a02999a6",
   "metadata": {
    "id": "a02999a6"
   },
   "source": [
    "# Q. 517 Write a python program to read a text file “Story.txt” and print only word starting with ‘I’ in reverse order.\n",
    "Example: If value in text file is : ‘INDIA IS MY COUNTRY’\n",
    "Output will be: ‘AIDNI SI MY COUNTRY’"
   ]
  },
  {
   "cell_type": "code",
   "execution_count": null,
   "id": "f54c599a",
   "metadata": {
    "id": "f54c599a",
    "outputId": "4406835e-70c3-4d99-e7c9-dc69bbe26197"
   },
   "outputs": [
    {
     "name": "stdout",
     "output_type": "stream",
     "text": [
      "AIDNI SI MY COUNTRY \n"
     ]
    }
   ],
   "source": [
    "with open('story.txt', 'r') as file:\n",
    "    content = file.read().upper()  # Convert the content to uppercase for case-insensitive matching\n",
    "    filtered_words=''\n",
    "    words = content.split()\n",
    "    for i in words:\n",
    "        if i and i[0]=='I':\n",
    "            i=i[::-1]\n",
    "            filtered_words=filtered_words+i+' '\n",
    "        else:\n",
    "            filtered_words=filtered_words+i+' '\n",
    "print(filtered_words)"
   ]
  },
  {
   "cell_type": "markdown",
   "id": "ed159e4f",
   "metadata": {
    "id": "ed159e4f"
   },
   "source": [
    "# Q. 518 Write a Python program to count words, characters and spaces from text file.\n",
    "Input:\n",
    "Python is a Easy Subject\n",
    "OOPs is One of the most\n",
    "interesting Topic\n",
    "Output:\n",
    "No of space: 10\n",
    "No of word: 13\n",
    "No of character: 64"
   ]
  },
  {
   "cell_type": "code",
   "execution_count": null,
   "id": "a8187be9",
   "metadata": {
    "id": "a8187be9",
    "outputId": "f6c79269-cf75-4534-bdf3-7269a97433bd"
   },
   "outputs": [
    {
     "name": "stdout",
     "output_type": "stream",
     "text": [
      "apple is fruit which is healthy\n",
      "greenapple is tasty and sweet\n",
      "oranges and bananas are good for health\n",
      "fruits are good source of vitamins\n",
      "No. of words: 24\n",
      "No. of space: 20\n",
      "No. of char: 135\n"
     ]
    }
   ],
   "source": [
    "space=0\n",
    "word=1\n",
    "ch=0\n",
    "f=open(\"abc.txt\",'r')\n",
    "data=f.read()\n",
    "print(data)\n",
    "for i in data:\n",
    "    ch+=1\n",
    "    if(i==' '):\n",
    "        space+=1\n",
    "    if(i==\" \" or i=='\\n'):\n",
    "        word+=1\n",
    "print(\"No. of words:\",word)\n",
    "print(\"No. of space:\",space)\n",
    "print(\"No. of char:\",ch-1)"
   ]
  },
  {
   "cell_type": "markdown",
   "id": "8e1d58e6",
   "metadata": {
    "id": "8e1d58e6"
   },
   "source": [
    "# Q. 519. File Filtering. write all lines of a file1, except those that start with a pound sign ( # ), the comment character for Python to\n",
    "file2. And display data of file2.\n",
    "Text file1 content:\n",
    "Friends are crazy, Friends are naughty !\n",
    "#Friends are honest, Friends are best !\n",
    "Friends are like keygen, #friends are like license key !\n",
    "We are nothing without friends, Life is not possible without friends !\n",
    "Text file2 shoud be:\n",
    "Friends are crazy, Friends are naughty !\n",
    "Friends are like keygen,\n",
    "We are nothing without friends, Life is not possible without friends !"
   ]
  },
  {
   "cell_type": "code",
   "execution_count": 3,
   "id": "e896ab88",
   "metadata": {
    "id": "e896ab88",
    "outputId": "2515a844-ad13-458f-a5d5-4c0bdc8a2904"
   },
   "outputs": [
    {
     "name": "stdout",
     "output_type": "stream",
     "text": [
      "Friends are crazy, Friends are naughty ! \n",
      "Friends are like keygen, We are nothing without friends, Life is not possible without friends !\n"
     ]
    }
   ],
   "source": [
    "f=open(\"Friends.txt\")\n",
    "d=open(\"abhi1.txt\",\"w\")\n",
    "while(True):\n",
    "    buff=f.readline()\n",
    "    if len(buff)!=0:\n",
    "        if buff[0]==\"#\":\n",
    "            continue\n",
    "        else:\n",
    "            if \"#\" in buff:\n",
    "                for index in range (1,len(buff)):\n",
    "                    if buff[index]==\"#\":\n",
    "                        d.write(buff[0:index])\n",
    "\n",
    "            else:\n",
    "                d.write(buff)\n",
    "\n",
    "    else:\n",
    "        break\n",
    "f.close()\n",
    "d.close()\n",
    "c=open(\"abhi1.txt\")\n",
    "print(c.read())"
   ]
  },
  {
   "cell_type": "markdown",
   "id": "01c32041",
   "metadata": {
    "id": "01c32041"
   },
   "source": [
    "# Q. 520 Write a python program to accept string/sentence from user till the user enters “END”. Each string/sentence entered by\n",
    "user should be a newline in file. Save all the lines in file and display only those lines which begin with capital letter.\n",
    "Example:\n",
    "Enter Something (for quit enter END):Hi Friends\n",
    "Enter Something (for quit enter END):how are you all\n",
    "Enter Something (for quit enter END):I am fine\n",
    "Enter Something (for quit enter END):hope you all are fine\n",
    "Enter Something (for quit enter END):END\n",
    "The Line started with Capital Letters:\n",
    "Hi Friends\n",
    "I am fine"
   ]
  },
  {
   "cell_type": "code",
   "execution_count": null,
   "id": "989383d3",
   "metadata": {
    "id": "989383d3",
    "outputId": "66c9b91a-eecd-4623-93fc-45ad0e38234a"
   },
   "outputs": [
    {
     "name": "stdout",
     "output_type": "stream",
     "text": [
      "Enter something (for quit enter END): Hello my friends\n",
      "Enter something (for quit enter END): How are you?\n",
      "Enter something (for quit enter END): feeling fine\n",
      "Enter something (for quit enter END): Hope all are fine\n",
      "Enter something (for quit enter END): END\n",
      "The lines started with capital letters:\n",
      "Hello my friends\n",
      "How are you?\n",
      "Hope all are fine\n"
     ]
    }
   ],
   "source": [
    "def save_lines_to_file(filename):\n",
    "    with open(filename, 'w') as file:\n",
    "        while True:\n",
    "            user_input = input(\"Enter something (for quit enter END): \")\n",
    "            if user_input.upper() == 'END':\n",
    "                break\n",
    "            file.write(user_input + '\\n')\n",
    "\n",
    "def display_lines_starting_with_capital(filename):\n",
    "    with open(filename, 'r') as file:\n",
    "        lines = file.readlines()\n",
    "        print(\"The lines started with capital letters:\")\n",
    "        for line in lines:\n",
    "            if line[0].isupper():\n",
    "                print(line.strip())\n",
    "\n",
    "filename = \"user_input_lines.txt\"\n",
    "\n",
    "    # Save lines to file\n",
    "save_lines_to_file(filename)\n",
    "\n",
    "    # Display lines starting with capital letters\n",
    "display_lines_starting_with_capital(filename)\n"
   ]
  },
  {
   "cell_type": "markdown",
   "id": "de1c4ffc",
   "metadata": {
    "id": "de1c4ffc"
   },
   "source": [
    "# Q. 521. Write a program to compare two text files. If they are different, give the line and column numbers in the files where the\n",
    "first difference occurs.\n",
    "Example:\n",
    "File 1: python1.txt\n",
    "Friends are crazy, Friends are naughty !\n",
    "Friends are honest, Friends are best !\n",
    "Friends are like keygen, friends are like license key !\n",
    "new We are nothing without friends, Life is not possible without friends !\n",
    "File 2: python2.txt\n",
    "Friends are crazy, Friends are naughty !\n",
    "Friends 6re honest, Friends are best !\n",
    "Friends are like keygen, friends are like license key !\n",
    "new We are nothing without friends, Life is not possible without friends !\n",
    "Output:\n",
    "line number 2 colNo. 9"
   ]
  },
  {
   "cell_type": "code",
   "execution_count": null,
   "id": "85a84850",
   "metadata": {
    "id": "85a84850",
    "outputId": "48d5a447-87cf-4ecd-80c6-a826f7c8f135"
   },
   "outputs": [
    {
     "name": "stdout",
     "output_type": "stream",
     "text": [
      "Output: line number 2 colNo. 9\n"
     ]
    }
   ],
   "source": [
    "def compare_files(file1, file2):\n",
    "    with open(file1, 'r') as f1, open(file2, 'r') as f2:\n",
    "        lines1 = f1.readlines()\n",
    "        lines2 = f2.readlines()\n",
    "\n",
    "    min_lines = min(len(lines1), len(lines2))\n",
    "    for line_number in range(min_lines):\n",
    "        line1 = lines1[line_number]\n",
    "        line2 = lines2[line_number]\n",
    "\n",
    "        min_length = min(len(line1), len(line2))\n",
    "        for col_number in range(min_length):\n",
    "            if line1[col_number] != line2[col_number]:\n",
    "                print(f\"Output: line number {line_number + 1} colNo. {col_number + 1}\")\n",
    "                return\n",
    "\n",
    "    if len(lines1) != len(lines2):\n",
    "        print(f\"Output: Files have different number of lines at line number {min_lines + 1}\")\n",
    "    else:\n",
    "        print(\"Output: Files are identical.\")\n",
    "\n",
    "\n",
    "file1 = \"python1.txt\"\n",
    "file2 = \"python2.txt\"\n",
    "\n",
    "compare_files(file1, file2)\n"
   ]
  },
  {
   "cell_type": "markdown",
   "id": "9ef358f5",
   "metadata": {
    "id": "9ef358f5"
   },
   "source": [
    "# Q. 522\n",
    "Write a Python program to count the frequency of words in a file\n",
    "Example:\n",
    "File 1: python3.txt\n",
    "Friends are crazy, Friends are naughty !\n",
    "Friends are honest, Friends are best !\n",
    "Friends are like keygen, friends are like license key !\n",
    "new We are nothing without friends, Life is not possible without friends !\n",
    "Output:\n",
    "Friends - 5,are - 7,crazy, - 1,naughty - 1,! - 4,honest, - 1,best - 1,like - 2,keygen, - 1,friends - 2,license - 1,key - 1,new - 1,We -\n",
    "1,nothing - 1,without - 2,friends, - 1,Life - 1,is - 1,not - 1,possible - 1,\n"
   ]
  },
  {
   "cell_type": "code",
   "execution_count": null,
   "id": "289ec910",
   "metadata": {
    "id": "289ec910",
    "outputId": "f086b288-3dd2-413b-f20a-58057ed2375b"
   },
   "outputs": [
    {
     "name": "stdout",
     "output_type": "stream",
     "text": [
      "Friends : 5\n",
      "are : 7\n",
      "crazy, : 1\n",
      "naughty : 1\n",
      "! : 4\n",
      "honest, : 1\n",
      "best : 1\n",
      "like : 2\n",
      "keygen, : 1\n",
      "friends : 2\n",
      "license : 1\n",
      "key : 1\n",
      "new : 1\n",
      "We : 1\n",
      "nothing : 1\n",
      "without : 2\n",
      "friends, : 1\n",
      "Life : 1\n",
      "is : 1\n",
      "not : 1\n",
      "possible : 1\n"
     ]
    }
   ],
   "source": [
    "#Write a program Count occurrence of each word in given text file (Using dictionary)\n",
    "# Open the file in read mode\n",
    "#For running we need to create first sample text file\n",
    "text = open(\"python3.txt\", \"r\")\n",
    "# Create an empty dictionary\n",
    "d = dict()\n",
    "# Loop through each line of the file\n",
    "for line in text:\n",
    "# Remove the leading spaces and newline character\n",
    "    line = line.strip()\n",
    "# Convert the characters in line to\n",
    "# lowercase to avoid case mismatch\n",
    "    #line = line.lower()\n",
    "# Split the line into words\n",
    "    words = line.split(\" \")\n",
    "# Iterate over each word in line\n",
    "    for word in words:\n",
    "# Check if the word is already in dictionary\n",
    "        if word in d:\n",
    "# Increment count of word by 1\n",
    "            d[word] = d[word] + 1\n",
    "        else:\n",
    "# Add the word to dictionary with count 1\n",
    "            d[word] = 1\n",
    "# Print the contents of dictionary\n",
    "for key in list(d.keys()):\n",
    "    print(key,\":\", d[key])"
   ]
  },
  {
   "cell_type": "code",
   "execution_count": null,
   "id": "414e65ab",
   "metadata": {
    "id": "414e65ab"
   },
   "outputs": [],
   "source": []
  }
 ],
 "metadata": {
  "colab": {
   "provenance": []
  },
  "kernelspec": {
   "display_name": "Python 3 (ipykernel)",
   "language": "python",
   "name": "python3"
  },
  "language_info": {
   "codemirror_mode": {
    "name": "ipython",
    "version": 3
   },
   "file_extension": ".py",
   "mimetype": "text/x-python",
   "name": "python",
   "nbconvert_exporter": "python",
   "pygments_lexer": "ipython3",
   "version": "3.11.3"
  }
 },
 "nbformat": 4,
 "nbformat_minor": 5
}
