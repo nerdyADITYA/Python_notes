{
 "cells": [
  {
   "cell_type": "markdown",
   "id": "c27d344e",
   "metadata": {},
   "source": [
    "# Unit-7 Modules and Directories\n",
    "##Modules\n",
    "A Python module is a file containing Python definitions and statements. A module can define functions, classes, and variables. A module can also include runnable code. Grouping related code into a module makes the code easier to understand and use. It also makes the code logically organized.\n",
    "\n",
    "Consider a module to be the same as a code library.\n",
    "\n",
    "A file containing a set of functions you want to include in your application.\n",
    "\n",
    "There are certain inbuilt and user defined modules (i.e. we can inbuilt the modules whenever it is required.\n",
    "\n",
    "Frequently Inbuilt modules are as listed below:\n",
    "os module\n",
    "random module\n",
    "math module\n",
    "time module\n",
    "sys module\n",
    "collections module\n",
    "statistics module\n",
    "\n",
    "We will discuss in detail os module in detail. Also a brief discussion about math module will be discussed.\n",
    "\n",
    "Custom Modules can also be created using user defined."
   ]
  },
  {
   "cell_type": "markdown",
   "id": "4e91df80",
   "metadata": {},
   "source": [
    "##Packages\n",
    "A python package is a collection of modules. Modules that are related to each other are mainly put in the same package. \n",
    "When a module from an external package is required in a program, that package can be imported and its modules can be put to use.\n",
    "Any Python file, whose name is the module’s name property without the .py extension, is a module.\n",
    "\n",
    "A package is a directory of Python modules that contains an additional __init__.py file, which distinguishes a package from a directory that is supposed to contain multiple Python scripts. Packages can be nested to multiple depths if each corresponding directory contains its own __init__.py file."
   ]
  },
  {
   "cell_type": "markdown",
   "id": "35f2cecb",
   "metadata": {},
   "source": [
    "##Create a Module\n",
    "To create a module just save the code you want in a file with the file extension .py:"
   ]
  },
  {
   "cell_type": "code",
   "execution_count": 7,
   "id": "9c62808e",
   "metadata": {},
   "outputs": [],
   "source": [
    "#Example-Save this code in a file named mymodule.py\n",
    "\n",
    "def greeting(name):\n",
    "    print(\"Hello,\" + name)"
   ]
  },
  {
   "cell_type": "markdown",
   "id": "d0e568ec",
   "metadata": {},
   "source": [
    "Use a Module\n",
    "Now we can use the module we just created, by using the import statement:"
   ]
  },
  {
   "cell_type": "code",
   "execution_count": 13,
   "id": "74468770",
   "metadata": {},
   "outputs": [
    {
     "ename": "SyntaxError",
     "evalue": "invalid decimal literal (mymodule.py, line 1)",
     "output_type": "error",
     "traceback": [
      "Traceback \u001b[1;36m(most recent call last)\u001b[0m:\n",
      "\u001b[0m  File \u001b[0;32m~\\AppData\\Local\\Programs\\Python\\Python310\\lib\\site-packages\\IPython\\core\\interactiveshell.py:3378\u001b[0m in \u001b[0;35mrun_code\u001b[0m\n    exec(code_obj, self.user_global_ns, self.user_ns)\u001b[0m\n",
      "\u001b[1;36m  Cell \u001b[1;32mIn [13], line 3\u001b[1;36m\n\u001b[1;33m    import mymodule\u001b[1;36m\n",
      "\u001b[1;36m  File \u001b[1;32m~\\mymodule.py:1\u001b[1;36m\u001b[0m\n\u001b[1;33m    Python 3.10.7 (tags/v3.10.7:6cc6b13, Sep  5 2022, 14:08:36) [MSC v.1933 64 bit (AMD64)] on win32\u001b[0m\n\u001b[1;37m                                ^\u001b[0m\n\u001b[1;31mSyntaxError\u001b[0m\u001b[1;31m:\u001b[0m invalid decimal literal\n"
     ]
    }
   ],
   "source": [
    "#Example import the module named mymodule, and call the greeting function:\n",
    "\n",
    "import mymodule\n",
    "mymodule.greeting(\"Jonathan\")"
   ]
  },
  {
   "cell_type": "markdown",
   "id": "a0298203",
   "metadata": {},
   "source": [
    "##The difference between import and from import in Python is:\n",
    "1. import imports the whole library.\n",
    "2. from import imports a specific member or members of the library."
   ]
  },
  {
   "cell_type": "markdown",
   "id": "e851d926",
   "metadata": {},
   "source": [
    "##When Use ‘import’ and When ‘from import’\n",
    "Use from import when you want to save yourself from typing the module name over and over again. In other words, when referring to a member of the module many times in the code.\n",
    "\n",
    "Use import when you want to use multiple members of the module."
   ]
  },
  {
   "cell_type": "code",
   "execution_count": 15,
   "id": "54a14f24",
   "metadata": {},
   "outputs": [
    {
     "name": "stdout",
     "output_type": "stream",
     "text": [
      "78\n"
     ]
    }
   ],
   "source": [
    "##Example of import module math \n",
    "import math\n",
    "x = 10\n",
    "y = 4\n",
    "d = math.sqrt(x ** 2 + y ** 2)\n",
    "r = 5.0\n",
    "area = math.floor(math.pi * r ** 2)\n",
    "print(area)"
   ]
  },
  {
   "cell_type": "code",
   "execution_count": 16,
   "id": "3d787b6c",
   "metadata": {},
   "outputs": [
    {
     "name": "stdout",
     "output_type": "stream",
     "text": [
      "5\n"
     ]
    }
   ],
   "source": [
    "##Example of from module import function*\n",
    "from math import sqrt, floor\n",
    "x = 5.2\n",
    "y = 2.4\n",
    "d = floor(sqrt(x ** 2 + y ** 2))\n",
    "print(d)"
   ]
  },
  {
   "cell_type": "markdown",
   "id": "c274260a",
   "metadata": {},
   "source": [
    "##Python-OS Module:\n",
    "It is possibly to automatically perform many operating system tasks.\n",
    "\n",
    "The OS module in Python provides functions for craeting and removing a directory (folder), fetching it's contents, and changing and identifying the current directory,etc.\n",
    "\n",
    "You first need to import os statement before using it's functions."
   ]
  },
  {
   "cell_type": "markdown",
   "id": "cbf57275",
   "metadata": {},
   "source": [
    "##Getting current working directory:-\n",
    "The getcwd() function confirms the current working directory."
   ]
  },
  {
   "cell_type": "code",
   "execution_count": 18,
   "id": "65d09095",
   "metadata": {},
   "outputs": [
    {
     "name": "stdout",
     "output_type": "stream",
     "text": [
      "C:\\Users\\Abhi\n"
     ]
    }
   ],
   "source": [
    "#Example for getcwd() for getting current working directory\n",
    "#Program to get the following functions: getcwd(), chdir(), mkdir(),listdir(),remove() and rmdir()\n",
    "#import operating system\n",
    "import os\n",
    "#to get current working directory\n",
    "print(os.getcwd())"
   ]
  },
  {
   "cell_type": "markdown",
   "id": "d1deb2c8",
   "metadata": {},
   "source": [
    "##Creating a Directory:-\n",
    "We can create a new directory using the os.mkdir() function as shown below:"
   ]
  },
  {
   "cell_type": "code",
   "execution_count": 20,
   "id": "8efb78b1",
   "metadata": {},
   "outputs": [
    {
     "name": "stdout",
     "output_type": "stream",
     "text": [
      "Directory created\n"
     ]
    }
   ],
   "source": [
    "#Example to create a directory in Python using mkdir() \n",
    "#Program to get the following functions: getcwd()\n",
    "#import operating system\n",
    "import os\n",
    "#to create new directory\n",
    "os.mkdir(\"D:\\Pyt\")\n",
    "#Open the folder in D Drive, and check MyPythonProjects folder will be created\n",
    "print(\"Directory created\")"
   ]
  },
  {
   "cell_type": "code",
   "execution_count": 22,
   "id": "1e400ccd",
   "metadata": {},
   "outputs": [
    {
     "name": "stdout",
     "output_type": "stream",
     "text": [
      "C:\\Users\\Abhi\n",
      "None\n"
     ]
    }
   ],
   "source": [
    "#Program to get the following functions: getcwd(), mkdir()\n",
    "#import operating system\n",
    "import os\n",
    "#to create new directory\n",
    "print(os.getcwd())\n",
    "print(os.mkdir(\"Make\"))\n",
    "#As path is not specified so,open the folder in C Drive, and Check path i.e. In C drive got to Users\n",
    "#then go to Abhi check a folder named My and MyPythonProgram will be created"
   ]
  },
  {
   "cell_type": "markdown",
   "id": "9779e1a6",
   "metadata": {},
   "source": [
    "##Removing a Directory\n",
    "The rmdir() function in the OS module removes the specified directory either with an absolute or relative path. Note that, for a directory to be removed, it should be empty."
   ]
  },
  {
   "cell_type": "code",
   "execution_count": 24,
   "id": "193ea123",
   "metadata": {},
   "outputs": [],
   "source": [
    "#Program to get the following functions: rmdir()\n",
    "#import operating system\n",
    "import os\n",
    "# to remove directory\n",
    "os.rmdir(\"D:\\\\Pyt\")\n",
    "#Check the D Drive Folder the folder will be deleted"
   ]
  },
  {
   "cell_type": "markdown",
   "id": "61fce145",
   "metadata": {},
   "source": [
    "##List Files and Sub-directories:\n",
    "\n",
    "The listdir() function returns the list of all files and directories in the specified directory.\n",
    "\n",
    "If we don't specify any directory, then list of files and directories in the current working directory will be returned."
   ]
  },
  {
   "cell_type": "code",
   "execution_count": 25,
   "id": "4f17c057",
   "metadata": {},
   "outputs": [
    {
     "name": "stdout",
     "output_type": "stream",
     "text": [
      "['.idlerc', '.ipynb_checkpoints', '.ipython', '.jupyter', '.matplotlib', '3D Objects', 'AppData', 'Application Data', 'Contacts', 'Cookies', 'demofile.txt', 'demofile2.txt', 'Desktop', 'Documents', 'Downloads', 'employee.py', 'Favorites', 'IGC', 'Immutable Data Structures.ipynb', 'Links', 'Local Settings', 'Make', 'Matplotlib.ipynb', \"MCQ'sQB.ipynb\", 'Music', 'My', 'My Documents', 'mymodule.ipynb', 'mymodule.py', 'MyPy', 'NetHood', 'NTUSER.DAT', 'ntuser.dat.LOG1', 'ntuser.dat.LOG2', 'NTUSER.DAT{53b39e88-18c4-11ea-a811-000d3aa4692b}.TM.blf', 'NTUSER.DAT{53b39e88-18c4-11ea-a811-000d3aa4692b}.TMContainer00000000000000000001.regtrans-ms', 'NTUSER.DAT{53b39e88-18c4-11ea-a811-000d3aa4692b}.TMContainer00000000000000000002.regtrans-ms', 'ntuser.ini', 'OneDrive', 'P-1.ipynb', 'P-2.ipynb', 'Pictures', 'Practicals.ipynb', 'PrintHood', 'ProgramsQB.ipynb', 'Recent', 'Saved Games', 'ScStore', 'Searches', 'SendTo', 'Start Menu', 'Templates', 'Unit 1 Introduction to Python and Jupyter Notebooks.ipynb', 'Unit- 6 Working with Files.ipynb', 'Unit-5 Mutable Data Structure.ipynb', 'Unit-7 Modules and Directories.ipynb', 'Untitled.ipynb', 'Untitled1.ipynb', 'Untitled2.ipynb', 'Untitled3.ipynb', 'Untitled4.ipynb', 'Untitled5.ipynb', 'Untitled6.ipynb', 'Untitled7.ipynb', 'Videos', '__pycache__']\n"
     ]
    }
   ],
   "source": [
    "#Program to get the following functions: listdir()\n",
    "#import operating system\n",
    "import os\n",
    "#to list directory\n",
    "print(os.listdir())\n",
    "#As path is not specified then by default the directory will be taken and will list every folder"
   ]
  },
  {
   "cell_type": "markdown",
   "id": "82e9ac9a",
   "metadata": {},
   "source": [
    "##chdir() Change Directory method using OS Module\n",
    "os.chdir() method in Python used to change the current working directory to specified path. It takes only a single argument as new directory path.\n",
    " \n",
    "\n",
    "Syntax: os.chdir(path)\n",
    "Parameters: \n",
    "path: A complete path of directory to be changed to new directory path.\n",
    "Returns: Doesn’t return any value"
   ]
  },
  {
   "cell_type": "code",
   "execution_count": 30,
   "id": "6e836bdd",
   "metadata": {},
   "outputs": [],
   "source": [
    "#Program to create a new directory\n",
    "import os\n",
    "os.mkdir(\"D:\\MyPyth123\")"
   ]
  },
  {
   "cell_type": "code",
   "execution_count": 31,
   "id": "4953d22d",
   "metadata": {},
   "outputs": [
    {
     "name": "stdout",
     "output_type": "stream",
     "text": [
      "Directory changed\n"
     ]
    }
   ],
   "source": [
    "#Program to get the following functions: chdir()\n",
    "#import operating system\n",
    "import os\n",
    "# change the current directory\n",
    "# to specified directory\n",
    "os.chdir(\"D:\\\\MyPyth123\")\n",
    " \n",
    "print(\"Directory changed\")"
   ]
  },
  {
   "cell_type": "markdown",
   "id": "9f8ae0ff",
   "metadata": {},
   "source": [
    "##os.remove()\n",
    "os.remove() method in Python is used to remove or delete a file path. This method can not remove or delete a directory."
   ]
  },
  {
   "cell_type": "code",
   "execution_count": 33,
   "id": "c35fe2e1",
   "metadata": {},
   "outputs": [
    {
     "name": "stdout",
     "output_type": "stream",
     "text": [
      "t2.txt has been removed successfully\n"
     ]
    }
   ],
   "source": [
    "#Python program to explain os.remove() method \n",
    "    \n",
    "# importing os module \n",
    "import os\n",
    "\n",
    "#First create a new text file in drive\n",
    "  \n",
    "# File name\n",
    "file = 't2.txt'\n",
    "  \n",
    "# File location\n",
    "location = \"C:\\\\Users\\Abhi\"\n",
    "  \n",
    "# Path\n",
    "path = os.path.join(location, file)\n",
    "  \n",
    "# Remove the file\n",
    "# 't1.txt'\n",
    "os.remove(path)\n",
    "print(\"%s has been removed successfully\" %file)"
   ]
  }
 ],
 "metadata": {
  "kernelspec": {
   "display_name": "Python 3 (ipykernel)",
   "language": "python",
   "name": "python3"
  },
  "language_info": {
   "codemirror_mode": {
    "name": "ipython",
    "version": 3
   },
   "file_extension": ".py",
   "mimetype": "text/x-python",
   "name": "python",
   "nbconvert_exporter": "python",
   "pygments_lexer": "ipython3",
   "version": "3.10.7"
  }
 },
 "nbformat": 4,
 "nbformat_minor": 5
}
