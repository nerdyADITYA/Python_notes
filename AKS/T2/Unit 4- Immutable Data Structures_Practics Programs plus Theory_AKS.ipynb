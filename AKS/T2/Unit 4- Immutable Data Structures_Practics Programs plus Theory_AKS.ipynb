{
 "cells": [
  {
   "cell_type": "markdown",
   "id": "a6201def",
   "metadata": {},
   "source": [
    "# Immutable Data Structure\n",
    "Immutable data types are those that can never change their value in place.Immutable is the when no change is possible over time. In Python, if the value of an object cannot be changed over time, then it is known as immutable. Once created, the value of these objects is permanent.\n",
    "Example:\n",
    "String, Tuple etc."
   ]
  },
  {
   "cell_type": "code",
   "execution_count": 1,
   "id": "14568af4",
   "metadata": {},
   "outputs": [
    {
     "ename": "TypeError",
     "evalue": "'str' object does not support item assignment",
     "output_type": "error",
     "traceback": [
      "\u001b[1;31m---------------------------------------------------------------------------\u001b[0m",
      "\u001b[1;31mTypeError\u001b[0m                                 Traceback (most recent call last)",
      "Cell \u001b[1;32mIn [1], line 2\u001b[0m\n\u001b[0;32m      1\u001b[0m greeting \u001b[38;5;241m=\u001b[39m \u001b[38;5;124m\"\u001b[39m\u001b[38;5;124mWelcome to EyeHunts\u001b[39m\u001b[38;5;124m\"\u001b[39m \n\u001b[1;32m----> 2\u001b[0m \u001b[43mgreeting\u001b[49m\u001b[43m[\u001b[49m\u001b[38;5;241;43m0\u001b[39;49m\u001b[43m]\u001b[49m \u001b[38;5;241m=\u001b[39m \u001b[38;5;124m'\u001b[39m\u001b[38;5;124mHello\u001b[39m\u001b[38;5;124m'\u001b[39m \n\u001b[0;32m      3\u001b[0m \u001b[38;5;28mprint\u001b[39m(greeting)\n",
      "\u001b[1;31mTypeError\u001b[0m: 'str' object does not support item assignment"
     ]
    }
   ],
   "source": [
    "#Program showing the example of immutable data structure (string)\n",
    "greeting = \"Welcome to EyeHunts\" \n",
    "greeting[0] = 'Hello' \n",
    "print(greeting)"
   ]
  },
  {
   "cell_type": "markdown",
   "id": "ee3c0512",
   "metadata": {},
   "source": [
    "## 4.1 Strings\n",
    "The first immutable data structure is string. \n",
    "1. String\n",
    "So What is String?\n",
    "Any sequence of characters within either single quotes or double quotes is considered as a\n",
    "String.\n",
    "Strings in python are surrounded by either single quotation marks, or double quotation marks.\n",
    "\n",
    "'hello' is the same as \"hello\".\n",
    "A string is a sequence of characters that can be a combination of letters, numbers, and special characters. \n",
    " \n",
    "These quotes are not a part of a string, they define only starting and ending of the string.  \n",
    "Strings are immutable, i.e., they cannot be changed. Each element of the string can be accessed using indexing or slicing operations.\n",
    "\n",
    "Syntax for single strings to be printed:\n",
    "\n",
    "1. a = \"Hello\"\n",
    "2. a = 'Hello'\n",
    "\n",
    "Syntax for assigning multiline string to a variable by using three double quotes or three single quotes:\n",
    "\n",
    "1. b= \"\"\"This is the class of immutable data structure\n",
    "Examples of immutable data structure is String, Tuple, etc.\"\"\"\n",
    "\n",
    "2. b= '''This is the class of immutable data structure\n",
    "Examples of immutable data structure is String, Tuple, etc.'''"
   ]
  },
  {
   "cell_type": "code",
   "execution_count": 2,
   "id": "c1932244",
   "metadata": {},
   "outputs": [
    {
     "name": "stdout",
     "output_type": "stream",
     "text": [
      "Hello\n"
     ]
    }
   ],
   "source": [
    "#Example of printing single line string with single quote:\n",
    "a='Hello'\n",
    "print(a)"
   ]
  },
  {
   "cell_type": "code",
   "execution_count": 3,
   "id": "a3d19645",
   "metadata": {},
   "outputs": [
    {
     "name": "stdout",
     "output_type": "stream",
     "text": [
      "Hello\n"
     ]
    }
   ],
   "source": [
    "#Example of printing single line string with double quotes:\n",
    "a=\"Hello\"\n",
    "print(a)"
   ]
  },
  {
   "cell_type": "code",
   "execution_count": 5,
   "id": "5c98bb82",
   "metadata": {},
   "outputs": [
    {
     "name": "stdout",
     "output_type": "stream",
     "text": [
      "This is the class of immutable data structure\n",
      "Examples of immutable data structure is String, Tuple, etc.\n"
     ]
    }
   ],
   "source": [
    "#Example of printing multi line string with three single quotes:\n",
    "b= '''This is the class of immutable data structure\n",
    "Examples of immutable data structure is String, Tuple, etc.'''\n",
    "print(b)"
   ]
  },
  {
   "cell_type": "code",
   "execution_count": 6,
   "id": "31ac33d4",
   "metadata": {},
   "outputs": [
    {
     "name": "stdout",
     "output_type": "stream",
     "text": [
      "This is the class of immutable data structure\n",
      "Examples of immutable data structure is String, Tuple, etc.\n"
     ]
    }
   ],
   "source": [
    "#Example of printing multi line string with three double quotes:\n",
    "b= \"\"\"This is the class of immutable data structure\n",
    "Examples of immutable data structure is String, Tuple, etc.\"\"\"\n",
    "print(b)"
   ]
  },
  {
   "cell_type": "markdown",
   "id": "66632433",
   "metadata": {},
   "source": [
    "## Accessing characters of string\n",
    "We can access characters of a string by using the following ways:\n",
    "1. By using index\n",
    "2. By using slice operator\n",
    "3. By using for loop\n",
    "\n",
    "### 1. By using index:\n",
    "Like many other popular programming languages, strings in Python are arrays of bytes representing unicode characters.\n",
    "\n",
    "However, Python does not have a character data type, a single character is simply a string with a length of 1.\n",
    "\n",
    "Square brackets can be used to access elements of the string. Python supports both +ve and -ve index.\n",
    "\n",
    "+ve index means Left to Right (Forward Direction)\n",
    "-ve index means Right to Left (Backward Direction)"
   ]
  },
  {
   "cell_type": "code",
   "execution_count": 7,
   "id": "c0cd4433",
   "metadata": {},
   "outputs": [
    {
     "name": "stdout",
     "output_type": "stream",
     "text": [
      "e\n"
     ]
    }
   ],
   "source": [
    "#Example of accessing the character at position 1 (remember that the first character has the position 0):\n",
    "\n",
    "a = \"Hello, World!\"\n",
    "print(a[1])"
   ]
  },
  {
   "cell_type": "code",
   "execution_count": 8,
   "id": "4b847494",
   "metadata": {},
   "outputs": [
    {
     "name": "stdout",
     "output_type": "stream",
     "text": [
      "!\n"
     ]
    }
   ],
   "source": [
    "#Example of accessing the character at position 1 (remember that the first character has the position 0) using -ve index\n",
    "#Backward Direction\n",
    "a = \"Hello, World!\"\n",
    "print(a[-1])"
   ]
  },
  {
   "cell_type": "code",
   "execution_count": 9,
   "id": "07b57534",
   "metadata": {},
   "outputs": [
    {
     "ename": "IndexError",
     "evalue": "string index out of range",
     "output_type": "error",
     "traceback": [
      "\u001b[1;31m---------------------------------------------------------------------------\u001b[0m",
      "\u001b[1;31mIndexError\u001b[0m                                Traceback (most recent call last)",
      "Cell \u001b[1;32mIn [9], line 3\u001b[0m\n\u001b[0;32m      1\u001b[0m \u001b[38;5;66;03m#Example showing the string index out of range\u001b[39;00m\n\u001b[0;32m      2\u001b[0m a \u001b[38;5;241m=\u001b[39m \u001b[38;5;124m\"\u001b[39m\u001b[38;5;124mHello, World!\u001b[39m\u001b[38;5;124m\"\u001b[39m\n\u001b[1;32m----> 3\u001b[0m \u001b[38;5;28mprint\u001b[39m(\u001b[43ma\u001b[49m\u001b[43m[\u001b[49m\u001b[38;5;241;43m14\u001b[39;49m\u001b[43m]\u001b[49m)\n",
      "\u001b[1;31mIndexError\u001b[0m: string index out of range"
     ]
    }
   ],
   "source": [
    "#Example showing the string index out of range\n",
    "a = \"Hello, World!\"\n",
    "print(a[14])"
   ]
  },
  {
   "cell_type": "code",
   "execution_count": 10,
   "id": "93e42d3a",
   "metadata": {},
   "outputs": [
    {
     "ename": "TypeError",
     "evalue": "string indices must be integers",
     "output_type": "error",
     "traceback": [
      "\u001b[1;31m---------------------------------------------------------------------------\u001b[0m",
      "\u001b[1;31mTypeError\u001b[0m                                 Traceback (most recent call last)",
      "Cell \u001b[1;32mIn [10], line 3\u001b[0m\n\u001b[0;32m      1\u001b[0m \u001b[38;5;66;03m#Example showing typeerror in string if float or other string is not allowed.\u001b[39;00m\n\u001b[0;32m      2\u001b[0m a \u001b[38;5;241m=\u001b[39m \u001b[38;5;124m\"\u001b[39m\u001b[38;5;124mHello, World!\u001b[39m\u001b[38;5;124m\"\u001b[39m\n\u001b[1;32m----> 3\u001b[0m \u001b[38;5;28mprint\u001b[39m(\u001b[43ma\u001b[49m\u001b[43m[\u001b[49m\u001b[38;5;241;43m2.0\u001b[39;49m\u001b[43m]\u001b[49m)\n",
      "\u001b[1;31mTypeError\u001b[0m: string indices must be integers"
     ]
    }
   ],
   "source": [
    "#Example showing typeerror in string if float or other string is not allowed.\n",
    "a = \"Hello, World!\"\n",
    "print(a[2.0])"
   ]
  },
  {
   "cell_type": "markdown",
   "id": "736fd34c",
   "metadata": {},
   "source": [
    "### 2. By using slice operator\n",
    "You can return a range of characters by using the slice syntax.\n",
    "\n",
    "Specify the start index and the end index, separated by a colon, to return a part of the string.\n",
    "\n",
    "Get the characters from position 2 to position 5 (not included):\n",
    "\n",
    "Syntax: \n",
    "\n",
    "b[beginindex:endindex:step]\n",
    "Begin Index: From where we have to consider slice.\n",
    "\n",
    "End Index: We have to terminate the slice at endindex-1\n",
    "\n",
    "Step: Incremented Value.\n",
    "\n",
    "If we are not specifying begin index then it will consider from beginning of the string.\n",
    "\n",
    "If we are not specifying end index then it will consider up to end of the string.\n",
    "\n",
    "The default value for step is 1.\n",
    "\n",
    "Step value can be either +ve or –ve.\n",
    "\n",
    "If +ve then it should be forward direction(left to right) and we have to consider begin to end-1.\n",
    "\n",
    "If -ve then it should be backward direction (right to left) and we have to consider begin to\n",
    "end+1.\n",
    "\n",
    "\n",
    "\n",
    "print(b[2:5])"
   ]
  },
  {
   "cell_type": "code",
   "execution_count": 11,
   "id": "7fee634a",
   "metadata": {},
   "outputs": [
    {
     "name": "stdout",
     "output_type": "stream",
     "text": [
      "llo\n"
     ]
    }
   ],
   "source": [
    "#Example for slicing for accessing the characters from position 2 to position 5 (not included):\n",
    " \n",
    "b = \"Hello, World!\"\n",
    "print(b[2:5])"
   ]
  },
  {
   "cell_type": "markdown",
   "id": "2be04b71",
   "metadata": {},
   "source": [
    "#### Slice From the Start\n",
    "By leaving out the start index, the range will start at the first character:"
   ]
  },
  {
   "cell_type": "code",
   "execution_count": 12,
   "id": "d7eccdb8",
   "metadata": {},
   "outputs": [
    {
     "name": "stdout",
     "output_type": "stream",
     "text": [
      "Hello\n"
     ]
    }
   ],
   "source": [
    "#Example for slicing for accessing the characters from start to position 5 (not included):\n",
    "\n",
    "b = \"Hello, World!\"\n",
    "print(b[:5])"
   ]
  },
  {
   "cell_type": "markdown",
   "id": "2cc5e6aa",
   "metadata": {},
   "source": [
    "#### Slice To the End\n",
    "By leaving out the end index, the range will go to the end:"
   ]
  },
  {
   "cell_type": "code",
   "execution_count": 13,
   "id": "e3d5a1f2",
   "metadata": {},
   "outputs": [
    {
     "name": "stdout",
     "output_type": "stream",
     "text": [
      "llo, World!\n"
     ]
    }
   ],
   "source": [
    "#Example for slicing for accessing the characters from position 2, and all the way to the end:\n",
    "\n",
    "b = \"Hello, World!\"\n",
    "print(b[2:])"
   ]
  },
  {
   "cell_type": "markdown",
   "id": "b112a9c3",
   "metadata": {},
   "source": [
    "#### Negative Indexing\n",
    "\n",
    "Use negative indexes to start the slice from the end of the string:"
   ]
  },
  {
   "cell_type": "code",
   "execution_count": 14,
   "id": "2822072e",
   "metadata": {},
   "outputs": [
    {
     "name": "stdout",
     "output_type": "stream",
     "text": [
      "orl\n"
     ]
    }
   ],
   "source": [
    "#Example for slicing for accessing the characters From: \"o\" in \"World!\" (position -5)\n",
    "\n",
    "#To, but not included: \"d\" in \"World!\" (position -2):\n",
    "\n",
    "b = \"Hello, World!\"\n",
    "print(b[-5:-2])"
   ]
  },
  {
   "cell_type": "code",
   "execution_count": 16,
   "id": "f7cb3d6d",
   "metadata": {},
   "outputs": [
    {
     "name": "stdout",
     "output_type": "stream",
     "text": [
      "lo o\n"
     ]
    }
   ],
   "source": [
    "##Example for slicing for accessing the characters position 2 to position 10 (not included) in step of 2:\n",
    "\n",
    "b = \"Hello, World!\"\n",
    "print(b[2:10:2])"
   ]
  },
  {
   "cell_type": "code",
   "execution_count": 17,
   "id": "773aa168",
   "metadata": {},
   "outputs": [
    {
     "name": "stdout",
     "output_type": "stream",
     "text": [
      "Hello, World!\n"
     ]
    }
   ],
   "source": [
    "##Example for slicing for accessing all the characters.\n",
    "\n",
    "b = \"Hello, World!\"\n",
    "print(b[::])"
   ]
  },
  {
   "cell_type": "code",
   "execution_count": 18,
   "id": "e5b0d390",
   "metadata": {},
   "outputs": [
    {
     "name": "stdout",
     "output_type": "stream",
     "text": [
      "Hello, World!\n"
     ]
    }
   ],
   "source": [
    "##Example for slicing for accessing all the characters.\n",
    "\n",
    "b = \"Hello, World!\"\n",
    "print(b[:])"
   ]
  },
  {
   "cell_type": "markdown",
   "id": "bea58052",
   "metadata": {},
   "source": [
    "#### Reversing a String\n",
    "In order to reverse a string completely. The following syntax is used:\n",
    "b[::-1]"
   ]
  },
  {
   "cell_type": "code",
   "execution_count": 19,
   "id": "cb31d641",
   "metadata": {},
   "outputs": [
    {
     "name": "stdout",
     "output_type": "stream",
     "text": [
      "!dlroW ,olleH\n"
     ]
    }
   ],
   "source": [
    "##Example for reversing a string completely.\n",
    "\n",
    "b = \"Hello, World!\"\n",
    "print(b[::-1])"
   ]
  },
  {
   "cell_type": "markdown",
   "id": "92dae2a0",
   "metadata": {},
   "source": [
    "### 3. By using for loop.\n",
    "Since strings are arrays, we can loop through the characters in a string, with a for loop."
   ]
  },
  {
   "cell_type": "code",
   "execution_count": 20,
   "id": "485d3422",
   "metadata": {},
   "outputs": [
    {
     "name": "stdout",
     "output_type": "stream",
     "text": [
      "I\n",
      "n\n",
      "d\n",
      "i\n",
      "a\n"
     ]
    }
   ],
   "source": [
    "#Example for accessing the string through for loop.\n",
    "for x in \"India\":\n",
    "    print(x)"
   ]
  },
  {
   "cell_type": "markdown",
   "id": "13f48d16",
   "metadata": {},
   "source": [
    "## Concatenation of Strings\n",
    "To concatenate, or combine, two strings you can use the + operator.\n",
    "\n",
    "Syntax: c=a+b\n",
    "\n",
    "To use + operator for strings, compulsory both arguments should be str type. "
   ]
  },
  {
   "cell_type": "code",
   "execution_count": 21,
   "id": "75a37977",
   "metadata": {},
   "outputs": [
    {
     "name": "stdout",
     "output_type": "stream",
     "text": [
      "HelloWorld\n"
     ]
    }
   ],
   "source": [
    "#Example for Merging variable a with variable b into variable c:\n",
    "\n",
    "a = \"Hello\"\n",
    "b = \"World\"\n",
    "c = a + b\n",
    "print(c)"
   ]
  },
  {
   "cell_type": "code",
   "execution_count": 22,
   "id": "837f1cad",
   "metadata": {},
   "outputs": [
    {
     "name": "stdout",
     "output_type": "stream",
     "text": [
      "Hello World\n"
     ]
    }
   ],
   "source": [
    "#Example for Merging variable a with variable b into variable c and also adding space in between:\n",
    "\n",
    "a = \"Hello\"\n",
    "b = \"World\"\n",
    "c = a +\" \"+b\n",
    "print(c)"
   ]
  },
  {
   "cell_type": "markdown",
   "id": "daf458c7",
   "metadata": {},
   "source": [
    "### Repetion of Strings\n",
    "To repeat two strings you can use the * operator.\n",
    "\n",
    "Syntax: c=a*b\n",
    "    \n",
    "To use * operator for strings, compulsory one argument should be str type and other should be int."
   ]
  },
  {
   "cell_type": "code",
   "execution_count": 23,
   "id": "a88bf159",
   "metadata": {},
   "outputs": [
    {
     "name": "stdout",
     "output_type": "stream",
     "text": [
      "HelloHello\n"
     ]
    }
   ],
   "source": [
    "#Example for Repeating variable a 2 times into variable c:\n",
    "\n",
    "a = \"Hello\"\n",
    "\n",
    "c = a*2\n",
    "print(c)"
   ]
  },
  {
   "cell_type": "markdown",
   "id": "7fa34900",
   "metadata": {},
   "source": [
    "## Length of a string:\n",
    "To get the length of a string, use the len() function.\n",
    "\n",
    "Syntax for length of a string:\n",
    "\n",
    "len(a)"
   ]
  },
  {
   "cell_type": "code",
   "execution_count": 24,
   "id": "0266b71b",
   "metadata": {},
   "outputs": [
    {
     "name": "stdout",
     "output_type": "stream",
     "text": [
      "13\n"
     ]
    }
   ],
   "source": [
    "#Example for finding the length of a string.\n",
    "#The len() function returns the length of a string:\n",
    "\n",
    "a = \"Hello, World!\"\n",
    "print(len(a))\n"
   ]
  },
  {
   "cell_type": "code",
   "execution_count": 25,
   "id": "47858d62",
   "metadata": {},
   "outputs": [
    {
     "name": "stdout",
     "output_type": "stream",
     "text": [
      "15\n"
     ]
    }
   ],
   "source": [
    "#Example for finding the length of a string.\n",
    "#The len() function returns the length of a string:\n",
    "\n",
    "a = \"123456789Python\"\n",
    "print(len(a))\n"
   ]
  },
  {
   "cell_type": "markdown",
   "id": "53460d56",
   "metadata": {},
   "source": [
    "## Capitalize() in String\n",
    "The capitalize() method returns a string where the first character is upper case, and the rest is lower case.\n",
    "\n",
    "Syntax\n",
    "\n",
    "string.capitalize()"
   ]
  },
  {
   "cell_type": "code",
   "execution_count": 26,
   "id": "dfbc17a3",
   "metadata": {},
   "outputs": [
    {
     "name": "stdout",
     "output_type": "stream",
     "text": [
      "This is my first class of string\n"
     ]
    }
   ],
   "source": [
    "#Example for capitalizing first letter of the sentence\n",
    "\n",
    "a = \"this is my first class of string\"\n",
    "\n",
    "y = a.capitalize()\n",
    "\n",
    "print (y)"
   ]
  },
  {
   "cell_type": "code",
   "execution_count": 27,
   "id": "0d0cf438",
   "metadata": {},
   "outputs": [
    {
     "name": "stdout",
     "output_type": "stream",
     "text": [
      "Python is fun!\n"
     ]
    }
   ],
   "source": [
    "#Example for the first character is converted to upper case, and the rest are converted to lower case\n",
    "\n",
    "a = \"python is FUN!\"\n",
    "y = a.capitalize()\n",
    "print (y)"
   ]
  },
  {
   "cell_type": "code",
   "execution_count": 28,
   "id": "c3cbfefa",
   "metadata": {},
   "outputs": [
    {
     "name": "stdout",
     "output_type": "stream",
     "text": [
      "27 is my age\n"
     ]
    }
   ],
   "source": [
    "#Example See what happens if the first character is a number:\n",
    "\n",
    "a=\"27 is my age\"\n",
    "y=a.capitalize()\n",
    "print(y)"
   ]
  },
  {
   "cell_type": "markdown",
   "id": "3521186f",
   "metadata": {},
   "source": [
    "## Enumerate() in String\n",
    "The enumerate() function is a built-in function that returns an enumerate object. \n",
    "This lets you get the index of an element while iterating \n",
    "Every item in the string is a character. \n",
    "This gives you the character index and the character value, for every character in the string.\n",
    "\n",
    "If you have a string you can iterate over it with \n",
    "\n",
    "enumerate(string)."
   ]
  },
  {
   "cell_type": "code",
   "execution_count": 29,
   "id": "10f44d28",
   "metadata": {},
   "outputs": [
    {
     "name": "stdout",
     "output_type": "stream",
     "text": [
      "0 O\n",
      "1 r\n",
      "2 a\n",
      "3 n\n",
      "4 g\n",
      "5 e\n"
     ]
    }
   ],
   "source": [
    "#Example for showing enumerate example for a string that prints index along with the character in a string\n",
    "fruit = \"Orange\"\n",
    "for i,j in enumerate(fruit):\n",
    "    print(i,j)"
   ]
  },
  {
   "cell_type": "markdown",
   "id": "8d3fa47b",
   "metadata": {},
   "source": [
    "### Enumerate with a Different Starting Index\n",
    "The enumerate() function has another parameter, the starting index. By default indicides start at zero.\n",
    "\n",
    "You can change that, lets say you want to start at the second parameter.\n",
    "\n",
    "enumerate(string,start=index from which one wants to start)."
   ]
  },
  {
   "cell_type": "code",
   "execution_count": 30,
   "id": "3a659845",
   "metadata": {},
   "outputs": [
    {
     "name": "stdout",
     "output_type": "stream",
     "text": [
      "2 O\n",
      "3 r\n",
      "4 a\n",
      "5 n\n",
      "6 g\n",
      "7 e\n"
     ]
    }
   ],
   "source": [
    "#Example for showing enumerate example for a string that prints index along with the character in a string starting from \n",
    "#required index\n",
    "fruit = \"Orange\"\n",
    "for i,j in enumerate(fruit, start=2):\n",
    "    print(i,j)"
   ]
  },
  {
   "cell_type": "markdown",
   "id": "996160e9",
   "metadata": {},
   "source": [
    "## isalnum() in a string\n",
    "\n",
    "The isalnum() method returns True if all the characters are alphanumeric, meaning alphabet letter (a-z) and numbers (0-9).\n",
    "\n",
    "Example of characters that are not alphanumeric: (space)!#%&? etc.\n",
    "\n",
    "Syntax\n",
    "\n",
    "string.isalnum()"
   ]
  },
  {
   "cell_type": "code",
   "execution_count": 32,
   "id": "a856e154",
   "metadata": {},
   "outputs": [
    {
     "name": "stdout",
     "output_type": "stream",
     "text": [
      "True\n",
      "True\n",
      "True\n",
      "False\n"
     ]
    }
   ],
   "source": [
    "#Example for checking whether the string contains alphabet and numeric or not?\n",
    "\n",
    "a=\"Apple12\"\n",
    "b=\"Apple\"\n",
    "c=\"12345\"\n",
    "d=\"Apple 12\"\n",
    "\n",
    "print(a.isalnum())\n",
    "print(b.isalnum())\n",
    "print(c.isalnum())\n",
    "print(d.isalnum())"
   ]
  },
  {
   "cell_type": "markdown",
   "id": "aea8c190",
   "metadata": {},
   "source": [
    "## islower() in a string\n",
    "\n",
    "The islower() method returns True if all the characters are in lower case, otherwise False.\n",
    "\n",
    "Numbers, symbols and spaces are not checked, only alphabet characters.\n",
    "\n",
    "Syntax\n",
    "\n",
    "string.islower()"
   ]
  },
  {
   "cell_type": "code",
   "execution_count": 33,
   "id": "39f5da27",
   "metadata": {},
   "outputs": [
    {
     "name": "stdout",
     "output_type": "stream",
     "text": [
      "False\n",
      "True\n",
      "False\n"
     ]
    }
   ],
   "source": [
    "#Example for checking whether the string contains lowercase or uppercase?\n",
    "a = \"Hello world!\"\n",
    "b = \"hello 123\"\n",
    "c = \"mynameisPeter\"\n",
    "\n",
    "print(a.islower())\n",
    "print(b.islower())\n",
    "print(c.islower())"
   ]
  },
  {
   "cell_type": "markdown",
   "id": "3bed6726",
   "metadata": {},
   "source": [
    "## isupper() in string\n",
    "The isupper() method returns True if all the characters are in upper case, otherwise False.\n",
    "\n",
    "Numbers, symbols and spaces are not checked, only alphabet characters.\n",
    "\n",
    "Syntax\n",
    "\n",
    "string.isupper()"
   ]
  },
  {
   "cell_type": "code",
   "execution_count": 34,
   "id": "292f152e",
   "metadata": {},
   "outputs": [
    {
     "name": "stdout",
     "output_type": "stream",
     "text": [
      "False\n",
      "False\n",
      "True\n"
     ]
    }
   ],
   "source": [
    "#Example Check if all the characters in the texts are in upper case:\n",
    "\n",
    "a = \"Hello World!\"\n",
    "b = \"hello 123\"\n",
    "c = \"MY NAME IS PETER\"\n",
    "\n",
    "print(a.isupper())\n",
    "print(b.isupper())\n",
    "print(c.isupper())"
   ]
  },
  {
   "cell_type": "markdown",
   "id": "40ed2b5f",
   "metadata": {},
   "source": [
    "## lower() in string\n",
    "The lower() method returns a string where all characters are lower case.\n",
    "\n",
    "Symbols and Numbers are ignored.\n",
    "\n",
    "Syntax\n",
    "\n",
    "string.lower()"
   ]
  },
  {
   "cell_type": "code",
   "execution_count": 35,
   "id": "8cfaae85",
   "metadata": {},
   "outputs": [
    {
     "name": "stdout",
     "output_type": "stream",
     "text": [
      "this is python\n"
     ]
    }
   ],
   "source": [
    "#Example of lower case the string:\n",
    "a = \"This is PYTHON\"\n",
    "\n",
    "y = a.lower()\n",
    "\n",
    "print(y)"
   ]
  },
  {
   "cell_type": "markdown",
   "id": "bc753ba5",
   "metadata": {},
   "source": [
    "## upper() in string\n",
    "The upper() method returns a string where all characters are in upper case.\n",
    "\n",
    "Symbols and Numbers are ignored.\n",
    "\n",
    "Syntax\n",
    "\n",
    "string.upper()"
   ]
  },
  {
   "cell_type": "code",
   "execution_count": 36,
   "id": "c1a2c289",
   "metadata": {},
   "outputs": [
    {
     "name": "stdout",
     "output_type": "stream",
     "text": [
      "THIS IS PYTHON\n"
     ]
    }
   ],
   "source": [
    "#Example of upper case the string:\n",
    "a = \"This is PYTHON\"\n",
    "\n",
    "y = a.upper()\n",
    "\n",
    "print(y)"
   ]
  },
  {
   "cell_type": "markdown",
   "id": "7bd04106",
   "metadata": {},
   "source": [
    "## isnumeric() in string\n",
    "The isnumeric() method returns True if all the characters are numeric (0-9), otherwise False.\n",
    "\n",
    "Exponents, like ² and ¾ are also considered to be numeric values.\n",
    "\n",
    "\"-1\" and \"1.5\" are NOT considered numeric values, because all the characters in the string must be numeric, and the - and the . are not.\n",
    "\n",
    "Syntax\n",
    "\n",
    "string.isnumeric()"
   ]
  },
  {
   "cell_type": "code",
   "execution_count": 9,
   "id": "df2ba253",
   "metadata": {},
   "outputs": [
    {
     "name": "stdout",
     "output_type": "stream",
     "text": [
      "False\n",
      "False\n",
      "False\n",
      "True\n"
     ]
    }
   ],
   "source": [
    "#Example to Check if the characters are numeric:\n",
    "\n",
    "\n",
    "c = \"10km2\"\n",
    "d = \"-1\"\n",
    "e = \"1.5\"\n",
    "f= \"56789\"\n",
    "\n",
    "print(c.isnumeric())\n",
    "print(d.isnumeric())\n",
    "print(e.isnumeric())\n",
    "print(f.isnumeric())"
   ]
  },
  {
   "cell_type": "markdown",
   "id": "cb859290",
   "metadata": {},
   "source": [
    "## find() in string\n",
    "\n",
    "he find() method finds the first occurrence of the specified value.\n",
    "\n",
    "The find() method returns -1 if the value is not found.\n",
    "\n",
    "The find() method is almost the same as the index() method, the only difference is that the index() method raises an exception if the value is not found. \n",
    "\n",
    "Syntax\n",
    "\n",
    "string.find(value, start, end)\n",
    "\n",
    "Parameter Values\n",
    "\n",
    "Parameter\tDescription\n",
    "\n",
    "value\tRequired. The value to search for\n",
    "start\tOptional. Where to start the search. Default is 0\n",
    "end\tOptional. Where to end the search. Default is to the end of the string"
   ]
  },
  {
   "cell_type": "code",
   "execution_count": 39,
   "id": "7e07f968",
   "metadata": {},
   "outputs": [
    {
     "name": "stdout",
     "output_type": "stream",
     "text": [
      "1\n"
     ]
    }
   ],
   "source": [
    "#Example Where in the text is the first occurrence of the letter \"e\"?:\n",
    "\n",
    "a = \"Hello, Welcome to the Python\"\n",
    "\n",
    "y = a.find(\"e\")\n",
    "\n",
    "print(y)"
   ]
  },
  {
   "cell_type": "code",
   "execution_count": 40,
   "id": "ef2fdf56",
   "metadata": {},
   "outputs": [
    {
     "name": "stdout",
     "output_type": "stream",
     "text": [
      "8\n"
     ]
    }
   ],
   "source": [
    "#Example Where in the text is the first occurrence of the letter \"e\" when you only search between position 5 and 10?:\n",
    "\n",
    "a = \"Hello, Welcome to the Python\"\n",
    "\n",
    "y = a.find(\"e\",5,10)\n",
    "\n",
    "print(y)"
   ]
  },
  {
   "cell_type": "code",
   "execution_count": 42,
   "id": "c1e71ab7",
   "metadata": {},
   "outputs": [
    {
     "name": "stdout",
     "output_type": "stream",
     "text": [
      "-1\n"
     ]
    },
    {
     "ename": "ValueError",
     "evalue": "substring not found",
     "output_type": "error",
     "traceback": [
      "\u001b[1;31m---------------------------------------------------------------------------\u001b[0m",
      "\u001b[1;31mValueError\u001b[0m                                Traceback (most recent call last)",
      "Cell \u001b[1;32mIn [42], line 6\u001b[0m\n\u001b[0;32m      3\u001b[0m a \u001b[38;5;241m=\u001b[39m \u001b[38;5;124m\"\u001b[39m\u001b[38;5;124mHello, Welcome to the Python\u001b[39m\u001b[38;5;124m\"\u001b[39m\n\u001b[0;32m      5\u001b[0m \u001b[38;5;28mprint\u001b[39m(a\u001b[38;5;241m.\u001b[39mfind(\u001b[38;5;124m\"\u001b[39m\u001b[38;5;124mq\u001b[39m\u001b[38;5;124m\"\u001b[39m))\n\u001b[1;32m----> 6\u001b[0m \u001b[38;5;28mprint\u001b[39m(\u001b[43ma\u001b[49m\u001b[38;5;241;43m.\u001b[39;49m\u001b[43mindex\u001b[49m\u001b[43m(\u001b[49m\u001b[38;5;124;43m\"\u001b[39;49m\u001b[38;5;124;43mq\u001b[39;49m\u001b[38;5;124;43m\"\u001b[39;49m\u001b[43m)\u001b[49m)\n",
      "\u001b[1;31mValueError\u001b[0m: substring not found"
     ]
    }
   ],
   "source": [
    "#Example If the value is not found, the find() method returns -1, but the index() method will raise an exception:\n",
    "\n",
    "a = \"Hello, Welcome to the Python\"\n",
    "\n",
    "print(a.find(\"q\"))\n",
    "print(a.index(\"q\"))"
   ]
  },
  {
   "cell_type": "markdown",
   "id": "4fd457fc",
   "metadata": {},
   "source": [
    "###rfind() searches the string for a specified value and returns the last position of where it is found."
   ]
  },
  {
   "cell_type": "code",
   "execution_count": 43,
   "id": "ca6b1e05",
   "metadata": {},
   "outputs": [
    {
     "name": "stdout",
     "output_type": "stream",
     "text": [
      "12\n"
     ]
    }
   ],
   "source": [
    "##Example for a rfind() to find the value from last.\n",
    "txt = \"Mi casa, su casa.\"\n",
    "x = txt.rfind(\"casa\")\n",
    "print(x)"
   ]
  },
  {
   "cell_type": "markdown",
   "id": "7d2654f7",
   "metadata": {},
   "source": [
    "## The index() \n",
    "The index() method finds the first occurrence of the specified value.\n",
    "\n",
    "The index() method raises an exception if the value is not found.\n",
    "\n",
    "The index() method is almost the same as the find() method, the only difference is that the find() method returns -1 if the value is not found.\n",
    "\n",
    "Syntax\n",
    "\n",
    "string.index(value, start, end)\n",
    "\n",
    "Parameter Values\n",
    "\n",
    "Parameter\tDescription\n",
    "value\tRequired. The value to search for\n",
    "start\tOptional. Where to start the search. Default is 0\n",
    "end\tOptional. Where to end the search. Default is to the end of the string"
   ]
  },
  {
   "cell_type": "code",
   "execution_count": 44,
   "id": "38eae1c9",
   "metadata": {},
   "outputs": [
    {
     "name": "stdout",
     "output_type": "stream",
     "text": [
      "1\n"
     ]
    }
   ],
   "source": [
    "#Example Where in the text is the first occurrence of the letter \"e\"?:\n",
    "\n",
    "a = \"Hello, Welcome to the Python\"\n",
    "\n",
    "y = a.index(\"e\")\n",
    "\n",
    "print(y)"
   ]
  },
  {
   "cell_type": "code",
   "execution_count": 45,
   "id": "7337f9bb",
   "metadata": {},
   "outputs": [
    {
     "name": "stdout",
     "output_type": "stream",
     "text": [
      "8\n"
     ]
    }
   ],
   "source": [
    "#Example Where in the text is the first occurrence of the letter \"e\" when you only search between position 5 and 10?:\n",
    "\n",
    "a = \"Hello, Welcome to the Python\"\n",
    "\n",
    "y = a.index(\"e\",5,10)\n",
    "\n",
    "print(y)"
   ]
  },
  {
   "cell_type": "code",
   "execution_count": 46,
   "id": "09a95434",
   "metadata": {},
   "outputs": [
    {
     "name": "stdout",
     "output_type": "stream",
     "text": [
      "-1\n"
     ]
    },
    {
     "ename": "ValueError",
     "evalue": "substring not found",
     "output_type": "error",
     "traceback": [
      "\u001b[1;31m---------------------------------------------------------------------------\u001b[0m",
      "\u001b[1;31mValueError\u001b[0m                                Traceback (most recent call last)",
      "Cell \u001b[1;32mIn [46], line 6\u001b[0m\n\u001b[0;32m      3\u001b[0m a \u001b[38;5;241m=\u001b[39m \u001b[38;5;124m\"\u001b[39m\u001b[38;5;124mHello, Welcome to the Python\u001b[39m\u001b[38;5;124m\"\u001b[39m\n\u001b[0;32m      5\u001b[0m \u001b[38;5;28mprint\u001b[39m(a\u001b[38;5;241m.\u001b[39mfind(\u001b[38;5;124m\"\u001b[39m\u001b[38;5;124mq\u001b[39m\u001b[38;5;124m\"\u001b[39m))\n\u001b[1;32m----> 6\u001b[0m \u001b[38;5;28mprint\u001b[39m(\u001b[43ma\u001b[49m\u001b[38;5;241;43m.\u001b[39;49m\u001b[43mindex\u001b[49m\u001b[43m(\u001b[49m\u001b[38;5;124;43m\"\u001b[39;49m\u001b[38;5;124;43mq\u001b[39;49m\u001b[38;5;124;43m\"\u001b[39;49m\u001b[43m)\u001b[49m)\n",
      "\u001b[1;31mValueError\u001b[0m: substring not found"
     ]
    }
   ],
   "source": [
    "#Example If the value is not found, the find() method returns -1, but the index() method will raise an exception:\n",
    "\n",
    "a = \"Hello, Welcome to the Python\"\n",
    "\n",
    "print(a.find(\"q\"))\n",
    "print(a.index(\"q\"))"
   ]
  },
  {
   "cell_type": "markdown",
   "id": "6c2f112d",
   "metadata": {},
   "source": [
    "## Split() in string\n",
    "The split() method splits a string into a list.\n",
    "The default seperator is space.\n",
    "\n",
    "You can specify the separator, default separator is any whitespace.\n",
    "\n",
    "Syntax\n",
    "\n",
    "string.split(separator)\n",
    "\n",
    "Parameter Values\n",
    "\n",
    "Parameter\tDescription\n",
    "separator\tOptional. Specifies the separator to use when splitting the string. By default any whitespace is a separator"
   ]
  },
  {
   "cell_type": "code",
   "execution_count": 47,
   "id": "f2e14b5c",
   "metadata": {},
   "outputs": [
    {
     "name": "stdout",
     "output_type": "stream",
     "text": [
      "['hello', 'my name is Peter', 'I am 26 years old']\n"
     ]
    }
   ],
   "source": [
    "#Example of Splitting the string, using comma, followed by a space, as a separator:\n",
    "txt = \"hello, my name is Peter, I am 26 years old\"\n",
    "\n",
    "x = txt.split(\", \")\n",
    "\n",
    "print(x)"
   ]
  },
  {
   "cell_type": "code",
   "execution_count": 48,
   "id": "e3045139",
   "metadata": {},
   "outputs": [
    {
     "name": "stdout",
     "output_type": "stream",
     "text": [
      "['apple', 'banana', 'cherry', 'orange']\n"
     ]
    }
   ],
   "source": [
    "#Example of using a hash character as a separator:\n",
    "\n",
    "txt = \"apple#banana#cherry#orange\"\n",
    "\n",
    "x = txt.split(\"#\")\n",
    "\n",
    "print(x)"
   ]
  },
  {
   "cell_type": "code",
   "execution_count": 49,
   "id": "d40e7795",
   "metadata": {},
   "outputs": [
    {
     "name": "stdout",
     "output_type": "stream",
     "text": [
      "Arman\n",
      "Software\n"
     ]
    }
   ],
   "source": [
    "#Example of splitting if we don't require them in list form finally.\n",
    "\n",
    "s=\"Arman Software\"\n",
    "l=s.split()\n",
    "for x in l:\n",
    "    print(x)"
   ]
  },
  {
   "cell_type": "markdown",
   "id": "e277dc82",
   "metadata": {},
   "source": [
    "## strip() in string\n",
    "\n",
    "The strip() method removes any leading (spaces at the beginning) and trailing (spaces at the end) characters (space is the default leading character to remove)\n",
    "\n",
    "Syntax\n",
    "\n",
    "string.strip(characters)\n",
    "\n",
    "Parameter Values\n",
    "\n",
    "Parameter\tDescription\n",
    "characters\tOptional. A set of characters to remove as leading/trailing characters"
   ]
  },
  {
   "cell_type": "code",
   "execution_count": 50,
   "id": "8471fa4c",
   "metadata": {},
   "outputs": [
    {
     "name": "stdout",
     "output_type": "stream",
     "text": [
      "banana\n"
     ]
    }
   ],
   "source": [
    "#Example for Removing the leading and trailing characters:\n",
    "txt = \",,,,,rrttgg.....banana....rrr\"\n",
    "\n",
    "x = txt.strip(\",.grt\")\n",
    "\n",
    "print(x)"
   ]
  },
  {
   "cell_type": "markdown",
   "id": "b1f2f7e5",
   "metadata": {},
   "source": [
    "### lstrip() in string\n",
    "The lstrip() method removes any leading characters (space is the default leading character to remove)\n",
    "\n",
    "Syntax\n",
    "string.lstrip(characters)\n",
    "\n",
    "Parameter Values\n",
    "\n",
    "Parameter\tDescription\n",
    "characters\tOptional. A set of characters to remove as leading characters"
   ]
  },
  {
   "cell_type": "code",
   "execution_count": 51,
   "id": "2f4ba4d9",
   "metadata": {},
   "outputs": [
    {
     "name": "stdout",
     "output_type": "stream",
     "text": [
      "banana\n"
     ]
    }
   ],
   "source": [
    "#Example for Removing the (leading from left)characters:\n",
    "\n",
    "txt = \",,,,,ssaaww.....banana\"\n",
    "\n",
    "x = txt.lstrip(\",.asw\")\n",
    "\n",
    "print(x)"
   ]
  },
  {
   "cell_type": "markdown",
   "id": "bda42957",
   "metadata": {},
   "source": [
    "### rstrip() in string\n",
    "The rstrip() method removes any trailing characters (characters at the end a string), space is the default trailing character to remove.\n",
    "\n",
    "Syntax\n",
    "\n",
    "string.rstrip(characters)\n",
    "\n",
    "Parameter Values\n",
    "\n",
    "Parameter\tDescription\n",
    "characters\tOptional. A set of characters to remove as trailing characters"
   ]
  },
  {
   "cell_type": "code",
   "execution_count": 52,
   "id": "f99ac5cb",
   "metadata": {},
   "outputs": [
    {
     "name": "stdout",
     "output_type": "stream",
     "text": [
      "banana\n"
     ]
    }
   ],
   "source": [
    "#Example for Remove the trailing (leading from right)characters if they are commas, s, q, or w:\n",
    "\n",
    "txt = \"banana,,,,,ssqqqww.....\"\n",
    "\n",
    "x = txt.rstrip(\",.qsw\")\n",
    "\n",
    "print(x)"
   ]
  },
  {
   "cell_type": "markdown",
   "id": "27277a64",
   "metadata": {},
   "source": [
    "## translate() in string\n",
    "The translate() method returns a string where some specified characters are replaced with the character described in a dictionary, or in a mapping table.\n",
    "\n",
    "If a character is not specified in the dictionary/table, the character will not be replaced.\n",
    "\n",
    "If you use a dictionary, you must use ascii codes instead of characters.\n",
    "\n",
    "Syntax\n",
    "\n",
    "string.translate(table)\n",
    "\n",
    "Parameter Values\n",
    "\n",
    "Parameter\tDescription\n",
    "table\tRequired. Either a dictionary, or a mapping table describing how to perform the replace"
   ]
  },
  {
   "cell_type": "code",
   "execution_count": 53,
   "id": "a3ba6e4b",
   "metadata": {},
   "outputs": [
    {
     "name": "stdout",
     "output_type": "stream",
     "text": [
      "Hello Pam!\n"
     ]
    }
   ],
   "source": [
    "#Example of Using a mapping table to replace \"S\" with \"P\":\n",
    "\n",
    "txt = \"Hello Sam!\"\n",
    "mytable = txt.maketrans(\"S\", \"P\")\n",
    "print(txt.translate(mytable))"
   ]
  },
  {
   "cell_type": "code",
   "execution_count": 54,
   "id": "094ad00e",
   "metadata": {},
   "outputs": [
    {
     "name": "stdout",
     "output_type": "stream",
     "text": [
      "Hi Joe!\n"
     ]
    }
   ],
   "source": [
    "#Example of using a mapping table to replace many characters:\n",
    "\n",
    "txt = \"Hi Sam!\"\n",
    "x = \"mSa\"\n",
    "y = \"eJo\"\n",
    "mytable = txt.maketrans(x, y)\n",
    "print(txt.translate(mytable))\n"
   ]
  },
  {
   "cell_type": "code",
   "execution_count": 55,
   "id": "48cff3a2",
   "metadata": {},
   "outputs": [
    {
     "name": "stdout",
     "output_type": "stream",
     "text": [
      "G i Joe!\n"
     ]
    }
   ],
   "source": [
    "#Example of The third parameter in the mapping table describes characters that you want to remove from the string:\n",
    "\n",
    "txt = \"Good night Sam!\"\n",
    "x = \"mSa\"\n",
    "y = \"eJo\"\n",
    "z = \"odnght\"\n",
    "mytable = txt.maketrans(x, y, z)\n",
    "print(txt.translate(mytable))"
   ]
  },
  {
   "cell_type": "code",
   "execution_count": 56,
   "id": "71bcb690",
   "metadata": {},
   "outputs": [
    {
     "name": "stdout",
     "output_type": "stream",
     "text": [
      "Good night Sam!\n"
     ]
    }
   ],
   "source": [
    "#Example of removing punctuation in string using trans() and maketrans()\n",
    "\n",
    "\n",
    "txt = \"Good night,Sam!\"\n",
    "\n",
    "mytable = txt.maketrans(\",\",\" \")\n",
    "print(txt.translate(mytable))"
   ]
  },
  {
   "cell_type": "markdown",
   "id": "0e6eab57",
   "metadata": {},
   "source": [
    "isalpha()\n",
    "The isalpha() method returns True if all the characters are alphabet letters (a-z).\n",
    "\n",
    "Example of characters that are not alphabet letters: (space)!#%&? etc.\n",
    "\n",
    "Syntax\n",
    "string.isalpha()"
   ]
  },
  {
   "cell_type": "code",
   "execution_count": 10,
   "id": "e9bf3576",
   "metadata": {},
   "outputs": [
    {
     "name": "stdout",
     "output_type": "stream",
     "text": [
      "False\n"
     ]
    }
   ],
   "source": [
    "#Example of isalpha()\n",
    "txt = \"Company10\"\n",
    "\n",
    "x = txt.isalpha()\n",
    "\n",
    "print(x)"
   ]
  },
  {
   "cell_type": "code",
   "execution_count": 11,
   "id": "b94f308d",
   "metadata": {},
   "outputs": [
    {
     "name": "stdout",
     "output_type": "stream",
     "text": [
      "True\n"
     ]
    }
   ],
   "source": [
    "#Another Example of isalpha()\n",
    "txt = \"CompanyX\"\n",
    "\n",
    "x = txt.isalpha()\n",
    "\n",
    "print(x)"
   ]
  },
  {
   "cell_type": "markdown",
   "id": "646e69b9",
   "metadata": {},
   "source": [
    "The count() method returns the number of times a specified value appears in the string.\n",
    "\n",
    "Syntax\n",
    "string.count(value, start, end)\n",
    "Parameter Values\n",
    "Parameter\tDescription\n",
    "value\tRequired. A String. The string to value to search for\n",
    "start\tOptional. An Integer. The position to start the search. Default is 0\n",
    "end\tOptional. An Integer. The position to end the search. Default is the end of the string"
   ]
  },
  {
   "cell_type": "code",
   "execution_count": 12,
   "id": "0d103930",
   "metadata": {},
   "outputs": [
    {
     "name": "stdout",
     "output_type": "stream",
     "text": [
      "1\n"
     ]
    }
   ],
   "source": [
    "#Example of count() function in string\n",
    "txt = \"I love apples, apple are my favorite fruit\"\n",
    "\n",
    "x = txt.count(\"apple\", 10, 24)\n",
    "\n",
    "print(x)"
   ]
  },
  {
   "cell_type": "code",
   "execution_count": 13,
   "id": "742a51e2",
   "metadata": {},
   "outputs": [
    {
     "name": "stdout",
     "output_type": "stream",
     "text": [
      "2\n"
     ]
    }
   ],
   "source": [
    "#Another example of count() function in string\n",
    "txt = \"I love apples, apple are my favorite fruit\"\n",
    "\n",
    "x = txt.count(\"apple\")\n",
    "\n",
    "print(x)"
   ]
  },
  {
   "cell_type": "markdown",
   "id": "5f9b40a1",
   "metadata": {},
   "source": [
    "The ord() function returns the number representing the unicode code of a specified character.\n",
    "\n",
    "Syntax\n",
    "ord(character)\n",
    "Parameter Values\n",
    "Parameter\tDescription\n",
    "character\tString, any character"
   ]
  },
  {
   "cell_type": "code",
   "execution_count": 7,
   "id": "6f6e7955",
   "metadata": {},
   "outputs": [
    {
     "name": "stdout",
     "output_type": "stream",
     "text": [
      "104\n"
     ]
    }
   ],
   "source": [
    "#Example of ord() function\n",
    "x = ord(\"h\")\n",
    "print(x)"
   ]
  },
  {
   "cell_type": "markdown",
   "id": "c8b1a25e",
   "metadata": {},
   "source": [
    "The chr() function returns the character that represents the specified unicode.\n",
    "\n",
    "Syntax\n",
    "chr(number)\n",
    "Parameter Values\n",
    "Parameter\tDescription\n",
    "number\tAn integer representing a valid Unicode code point"
   ]
  },
  {
   "cell_type": "code",
   "execution_count": 8,
   "id": "d743b063",
   "metadata": {},
   "outputs": [
    {
     "name": "stdout",
     "output_type": "stream",
     "text": [
      "a\n"
     ]
    }
   ],
   "source": [
    "#Example of chr() function\n",
    "x = chr(97)\n",
    "print(x)"
   ]
  },
  {
   "cell_type": "markdown",
   "id": "647d841b",
   "metadata": {},
   "source": [
    "# 4.2 Tuples:\n",
    "Second Immutable data type is Tuple\n",
    "Tuples are used to store multiple items in a single variable.\n",
    "\n",
    "Tuple is one of 4 built-in data types in Python used to store collections of data, the other 3 are List, Set, and Dictionary, all with different qualities and usage.\n",
    "\n",
    "A tuple is a collection which is ordered and unchangeable.\n",
    "\n",
    "Tuples are written with round brackets.\n",
    "\n",
    "If our data is fixed and never chenges then we should go for Tuple.\n",
    "\n",
    "Insertion order is preserved.\n",
    "\n",
    "\n",
    "Duplicates are allowed.\n",
    "\n",
    "Index plays an important role in Tuple.\n",
    "\n",
    "Tuple supports both +ve and -ve index means forward direction (from left to right) and -ve index means backward direction (from right to left).\n",
    "\n",
    "We can represent Tuple elements within paranthesis and with comma seperator.\n",
    "\n",
    "Paranthesis are optional but recommended to use."
   ]
  },
  {
   "cell_type": "markdown",
   "id": "f04877a8",
   "metadata": {},
   "source": [
    "##Creation of Tuple:"
   ]
  },
  {
   "cell_type": "code",
   "execution_count": 57,
   "id": "b22fa148",
   "metadata": {},
   "outputs": [
    {
     "name": "stdout",
     "output_type": "stream",
     "text": [
      "<class 'tuple'>\n"
     ]
    }
   ],
   "source": [
    "#Example of creation of empty tuple:\n",
    "t=()\n",
    "print(type(t))"
   ]
  },
  {
   "cell_type": "markdown",
   "id": "e8202467",
   "metadata": {},
   "source": [
    "###Creation of Single Valued Tuple:\n",
    "A special care has to be taken to compulsory end each value with comma, otherwise it will not be treated as tuple."
   ]
  },
  {
   "cell_type": "code",
   "execution_count": 58,
   "id": "4702bb95",
   "metadata": {},
   "outputs": [
    {
     "name": "stdout",
     "output_type": "stream",
     "text": [
      "(10,)\n",
      "10\n",
      "<class 'tuple'>\n",
      "<class 'int'>\n"
     ]
    }
   ],
   "source": [
    "#Example of creation of single valued tuple:\n",
    "t=(10,)\n",
    "p=(10)\n",
    "print(t)\n",
    "print(p)\n",
    "print(type(t))\n",
    "print(type(p))"
   ]
  },
  {
   "cell_type": "code",
   "execution_count": 59,
   "id": "8287fb88",
   "metadata": {},
   "outputs": [
    {
     "name": "stdout",
     "output_type": "stream",
     "text": [
      "(1, 2, 3, 4)\n",
      "<class 'tuple'>\n"
     ]
    }
   ],
   "source": [
    "#Example of creation of multi value tuple:\n",
    "t=1,2,3,4\n",
    "print(t)\n",
    "print(type(t))"
   ]
  },
  {
   "cell_type": "code",
   "execution_count": 60,
   "id": "f4910e41",
   "metadata": {},
   "outputs": [
    {
     "name": "stdout",
     "output_type": "stream",
     "text": [
      "(1, 3, 5, 7, 9)\n"
     ]
    }
   ],
   "source": [
    "#Example of creation of Tuple using tuple() Function\n",
    "t=tuple(range(1,10,2))\n",
    "print(t)"
   ]
  },
  {
   "cell_type": "markdown",
   "id": "058f621d",
   "metadata": {},
   "source": [
    "## Checking Immutability of Tuple\n",
    "Once we creates tuple, we cannot change its content. Hence tuple objects are immutable.\n",
    "If we try to change a type error will come."
   ]
  },
  {
   "cell_type": "code",
   "execution_count": 61,
   "id": "e2bcd7ab",
   "metadata": {},
   "outputs": [
    {
     "ename": "TypeError",
     "evalue": "'tuple' object does not support item assignment",
     "output_type": "error",
     "traceback": [
      "\u001b[1;31m---------------------------------------------------------------------------\u001b[0m",
      "\u001b[1;31mTypeError\u001b[0m                                 Traceback (most recent call last)",
      "Cell \u001b[1;32mIn [61], line 3\u001b[0m\n\u001b[0;32m      1\u001b[0m \u001b[38;5;66;03m#Example of checking immutability\u001b[39;00m\n\u001b[0;32m      2\u001b[0m t\u001b[38;5;241m=\u001b[39m\u001b[38;5;241m1\u001b[39m,\u001b[38;5;241m2\u001b[39m,\u001b[38;5;241m3\u001b[39m,\u001b[38;5;241m4\u001b[39m\n\u001b[1;32m----> 3\u001b[0m \u001b[43mt\u001b[49m\u001b[43m[\u001b[49m\u001b[38;5;241;43m1\u001b[39;49m\u001b[43m]\u001b[49m\u001b[38;5;241m=\u001b[39m\u001b[38;5;241m5\u001b[39m\n",
      "\u001b[1;31mTypeError\u001b[0m: 'tuple' object does not support item assignment"
     ]
    }
   ],
   "source": [
    "#Example of checking immutability\n",
    "t=1,2,3,4\n",
    "t[1]=5"
   ]
  },
  {
   "cell_type": "markdown",
   "id": "b7596e08",
   "metadata": {},
   "source": [
    "## Accessing Elements of Tuple\n",
    "You can access tuple items by referring to the index number, inside square brackets:"
   ]
  },
  {
   "cell_type": "code",
   "execution_count": 62,
   "id": "90eab7d1",
   "metadata": {},
   "outputs": [
    {
     "name": "stdout",
     "output_type": "stream",
     "text": [
      "banana\n"
     ]
    }
   ],
   "source": [
    "#Example of printing the second item in the tuple:\n",
    "\n",
    "thistuple = (\"apple\", \"banana\", \"cherry\")\n",
    "print(thistuple[1])"
   ]
  },
  {
   "cell_type": "markdown",
   "id": "436bca9e",
   "metadata": {},
   "source": [
    "### Negative Indexing\n",
    "Negative indexing means start from the end.\n",
    "\n",
    "-1 refers to the last item, -2 refers to the second last item etc."
   ]
  },
  {
   "cell_type": "code",
   "execution_count": 63,
   "id": "df10b335",
   "metadata": {},
   "outputs": [
    {
     "name": "stdout",
     "output_type": "stream",
     "text": [
      "cherry\n"
     ]
    }
   ],
   "source": [
    "#Example of printing the last item of the tuple:\n",
    "\n",
    "thistuple = (\"apple\", \"banana\", \"cherry\")\n",
    "print(thistuple[-1])"
   ]
  },
  {
   "cell_type": "markdown",
   "id": "69757b5f",
   "metadata": {},
   "source": [
    "### Range of Indexes\n",
    "You can specify a range of indexes by specifying where to start and where to end the range.\n",
    "\n",
    "When specifying a range, the return value will be a new tuple with the specified items."
   ]
  },
  {
   "cell_type": "code",
   "execution_count": 64,
   "id": "33a13fb1",
   "metadata": {},
   "outputs": [
    {
     "name": "stdout",
     "output_type": "stream",
     "text": [
      "('cherry', 'orange', 'kiwi')\n"
     ]
    }
   ],
   "source": [
    "#Example and Return the third, fourth, and fifth item:\n",
    "\n",
    "thistuple = (\"apple\", \"banana\", \"cherry\", \"orange\", \"kiwi\", \"melon\", \"mango\")\n",
    "print(thistuple[2:5])"
   ]
  },
  {
   "cell_type": "code",
   "execution_count": 65,
   "id": "96e814f2",
   "metadata": {},
   "outputs": [
    {
     "name": "stdout",
     "output_type": "stream",
     "text": [
      "('apple', 'banana', 'cherry', 'orange')\n"
     ]
    }
   ],
   "source": [
    "#By leaving out the start value, the range will start at the first item:\n",
    "\n",
    "#Example\n",
    "#This example returns the items from the beginning to, but NOT included, \"kiwi\":\n",
    "\n",
    "thistuple = (\"apple\", \"banana\", \"cherry\", \"orange\", \"kiwi\", \"melon\", \"mango\")\n",
    "print(thistuple[:4])"
   ]
  },
  {
   "cell_type": "code",
   "execution_count": 66,
   "id": "aff3d04c",
   "metadata": {},
   "outputs": [
    {
     "name": "stdout",
     "output_type": "stream",
     "text": [
      "('cherry', 'orange', 'kiwi', 'melon', 'mango')\n"
     ]
    }
   ],
   "source": [
    "#By leaving out the end value, the range will go on to the end of the list:\n",
    "\n",
    "#Example\n",
    "#This example returns the items from \"cherry\" and to the end:\n",
    "\n",
    "thistuple = (\"apple\", \"banana\", \"cherry\", \"orange\", \"kiwi\", \"melon\", \"mango\")\n",
    "print(thistuple[2:])"
   ]
  },
  {
   "cell_type": "markdown",
   "id": "afed3915",
   "metadata": {},
   "source": [
    "### Range of Negative Indexes\n",
    "Specify negative indexes if you want to start the search from the end of the tuple:"
   ]
  },
  {
   "cell_type": "code",
   "execution_count": 67,
   "id": "b9f5336a",
   "metadata": {},
   "outputs": [
    {
     "name": "stdout",
     "output_type": "stream",
     "text": [
      "('orange', 'kiwi', 'melon')\n"
     ]
    }
   ],
   "source": [
    "#Example this example returns the items from index -4 (included) to index -1 (excluded)\n",
    "\n",
    "thistuple = (\"apple\", \"banana\", \"cherry\", \"orange\", \"kiwi\", \"melon\", \"mango\")\n",
    "print(thistuple[-4:-1])"
   ]
  },
  {
   "cell_type": "markdown",
   "id": "25e4e3a2",
   "metadata": {},
   "source": [
    "## Deleting a Tuple\n",
    "As discussed above, we cannot change the elements in a tuple. It means that we cannot delete or remove items from a tuple.\n",
    "\n",
    "Deleting a tuple entirely, however, is possible using the keyword del."
   ]
  },
  {
   "cell_type": "code",
   "execution_count": 68,
   "id": "d18c9d7b",
   "metadata": {},
   "outputs": [
    {
     "ename": "TypeError",
     "evalue": "'tuple' object doesn't support item deletion",
     "output_type": "error",
     "traceback": [
      "\u001b[1;31m---------------------------------------------------------------------------\u001b[0m",
      "\u001b[1;31mTypeError\u001b[0m                                 Traceback (most recent call last)",
      "Cell \u001b[1;32mIn [68], line 6\u001b[0m\n\u001b[0;32m      2\u001b[0m my_tuple \u001b[38;5;241m=\u001b[39m (\u001b[38;5;124m'\u001b[39m\u001b[38;5;124mp\u001b[39m\u001b[38;5;124m'\u001b[39m, \u001b[38;5;124m'\u001b[39m\u001b[38;5;124mr\u001b[39m\u001b[38;5;124m'\u001b[39m, \u001b[38;5;124m'\u001b[39m\u001b[38;5;124mo\u001b[39m\u001b[38;5;124m'\u001b[39m, \u001b[38;5;124m'\u001b[39m\u001b[38;5;124mg\u001b[39m\u001b[38;5;124m'\u001b[39m, \u001b[38;5;124m'\u001b[39m\u001b[38;5;124mr\u001b[39m\u001b[38;5;124m'\u001b[39m, \u001b[38;5;124m'\u001b[39m\u001b[38;5;124ma\u001b[39m\u001b[38;5;124m'\u001b[39m, \u001b[38;5;124m'\u001b[39m\u001b[38;5;124mm\u001b[39m\u001b[38;5;124m'\u001b[39m, \u001b[38;5;124m'\u001b[39m\u001b[38;5;124mi\u001b[39m\u001b[38;5;124m'\u001b[39m, \u001b[38;5;124m'\u001b[39m\u001b[38;5;124mz\u001b[39m\u001b[38;5;124m'\u001b[39m)\n\u001b[0;32m      4\u001b[0m \u001b[38;5;66;03m# can't delete items\u001b[39;00m\n\u001b[1;32m----> 6\u001b[0m \u001b[38;5;28;01mdel\u001b[39;00m my_tuple[\u001b[38;5;241m3\u001b[39m]\n",
      "\u001b[1;31mTypeError\u001b[0m: 'tuple' object doesn't support item deletion"
     ]
    }
   ],
   "source": [
    "# Example of deleting an item in a tuple\n",
    "my_tuple = ('p', 'r', 'o', 'g', 'r', 'a', 'm', 'i', 'z')\n",
    "\n",
    "# can't delete items\n",
    "\n",
    "del my_tuple[3]"
   ]
  },
  {
   "cell_type": "code",
   "execution_count": 69,
   "id": "f2d1f56e",
   "metadata": {},
   "outputs": [
    {
     "ename": "NameError",
     "evalue": "name 'my_tuple' is not defined",
     "output_type": "error",
     "traceback": [
      "\u001b[1;31m---------------------------------------------------------------------------\u001b[0m",
      "\u001b[1;31mNameError\u001b[0m                                 Traceback (most recent call last)",
      "Cell \u001b[1;32mIn [69], line 8\u001b[0m\n\u001b[0;32m      5\u001b[0m \u001b[38;5;28;01mdel\u001b[39;00m my_tuple\n\u001b[0;32m      7\u001b[0m \u001b[38;5;66;03m# NameError: name 'my_tuple' is not defined\u001b[39;00m\n\u001b[1;32m----> 8\u001b[0m \u001b[38;5;28mprint\u001b[39m(\u001b[43mmy_tuple\u001b[49m)\n",
      "\u001b[1;31mNameError\u001b[0m: name 'my_tuple' is not defined"
     ]
    }
   ],
   "source": [
    "# Deleting tuples\n",
    "my_tuple = ('p', 'r', 'o', 'g', 'r', 'a', 'm', 'i', 'z')\n",
    "\n",
    "# Can delete an entire tuple\n",
    "del my_tuple\n",
    "\n",
    "# NameError: name 'my_tuple' is not defined\n",
    "print(my_tuple)"
   ]
  },
  {
   "cell_type": "markdown",
   "id": "491c6a58",
   "metadata": {},
   "source": [
    "## Concatenation and Repition in Tuple\n",
    "We can use + operator to combine two tuples. This is called concatenation.\n",
    "\n",
    "We can also repeat the elements in a tuple for a given number of times using the * operator.\n",
    "\n",
    "Both + and * operations result in a new tuple."
   ]
  },
  {
   "cell_type": "code",
   "execution_count": 70,
   "id": "645ac87e",
   "metadata": {},
   "outputs": [
    {
     "name": "stdout",
     "output_type": "stream",
     "text": [
      "(1, 2, 3, 4, 5, 6)\n",
      "('Repeat', 'Repeat', 'Repeat')\n"
     ]
    }
   ],
   "source": [
    "# Example of Concatenation\n",
    "# Output: (1, 2, 3, 4, 5, 6)\n",
    "print((1, 2, 3) + (4, 5, 6))\n",
    "\n",
    "# Example of Repeat\n",
    "# Output: ('Repeat', 'Repeat', 'Repeat')\n",
    "print((\"Repeat\",) * 3)"
   ]
  },
  {
   "cell_type": "markdown",
   "id": "1fc0ed14",
   "metadata": {},
   "source": [
    "## Comparing Tuples using >,<,==\n",
    "Tuples are compared position by position: the first item of the first tuple is compared to the first item of the second tuple; if they are not equal, this is the result of the comparison, else the second item is considered, then the third and so on. "
   ]
  },
  {
   "cell_type": "code",
   "execution_count": 71,
   "id": "7a65deff",
   "metadata": {},
   "outputs": [
    {
     "data": {
      "text/plain": [
       "True"
      ]
     },
     "execution_count": 71,
     "metadata": {},
     "output_type": "execute_result"
    }
   ],
   "source": [
    "#Example of Tuple Comparison\n",
    "a = (1, 2, 3)\n",
    "b = (1, 2, 5)\n",
    "a < b"
   ]
  },
  {
   "cell_type": "code",
   "execution_count": 74,
   "id": "157fc641",
   "metadata": {},
   "outputs": [
    {
     "data": {
      "text/plain": [
       "True"
      ]
     },
     "execution_count": 74,
     "metadata": {},
     "output_type": "execute_result"
    }
   ],
   "source": [
    "#Second Example of Tuple Comparison\n",
    "a=(1,2,3)\n",
    "b=(1,2,3)\n",
    "a==b"
   ]
  },
  {
   "cell_type": "code",
   "execution_count": 75,
   "id": "87ac7602",
   "metadata": {},
   "outputs": [
    {
     "data": {
      "text/plain": [
       "True"
      ]
     },
     "execution_count": 75,
     "metadata": {},
     "output_type": "execute_result"
    }
   ],
   "source": [
    "#Third Example of Tuple Comparison\n",
    "a=(1,2,4)\n",
    "b=(1,2,3)\n",
    "a>b"
   ]
  },
  {
   "cell_type": "code",
   "execution_count": 76,
   "id": "0753a45b",
   "metadata": {},
   "outputs": [
    {
     "data": {
      "text/plain": [
       "False"
      ]
     },
     "execution_count": 76,
     "metadata": {},
     "output_type": "execute_result"
    }
   ],
   "source": [
    "#Fourth Example of Tuple Comparison\n",
    "a=(1,2,4)\n",
    "b=(1,2,3)\n",
    "a<b"
   ]
  },
  {
   "cell_type": "markdown",
   "id": "aa02d763",
   "metadata": {},
   "source": [
    "The count() method returns the number of times a specified value appears in the tuple.\n",
    "\n",
    "Syntax\n",
    "tuple.count(value)\n",
    "Parameter Values\n",
    "Parameter\tDescription\n",
    "value\tRequired. The item to search for"
   ]
  },
  {
   "cell_type": "code",
   "execution_count": 6,
   "id": "6e53e657",
   "metadata": {},
   "outputs": [
    {
     "name": "stdout",
     "output_type": "stream",
     "text": [
      "2\n"
     ]
    }
   ],
   "source": [
    "#Example of count() function\n",
    "thistuple = (1, 3, 7, 8, 7, 5, 4, 6, 8, 5)\n",
    "\n",
    "x = thistuple.count(5)\n",
    "\n",
    "print(x)"
   ]
  },
  {
   "cell_type": "markdown",
   "id": "adc927a7",
   "metadata": {},
   "source": [
    "The index() method finds the first occurrence of the specified value.\n",
    "\n",
    "The index() method raises an exception if the value is not found.\n",
    "\n",
    "Syntax\n",
    "tuple.index(value)\n",
    "Parameter Values\n",
    "Parameter\tDescription\n",
    "value\tRequired. The item to search for"
   ]
  },
  {
   "cell_type": "code",
   "execution_count": 14,
   "id": "5539053f",
   "metadata": {},
   "outputs": [
    {
     "name": "stdout",
     "output_type": "stream",
     "text": [
      "3\n"
     ]
    }
   ],
   "source": [
    "#Example of index()\n",
    "thistuple = (1, 3, 7, 8, 7, 5, 4, 6, 8, 5)\n",
    "\n",
    "x = thistuple.index(8)\n",
    "\n",
    "print(x)"
   ]
  },
  {
   "cell_type": "markdown",
   "id": "8c4bd552",
   "metadata": {},
   "source": [
    "## Built in Function- Sorted and reversed\n",
    "Syntax of sorted()\n",
    "The syntax of the sorted() function is:\n",
    "\n",
    "sorted(iterable, key=None, reverse=False)\n",
    "sorted() Parameters\n",
    "sorted() can take a maximum of three parameters:\n",
    "\n",
    "iterable - A sequence (string, tuple, list) or collection (set, dictionary, frozen set) or any other iterator.\n",
    "\n",
    "reverse (Optional) - If True, the sorted list is reversed (or sorted in descending order). Defaults to False if not provided.\n",
    "\n",
    "key (Optional) - A function that serves as a key for the sort comparison. Defaults to None.\n",
    "\n",
    "sorted() Return Value\n",
    "The sorted() function returns a sorted list.\n",
    "\n"
   ]
  },
  {
   "cell_type": "code",
   "execution_count": 77,
   "id": "647a8abf",
   "metadata": {},
   "outputs": [
    {
     "name": "stdout",
     "output_type": "stream",
     "text": [
      "['P', 'h', 'n', 'o', 't', 'y']\n",
      "['a', 'e', 'i', 'o', 'u']\n"
     ]
    }
   ],
   "source": [
    "#Example of sorting string and tuple\n",
    "# string\n",
    "py_string = 'Python'\n",
    "print(sorted(py_string))\n",
    "\n",
    "# vowels tuple\n",
    "py_tuple = ('e', 'a', 'u', 'o', 'i')\n",
    "print(sorted(py_tuple))"
   ]
  },
  {
   "cell_type": "code",
   "execution_count": 78,
   "id": "c877e880",
   "metadata": {},
   "outputs": [
    {
     "name": "stdout",
     "output_type": "stream",
     "text": [
      "['y', 't', 'o', 'n', 'h', 'P']\n",
      "['u', 'o', 'i', 'e', 'a']\n"
     ]
    }
   ],
   "source": [
    "#example of sorting string and tuple in reverse order i.e. descending order\n",
    "# string\n",
    "py_string = 'Python'\n",
    "print(sorted(py_string, reverse=True))\n",
    "\n",
    "# vowels tuple\n",
    "py_tuple = ('e', 'a', 'u', 'o', 'i')\n",
    "print(sorted(py_tuple,reverse=True))"
   ]
  },
  {
   "cell_type": "markdown",
   "id": "300649a4",
   "metadata": {},
   "source": [
    "min() inbuilt function \n",
    "The min() function returns the item with the lowest value, or the item with the lowest value in an iterable.\n",
    "\n",
    "If the values are strings, an alphabetically comparison is done.\n",
    "\n",
    "Syntax\n",
    "min(n1, n2, n3, ...)\n",
    "Or:\n",
    "min(iterable)\n",
    "Parameter Values\n",
    "Parameter\tDescription\n",
    "n1, n2, n3, ...\tOne or more items to compare\n",
    "Or:\n",
    "Parameter\tDescription\n",
    "iterable\tAn iterable, with one or more items to compare"
   ]
  },
  {
   "cell_type": "code",
   "execution_count": 2,
   "id": "6c97db89",
   "metadata": {},
   "outputs": [
    {
     "name": "stdout",
     "output_type": "stream",
     "text": [
      "John\n"
     ]
    }
   ],
   "source": [
    "#example of min function\n",
    "x = min(\"Mike\", \"John\", \"Vicky\")\n",
    "print(x)"
   ]
  },
  {
   "cell_type": "code",
   "execution_count": 3,
   "id": "47e7e71a",
   "metadata": {},
   "outputs": [
    {
     "name": "stdout",
     "output_type": "stream",
     "text": [
      "267\n"
     ]
    }
   ],
   "source": [
    "#another example of min function\n",
    "x=min(1454,267,454)\n",
    "print(x)"
   ]
  },
  {
   "cell_type": "markdown",
   "id": "9e7f44e9",
   "metadata": {},
   "source": [
    "The max() function returns the item with the highest value, or the item with the highest value in an iterable.\n",
    "\n",
    "If the values are strings, an alphabetically comparison is done.\n",
    "\n",
    "Syntax\n",
    "max(n1, n2, n3, ...)\n",
    "Or:\n",
    "max(iterable)\n",
    "Parameter Values\n",
    "Parameter\tDescription\n",
    "n1, n2, n3, ...\tOne or more items to compare\n",
    "Or:\n",
    "Parameter\tDescription\n",
    "iterable\tAn iterable, with one or more items to compare"
   ]
  },
  {
   "cell_type": "code",
   "execution_count": 4,
   "id": "03639787",
   "metadata": {},
   "outputs": [
    {
     "name": "stdout",
     "output_type": "stream",
     "text": [
      "Vicky\n"
     ]
    }
   ],
   "source": [
    "#example of max function\n",
    "x = max(\"Mike\", \"John\", \"Vicky\")\n",
    "print(x)"
   ]
  },
  {
   "cell_type": "code",
   "execution_count": 5,
   "id": "24d7c532",
   "metadata": {},
   "outputs": [
    {
     "name": "stdout",
     "output_type": "stream",
     "text": [
      "1454\n"
     ]
    }
   ],
   "source": [
    "#another example of max function\n",
    "x=max(1454,267,454)\n",
    "print(x)"
   ]
  },
  {
   "cell_type": "code",
   "execution_count": null,
   "id": "07821b8d",
   "metadata": {},
   "outputs": [],
   "source": []
  },
  {
   "cell_type": "code",
   "execution_count": null,
   "id": "3fe7f663",
   "metadata": {},
   "outputs": [],
   "source": []
  },
  {
   "cell_type": "code",
   "execution_count": null,
   "id": "e1560a7b",
   "metadata": {},
   "outputs": [],
   "source": []
  },
  {
   "cell_type": "code",
   "execution_count": null,
   "id": "83594aa6",
   "metadata": {},
   "outputs": [],
   "source": []
  },
  {
   "cell_type": "code",
   "execution_count": null,
   "id": "54d036cd",
   "metadata": {},
   "outputs": [],
   "source": []
  },
  {
   "cell_type": "code",
   "execution_count": null,
   "id": "6a778523",
   "metadata": {},
   "outputs": [],
   "source": []
  },
  {
   "cell_type": "markdown",
   "id": "36220139",
   "metadata": {},
   "source": [
    "## Programs on Immutable Data Structure:"
   ]
  },
  {
   "cell_type": "code",
   "execution_count": 79,
   "id": "90d46299",
   "metadata": {},
   "outputs": [
    {
     "name": "stdout",
     "output_type": "stream",
     "text": [
      "Enter string:Python\n",
      "Length of the string is:\n",
      "6\n"
     ]
    }
   ],
   "source": [
    "#1. write a python program to find a length of a string without using len function\n",
    "string=input(\"Enter string:\")\n",
    "count=0\n",
    "for i in string:\n",
    "      count=count+1\n",
    "print(\"Length of the string is:\")\n",
    "print(count)"
   ]
  },
  {
   "cell_type": "code",
   "execution_count": 80,
   "id": "3313f105",
   "metadata": {},
   "outputs": [
    {
     "name": "stdout",
     "output_type": "stream",
     "text": [
      "Enter string:Python\n",
      "String isn't a palindrome!\n"
     ]
    }
   ],
   "source": [
    "#2. Write a Python Program to check if a string is Palindrome or not using function.\n",
    "def is_palindrome(s):\n",
    "    if len(s) < 1:\n",
    "        return True\n",
    "    else:\n",
    "        if s[0] == s[-1]:\n",
    "            return is_palindrome(s[1:-1])\n",
    "        else:\n",
    "            return False\n",
    "a=str(input(\"Enter string:\"))\n",
    "if(is_palindrome(a)==True):\n",
    "    print(\"String is a palindrome!\")\n",
    "else:\n",
    "    print(\"String isn't a palindrome!\")"
   ]
  },
  {
   "cell_type": "code",
   "execution_count": 81,
   "id": "d1774ee4",
   "metadata": {},
   "outputs": [
    {
     "name": "stdout",
     "output_type": "stream",
     "text": [
      "Enter string:mom\n",
      "String is a palindrome!\n"
     ]
    }
   ],
   "source": [
    "#2. Write a Python Program to check if a string is Palindrome or not using function.\n",
    "def is_palindrome(s):\n",
    "    if len(s) < 1:\n",
    "        return True\n",
    "    else:\n",
    "        if s[0] == s[-1]:\n",
    "            return is_palindrome(s[1:-1])\n",
    "        else:\n",
    "            return False\n",
    "a=str(input(\"Enter string:\"))\n",
    "if(is_palindrome(a)==True):\n",
    "    print(\"String is a palindrome!\")\n",
    "else:\n",
    "    print(\"String isn't a palindrome!\")"
   ]
  },
  {
   "cell_type": "code",
   "execution_count": 1,
   "id": "76654ce2",
   "metadata": {},
   "outputs": [
    {
     "name": "stdout",
     "output_type": "stream",
     "text": [
      "Original String is James\n",
      "New String: Jms\n"
     ]
    }
   ],
   "source": [
    "#3. Create a string made of the first, middle and last character\n",
    "str1 = 'James'\n",
    "print(\"Original String is\", str1)\n",
    "# Get first character\n",
    "res = str1[0]\n",
    "# Get string size\n",
    "l = len(str1)\n",
    "# Get middle index number\n",
    "mi = int(l / 2)\n",
    "# Get middle character and add it to result\n",
    "res = res + str1[mi]\n",
    "# Get last character and add it to result\n",
    "res = res + str1[l - 1]\n",
    "print(\"New String:\", res)\n",
    "\n"
   ]
  },
  {
   "cell_type": "code",
   "execution_count": 4,
   "id": "736b7e28",
   "metadata": {},
   "outputs": [
    {
     "name": "stdout",
     "output_type": "stream",
     "text": [
      "Enter string:Python is very important\n",
      "Newly formed string is:\n",
      "Pynt\n"
     ]
    }
   ],
   "source": [
    "#4. Python Program to Create a New String Made up of First and Last 2 Characters\n",
    "string=input(\"Enter string:\")\n",
    "count=0\n",
    "for i in string:\n",
    "      count=count+1\n",
    "new=string[0:2]+string[count-2:count]\n",
    "print(\"Newly formed string is:\")\n",
    "print(new)"
   ]
  },
  {
   "cell_type": "code",
   "execution_count": 6,
   "id": "3ca682e3",
   "metadata": {},
   "outputs": [
    {
     "name": "stdout",
     "output_type": "stream",
     "text": [
      "Enter first string:Python is very logicable\n",
      "Enter second string:Python is very interesting to learn\n",
      "Larger string is:\n",
      "Python is very interesting to learn\n"
     ]
    }
   ],
   "source": [
    "#5. Python Program to Find the Larger String without using Built-in Functions\n",
    "string1=input(\"Enter first string:\")\n",
    "string2=input(\"Enter second string:\")\n",
    "count1=0\n",
    "count2=0\n",
    "for i in string1:\n",
    "      count1=count1+1\n",
    "for j in string2:\n",
    "      count2=count2+1\n",
    "if(count1<count2):\n",
    "      print(\"Larger string is:\")\n",
    "      print(string2)\n",
    "elif(count1==count2):\n",
    "      print(\"Both strings are equal.\")\n",
    "else:\n",
    "      print(\"Larger string is:\")\n",
    "      print(string1)"
   ]
  },
  {
   "cell_type": "code",
   "execution_count": 11,
   "id": "98282ada",
   "metadata": {},
   "outputs": [
    {
     "name": "stdout",
     "output_type": "stream",
     "text": [
      "total counts of chars, Digits, and symbols \n",
      "\n",
      "Chars = 8 Digits = 2 Symbol = 3\n"
     ]
    }
   ],
   "source": [
    "#6. Count all letters, digits, and special symbols from a given string.\n",
    "def find_digits_chars_symbols(sample_str):\n",
    "    char_count = 0\n",
    "    digit_count = 0\n",
    "    symbol_count = 0\n",
    "    for char in sample_str:\n",
    "        if char.isalpha():\n",
    "            char_count += 1\n",
    "        elif char.isdigit():\n",
    "            digit_count += 1\n",
    "# if it is not letter or digit then it is special symbol\n",
    "        else:\n",
    "            symbol_count += 1\n",
    "    print(\"Chars =\",char_count, \"Digits =\", digit_count, \"Symbol =\", symbol_count)\n",
    "sample_str = \"P@yn2at&#i5ve\"\n",
    "print(\"total counts of chars, Digits, and symbols \\n\")\n",
    "find_digits_chars_symbols(sample_str)\n"
   ]
  },
  {
   "cell_type": "code",
   "execution_count": 13,
   "id": "d471e79b",
   "metadata": {},
   "outputs": [
    {
     "name": "stdout",
     "output_type": "stream",
     "text": [
      "Enter String Python is a very Logical Subject\n",
      "The number of uppercase letters is  3\n",
      "The number of lowercase letters is  24\n"
     ]
    }
   ],
   "source": [
    "#7. Write a Python function that accepts a string and calculate the number of uppercase letters and lowercase letters.\n",
    "n=input(\"Enter String \")\n",
    "upper_counter=0\n",
    "lower_counter=0\n",
    "for x in n:\n",
    "    if x.isupper():\n",
    "        upper_counter+=1\n",
    "    elif x.islower():\n",
    "        lower_counter+=1\n",
    "    else:\n",
    "        pass\n",
    "print(\"The number of uppercase letters is \",upper_counter)\n",
    "print(\"The number of lowercase letters is \",lower_counter)\n"
   ]
  },
  {
   "cell_type": "code",
   "execution_count": 14,
   "id": "130c3139",
   "metadata": {},
   "outputs": [
    {
     "name": "stdout",
     "output_type": "stream",
     "text": [
      "The USA count is: 2\n"
     ]
    }
   ],
   "source": [
    "#8. Find all occurrences of a substring in a given string by ignoring the case.\n",
    "str1 = \"Welcome to USA. usa awesome, isn't it?\"\n",
    "sub_string = \"USA\"\n",
    "# convert string to lowercase\n",
    "temp_str = str1.lower()\n",
    "# use count function\n",
    "count = temp_str.count(sub_string.lower())\n",
    "print(\"The USA count is:\", count)\n"
   ]
  },
  {
   "cell_type": "code",
   "execution_count": 15,
   "id": "5f2b574f",
   "metadata": {},
   "outputs": [
    {
     "name": "stdout",
     "output_type": "stream",
     "text": [
      "Sum is: 38 Average is  6.333333333333333\n"
     ]
    }
   ],
   "source": [
    "#9. Calculate the sum and average of the digits present in a string.\n",
    "input_str = \"PYnative29@#8496\"\n",
    "total = 0\n",
    "cnt = 0\n",
    "for char in input_str:\n",
    "    if char.isdigit():\n",
    "        total += int(char)\n",
    "        cnt += 1\n",
    "# average = sum / count of digits\n",
    "avg = total / cnt\n",
    "print(\"Sum is:\", total, \"Average is \", avg)"
   ]
  },
  {
   "cell_type": "code",
   "execution_count": 16,
   "id": "d4ccc1e3",
   "metadata": {},
   "outputs": [
    {
     "name": "stdout",
     "output_type": "stream",
     "text": [
      "Original String is: PYnative\n",
      "Reversed String is: evitanYP\n"
     ]
    }
   ],
   "source": [
    "#10. Write a program to Reverse a given string\n",
    "str1 = \"PYnative\"\n",
    "print(\"Original String is:\", str1)\n",
    "str1 = str1[::-1]\n",
    "print(\"Reversed String is:\", str1)\n"
   ]
  },
  {
   "cell_type": "code",
   "execution_count": 17,
   "id": "d52b8089",
   "metadata": {},
   "outputs": [
    {
     "name": "stdout",
     "output_type": "stream",
     "text": [
      "Original String is: Emma-is-a-data-scientist\n",
      "Displaying each substring\n",
      "Emma\n",
      "is\n",
      "a\n",
      "data\n",
      "scientist\n"
     ]
    }
   ],
   "source": [
    "#11. Split a string on hyphens.\n",
    "#Given:\n",
    "#str1 = Emma-is-a-data-scientist\n",
    "#Expected Output:\n",
    "#Displaying each substring\n",
    "#Emma\n",
    "#is\n",
    "#a\n",
    "#data\n",
    "#scientist\n",
    "str1 = \"Emma-is-a-data-scientist\"\n",
    "print(\"Original String is:\", str1)\n",
    "# split string\n",
    " \n",
    "sub_strings = str1.split(\"-\")\n",
    "print(\"Displaying each substring\")\n",
    "for sub in sub_strings:\n",
    "    print(sub)\n",
    "\n",
    "\n"
   ]
  },
  {
   "cell_type": "code",
   "execution_count": 18,
   "id": "42d1cf47",
   "metadata": {},
   "outputs": [
    {
     "name": "stdout",
     "output_type": "stream",
     "text": [
      "6\n"
     ]
    }
   ],
   "source": [
    "#12. Write a program to do sum of tuple elements.\n",
    "test_tup = (1, 2, 3)\n",
    "sum=0\n",
    "for i in test_tup:\n",
    "    sum=sum+i\n",
    "print(sum)\n"
   ]
  },
  {
   "cell_type": "code",
   "execution_count": 20,
   "id": "270bc1ce",
   "metadata": {},
   "outputs": [
    {
     "name": "stdout",
     "output_type": "stream",
     "text": [
      "3\n",
      "1\n"
     ]
    }
   ],
   "source": [
    "#13. Write a program to print Maximum and Minimum elements in given Tuple\n",
    "test_tup = (1, 2, 3)\n",
    "max=test_tup[0]\n",
    "min=test_tup[0]\n",
    "for i in test_tup:\n",
    "    if (i>max):\n",
    "        max=i\n",
    "    if (i<min):\n",
    "        min=i\n",
    "print(max)\n",
    "print(min)\n"
   ]
  },
  {
   "cell_type": "code",
   "execution_count": 21,
   "id": "40635bfb",
   "metadata": {},
   "outputs": [
    {
     "name": "stdout",
     "output_type": "stream",
     "text": [
      "2\n",
      "4\n",
      "6\n"
     ]
    }
   ],
   "source": [
    "#14. Write a program to print even numbers from given tuple.\n",
    "test_tup = (1, 2, 3, 4, 5, 6)\n",
    "for i in test_tup:\n",
    "    if (i%2==0):\n",
    "        print(i)\n"
   ]
  },
  {
   "cell_type": "code",
   "execution_count": 22,
   "id": "dca5d786",
   "metadata": {},
   "outputs": [
    {
     "name": "stdout",
     "output_type": "stream",
     "text": [
      "Odd sum:  9\n",
      "Even sum:  12\n"
     ]
    }
   ],
   "source": [
    "#15. Write a program to print sum of even numbers and sum of odd numbers from elements given in tuple.\n",
    "test_tup = (1, 2, 3, 4, 5, 6)\n",
    "odd=0\n",
    "even=0\n",
    "for i in test_tup:\n",
    "    if (i%2==0):\n",
    "        even+=i;\n",
    "    else:\n",
    "        odd+=i\n",
    "print(\"Odd sum: \",odd)\n",
    "print(\"Even sum: \",even)\n"
   ]
  },
  {
   "cell_type": "code",
   "execution_count": 23,
   "id": "b983b47f",
   "metadata": {},
   "outputs": [
    {
     "name": "stdout",
     "output_type": "stream",
     "text": [
      "Enter the date: 17/10/22\n",
      "The incremented date is:  18 10 22\n"
     ]
    }
   ],
   "source": [
    "#16. Python Program to Check if a Date is Valid and Print the Incremented Date if it is\n",
    "date=input(\"Enter the date: \")\n",
    "dd,mm,yy=date.split('/')\n",
    "dd=int(dd)\n",
    "mm=int(mm)\n",
    "yy=int(yy)\n",
    "if(mm==1 or mm==3 or mm==5 or mm==7 or mm==8 or mm==10 or mm==12):\n",
    "    max1=31\n",
    "elif(mm==4 or mm==6 or mm==9 or mm==11):\n",
    "    max1=30\n",
    "elif(yy%4==0 and yy%100!=0 or yy%400==0):\n",
    "    max1=29\n",
    "else:\n",
    "    max1=28\n",
    "if(mm<1 or mm>12):\n",
    "    print(\"Date is invalid.\")\n",
    "elif(dd<1 or dd>max1):\n",
    "    print(\"Date is invalid.\")\n",
    "elif(dd==max1 and mm!=12):\n",
    "    dd=1\n",
    "    mm=mm+1\n",
    "    print(\"The incremented date is: \",dd,mm,yy)\n",
    "elif(dd==31 and mm==12):\n",
    "    dd=1\n",
    "    mm=1\n",
    "    yy=yy+1\n",
    "    print(\"The incremented date is: \",dd,mm,yy)\n",
    "else:\n",
    "    dd=dd+1\n",
    "    print(\"The incremented date is: \",dd,mm,yy)"
   ]
  },
  {
   "cell_type": "code",
   "execution_count": 24,
   "id": "1942725c",
   "metadata": {},
   "outputs": [
    {
     "name": "stdout",
     "output_type": "stream",
     "text": [
      "Enter the date: 5/7/2004\n",
      "The incremented date is:  6 7 2004\n"
     ]
    }
   ],
   "source": [
    "#16. Python Program to Check if a Date is Valid and Print the Incremented Date if it is\n",
    "date=input(\"Enter the date: \")\n",
    "dd,mm,yy=date.split('/')\n",
    "dd=int(dd)\n",
    "mm=int(mm)\n",
    "yy=int(yy)\n",
    "if(mm==1 or mm==3 or mm==5 or mm==7 or mm==8 or mm==10 or mm==12):\n",
    "    max1=31\n",
    "elif(mm==4 or mm==6 or mm==9 or mm==11):\n",
    "    max1=30\n",
    "elif(yy%4==0 and yy%100!=0 or yy%400==0):\n",
    "    max1=29\n",
    "else:\n",
    "    max1=28\n",
    "if(mm<1 or mm>12):\n",
    "    print(\"Date is invalid.\")\n",
    "elif(dd<1 or dd>max1):\n",
    "    print(\"Date is invalid.\")\n",
    "elif(dd==max1 and mm!=12):\n",
    "    dd=1\n",
    "    mm=mm+1\n",
    "    print(\"The incremented date is: \",dd,mm,yy)\n",
    "elif(dd==31 and mm==12):\n",
    "    dd=1\n",
    "    mm=1\n",
    "    yy=yy+1\n",
    "    print(\"The incremented date is: \",dd,mm,yy)\n",
    "else:\n",
    "    dd=dd+1\n",
    "    print(\"The incremented date is: \",dd,mm,yy)"
   ]
  },
  {
   "cell_type": "code",
   "execution_count": 25,
   "id": "0795a816",
   "metadata": {},
   "outputs": [
    {
     "name": "stdout",
     "output_type": "stream",
     "text": [
      "Enter the date: 30/2/1997\n",
      "Date is invalid.\n"
     ]
    }
   ],
   "source": [
    "#16. Python Program to Check if a Date is Valid and Print the Incremented Date if it is\n",
    "date=input(\"Enter the date: \")\n",
    "dd,mm,yy=date.split('/')\n",
    "dd=int(dd)\n",
    "mm=int(mm)\n",
    "yy=int(yy)\n",
    "if(mm==1 or mm==3 or mm==5 or mm==7 or mm==8 or mm==10 or mm==12):\n",
    "    max1=31\n",
    "elif(mm==4 or mm==6 or mm==9 or mm==11):\n",
    "    max1=30\n",
    "elif(yy%4==0 and yy%100!=0 or yy%400==0):\n",
    "    max1=29\n",
    "else:\n",
    "    max1=28\n",
    "if(mm<1 or mm>12):\n",
    "    print(\"Date is invalid.\")\n",
    "elif(dd<1 or dd>max1):\n",
    "    print(\"Date is invalid.\")\n",
    "elif(dd==max1 and mm!=12):\n",
    "    dd=1\n",
    "    mm=mm+1\n",
    "    print(\"The incremented date is: \",dd,mm,yy)\n",
    "elif(dd==31 and mm==12):\n",
    "    dd=1\n",
    "    mm=1\n",
    "    yy=yy+1\n",
    "    print(\"The incremented date is: \",dd,mm,yy)\n",
    "else:\n",
    "    dd=dd+1\n",
    "    print(\"The incremented date is: \",dd,mm,yy)"
   ]
  },
  {
   "cell_type": "code",
   "execution_count": 27,
   "id": "74ea5714",
   "metadata": {},
   "outputs": [
    {
     "name": "stdout",
     "output_type": "stream",
     "text": [
      "Enter an integer:45\n",
      "Smallest divisor is: 3\n"
     ]
    }
   ],
   "source": [
    "#17. Python Program to Find the Smallest Divisor of an Integer\n",
    " \n",
    "n=int(input(\"Enter an integer:\"))\n",
    "a=[]\n",
    "for i in range(2,n+1):\n",
    "    if(n%i==0):\n",
    "        a.append(i)\n",
    "a.sort()\n",
    "print(\"Smallest divisor is:\",a[0])"
   ]
  },
  {
   "cell_type": "code",
   "execution_count": 1,
   "id": "1cad75de",
   "metadata": {},
   "outputs": [
    {
     "name": "stdout",
     "output_type": "stream",
     "text": [
      "4A3B2C1D3A\n",
      "1P1H1P\n",
      "4A3B3C1D2A1B1D4A1C\n"
     ]
    }
   ],
   "source": [
    "\"\"\"18. Write a Python program that takes a string and encode it that the amount of symbols would be represented by integer and the symbol.\n",
    "For example, the string \"AAAABBBCCDAAA\" would be encoded as \"4A3B2C1D3A\"\"\"\n",
    "def encode_string(str1):\n",
    "    encoded = \"\"\n",
    "    ctr = 1\n",
    "    last_char = str1[0]\n",
    "\n",
    "    for i in range(1, len(str1)):\n",
    "\n",
    "        if last_char == str1[i]:\n",
    "            ctr += 1\n",
    "         \n",
    "        else:\n",
    "            encoded += str(ctr) + last_char\n",
    "            ctr = 0\n",
    "            last_char = str1[i]\n",
    "            ctr += 1\n",
    "    encoded += str(ctr) + last_char\n",
    "    return encoded\n",
    "print(encode_string(\"AAAABBBCCDAAA\")) \n",
    "print(encode_string(\"PHP\"))  \n",
    "print(encode_string(\"AAAABBBCCCDAABDAAAAC\"))"
   ]
  },
  {
   "cell_type": "code",
   "execution_count": 2,
   "id": "c7cadbcb",
   "metadata": {},
   "outputs": [
    {
     "name": "stdout",
     "output_type": "stream",
     "text": [
      "3\n",
      "2\n"
     ]
    }
   ],
   "source": [
    "\"\"\"19. From Wikipedia, the free encyclopedia\n",
    "In computational linguistics and computer science, edit distance is a way of quantifying how dissimilar two strings (e.g., words) are to one another by counting the minimum number of operations required to transform one string into the other. Edit distances find applications in natural language processing, where automatic spelling correction can determine candidate corrections for a misspelled word by selecting words from a dictionary that have a low distance to the word in question. In bioinformatics, it can be used to quantify the similarity of DNA sequences, which can be viewed as strings of the letters A, C, G and T.\n",
    "This problem was asked by Google.\n",
    "The edit distance between two strings refers to the minimum number of character insertions, deletions, and substitutions required to change one string to the other. For example, the edit distance between \"kitten\" and \"sitting\" is three: substitute the \"k\" for \"s\", substitute the \"e\" for \"i\", and append a \"g\".\n",
    "Write a Python program to compute the edit distance between two given strings.\"\"\"\n",
    "def edit_distance(string1, string2):\n",
    "    \n",
    "\n",
    "    if len(string1) > len(string2):\n",
    "        difference = len(string1) - len(string2)\n",
    "        string1[:difference]\n",
    "\n",
    "    elif len(string2) > len(string1):\n",
    "        difference = len(string2) - len(string1)\n",
    "        string2[:difference]\n",
    "\n",
    "    else:\n",
    "        difference = 0\n",
    "\n",
    "    for i in range(len(string1)):\n",
    "        if string1[i] != string2[i]:\n",
    "            difference += 1\n",
    "\n",
    "    return difference\n",
    "\n",
    "print(edit_distance(\"kitten\", \"sitting\")) #3\n",
    "print(edit_distance(\"medium\", \"median\")) #2  "
   ]
  },
  {
   "cell_type": "code",
   "execution_count": null,
   "id": "52458536",
   "metadata": {},
   "outputs": [],
   "source": []
  }
 ],
 "metadata": {
  "kernelspec": {
   "display_name": "Python 3 (ipykernel)",
   "language": "python",
   "name": "python3"
  },
  "language_info": {
   "codemirror_mode": {
    "name": "ipython",
    "version": 3
   },
   "file_extension": ".py",
   "mimetype": "text/x-python",
   "name": "python",
   "nbconvert_exporter": "python",
   "pygments_lexer": "ipython3",
   "version": "3.11.3"
  }
 },
 "nbformat": 4,
 "nbformat_minor": 5
}
