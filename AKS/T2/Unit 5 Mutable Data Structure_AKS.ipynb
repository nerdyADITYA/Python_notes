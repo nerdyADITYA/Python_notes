{
 "cells": [
  {
   "cell_type": "markdown",
   "id": "c0ed15b9",
   "metadata": {},
   "source": [
    "# Unit 5 Mutable Data Structure\n",
    "\n",
    "mutable objects are easy to change.\n",
    "\n",
    "Use of mutable objects is recommended when there is a need to change the size or content of the object.\n",
    "\n",
    "These are of type list, dict, set . Custom classes are generally mutable.\n"
   ]
  },
  {
   "cell_type": "markdown",
   "id": "ecbd3471",
   "metadata": {},
   "source": [
    "# Lists\n",
    "Python lists are one of the most versatile data types that allow us to work with multiple elements at once.\n",
    "\n",
    "- As the part of programming requirement, we have to store our data permanently for future purpose. For this requirement we should go for files.\n",
    "- If we want to represent a group of individual objects as a single entity where insertion order is preserved and duplicates and heterogeneous objects are allowed, then we should go for List.\n",
    "- List is dynamic because based on our requirement we can increase the size and decrease the size.\n",
    "- In List the elements will be placed within square brackets and with comma separator.\n",
    "\n",
    "- We can differentiate duplicate elements by using index and we can preserve insertion order by using index. Hence index will play very important role.\n",
    "- Python supports both positive and negative indexes. +ve index means from left to right where as negative index means right to left.\n",
    "- List objects are mutable. i.e we can change the content.\n"
   ]
  },
  {
   "cell_type": "code",
   "execution_count": 1,
   "id": "1b95caf0",
   "metadata": {},
   "outputs": [
    {
     "name": "stdout",
     "output_type": "stream",
     "text": [
      "['red', 'blue', 'green']\n",
      "['pink', 'blue', 'orange']\n"
     ]
    }
   ],
   "source": [
    "#Example of Lists as mutability\n",
    "# Python code to test that \n",
    "# lists are mutable \n",
    "color = [\"red\", \"blue\", \"green\"]\n",
    "print(color)\n",
    "  \n",
    "color[0] = \"pink\"\n",
    "color[-1] = \"orange\"\n",
    "print(color)"
   ]
  },
  {
   "cell_type": "markdown",
   "id": "5c704403",
   "metadata": {},
   "source": [
    "Declaring (creating of lists) and acessing through for loop"
   ]
  },
  {
   "cell_type": "code",
   "execution_count": 2,
   "id": "5560f6cb",
   "metadata": {},
   "outputs": [
    {
     "name": "stdout",
     "output_type": "stream",
     "text": [
      "[]\n",
      "<class 'list'>\n"
     ]
    }
   ],
   "source": [
    "#Creating a empty list\n",
    "list=[]\n",
    "print(list)\n",
    "print(type(list))"
   ]
  },
  {
   "cell_type": "code",
   "execution_count": 3,
   "id": "727bdbbc",
   "metadata": {},
   "outputs": [
    {
     "name": "stdout",
     "output_type": "stream",
     "text": [
      "[1, 4, 7, 8]\n",
      "<class 'list'>\n"
     ]
    }
   ],
   "source": [
    "#Creating a list through already known elements.\n",
    "list=[1,4,7,8]\n",
    "print(list)\n",
    "print(type(list))"
   ]
  },
  {
   "cell_type": "code",
   "execution_count": 4,
   "id": "ae47c080",
   "metadata": {},
   "outputs": [
    {
     "name": "stdout",
     "output_type": "stream",
     "text": [
      "['A', 'B', 'C', 'D']\n",
      "<class 'list'>\n"
     ]
    }
   ],
   "source": [
    "#Creating a list through already known elements.\n",
    "list=[\"A\",\"B\",\"C\",\"D\"]\n",
    "print(list)\n",
    "print(type(list))"
   ]
  },
  {
   "cell_type": "code",
   "execution_count": 5,
   "id": "4bda6dd2",
   "metadata": {},
   "outputs": [
    {
     "name": "stdout",
     "output_type": "stream",
     "text": [
      "Enter the list elements:[1,2,3,4]\n",
      "[1, 2, 3, 4]\n",
      "<class 'list'>\n"
     ]
    }
   ],
   "source": [
    "#Creating a list through user defined values:\n",
    "list=eval(input(\"Enter the list elements:\"))\n",
    "print(list)\n",
    "print(type(list))"
   ]
  },
  {
   "cell_type": "markdown",
   "id": "1480970c",
   "metadata": {},
   "source": [
    "eval is a built in function which parses the expression argument and evaluates it as a python expression.\n",
    "It takes input as a string and returns as an integer."
   ]
  },
  {
   "cell_type": "code",
   "execution_count": 1,
   "id": "f0528c7f",
   "metadata": {},
   "outputs": [
    {
     "name": "stdout",
     "output_type": "stream",
     "text": [
      "[0, 1, 2, 3, 4]\n",
      "<class 'list'>\n"
     ]
    }
   ],
   "source": [
    "#Creating a list with list() Function:\n",
    "l=list(range(0,5,1))\n",
    "print(l)\n",
    "print(type(l))"
   ]
  },
  {
   "cell_type": "code",
   "execution_count": 2,
   "id": "c4630919",
   "metadata": {},
   "outputs": [
    {
     "name": "stdout",
     "output_type": "stream",
     "text": [
      "['Python', 'is', 'easier', 'and', 'user', 'friendly', 'software....']\n",
      "<class 'list'>\n"
     ]
    }
   ],
   "source": [
    "#Creation of list with split() function:\n",
    "s=\"Python is easier and user friendly software....\"\n",
    "l=s.split()\n",
    "print(l)\n",
    "print(type(l))"
   ]
  },
  {
   "cell_type": "markdown",
   "id": "85d1fb78",
   "metadata": {},
   "source": [
    "Accessing lists"
   ]
  },
  {
   "cell_type": "markdown",
   "id": "40d1ba9b",
   "metadata": {},
   "source": [
    "There are various methods through which the lists can be accessed.\n",
    "1. By using index\n",
    "2. By using Slice Operator\n",
    "3. By using for loop\n",
    "4. By using while loop"
   ]
  },
  {
   "cell_type": "markdown",
   "id": "ffd85a79",
   "metadata": {},
   "source": [
    "1. accessing list using index:\n",
    "- List follows zero based index. ie index of first element is zero.\n",
    "\n",
    "- List supports both +ve and -ve indexes.\n",
    "\n",
    "- +ve index meant for Left to Right.\n",
    "\n",
    "- -ve index meant for Right to Left."
   ]
  },
  {
   "cell_type": "code",
   "execution_count": 3,
   "id": "afe2c208",
   "metadata": {},
   "outputs": [
    {
     "name": "stdout",
     "output_type": "stream",
     "text": [
      "5\n",
      "1\n",
      "5\n"
     ]
    },
    {
     "ename": "IndexError",
     "evalue": "list index out of range",
     "output_type": "error",
     "traceback": [
      "\u001b[1;31m---------------------------------------------------------------------------\u001b[0m",
      "\u001b[1;31mIndexError\u001b[0m                                Traceback (most recent call last)",
      "Cell \u001b[1;32mIn [3], line 6\u001b[0m\n\u001b[0;32m      4\u001b[0m \u001b[38;5;28mprint\u001b[39m(l[\u001b[38;5;241m0\u001b[39m])\n\u001b[0;32m      5\u001b[0m \u001b[38;5;28mprint\u001b[39m(l[\u001b[38;5;241m-\u001b[39m\u001b[38;5;241m2\u001b[39m])\n\u001b[1;32m----> 6\u001b[0m \u001b[38;5;28mprint\u001b[39m(\u001b[43ml\u001b[49m\u001b[43m[\u001b[49m\u001b[38;5;241;43m6\u001b[39;49m\u001b[43m]\u001b[49m)\n",
      "\u001b[1;31mIndexError\u001b[0m: list index out of range"
     ]
    }
   ],
   "source": [
    "#Example of accessing list using index:\n",
    "l=[1,3,5,7]\n",
    "print(l[2])\n",
    "print(l[0])\n",
    "print(l[-2])\n",
    "print(l[6])"
   ]
  },
  {
   "cell_type": "markdown",
   "id": "4164ea7d",
   "metadata": {},
   "source": [
    "2. By using Slice Operator:\n",
    "- Syntax: list2 = list1[start:stop:step]\n",
    "\n",
    "- Start: It indicates the Index where slice has to Start and Default Value is 0.\n",
    "\n",
    "- Stop: It indicates the Index where slice has to End and Default Value is max allowed Index of List ie Length of the List.\n",
    "- Step: Increment value and Default Value is 1."
   ]
  },
  {
   "cell_type": "code",
   "execution_count": 4,
   "id": "6a935e4d",
   "metadata": {},
   "outputs": [
    {
     "name": "stdout",
     "output_type": "stream",
     "text": [
      "[2, 5]\n",
      "[5, 7]\n",
      "[2]\n"
     ]
    }
   ],
   "source": [
    "#Example for slicing operator\n",
    "n=[1,2,3,5,7,8]\n",
    "print(n[1:5:2])\n",
    "print(n[3:5])\n",
    "print(n[1::5])"
   ]
  },
  {
   "cell_type": "code",
   "execution_count": 5,
   "id": "d9e8b156",
   "metadata": {},
   "outputs": [
    {
     "name": "stdout",
     "output_type": "stream",
     "text": [
      "5\n",
      "7\n",
      "9\n",
      "2\n",
      "3\n",
      "8\n"
     ]
    }
   ],
   "source": [
    "#Loop through the list by using for loop:\n",
    "n=[5,7,9,2,3,8]\n",
    "for i in n:\n",
    "    print(i)"
   ]
  },
  {
   "cell_type": "code",
   "execution_count": 10,
   "id": "91b9d06a",
   "metadata": {},
   "outputs": [
    {
     "name": "stdout",
     "output_type": "stream",
     "text": [
      "5\n",
      "7\n",
      "8\n",
      "6\n",
      "9\n"
     ]
    }
   ],
   "source": [
    "#Loop through the list by using while loop:\n",
    "n = [5,7,8,6,9]\n",
    "i = 0\n",
    "while i < len(n):\n",
    "    print(n[i])\n",
    "    i=i+1\n"
   ]
  },
  {
   "cell_type": "code",
   "execution_count": 11,
   "id": "3f905ae9",
   "metadata": {},
   "outputs": [
    {
     "name": "stdout",
     "output_type": "stream",
     "text": [
      "A\n",
      "B\n",
      "c\n"
     ]
    }
   ],
   "source": [
    "#Loop accessing through the list items by index numbers:\n",
    "l=[\"A\",\"B\",\"c\"]\n",
    "x=len(l)\n",
    "for i in range(x):\n",
    "    print(l[i])"
   ]
  },
  {
   "cell_type": "markdown",
   "id": "cd9f9776",
   "metadata": {},
   "source": [
    "Important functions in list:"
   ]
  },
  {
   "cell_type": "markdown",
   "id": "009639b2",
   "metadata": {},
   "source": [
    "1. Append Function: We can use append() function to add item at the end of the list.\n",
    "\n",
    "Syntax: \n",
    "variablename.append()"
   ]
  },
  {
   "cell_type": "code",
   "execution_count": 12,
   "id": "22853ab8",
   "metadata": {},
   "outputs": [
    {
     "name": "stdout",
     "output_type": "stream",
     "text": [
      "['Mango', 'Banana', 'Apple', 1, 'Strawberry', 'Cherry']\n"
     ]
    }
   ],
   "source": [
    "#Example of list function using append() function.\n",
    "list=[\"Mango\",\"Banana\",\"Apple\"]\n",
    "list.append(1)\n",
    "list.append(\"Strawberry\")\n",
    "list.append(\"Cherry\")\n",
    "print(list)"
   ]
  },
  {
   "cell_type": "markdown",
   "id": "7359881b",
   "metadata": {},
   "source": [
    "2. Extend function: To add all items of one list to another list\n",
    "\n",
    "Syntax:\n",
    "list1.extend(list2)\n",
    "\n",
    "all items of list2 will be added to list1"
   ]
  },
  {
   "cell_type": "code",
   "execution_count": 13,
   "id": "8f432d8f",
   "metadata": {},
   "outputs": [
    {
     "name": "stdout",
     "output_type": "stream",
     "text": [
      "['a', 'b', 'd', 'x', 'y', 'z']\n"
     ]
    }
   ],
   "source": [
    "#Example of extend() function:\n",
    "l1=[\"a\",\"b\",\"d\"]\n",
    "l2=[\"x\",\"y\",\"z\"]\n",
    "l1.extend(l2)\n",
    "print(l1)"
   ]
  },
  {
   "cell_type": "code",
   "execution_count": 14,
   "id": "5c082e1f",
   "metadata": {},
   "outputs": [
    {
     "name": "stdout",
     "output_type": "stream",
     "text": [
      "['Aman', 'Daman', 'K', 'u', 'm', 'a', 'r']\n"
     ]
    }
   ],
   "source": [
    "#Example of extend() function with string as an input\n",
    "l1=[\"Aman\",\"Daman\"]\n",
    "\n",
    "l1.extend(\"Kumar\")\n",
    "print(l1)"
   ]
  },
  {
   "cell_type": "markdown",
   "id": "507306b1",
   "metadata": {},
   "source": [
    "3. Insert() function in list- To insert item at a specified position.\n",
    "\n",
    "Syntax of inser() is:\n",
    "    \n",
    "list.insert(index,value)"
   ]
  },
  {
   "cell_type": "code",
   "execution_count": 20,
   "id": "337a03b4",
   "metadata": {},
   "outputs": [
    {
     "name": "stdout",
     "output_type": "stream",
     "text": [
      "[1, 4, 7, 5, 9, 10]\n"
     ]
    }
   ],
   "source": [
    "#Example of insert() function\n",
    "a=[1,4,5,9,10]\n",
    "a.insert(2,7)\n",
    "print(a)\n",
    "#It shifts and it does not replace the value at the specified index."
   ]
  },
  {
   "cell_type": "code",
   "execution_count": 21,
   "id": "f18ba4af",
   "metadata": {},
   "outputs": [
    {
     "name": "stdout",
     "output_type": "stream",
     "text": [
      "[1, 4, 5, 9, 10, 7]\n"
     ]
    }
   ],
   "source": [
    "#Example of insert() function\n",
    "a=[1,4,5,9,10]\n",
    "a.insert(10,7)\n",
    "print(a)\n",
    "#It always adds at the last if the index size is smaller than specified one."
   ]
  },
  {
   "cell_type": "code",
   "execution_count": 22,
   "id": "947438c8",
   "metadata": {},
   "outputs": [
    {
     "name": "stdout",
     "output_type": "stream",
     "text": [
      "[7, 1, 4, 5, 9, 10]\n"
     ]
    }
   ],
   "source": [
    "#Example of insert() function\n",
    "a=[1,4,5,9,10]\n",
    "a.insert(-10,7)\n",
    "print(a)\n",
    "#It always adds at the first if the index size is larger than specified one."
   ]
  },
  {
   "cell_type": "markdown",
   "id": "598d5a6d",
   "metadata": {},
   "source": [
    "4. Count() function in list- It returns the number of occurrences of specified item in the list.\n",
    "\n",
    "syntax of count() is:\n",
    "\n",
    "list.count(variable)"
   ]
  },
  {
   "cell_type": "code",
   "execution_count": 15,
   "id": "7aef529c",
   "metadata": {},
   "outputs": [
    {
     "name": "stdout",
     "output_type": "stream",
     "text": [
      "1\n",
      "1\n",
      "3\n",
      "1\n"
     ]
    }
   ],
   "source": [
    "#Example of count() function in list\n",
    "a=[1,2,3,3,3,4,4,4,5,6]\n",
    "print(a.count(1))\n",
    "print(a.count(2))\n",
    "print(a.count(3))\n",
    "print(a.count(5))"
   ]
  },
  {
   "cell_type": "markdown",
   "id": "20ab60b5",
   "metadata": {},
   "source": [
    "5. Index() function in list- It returns the index of 1st occurrence of specified item in the list.\n",
    "\n",
    "syntax of index() is:\n",
    "\n",
    "index.count(variable)"
   ]
  },
  {
   "cell_type": "code",
   "execution_count": 19,
   "id": "95051333",
   "metadata": {},
   "outputs": [
    {
     "name": "stdout",
     "output_type": "stream",
     "text": [
      "0\n",
      "1\n",
      "2\n",
      "8\n"
     ]
    },
    {
     "ename": "ValueError",
     "evalue": "7 is not in list",
     "output_type": "error",
     "traceback": [
      "\u001b[1;31m---------------------------------------------------------------------------\u001b[0m",
      "\u001b[1;31mValueError\u001b[0m                                Traceback (most recent call last)",
      "Cell \u001b[1;32mIn [19], line 7\u001b[0m\n\u001b[0;32m      5\u001b[0m \u001b[38;5;28mprint\u001b[39m(a\u001b[38;5;241m.\u001b[39mindex(\u001b[38;5;241m3\u001b[39m))\n\u001b[0;32m      6\u001b[0m \u001b[38;5;28mprint\u001b[39m(a\u001b[38;5;241m.\u001b[39mindex(\u001b[38;5;241m5\u001b[39m))\n\u001b[1;32m----> 7\u001b[0m \u001b[38;5;28mprint\u001b[39m(\u001b[43ma\u001b[49m\u001b[38;5;241;43m.\u001b[39;49m\u001b[43mindex\u001b[49m\u001b[43m(\u001b[49m\u001b[38;5;241;43m7\u001b[39;49m\u001b[43m)\u001b[49m)\n",
      "\u001b[1;31mValueError\u001b[0m: 7 is not in list"
     ]
    }
   ],
   "source": [
    "#Example of count() function in list\n",
    "a=[1,2,3,3,3,4,4,4,5,6]\n",
    "print(a.index(1))\n",
    "print(a.index(2))\n",
    "print(a.index(3))\n",
    "print(a.index(5))\n",
    "print(a.index(7))"
   ]
  },
  {
   "cell_type": "markdown",
   "id": "56cfe8c2",
   "metadata": {},
   "source": [
    "6.remove() function in python -We can use this function to remove specified item from the list.\n",
    "If the item present multiple items then only 1st occurence will be removed.\n",
    "\n",
    "Syntax for remove()\n",
    "\n",
    "list.remove(element)"
   ]
  },
  {
   "cell_type": "code",
   "execution_count": 23,
   "id": "e35b3390",
   "metadata": {},
   "outputs": [
    {
     "name": "stdout",
     "output_type": "stream",
     "text": [
      "['A', 'B', 'D']\n"
     ]
    }
   ],
   "source": [
    "#Example of remove() function\n",
    "n=[\"A\",\"B\",\"C\",\"D\"]\n",
    "n.remove(\"C\")\n",
    "print(n)"
   ]
  },
  {
   "cell_type": "code",
   "execution_count": 24,
   "id": "30f4b0dc",
   "metadata": {},
   "outputs": [
    {
     "ename": "ValueError",
     "evalue": "list.remove(x): x not in list",
     "output_type": "error",
     "traceback": [
      "\u001b[1;31m---------------------------------------------------------------------------\u001b[0m",
      "\u001b[1;31mValueError\u001b[0m                                Traceback (most recent call last)",
      "Cell \u001b[1;32mIn [24], line 3\u001b[0m\n\u001b[0;32m      1\u001b[0m \u001b[38;5;66;03m#Example of remove() function\u001b[39;00m\n\u001b[0;32m      2\u001b[0m n\u001b[38;5;241m=\u001b[39m[\u001b[38;5;124m\"\u001b[39m\u001b[38;5;124mA\u001b[39m\u001b[38;5;124m\"\u001b[39m,\u001b[38;5;124m\"\u001b[39m\u001b[38;5;124mB\u001b[39m\u001b[38;5;124m\"\u001b[39m,\u001b[38;5;124m\"\u001b[39m\u001b[38;5;124mC\u001b[39m\u001b[38;5;124m\"\u001b[39m,\u001b[38;5;124m\"\u001b[39m\u001b[38;5;124mD\u001b[39m\u001b[38;5;124m\"\u001b[39m]\n\u001b[1;32m----> 3\u001b[0m \u001b[43mn\u001b[49m\u001b[38;5;241;43m.\u001b[39;49m\u001b[43mremove\u001b[49m\u001b[43m(\u001b[49m\u001b[38;5;124;43m\"\u001b[39;49m\u001b[38;5;124;43mE\u001b[39;49m\u001b[38;5;124;43m\"\u001b[39;49m\u001b[43m)\u001b[49m\n\u001b[0;32m      4\u001b[0m \u001b[38;5;28mprint\u001b[39m(n)\n",
      "\u001b[1;31mValueError\u001b[0m: list.remove(x): x not in list"
     ]
    }
   ],
   "source": [
    "#Example of remove() function\n",
    "n=[\"A\",\"B\",\"C\",\"D\"]\n",
    "n.remove(\"E\")\n",
    "print(n)"
   ]
  },
  {
   "cell_type": "markdown",
   "id": "6586c3d0",
   "metadata": {},
   "source": [
    "7. pop() function in Python:\n",
    "It removes and returns the last element of the list.\n",
    "This is only function which manipulates list and returns some element.\n",
    "It prints the popped element.\n",
    "\n",
    "Syntax of pop() element:\n",
    "\n",
    "a.pop()\n",
    "\n",
    "or a.pop(index)"
   ]
  },
  {
   "cell_type": "code",
   "execution_count": 25,
   "id": "d72e4b1b",
   "metadata": {},
   "outputs": [
    {
     "name": "stdout",
     "output_type": "stream",
     "text": [
      "8\n",
      "4\n",
      "[1, 5]\n"
     ]
    }
   ],
   "source": [
    "#Example of pop() function\n",
    "a=[1,5,4,8]\n",
    "print(a.pop())\n",
    "print(a.pop())\n",
    "print(a)"
   ]
  },
  {
   "cell_type": "code",
   "execution_count": 26,
   "id": "94dcbabb",
   "metadata": {},
   "outputs": [
    {
     "ename": "IndexError",
     "evalue": "pop from empty list",
     "output_type": "error",
     "traceback": [
      "\u001b[1;31m---------------------------------------------------------------------------\u001b[0m",
      "\u001b[1;31mIndexError\u001b[0m                                Traceback (most recent call last)",
      "Cell \u001b[1;32mIn [26], line 3\u001b[0m\n\u001b[0;32m      1\u001b[0m \u001b[38;5;66;03m#Example of pop() function\u001b[39;00m\n\u001b[0;32m      2\u001b[0m a\u001b[38;5;241m=\u001b[39m[]\n\u001b[1;32m----> 3\u001b[0m \u001b[38;5;28mprint\u001b[39m(\u001b[43ma\u001b[49m\u001b[38;5;241;43m.\u001b[39;49m\u001b[43mpop\u001b[49m\u001b[43m(\u001b[49m\u001b[43m)\u001b[49m)\n\u001b[0;32m      5\u001b[0m \u001b[38;5;28mprint\u001b[39m(a)\n",
      "\u001b[1;31mIndexError\u001b[0m: pop from empty list"
     ]
    }
   ],
   "source": [
    "#Example of pop() function\n",
    "a=[]\n",
    "print(a.pop())\n",
    "\n",
    "print(a)"
   ]
  },
  {
   "cell_type": "code",
   "execution_count": 27,
   "id": "5ff7bad1",
   "metadata": {},
   "outputs": [
    {
     "name": "stdout",
     "output_type": "stream",
     "text": [
      "10\n",
      "25\n",
      "[5, 15, 20]\n"
     ]
    }
   ],
   "source": [
    "#Example of pop() function\n",
    "a=[5,10,15,20,25]\n",
    "print(a.pop(1))\n",
    "print(a.pop(3))\n",
    "print(a)"
   ]
  },
  {
   "cell_type": "markdown",
   "id": "d8f1b48d",
   "metadata": {},
   "source": [
    "reverse() function in Python- It is used to reverse the order of elements in list.\n",
    "\n",
    "Syntax for reverse():\n",
    "    \n",
    "list.reverse()"
   ]
  },
  {
   "cell_type": "code",
   "execution_count": 28,
   "id": "b15fab5d",
   "metadata": {},
   "outputs": [
    {
     "name": "stdout",
     "output_type": "stream",
     "text": [
      "[5, 6, 3, 7, 2]\n"
     ]
    }
   ],
   "source": [
    "#Example of reverse() function\n",
    "\n",
    "a=[2,7,3,6,5]\n",
    "a.reverse()\n",
    "print(a)"
   ]
  },
  {
   "cell_type": "markdown",
   "id": "9ed0539d",
   "metadata": {},
   "source": [
    "Sort() function in Python- It is used to sort the order of elements in list.\n",
    "\n",
    "Syntax for sort():\n",
    "    \n",
    "list.sort()\n",
    "\n",
    "In list by default insertion order is preserved.\n",
    "\n",
    "If want to sort the elements of list according to default natural sorting order then we should go for sort() method.\n",
    "For numbers: Default Natural sorting Order is Ascending Order.\n",
    "\n",
    "For Strings : Default Natural sorting order is Alphabetical Order.\n"
   ]
  },
  {
   "cell_type": "code",
   "execution_count": 29,
   "id": "3050fc3b",
   "metadata": {},
   "outputs": [
    {
     "name": "stdout",
     "output_type": "stream",
     "text": [
      "[0, 1, 2, 5, 15]\n"
     ]
    }
   ],
   "source": [
    "#Example of sorting()\n",
    "n = [2,5,15,1,0]\n",
    "n.sort()\n",
    "print(n)"
   ]
  },
  {
   "cell_type": "code",
   "execution_count": 30,
   "id": "9f475162",
   "metadata": {},
   "outputs": [
    {
     "name": "stdout",
     "output_type": "stream",
     "text": [
      "[15, 5, 2, 1, 0]\n"
     ]
    }
   ],
   "source": [
    "#Example of sorting() in reverse order:\n",
    "n = [2,5,15,1,0]\n",
    "n.sort(reverse=True)\n",
    "print(n)"
   ]
  },
  {
   "cell_type": "code",
   "execution_count": 31,
   "id": "06dbb047",
   "metadata": {},
   "outputs": [
    {
     "name": "stdout",
     "output_type": "stream",
     "text": [
      "['D', 'C', 'B', 'A']\n"
     ]
    }
   ],
   "source": [
    "#Example of sorting() in reverse order:\n",
    "n = [\"A\",\"B\",\"C\",\"D\"]\n",
    "n.sort(reverse=True)\n",
    "print(n)"
   ]
  },
  {
   "cell_type": "code",
   "execution_count": 33,
   "id": "d54f1b92",
   "metadata": {},
   "outputs": [
    {
     "name": "stdout",
     "output_type": "stream",
     "text": [
      "['A', 'B', 'C', 'D']\n"
     ]
    }
   ],
   "source": [
    "#Example of sorting() in reverse order:\n",
    "n = [\"B\",\"A\",\"D\",\"C\"]\n",
    "n.sort(reverse=False)\n",
    "print(n)"
   ]
  },
  {
   "cell_type": "markdown",
   "id": "fa2799d9",
   "metadata": {},
   "source": [
    "# Dictionaries\n",
    "\n",
    "Dictionaries are used to store data values in key:value pairs.\n",
    "\n",
    "A dictionary is a collection which is ordered*, changeable and do not allow duplicates.\n",
    "\n",
    "Example: rollno-name\n",
    "\n",
    "phone no. -address\n",
    "\n",
    "Duplicate keys are not allowed but values can be duplicated.\n",
    "\n",
    "Heterogeneous objects are allowed for both key and values.\n",
    "\n",
    "Insertion order is not preserved.\n",
    "\n",
    "Dictionaries are mutable.\n",
    "\n",
    "Indexing and slicing concepts are not applicable.\n",
    "\n",
    "Dictionaries are written with curly brackets, and have keys and values:"
   ]
  },
  {
   "cell_type": "markdown",
   "id": "f0adaa6c",
   "metadata": {},
   "source": [
    "## Create a dictionary\n",
    "\n",
    "Syntax for creating a dictionary is d={key1:value1, key2:value2,key3=value3,...}\n",
    "\n",
    "Or d=dict()\n",
    "\n",
    "dict keyword is used for dictionary.\n",
    "\n",
    "To create an empty dictionary \n",
    "\n",
    "d={} or d=dict()"
   ]
  },
  {
   "cell_type": "code",
   "execution_count": 2,
   "id": "f2ab926f",
   "metadata": {},
   "outputs": [
    {
     "name": "stdout",
     "output_type": "stream",
     "text": [
      "<class 'dict'>\n"
     ]
    }
   ],
   "source": [
    "#Example for create empty dictionary\n",
    "d={}\n",
    "print(type(d))"
   ]
  },
  {
   "cell_type": "code",
   "execution_count": 3,
   "id": "d1e6ff24",
   "metadata": {},
   "outputs": [
    {
     "name": "stdout",
     "output_type": "stream",
     "text": [
      "{1: 'Atharva', 2: 'Python', 3: 'Anaconda'}\n"
     ]
    }
   ],
   "source": [
    "#Example for creating another dictionaries.\n",
    "d[1]=\"Atharva\"\n",
    "d[2]=\"Python\"\n",
    "d[3]=\"Anaconda\"\n",
    "print(d)"
   ]
  },
  {
   "cell_type": "code",
   "execution_count": 4,
   "id": "e8969f55",
   "metadata": {},
   "outputs": [
    {
     "name": "stdout",
     "output_type": "stream",
     "text": [
      "{1: 'Atharva', 2: 'Python', 3: 'Anaconda'}\n"
     ]
    }
   ],
   "source": [
    "#Example for creating dictionary using key:value syntax is:\n",
    "d={1:\"Atharva\",2:\"Python\",3:\"Anaconda\"}\n",
    "print(d)"
   ]
  },
  {
   "cell_type": "markdown",
   "id": "408246d0",
   "metadata": {},
   "source": [
    "## Accessing a dictionary:\n",
    "1. Access elements by using keys.\n",
    "2. Using for loop\n",
    "Accessing using for loop will be taught afterwards."
   ]
  },
  {
   "cell_type": "code",
   "execution_count": 5,
   "id": "f0d4aa5c",
   "metadata": {},
   "outputs": [
    {
     "name": "stdout",
     "output_type": "stream",
     "text": [
      "Atharva\n",
      "Python\n",
      "Anaconda\n"
     ]
    },
    {
     "ename": "KeyError",
     "evalue": "4",
     "output_type": "error",
     "traceback": [
      "\u001b[1;31m---------------------------------------------------------------------------\u001b[0m",
      "\u001b[1;31mKeyError\u001b[0m                                  Traceback (most recent call last)",
      "Cell \u001b[1;32mIn [5], line 6\u001b[0m\n\u001b[0;32m      4\u001b[0m \u001b[38;5;28mprint\u001b[39m(d[\u001b[38;5;241m2\u001b[39m])\n\u001b[0;32m      5\u001b[0m \u001b[38;5;28mprint\u001b[39m(d[\u001b[38;5;241m3\u001b[39m])\n\u001b[1;32m----> 6\u001b[0m \u001b[38;5;28mprint\u001b[39m(\u001b[43md\u001b[49m\u001b[43m[\u001b[49m\u001b[38;5;241;43m4\u001b[39;49m\u001b[43m]\u001b[49m)\n",
      "\u001b[1;31mKeyError\u001b[0m: 4"
     ]
    }
   ],
   "source": [
    "#Accessing a dictionary using keys.\n",
    "d={1:\"Atharva\",2:\"Python\",3:\"Anaconda\"}\n",
    "print(d[1])\n",
    "print(d[2])\n",
    "print(d[3])\n",
    "print(d[4])\n",
    "#Note here in d[1],d[2],d[3] 1,2,3 represents the keys and not index"
   ]
  },
  {
   "cell_type": "markdown",
   "id": "5d87a6e8",
   "metadata": {},
   "source": [
    "## Updating the element in a dictionary:\n",
    "d[key]=value\n",
    "If the key is not available then a new entry will be added to the dictionary with the specified key-value pair.\n",
    "\n",
    "If the key is already available then odd value will be replaced with the new value."
   ]
  },
  {
   "cell_type": "code",
   "execution_count": 8,
   "id": "cc333dcd",
   "metadata": {},
   "outputs": [
    {
     "name": "stdout",
     "output_type": "stream",
     "text": [
      "{1: 'Atharva', 2: 'Python', 3: 'Anaconda'}\n",
      "{1: 'Atharva', 2: 'Python', 3: 'Anaconda', 4: 'Sumit'}\n",
      "{1: 'Sun', 2: 'Python', 3: 'Anaconda', 4: 'Sumit'}\n"
     ]
    }
   ],
   "source": [
    "#Example for updating the element in a dictionary.\n",
    "d={1:\"Atharva\",2:\"Python\",3:\"Anaconda\"}\n",
    "print(d)\n",
    "d[4]=\"Sumit\"\n",
    "print(d)\n",
    "d[1]=\"Sun\"\n",
    "print(d)"
   ]
  },
  {
   "cell_type": "markdown",
   "id": "63fb37e4",
   "metadata": {},
   "source": [
    "##Clear function in a dictionary\n",
    "\n",
    "The clear() method empties the dictionary:\n",
    "\n",
    "Syntax for clear function is:\n",
    "\n",
    "dictionary_name.clear()\n",
    "\n",
    "If we print it always returns an empty dictionary."
   ]
  },
  {
   "cell_type": "code",
   "execution_count": 9,
   "id": "05e17232",
   "metadata": {},
   "outputs": [
    {
     "name": "stdout",
     "output_type": "stream",
     "text": [
      "{}\n"
     ]
    }
   ],
   "source": [
    "#Example of clear() function in dictionary.\n",
    "thisdict = {\"brand\": \"Ford\",\"model\": \"Mustang\",\"year\": 1964}\n",
    "thisdict.clear()\n",
    "print(thisdict)"
   ]
  },
  {
   "cell_type": "markdown",
   "id": "3eb9ead9",
   "metadata": {},
   "source": [
    "## copy() function in dictionary\n",
    "You cannot copy a dictionary simply by typing dict2 = dict1, because: dict2 will only be a reference to dict1, and changes made in dict1 will automatically also be made in dict2.\n",
    "\n",
    "There are ways to make a copy, one way is to use the built-in Dictionary method copy().\n",
    "\n",
    "Syntax for copy() function is:\n",
    "\n",
    "new_dictionary=dictionary_name.copy()\n",
    "\n",
    "or can create a copy using\n",
    "\n",
    "built-in function dict()\n",
    "\n",
    "new_dictionary=dict(dictionary_name)"
   ]
  },
  {
   "cell_type": "code",
   "execution_count": 10,
   "id": "96fdf2ab",
   "metadata": {},
   "outputs": [
    {
     "name": "stdout",
     "output_type": "stream",
     "text": [
      "{'brand': 'Ford', 'model': 'Mustang', 'year': 1964}\n"
     ]
    }
   ],
   "source": [
    "#Example of using a copy() function in dictionary:\n",
    "thisdict = {\"brand\": \"Ford\",\"model\": \"Mustang\",\"year\": 1964}\n",
    "mydict = thisdict.copy()\n",
    "print(mydict)"
   ]
  },
  {
   "cell_type": "code",
   "execution_count": 11,
   "id": "5e03bc82",
   "metadata": {},
   "outputs": [
    {
     "name": "stdout",
     "output_type": "stream",
     "text": [
      "{'brand': 'Ford', 'model': 'Mustang', 'year': 1964}\n"
     ]
    }
   ],
   "source": [
    "#Example of using a inbuilt function dict() in dictionary:\n",
    "thisdict = {\"brand\": \"Ford\",\"model\": \"Mustang\",\"year\": 1964}\n",
    "mydict = dict(thisdict)\n",
    "print(mydict)"
   ]
  },
  {
   "cell_type": "markdown",
   "id": "d1962b2f",
   "metadata": {},
   "source": [
    "## get() function in dictionary\n",
    "The get() method returns the value of the item with the specified key.\n",
    "\n",
    "Syntax\n",
    "\n",
    "dictionary.get(keyname, value)\n",
    "\n",
    "Parameter Values\n",
    "\n",
    "Parameter\tDescription\n",
    "\n",
    "keyname\tRequired. The keyname of the item you want to return the value from\n",
    "value\tOptional. A value to return if the specified key does not exist.\n",
    "Default value None\n"
   ]
  },
  {
   "cell_type": "code",
   "execution_count": 12,
   "id": "ac2d35d5",
   "metadata": {},
   "outputs": [
    {
     "name": "stdout",
     "output_type": "stream",
     "text": [
      "Mustang\n"
     ]
    }
   ],
   "source": [
    "#Example of usign get() in dictionary\n",
    "car = {\"brand\": \"Ford\",\"model\": \"Mustang\",\"year\": 1964}\n",
    "\n",
    "x = car.get(\"model\")\n",
    "\n",
    "print(x)"
   ]
  },
  {
   "cell_type": "code",
   "execution_count": 13,
   "id": "c586af5b",
   "metadata": {},
   "outputs": [
    {
     "name": "stdout",
     "output_type": "stream",
     "text": [
      "None\n"
     ]
    }
   ],
   "source": [
    "#Example of using get() in dictionary\n",
    "car = {\"brand\": \"Ford\",\"model\": \"Mustang\",\"year\": 1964}\n",
    "\n",
    "x = car.get(\"prize\")\n",
    "\n",
    "print(x)\n",
    "#In this example key named \"prize\" is not available then also no error will be displayed\n",
    "#but None output will come as no such key exist."
   ]
  },
  {
   "cell_type": "code",
   "execution_count": 14,
   "id": "616f5345",
   "metadata": {},
   "outputs": [
    {
     "name": "stdout",
     "output_type": "stream",
     "text": [
      "15000\n"
     ]
    }
   ],
   "source": [
    "#Example of using get() in dictionary\n",
    "car = {\"brand\": \"Ford\",\"model\": \"Mustang\",\"year\": 1964}\n",
    "\n",
    "x = car.get(\"prize\",15000)\n",
    "\n",
    "print(x)\n",
    "#In this example key named \"prize\" is not available then as we have provided the value\n",
    "#while calling get() function then the output will come as it is."
   ]
  },
  {
   "cell_type": "code",
   "execution_count": 15,
   "id": "4a425620",
   "metadata": {},
   "outputs": [
    {
     "name": "stdout",
     "output_type": "stream",
     "text": [
      "1964\n"
     ]
    }
   ],
   "source": [
    "#Example of using get() function in dictionary.\n",
    "#Example of using get() in dictionary\n",
    "car = {\"brand\": \"Ford\",\"model\": \"Mustang\",\"year\": 1964}\n",
    "\n",
    "x = car.get(\"year\",1984)\n",
    "\n",
    "print(x)\n",
    "#In this example key named year is already available and we are trying to update\n",
    "#then it will show the previous old one and not a new one.\n",
    "#If the key is not available then and then only it will show the new value."
   ]
  },
  {
   "cell_type": "markdown",
   "id": "06308970",
   "metadata": {},
   "source": [
    "## keys() function in dictionary. \n",
    "Also we can access keys using for loop\n",
    "\n",
    "The keys() method returns a view object. \n",
    "The view object contains the keys of the dictionary, as a list.\n",
    "\n",
    "The view object will reflect any changes done to the dictionary.\n",
    "\n",
    "Syntax\n",
    "\n",
    "dictionary.keys()"
   ]
  },
  {
   "cell_type": "code",
   "execution_count": 16,
   "id": "1d5c8b63",
   "metadata": {},
   "outputs": [
    {
     "name": "stdout",
     "output_type": "stream",
     "text": [
      "dict_keys([1, 2, 3])\n",
      "1\n",
      "2\n",
      "3\n"
     ]
    }
   ],
   "source": [
    "#Example of returing keys using keys() function in dictionary.\n",
    "d={1:\"Atharva\",2:\"Python\",3:\"Anaconda\"}\n",
    "print(d.keys())\n",
    "for i in d.keys():\n",
    "    print(i)"
   ]
  },
  {
   "cell_type": "markdown",
   "id": "dd010a07",
   "metadata": {},
   "source": [
    "## values() function in dictionary. \n",
    "Also we can access values using for loop\n",
    "\n",
    "The values() method returns a view object. \n",
    "The view object contains the values of the dictionary, as a list.\n",
    "\n",
    "The view object will reflect any changes done to the dictionary\n",
    "\n",
    "Syntax\n",
    "\n",
    "dictionary.values()"
   ]
  },
  {
   "cell_type": "code",
   "execution_count": 17,
   "id": "9fa08b08",
   "metadata": {},
   "outputs": [
    {
     "name": "stdout",
     "output_type": "stream",
     "text": [
      "dict_values(['Atharva', 'Python', 'Anaconda'])\n",
      "Atharva\n",
      "Python\n",
      "Anaconda\n"
     ]
    }
   ],
   "source": [
    "#Example of returing keys using keys() function in dictionary.\n",
    "d={1:\"Atharva\",2:\"Python\",3:\"Anaconda\"}\n",
    "print(d.values())\n",
    "for i in d.values():\n",
    "    print(i)"
   ]
  },
  {
   "cell_type": "markdown",
   "id": "ff33a862",
   "metadata": {},
   "source": [
    "## items() function in dictionary\n",
    "Both keys and values can be accessed using items() function in dictionary.\n",
    "\n",
    "The items() method returns a view object. \n",
    "The view object contains the key-value pairs of the dictionary, as tuples in a list.\n",
    "\n",
    "The view object will reflect any changes done to the dictionary\n",
    "\n",
    "Syntax\n",
    "\n",
    "dictionary.items()"
   ]
  },
  {
   "cell_type": "code",
   "execution_count": 19,
   "id": "57b88600",
   "metadata": {},
   "outputs": [
    {
     "name": "stdout",
     "output_type": "stream",
     "text": [
      "1 - Atharva\n",
      "2 - Python\n",
      "3 - Anaconda\n"
     ]
    }
   ],
   "source": [
    "#Example of returing keys using items() function in dictionary.\n",
    "d={1:\"Atharva\",2:\"Python\",3:\"Anaconda\"}\n",
    "\n",
    "for i,j in d.items():\n",
    "    print(i,\"-\",j)"
   ]
  },
  {
   "cell_type": "markdown",
   "id": "26e60260",
   "metadata": {},
   "source": [
    "## update() function in dictionary\n",
    "\n",
    "The update() method inserts the specified items to the dictionary.\n",
    "\n",
    "The specified items can be a dictionary, or an iterable object with key value pairs.\n",
    "\n",
    "Syntax\n",
    "\n",
    "dictionary.update(iterable)\n",
    "\n",
    "Parameter Values\n",
    "\n",
    "Parameter\tDescription\n",
    "\n",
    "iterable\tA dictionary or an iterable object with key value pairs, that will be inserted to the dictionary"
   ]
  },
  {
   "cell_type": "code",
   "execution_count": 22,
   "id": "58e71f7b",
   "metadata": {},
   "outputs": [
    {
     "name": "stdout",
     "output_type": "stream",
     "text": [
      "{1: 'Atharva', 2: 'Python', 3: 'Anaconda', 4: 'Aman', 5: 'Chinmay'}\n",
      "{4: 'Aman', 5: 'Chinmay'}\n"
     ]
    }
   ],
   "source": [
    "#Example of updating the elements in one dictionary from the new one.\n",
    "d={1:\"Atharva\",2:\"Python\",3:\"Anaconda\"}\n",
    "x={4:\"Aman\",5:\"Chinmay\"}\n",
    "d.update(x)\n",
    "print(d)\n",
    "print(x)\n",
    "\n",
    "#note the change in both a update in d and no effect in x."
   ]
  },
  {
   "cell_type": "code",
   "execution_count": 23,
   "id": "e0130dbd",
   "metadata": {},
   "outputs": [
    {
     "name": "stdout",
     "output_type": "stream",
     "text": [
      "{'brand': 'Ford', 'model': 'Mustang', 'year': 1964, 'color': 'White'}\n"
     ]
    }
   ],
   "source": [
    "#Example of update() function if key is not available\n",
    "car = {\"brand\": \"Ford\",\"model\": \"Mustang\",\"year\": 1964}\n",
    "\n",
    "car.update({\"color\": \"White\"})\n",
    "\n",
    "print(car)\n"
   ]
  },
  {
   "cell_type": "code",
   "execution_count": 24,
   "id": "b5e9ee94",
   "metadata": {},
   "outputs": [
    {
     "name": "stdout",
     "output_type": "stream",
     "text": [
      "{1: 'Atharva', 2: 'Aman', 3: 'Anaconda', 5: 'Chinmay'}\n",
      "{2: 'Aman', 5: 'Chinmay'}\n"
     ]
    }
   ],
   "source": [
    "#Example of update() if key is available\n",
    "d={1:\"Atharva\",2:\"Python\",3:\"Anaconda\"}\n",
    "x={2:\"Aman\",5:\"Chinmay\"}\n",
    "d.update(x)\n",
    "print(d)\n",
    "print(x)\n",
    "\n",
    "#note the change in both a update in d and no effect in x."
   ]
  },
  {
   "cell_type": "markdown",
   "id": "05d8a74e",
   "metadata": {},
   "source": [
    "## setdefault() function in dictionary\n",
    "\n",
    "The setdefault() method returns the value of the item with the specified key.\n",
    "\n",
    "If the key does not exist, insert the key, with the specified value, see example below\n",
    "\n",
    "Syntax\n",
    "\n",
    "dictionary.setdefault(keyname, value)\n",
    "\n",
    "Parameter Values\n",
    "Parameter\tDescription\n",
    "\n",
    "keyname\tRequired. The keyname of the item you want to return the value from\n",
    "value\tOptional.\n",
    "If the key exist, this parameter has no effect.\n",
    "If the key does not exist, this value becomes the key's value\n",
    "Default value None"
   ]
  },
  {
   "cell_type": "code",
   "execution_count": 25,
   "id": "41f0851a",
   "metadata": {},
   "outputs": [
    {
     "name": "stdout",
     "output_type": "stream",
     "text": [
      "Mustang\n"
     ]
    }
   ],
   "source": [
    "#Example of setdefault() function in dictionary\n",
    "car = {\"brand\": \"Ford\",\"model\": \"Mustang\",\"year\": 1964}\n",
    "\n",
    "x = car.setdefault(\"model\", \"Bronco\")\n",
    "\n",
    "print(x)"
   ]
  },
  {
   "cell_type": "code",
   "execution_count": 27,
   "id": "110d2731",
   "metadata": {},
   "outputs": [
    {
     "name": "stdout",
     "output_type": "stream",
     "text": [
      "white\n"
     ]
    }
   ],
   "source": [
    "#Example of setdefault() function in dictionary.\n",
    "car = {\"brand\": \"Ford\",\"model\": \"Mustang\",\"year\": 1964}\n",
    "\n",
    "x = car.setdefault(\"color\", \"white\")\n",
    "\n",
    "print(x)\n"
   ]
  },
  {
   "cell_type": "markdown",
   "id": "29c41e1a",
   "metadata": {},
   "source": [
    "# Sets in Python\n",
    "\n",
    "Sets are used to store multiple items in a single variable.\n",
    "\n",
    "Set is one of 4 built-in data types in Python used to store collections of data, the other 3 are List, Tuple, and Dictionary, all with different qualities and usage.\n",
    "\n",
    "A set is a collection which is unordered, unchangeable*, and unindexed.\n",
    "\n",
    "A Set is an unordered collection data type that is iterable, mutable and has no duplicate elements. \n",
    "\n",
    "Set are represented by { } (values enclosed in curly braces)\n",
    "\n",
    "The major advantage of using a set, as opposed to a list, is that it has a highly optimized method for checking whether a specific element is contained in the set. \n",
    "This is based on a data structure known as a hash table. Since sets are unordered, we cannot access items using indexes like we do in lists.\n",
    "\n",
    "However, a set itself is mutable. We can add or remove items from it.\n",
    "\n",
    "Sets can also be used to perform mathematical set operations like union, intersection, symmetric difference, etc.\n",
    "\n",
    "As set is unordered index cannot be used for accessing the set element."
   ]
  },
  {
   "cell_type": "markdown",
   "id": "194d72b8",
   "metadata": {},
   "source": [
    "## Creating Python Sets\n",
    "A set is created by placing all the items (elements) inside curly braces {}, separated by comma, or by using the built-in set() function.\n",
    "\n",
    "It can have any number of items and they may be of different types (integer, float, tuple, string etc.). But a set cannot have mutable elements like lists, sets or dictionaries as its elements."
   ]
  },
  {
   "cell_type": "code",
   "execution_count": 32,
   "id": "7c28ccb8",
   "metadata": {},
   "outputs": [
    {
     "name": "stdout",
     "output_type": "stream",
     "text": [
      "{'cherry', 'banana', 'apple'}\n",
      "<class 'set'>\n"
     ]
    }
   ],
   "source": [
    "#Example of creating a set\n",
    "thisset = {\"apple\", \"banana\", \"cherry\"}\n",
    "print(thisset)\n",
    "print(type(thisset))"
   ]
  },
  {
   "cell_type": "code",
   "execution_count": 29,
   "id": "faec0816",
   "metadata": {},
   "outputs": [
    {
     "name": "stdout",
     "output_type": "stream",
     "text": [
      "{'cherry', 'banana', 'apple'}\n"
     ]
    }
   ],
   "source": [
    "#Example of set() in which duplicates are not allowed.\n",
    "thisset = {\"apple\", \"banana\", \"cherry\", \"apple\"}\n",
    "\n",
    "print(thisset)\n"
   ]
  },
  {
   "cell_type": "code",
   "execution_count": 30,
   "id": "66deaace",
   "metadata": {},
   "outputs": [
    {
     "name": "stdout",
     "output_type": "stream",
     "text": [
      "{'cherry', 'banana', 'apple'}\n",
      "{1, 3, 5, 7, 9}\n",
      "{False, True}\n"
     ]
    }
   ],
   "source": [
    "#Example of set() of any datatype.\n",
    "set1 = {\"apple\", \"banana\", \"cherry\"}\n",
    "set2 = {1, 5, 7, 9, 3}\n",
    "set3 = {True, False, False}\n",
    "print(set1)\n",
    "print(set2)\n",
    "print(set3)\n"
   ]
  },
  {
   "cell_type": "code",
   "execution_count": 31,
   "id": "4f98eae3",
   "metadata": {},
   "outputs": [
    {
     "name": "stdout",
     "output_type": "stream",
     "text": [
      "{True, 34, 'male', 40, 'abc'}\n"
     ]
    }
   ],
   "source": [
    "#Example of set() of any datatype.\n",
    "set1 = {\"abc\", 34, True, 40, \"male\"}\n",
    "print(set1)"
   ]
  },
  {
   "cell_type": "code",
   "execution_count": 34,
   "id": "9dd16b97",
   "metadata": {},
   "outputs": [
    {
     "name": "stdout",
     "output_type": "stream",
     "text": [
      "{1, 2, 3, 4}\n"
     ]
    }
   ],
   "source": [
    "#Example of creating a set using inbuilt function set()\n",
    "l=[1,2,3,4]\n",
    "s=set(l)\n",
    "print(s)"
   ]
  },
  {
   "cell_type": "code",
   "execution_count": 35,
   "id": "c998cc99",
   "metadata": {},
   "outputs": [
    {
     "name": "stdout",
     "output_type": "stream",
     "text": [
      "<class 'dict'>\n"
     ]
    }
   ],
   "source": [
    "#Example of {}\n",
    "a={}\n",
    "print(type(a))\n",
    "#a={} is considered as an empty dictionary and not as an empty set."
   ]
  },
  {
   "cell_type": "code",
   "execution_count": 36,
   "id": "1f904a09",
   "metadata": {},
   "outputs": [
    {
     "name": "stdout",
     "output_type": "stream",
     "text": [
      "<class 'set'>\n"
     ]
    }
   ],
   "source": [
    "#Example of creating empty set using set() inbuilt function.\n",
    "a=set()\n",
    "print(type(a))"
   ]
  },
  {
   "cell_type": "markdown",
   "id": "f21d1019",
   "metadata": {},
   "source": [
    "# Mathematical Operations on set\n",
    "1. Union\n",
    "2. Intersection\n",
    "3. Difference()\n",
    "4. Symmetric Difference()"
   ]
  },
  {
   "cell_type": "markdown",
   "id": "7fc5e01c",
   "metadata": {},
   "source": [
    "1. union() Method\n",
    "The union() method returns a set that contains all items from the original set, and all items from the specified set(s).\n",
    "\n",
    "You can specify as many sets you want, separated by commas.\n",
    "\n",
    "It does not have to be a set, it can be any iterable object.\n",
    "\n",
    "If an item is present in more than one set, the result will contain only one appearance of this item.\n",
    "\n",
    "Syntax\n",
    "\n",
    "set.union(set1, set2...)\n",
    "\n",
    "Parameter Values\n",
    "\n",
    "Parameter\tDescription\n",
    "\n",
    "set1\tRequired. The iterable to unify with\n",
    "set2\tOptional. The other iterable to unify with.\n",
    "You can compare as many iterables as you like.\n",
    "Separate each iterable with a comma\n",
    "\n",
    "Symbol for union or |."
   ]
  },
  {
   "cell_type": "code",
   "execution_count": 37,
   "id": "77cd3b6b",
   "metadata": {},
   "outputs": [
    {
     "name": "stdout",
     "output_type": "stream",
     "text": [
      "{'b', 'f', 'c', 'e', 'a', 'd'}\n"
     ]
    }
   ],
   "source": [
    "#Example of union() in set.\n",
    "x = {\"a\", \"b\", \"c\"}\n",
    "y = {\"f\", \"d\", \"a\"}\n",
    "z = {\"c\", \"d\", \"e\"}\n",
    "\n",
    "result = x.union(y, z)\n",
    "\n",
    "print(result)"
   ]
  },
  {
   "cell_type": "markdown",
   "id": "d76e2701",
   "metadata": {},
   "source": [
    "2. intersection() Method\n",
    "The intersection() method returns a set that contains the similarity between two or more sets.\n",
    "\n",
    "Meaning: The returned set contains only items that exist in both sets, or in all sets if the comparison is done with more than two sets.\n",
    "\n",
    "\n",
    "Syntax\n",
    "\n",
    "set.intersection(set1, set2 ... etc)\n",
    "\n",
    "Parameter Values\n",
    "Parameter\tDescription\n",
    "\n",
    "set1\tRequired. The set to search for equal items in\n",
    "set2\tOptional. The other set to search for equal items in.\n",
    "You can compare as many sets you like.\n",
    "Separate the sets with a comma\n",
    "\n",
    "Symbol for intersection or &."
   ]
  },
  {
   "cell_type": "code",
   "execution_count": 38,
   "id": "688a8d4e",
   "metadata": {},
   "outputs": [
    {
     "name": "stdout",
     "output_type": "stream",
     "text": [
      "{'c'}\n"
     ]
    }
   ],
   "source": [
    "#Example for intersection() in a set.\n",
    "x = {\"a\", \"b\", \"c\"}\n",
    "y = {\"c\", \"d\", \"e\"}\n",
    "z = {\"f\", \"g\", \"c\"}\n",
    "\n",
    "result = x.intersection(y, z)\n",
    "\n",
    "print(result)"
   ]
  },
  {
   "cell_type": "markdown",
   "id": "45e07184",
   "metadata": {},
   "source": [
    "3. difference() method\n",
    "\n",
    "The difference() method returns a set that contains the difference between two sets.\n",
    "\n",
    "Meaning: The returned set contains items that exist only in the first set, and not in both sets.\n",
    "\n",
    "Syntax\n",
    "\n",
    "set.difference(set)\n",
    "\n",
    "Parameter Values\n",
    "Parameter\tDescription\n",
    "set\tRequired. The set to check for differences in\n",
    "\n",
    "Symbol for difference is difference or -.\n"
   ]
  },
  {
   "cell_type": "code",
   "execution_count": 39,
   "id": "c47f1ed8",
   "metadata": {},
   "outputs": [
    {
     "name": "stdout",
     "output_type": "stream",
     "text": [
      "{'microsoft', 'google'}\n"
     ]
    }
   ],
   "source": [
    "#Example of difference() in a set.\n",
    "x = {\"apple\", \"banana\", \"cherry\"}\n",
    "y = {\"google\", \"microsoft\", \"apple\"}\n",
    "\n",
    "z = y.difference(x)\n",
    "\n",
    "print(z)"
   ]
  },
  {
   "cell_type": "markdown",
   "id": "39b6aea9",
   "metadata": {},
   "source": [
    "4. Symmetric Difference() in a set.\n",
    "\n",
    "The symmetric_difference() method returns a set that contains all items from both set, but not the items that are present in both sets.\n",
    "\n",
    "Meaning: The returned set contains a mix of items that are not present in both sets.\n",
    "\n",
    "Syntax\n",
    "\n",
    "set.symmetric_difference(set)\n",
    "\n",
    "Parameter Values\n",
    "\n",
    "Parameter\tDescription\n",
    "\n",
    "set\tRequired. The set to check for matches in\n",
    "\n",
    "Symbol for symmetric_difference is symmetric_difference or -.\n"
   ]
  },
  {
   "cell_type": "code",
   "execution_count": 40,
   "id": "b5bf5da2",
   "metadata": {},
   "outputs": [
    {
     "name": "stdout",
     "output_type": "stream",
     "text": [
      "{'microsoft', 'google', 'cherry', 'banana'}\n"
     ]
    }
   ],
   "source": [
    "#Example of symmetric difference mathematical operation in a set.\n",
    "x = {\"apple\", \"banana\", \"cherry\"}\n",
    "y = {\"google\", \"microsoft\", \"apple\"}\n",
    "\n",
    "z = x.symmetric_difference(y)\n",
    "\n",
    "print(z)\n"
   ]
  },
  {
   "cell_type": "markdown",
   "id": "68a3987d",
   "metadata": {},
   "source": [
    "issubset() method in set.\n",
    "\n",
    "The issubset() method returns True if all items in the set exists in the specified set, otherwise it retuns False.\n",
    "\n",
    "Syntax\n",
    "\n",
    "set.issubset(set)\n",
    "\n",
    "Parameter Values\n",
    "Parameter\tDescription\n",
    "set\tRequired. The set to search for equal items in"
   ]
  },
  {
   "cell_type": "code",
   "execution_count": 41,
   "id": "8d8bd748",
   "metadata": {},
   "outputs": [
    {
     "name": "stdout",
     "output_type": "stream",
     "text": [
      "False\n"
     ]
    }
   ],
   "source": [
    "#Example of issubset() in set\n",
    "x = {\"a\", \"b\", \"c\"}\n",
    "y = {\"f\", \"e\", \"d\", \"c\", \"b\"}\n",
    "\n",
    "z = x.issubset(y)\n",
    "\n",
    "print(z)"
   ]
  },
  {
   "cell_type": "code",
   "execution_count": 42,
   "id": "b92f6a73",
   "metadata": {},
   "outputs": [
    {
     "name": "stdout",
     "output_type": "stream",
     "text": [
      "True\n"
     ]
    }
   ],
   "source": [
    "#Example of issubset() in set\n",
    "x = {\"a\", \"b\", \"c\"}\n",
    "y = {\"f\", \"e\", \"d\", \"c\", \"b\",\"a\"}\n",
    "\n",
    "z = x.issubset(y)\n",
    "\n",
    "print(z)"
   ]
  },
  {
   "cell_type": "markdown",
   "id": "b932ccf6",
   "metadata": {},
   "source": [
    "issuperset() method in set.\n",
    "The issuperset() method returns True if all items in the specified set exists in the original set, otherwise it retuns False.\n",
    "\n",
    "Syntax\n",
    "set.issuperset(set)\n",
    "\n",
    "Parameter Values\n",
    "Parameter\tDescription\n",
    "set\tRequired. The set to search for equal items in"
   ]
  },
  {
   "cell_type": "code",
   "execution_count": 43,
   "id": "566a2beb",
   "metadata": {},
   "outputs": [
    {
     "name": "stdout",
     "output_type": "stream",
     "text": [
      "False\n"
     ]
    }
   ],
   "source": [
    "#Example of issuperset() in set\n",
    "\n",
    "x = {\"f\", \"e\", \"d\", \"c\", \"b\"}\n",
    "y = {\"a\", \"b\", \"c\"}\n",
    "\n",
    "z = x.issuperset(y)\n",
    "\n",
    "print(z)\n"
   ]
  },
  {
   "cell_type": "code",
   "execution_count": 44,
   "id": "5cb92548",
   "metadata": {},
   "outputs": [
    {
     "name": "stdout",
     "output_type": "stream",
     "text": [
      "True\n"
     ]
    }
   ],
   "source": [
    "#Example of issuperset() in set\n",
    "\n",
    "x = {\"f\", \"e\", \"d\", \"c\", \"b\",\"a\"}\n",
    "y = {\"a\", \"b\", \"c\"}\n",
    "\n",
    "z = x.issuperset(y)\n",
    "\n",
    "print(z)\n"
   ]
  },
  {
   "cell_type": "markdown",
   "id": "d95883b6",
   "metadata": {},
   "source": [
    "copy() function in set\n",
    "The copy() method copies the set.\n",
    "\n",
    "Syntax\n",
    "set.copy()"
   ]
  },
  {
   "cell_type": "code",
   "execution_count": 45,
   "id": "0e416d77",
   "metadata": {},
   "outputs": [
    {
     "name": "stdout",
     "output_type": "stream",
     "text": [
      "{'cherry', 'banana', 'apple'}\n"
     ]
    }
   ],
   "source": [
    "#Example of copy() function in set\n",
    "fruits = {\"apple\", \"banana\", \"cherry\"}\n",
    "\n",
    "x = fruits.copy()\n",
    "\n",
    "print(x)"
   ]
  },
  {
   "cell_type": "markdown",
   "id": "ee237a35",
   "metadata": {},
   "source": [
    "frozenset() in set.\n",
    "\n",
    "Python frozenset() Method creates an immutable Set object from an iterable. It is a built-in Python function. As it is a set object therefore we cannot have duplicate values in the frozenset.\n",
    "\n",
    "frozenset() in Python\n",
    "\n",
    "Syntax : frozenset(iterable_object_name)\n",
    "\n",
    "Parameter : iterable_object_name\n",
    "\n",
    "This function accepts iterable object as input parameter.\n",
    "Return :  Returns an equivalent frozenset object.\n",
    "\n",
    "Using frozenset() Method on tuple\n",
    "If no parameters are passed to frozenset() function, then it returns an empty frozenset type object in Python.  "
   ]
  },
  {
   "cell_type": "code",
   "execution_count": 46,
   "id": "5c35c6f0",
   "metadata": {},
   "outputs": [
    {
     "name": "stdout",
     "output_type": "stream",
     "text": [
      "frozenset Object is :  frozenset({'Geeks', 'for'})\n"
     ]
    }
   ],
   "source": [
    "#Example of frozenset() in set.\n",
    "l = [\"Geeks\", \"for\", \"Geeks\"]\n",
    "  \n",
    "# converting tuple to frozenset\n",
    "fnum = frozenset(l)\n",
    "  \n",
    "# printing empty frozenset object\n",
    "print(\"frozenset Object is : \", fnum)"
   ]
  },
  {
   "cell_type": "code",
   "execution_count": 47,
   "id": "1ceb7f14",
   "metadata": {},
   "outputs": [
    {
     "ename": "TypeError",
     "evalue": "'frozenset' object does not support item assignment",
     "output_type": "error",
     "traceback": [
      "\u001b[1;31m---------------------------------------------------------------------------\u001b[0m",
      "\u001b[1;31mTypeError\u001b[0m                                 Traceback (most recent call last)",
      "Cell \u001b[1;32mIn [47], line 9\u001b[0m\n\u001b[0;32m      6\u001b[0m f_subject \u001b[38;5;241m=\u001b[39m \u001b[38;5;28mfrozenset\u001b[39m(favourite_subject)\n\u001b[0;32m      8\u001b[0m \u001b[38;5;66;03m# below line will generate error\u001b[39;00m\n\u001b[1;32m----> 9\u001b[0m \u001b[43mf_subject\u001b[49m\u001b[43m[\u001b[49m\u001b[38;5;241;43m1\u001b[39;49m\u001b[43m]\u001b[49m \u001b[38;5;241m=\u001b[39m \u001b[38;5;124m\"\u001b[39m\u001b[38;5;124mNetworking\u001b[39m\u001b[38;5;124m\"\u001b[39m\n",
      "\u001b[1;31mTypeError\u001b[0m: 'frozenset' object does not support item assignment"
     ]
    }
   ],
   "source": [
    "#Example of frozenset() to show immutable() in set.\n",
    "# creating a list\n",
    "favourite_subject = [\"OS\", \"DBMS\", \"Algo\"]\n",
    " \n",
    "# creating a frozenset\n",
    "f_subject = frozenset(favourite_subject)\n",
    " \n",
    "# below line will generate error\n",
    "f_subject[1] = \"Networking\""
   ]
  },
  {
   "cell_type": "markdown",
   "id": "ab4815aa",
   "metadata": {},
   "source": [
    "# lambda functions\n",
    "A lambda function is a small anonymous function.\n",
    "\n",
    "A lambda function can take any number of arguments, but can only have one expression.\n",
    "\n",
    "Syntax\n",
    "lambda arguments : expression\n",
    "The expression is executed and the result is returned:\n",
    "\n",
    "Lambda functions can be used whenever function arguments are necessary. In addition to other forms of formulations in functions, it has a variety of applications in certain coding domains. It's important to remember that according to syntax, lambda functions are limited to a single statement."
   ]
  },
  {
   "cell_type": "code",
   "execution_count": 49,
   "id": "3c0457ea",
   "metadata": {},
   "outputs": [
    {
     "name": "stdout",
     "output_type": "stream",
     "text": [
      "<function <lambda> at 0x000002BF9AC46F80>\n"
     ]
    }
   ],
   "source": [
    "#Example: Lambda Function Example\n",
    "\n",
    "# Python program to demonstrate # lambda functions\n",
    "string ='GeeksforGeeks'\n",
    "# lambda returns a function object \n",
    "print(lambda string : string) "
   ]
  },
  {
   "cell_type": "markdown",
   "id": "0ea61e41",
   "metadata": {},
   "source": [
    "In this above example, the lambda is not being called by the print function but simply returning the function object and the memory location where it is stored.\n",
    "So, to make the print to print the string first we need to call the lambda so that the string will get pass the print.\n"
   ]
  },
  {
   "cell_type": "markdown",
   "id": "c7b78105",
   "metadata": {},
   "source": [
    "Difference Between Lambda functions and def defined function\n",
    "Let’s look at this example and try to understand the difference between a normal def defined function and lambda function.\n"
   ]
  },
  {
   "cell_type": "code",
   "execution_count": 50,
   "id": "8e5d56af",
   "metadata": {},
   "outputs": [],
   "source": [
    "#Program with a normal function\n",
    "def squareit(n):\n",
    "    return n*n"
   ]
  },
  {
   "cell_type": "code",
   "execution_count": 51,
   "id": "009e8569",
   "metadata": {},
   "outputs": [
    {
     "name": "stdout",
     "output_type": "stream",
     "text": [
      "The square of 4 is: 16\n",
      "The square of 5 is: 25\n"
     ]
    }
   ],
   "source": [
    "#Program with a lambda function to find square of a given number:\n",
    "s=lambda n:n*n\n",
    "print(\"The square of 4 is:\",s(4))\n",
    "print(\"The square of 5 is:\",s(5))"
   ]
  },
  {
   "cell_type": "code",
   "execution_count": 52,
   "id": "dc76aca6",
   "metadata": {},
   "outputs": [
    {
     "name": "stdout",
     "output_type": "stream",
     "text": [
      "2\n"
     ]
    }
   ],
   "source": [
    "#Python Lambda Function with if-else\n",
    "# Example of lambda function using if-else \n",
    "Max = lambda a, b : a if(a > b) else b\n",
    "\n",
    "print(Max(1, 2))\n"
   ]
  },
  {
   "cell_type": "markdown",
   "id": "12e7896a",
   "metadata": {},
   "source": [
    "Using lambda() Function with filter()\n",
    "The filter() function in Python takes in a function and a list as arguments. This offers an elegant way to filter out all the elements of a sequence “sequence”, for which the function returns True. Here is a small program that returns the odd numbers from an input list:"
   ]
  },
  {
   "cell_type": "code",
   "execution_count": 53,
   "id": "2657fa65",
   "metadata": {},
   "outputs": [
    {
     "name": "stdout",
     "output_type": "stream",
     "text": [
      "[5, 7, 97, 77, 23, 73, 61]\n"
     ]
    }
   ],
   "source": [
    "# Python code to illustrate # filter() with lambda()\n",
    "\n",
    "li = [5, 7, 22, 97, 54, 62, 77, 23, 73, 61]\n",
    "final_list = list(filter(lambda x: (x%2 != 0) , li)) \n",
    "print(final_list)\n"
   ]
  },
  {
   "cell_type": "code",
   "execution_count": 54,
   "id": "84c72297",
   "metadata": {},
   "outputs": [
    {
     "name": "stdout",
     "output_type": "stream",
     "text": [
      "[90, 59, 21, 60]\n"
     ]
    }
   ],
   "source": [
    "# Python 3 code to people above 18 yrs \n",
    "ages = [13, 90, 17, 59, 21, 60, 5]\n",
    "adults = list(filter(lambda age: age>18, ages)) \n",
    "print(adults)\n"
   ]
  },
  {
   "cell_type": "markdown",
   "id": "659eee33",
   "metadata": {},
   "source": [
    "Using lambda() Function with map()\n",
    "The map() function in Python takes in a function and a list as an argument. The function is called with a lambda function and a list and a new list is returned which contains all the lambda modified items returned by that function for each item. Example:"
   ]
  },
  {
   "cell_type": "code",
   "execution_count": 55,
   "id": "f95a0d69",
   "metadata": {},
   "outputs": [
    {
     "name": "stdout",
     "output_type": "stream",
     "text": [
      "[10, 14, 44, 194, 108, 124, 154, 46, 146, 122]\n"
     ]
    }
   ],
   "source": [
    "# Python code to illustrate # map() with lambda()\n",
    "# to get double of a list.\n",
    "li = [5, 7, 22, 97, 54, 62, 77, 23, 73, 61]\n",
    "final_list = list(map(lambda x: x*2, li)) \n",
    "print(final_list)"
   ]
  },
  {
   "cell_type": "code",
   "execution_count": 56,
   "id": "c2798992",
   "metadata": {},
   "outputs": [
    {
     "name": "stdout",
     "output_type": "stream",
     "text": [
      "['DOG', 'CAT', 'PARROT', 'RABBIT']\n"
     ]
    }
   ],
   "source": [
    "# Python program to demonstrate # use of lambda() function\n",
    "# with map() function\n",
    "animals = ['dog', 'cat', 'parrot', 'rabbit']\n",
    "# here we intend to change all animal names # to upper case and return the same\n",
    " \n",
    "uppered_animals = list(map(lambda animal: str.upper(animal), animals)) \n",
    "print(uppered_animals)\n",
    "\n"
   ]
  },
  {
   "cell_type": "markdown",
   "id": "fcc22ff3",
   "metadata": {},
   "source": [
    "Using lambda() Function with reduce()\n",
    "The reduce() function in Python takes in a function and a list as an argument. The function is called with a lambda function and an iterable and a new reduced result is returned. This performs a repetitive operation over the pairs of the iterable. The reduce() function belongs to the functools module."
   ]
  },
  {
   "cell_type": "code",
   "execution_count": 57,
   "id": "bf3dd7ef",
   "metadata": {},
   "outputs": [
    {
     "name": "stdout",
     "output_type": "stream",
     "text": [
      "193\n"
     ]
    }
   ],
   "source": [
    "# Python code to illustrate # reduce() with lambda() # to get sum of a list\n",
    "from functools import reduce \n",
    "li = [5, 8, 10, 20, 50, 100]\n",
    "sum = reduce((lambda x, y: x + y), li) \n",
    "print (sum)"
   ]
  },
  {
   "cell_type": "code",
   "execution_count": 58,
   "id": "b5f255e4",
   "metadata": {},
   "outputs": [
    {
     "name": "stdout",
     "output_type": "stream",
     "text": [
      "The maximum element of the list is : 6\n"
     ]
    }
   ],
   "source": [
    "# python code to demonstrate working of reduce() # with a lambda function\n",
    "# importing functools for reduce() \n",
    "import functools\n",
    "# initializing list\n",
    "lis = [ 1 , 3, 5, 6, 2, ]\n",
    "# using reduce to compute maximum element from list \n",
    "print (\"The maximum element of the list is : \",end=\"\") \n",
    "print (functools.reduce(lambda a,b : a if a > b else b, lis))"
   ]
  },
  {
   "cell_type": "code",
   "execution_count": 60,
   "id": "afa6351d",
   "metadata": {},
   "outputs": [
    {
     "name": "stdout",
     "output_type": "stream",
     "text": [
      "Sum of all elements in given list:  83\n"
     ]
    }
   ],
   "source": [
    "#1.\tWrite a Python program to find the sum of all the elements in the list.\n",
    "total = 0\n",
    "list1 = [2,6,9,10,56]\n",
    "\n",
    "for num in range(0, len(list1)):\n",
    "    total = total + list1[num]\n",
    "print(\"Sum of all elements in given list: \", total)\n"
   ]
  },
  {
   "cell_type": "code",
   "execution_count": 61,
   "id": "82e7a9a0",
   "metadata": {},
   "outputs": [
    {
     "name": "stdout",
     "output_type": "stream",
     "text": [
      "46\n",
      "78\n",
      "98\n"
     ]
    }
   ],
   "source": [
    "#2.\tWrite a Python program to print the even numbers from a given list.\n",
    "l = [23,46,78,98,11]\n",
    "for i in l:\n",
    "    if i%2 == 0:\n",
    "        print(i)\n",
    "    else:\n",
    "        pass"
   ]
  },
  {
   "cell_type": "code",
   "execution_count": 65,
   "id": "8d6cd778",
   "metadata": {},
   "outputs": [
    {
     "name": "stdout",
     "output_type": "stream",
     "text": [
      "98\n",
      "23\n"
     ]
    }
   ],
   "source": [
    "#3. Write a Python Program to print the largest even and largest odd number in a list.\n",
    "l = [23,46,78,98,11]\n",
    "for i in range(len(l)):\n",
    "    if l[i] %2 == 0:\n",
    "        maxe = l[i]\n",
    "    if l[i] %2 == 1:\n",
    "        maxo = l[i]\n",
    "for i in range(len(l)):\n",
    "    if l[i] >= maxe and l[i]%2 == 0:\n",
    "        maxe = l[i]\n",
    "    if l[i] >= maxo and l[i]%2 == 1:\n",
    "        maxo = l[i]\n",
    "print(maxe)\n",
    "print(maxo)"
   ]
  },
  {
   "cell_type": "code",
   "execution_count": 1,
   "id": "fc53670e",
   "metadata": {},
   "outputs": [
    {
     "name": "stdout",
     "output_type": "stream",
     "text": [
      "Original List: [1, 2, 3, 4, 5]\n",
      "List after swapping first and last elements: [5, 2, 3, 4, 1]\n"
     ]
    }
   ],
   "source": [
    "#4.\tWrite a Python program to swap first and last element of the list.\n",
    "def swap_first_last(lst):\n",
    "    # Check if the list has at least two elements\n",
    "    if len(lst) >= 2:\n",
    "        # Swap the first and last elements\n",
    "        lst[0], lst[-1] = lst[-1], lst[0]\n",
    "    else:\n",
    "        print(\"List should have at least two elements for swapping.\")\n",
    "\n",
    "# Example usage:\n",
    "my_list = [1, 2, 3, 4, 5]\n",
    "print(\"Original List:\", my_list)\n",
    "\n",
    "swap_first_last(my_list)\n",
    "\n",
    "print(\"List after swapping first and last elements:\", my_list)\n",
    "\n"
   ]
  },
  {
   "cell_type": "code",
   "execution_count": 67,
   "id": "4a77c51c",
   "metadata": {},
   "outputs": [
    {
     "name": "stdout",
     "output_type": "stream",
     "text": [
      "Enter list : [1,2,3,4]\n",
      "[4, 3, 2, 1]\n"
     ]
    }
   ],
   "source": [
    "#5. Write a Python program of Reversing a List.\n",
    "def reverse(l):\n",
    "    return l[::-1]\n",
    "newlist = eval(input(\"Enter list : \"))\n",
    "print(reverse(newlist))\n"
   ]
  },
  {
   "cell_type": "code",
   "execution_count": 71,
   "id": "8eee627f",
   "metadata": {},
   "outputs": [
    {
     "name": "stdout",
     "output_type": "stream",
     "text": [
      "Enter list : [12,23,34,45,56,78]\n",
      "248\n"
     ]
    }
   ],
   "source": [
    "#6. Write a Python function to sum all the numbers in a list.\n",
    "l = eval(input(\"Enter list : \")) \n",
    "sum=0\n",
    "for i in l:\n",
    "    sum=sum+i\n",
    "print(sum)"
   ]
  },
  {
   "cell_type": "code",
   "execution_count": 72,
   "id": "f1e5c017",
   "metadata": {},
   "outputs": [
    {
     "name": "stdout",
     "output_type": "stream",
     "text": [
      "None\n",
      "{'d': 6, 'c': 4, 'a': 10, 'b': 8}\n"
     ]
    }
   ],
   "source": [
    "#7. Write a python program to merge 2 dictionaries.\n",
    "def Merge(dict1, dict2):\n",
    "    return(dict2.update(dict1))\n",
    " \n",
    "dict1 = {'a': 10, 'b': 8}\n",
    "\n",
    "dict2 = {'d': 6, 'c': 4}\n",
    "\n",
    "print(Merge(dict1,dict2))\n",
    "\n",
    "print(dict2)\n",
    "\n"
   ]
  },
  {
   "cell_type": "code",
   "execution_count": 73,
   "id": "d264e84d",
   "metadata": {},
   "outputs": [
    {
     "name": "stdout",
     "output_type": "stream",
     "text": [
      "23900\n"
     ]
    }
   ],
   "source": [
    "#8. Python Program to Multiply All the Items in a Dictionary\n",
    "d={'A':10,'B':10,'C':239}\n",
    "tot=1\n",
    "for i in d:    \n",
    "    tot=tot*d[i]\n",
    "print(tot)"
   ]
  },
  {
   "cell_type": "code",
   "execution_count": 88,
   "id": "4cf0cdb3",
   "metadata": {},
   "outputs": [
    {
     "name": "stdout",
     "output_type": "stream",
     "text": [
      "[['B', 21], ['C', 26], ['A', 34]]\n"
     ]
    }
   ],
   "source": [
    "#9. Python Program to Sort a List According to the Second Element in Sublist.\n",
    "a=[['A',34],['B',21],['C',26]]\n",
    "for i in range(0,len(a)):\n",
    "    for j in range(0,len(a)-i-1):\n",
    "        if(a[j][1]>a[j+1][1]):\n",
    "            temp=a[j]\n",
    "            a[j]=a[j+1]\n",
    "            a[j+1]=temp\n",
    "print(a)"
   ]
  },
  {
   "cell_type": "code",
   "execution_count": 81,
   "id": "9898422d",
   "metadata": {},
   "outputs": [
    {
     "name": "stdout",
     "output_type": "stream",
     "text": [
      "Enter the number of elements in list:4\n",
      "Enter element1:abhi\n",
      "Enter element2:santiji\n",
      "Enter element3:funday\n",
      "Enter element4:jugnooo\n",
      "The word with the longest length is:\n",
      "santiji\n"
     ]
    }
   ],
   "source": [
    "#10. Python Program to Return the Length of the Longest Word from the List of Words\n",
    "a=[]\n",
    "n= int(input(\"Enter the number of elements in list:\"))\n",
    "for x in range(0,n):\n",
    "    element=input(\"Enter element\" + str(x+1) + \":\")\n",
    "    a.append(element)\n",
    "max1=len(a[0])\n",
    "temp=a[0]\n",
    "for i in a:\n",
    "    if(len(i)>max1):\n",
    "        max1=len(i)\n",
    "        temp=i\n",
    "print(\"The word with the longest length is:\")\n",
    "print(temp)"
   ]
  },
  {
   "cell_type": "code",
   "execution_count": 83,
   "id": "47cedc2e",
   "metadata": {},
   "outputs": [
    {
     "name": "stdout",
     "output_type": "stream",
     "text": [
      "Original list:\n",
      "[0, 1, 2]\n",
      "[3, 4, 5]\n",
      "\n",
      "Result: after adding two list\n",
      "[3, 5, 7]\n"
     ]
    }
   ],
   "source": [
    "# 11. Write a Python program to add two given lists using map and lambda.\n",
    "nums1 = [0, 1, 2]\n",
    "\n",
    "nums2 = [3, 4, 5]\n",
    "\n",
    "print(\"Original list:\")\n",
    "\n",
    "print(nums1)\n",
    "\n",
    "print(nums2)\n",
    "\n",
    "result = map(lambda x, y: x + y, nums1, nums2)\n",
    "\n",
    "print(\"\\nResult: after adding two list\")\n",
    "\n",
    "print(list(result))\n"
   ]
  },
  {
   "cell_type": "code",
   "execution_count": 87,
   "id": "6dbaf160",
   "metadata": {},
   "outputs": [
    {
     "name": "stdout",
     "output_type": "stream",
     "text": [
      "Original list:\n",
      "[-19, 38, 89, 788, 453, 233, 26]\n",
      "[-19, 38, 26]\n"
     ]
    }
   ],
   "source": [
    "#12.Write a Python program to find numbers divisible by nineteen or thirteen from a list of numbers using Lambda.\n",
    "nums = [-19,38,89,788,453,233,26]\n",
    "print(\"Original list:\") \n",
    "print(nums)\n",
    "l = list(filter(lambda x : x%19==0 or x%13 == 0, nums)) \n",
    "print(l)\n"
   ]
  },
  {
   "cell_type": "code",
   "execution_count": 91,
   "id": "ac172ae8",
   "metadata": {},
   "outputs": [
    {
     "name": "stdout",
     "output_type": "stream",
     "text": [
      "3021988804800\n",
      "3021988798656\n",
      "3021988213632\n",
      "True\n",
      "False\n",
      "False\n",
      "False\n"
     ]
    }
   ],
   "source": [
    "#13. Write a python program to compare the three lists.\n",
    "listl = [1,2,3]\n",
    "list2 = [1,2,3] \n",
    "list3=list1 \n",
    "print(id(listl)) \n",
    "print(id(list2)) \n",
    "print(id(list3))\n",
    "if (listl == list2):\n",
    "    print(\"True\")\n",
    "else:\n",
    "    print(\"False\")\n",
    "\n",
    "if (listl is list2): \n",
    "    print(\"True\")\n",
    "else:\n",
    "    print(\"False\")\n",
    "\n",
    "if (listl is list3):\n",
    "    print(\"True\")\n",
    "else:\n",
    "    print(\"False\")\n",
    "\n",
    "list3 = list3 + list2\n",
    "\n",
    "if (listl is list3):\n",
    "    print(\"True\")\n",
    "else:\n",
    "    print(\"False\")\n"
   ]
  },
  {
   "cell_type": "code",
   "execution_count": 92,
   "id": "018a7210",
   "metadata": {},
   "outputs": [
    {
     "name": "stdout",
     "output_type": "stream",
     "text": [
      "Enter first number:10\n",
      "Enter second number:20\n",
      "Enter third number:34\n",
      "10 20 34\n",
      "10 34 20\n",
      "20 10 34\n",
      "20 34 10\n",
      "34 10 20\n",
      "34 20 10\n"
     ]
    }
   ],
   "source": [
    "#14. Python Program to Print All Possible Combinations of Three Digits\n",
    "a=int(input(\"Enter first number:\"))\n",
    "b=int(input(\"Enter second number:\"))\n",
    "c=int(input(\"Enter third number:\"))\n",
    "d=[]\n",
    "d.append(a)\n",
    "d.append(b)\n",
    "d.append(c)\n",
    "for i in range(0,3):\n",
    "    for j in range(0,3):\n",
    "        for k in range(0,3):\n",
    "            if(i!=j&j!=k&k!=i):\n",
    "                print(d[i],d[j],d[k])"
   ]
  },
  {
   "cell_type": "code",
   "execution_count": null,
   "id": "9fec1eb1",
   "metadata": {},
   "outputs": [],
   "source": []
  }
 ],
 "metadata": {
  "kernelspec": {
   "display_name": "Python 3 (ipykernel)",
   "language": "python",
   "name": "python3"
  },
  "language_info": {
   "codemirror_mode": {
    "name": "ipython",
    "version": 3
   },
   "file_extension": ".py",
   "mimetype": "text/x-python",
   "name": "python",
   "nbconvert_exporter": "python",
   "pygments_lexer": "ipython3",
   "version": "3.11.3"
  }
 },
 "nbformat": 4,
 "nbformat_minor": 5
}
