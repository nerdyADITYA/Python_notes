{
 "cells": [
  {
   "cell_type": "code",
   "execution_count": 4,
   "id": "67a7a581",
   "metadata": {},
   "outputs": [
    {
     "name": "stdout",
     "output_type": "stream",
     "text": [
      "Enter First Number:2\n",
      "Enter Second Number:3\n",
      "The Sum of First number and Second Number is 5\n"
     ]
    }
   ],
   "source": [
    "#1.Write a Python program to add 2 Numbers with user input.\n",
    "#Reading variables from user defined\n",
    "x = int(input(\"Enter First Number:\"))\n",
    "y = int(input(\"Enter Second Number:\"))\n",
    "#Printing output with print function along with variable name to be printed\n",
    "print(\"The Sum of First number and Second Number is\", x+y)"
   ]
  },
  {
   "cell_type": "code",
   "execution_count": 2,
   "id": "b9ccd5ac",
   "metadata": {},
   "outputs": [
    {
     "name": "stdout",
     "output_type": "stream",
     "text": [
      "Enter the value of base of Triangle:2\n",
      "Enter the value of height of Triangle:3\n",
      "The Area of the Triangle is 3.0 unit\n"
     ]
    }
   ],
   "source": [
    "#2. Write a Python program to find the area of Triangle.\n",
    "#Reading variables from user defined\n",
    "b= int(input(\"Enter the value of base of Triangle:\"))\n",
    "h= int(input(\"Enter the value of height of Triangle:\"))\n",
    "#Printing output with print function along with variable name to be printed\n",
    "print(\"The Area of the Triangle is\",0.5*(b*h), \"unit\")"
   ]
  },
  {
   "cell_type": "code",
   "execution_count": 7,
   "id": "c1dd74ee",
   "metadata": {},
   "outputs": [
    {
     "name": "stdout",
     "output_type": "stream",
     "text": [
      "Enter the radius of the Circle:2\n",
      "The Value of pi is 3.141592653589793\n",
      "The Area of the circle is 12.566370614359172\n"
     ]
    }
   ],
   "source": [
    "#3.Write a Python program to find the area of Circle.\n",
    "#importing math library\n",
    "import math\n",
    "#Reading variables from user defined\n",
    "r = int(input(\"Enter the radius of the Circle:\"))\n",
    "y = math.pi\n",
    "#Printing output with print function along with variable name to be printed\n",
    "print(\"The Value of pi is\",y)\n",
    "print(\"The Area of the circle is\",y*(r*r))\n"
   ]
  },
  {
   "cell_type": "code",
   "execution_count": 9,
   "id": "505ddc14",
   "metadata": {},
   "outputs": [
    {
     "name": "stdout",
     "output_type": "stream",
     "text": [
      "Enter the value of one parallel side of Trapezoid2\n",
      "Enter the value of second parallel side of Trapezoid3\n",
      "Enter the value of height of Trapezoid5\n",
      "The Area of the Trapezoid is 12.5 unit\n"
     ]
    }
   ],
   "source": [
    "#4. Write a Python program to calculate the area of a trapezoid.\n",
    "#Reading variables from user defined\n",
    "a = int(input(\"Enter the value of one parallel side of Trapezoid\"))\n",
    "b = int(input(\"Enter the value of second parallel side of Trapezoid\"))\n",
    "h = int(input(\"Enter the value of height of Trapezoid\"))\n",
    "#Printing output with print function along with variable name to be printed\n",
    "print(\"The Area of the Trapezoid is\",0.5*h*(a+b), \"unit\")\n"
   ]
  },
  {
   "cell_type": "code",
   "execution_count": 11,
   "id": "29285c8b",
   "metadata": {},
   "outputs": [
    {
     "name": "stdout",
     "output_type": "stream",
     "text": [
      "Enter the radius of Cylinder2\n",
      "Enter the height Cylinder3\n",
      "The Total Surface Area of the Cylinder is 62.83185307179586 unit\n",
      "The Volume of the Cylinder is 37.69911184307752 unit\n"
     ]
    }
   ],
   "source": [
    "#5. Write a Python program to calculate volume and Total area of a cylinder.\n",
    "#importing math library\n",
    "import math\n",
    "#Reading variables from user defined\n",
    "r = int(input(\"Enter the radius of Cylinder\"))\n",
    "h = int(input(\"Enter the height Cylinder\"))\n",
    "x =math.pi\n",
    "#Printing output with print function along with variable name to be printed\n",
    "print(\"The Total Surface Area of the Cylinder is\",(2*x*r*h)+(2*x*r*r), \"unit\")\n",
    "print(\"The Volume of the Cylinder is\",(x*r*r*h), \"unit\")\n"
   ]
  },
  {
   "cell_type": "code",
   "execution_count": 12,
   "id": "8d1ecc80",
   "metadata": {},
   "outputs": [
    {
     "name": "stdout",
     "output_type": "stream",
     "text": [
      "Enter the temperature in Fahrenheit78\n",
      "The temperature in Celsius corresponds to given temperature in Fahrenheit is 25.555555555555557\n",
      "Enter the temperature in Celsius45\n",
      "The temperature in Fahrenheit corresponds to given temperature in Celsius is 113.0\n"
     ]
    }
   ],
   "source": [
    "#6. Write a Python program to convert Fahrenheit to Celsius and vice versa.\n",
    "#Reading variables from user defined\n",
    "F=float(input(\"Enter the temperature in Fahrenheit\"))\n",
    "print(\"The temperature in Celsius corresponds to given temperature in Fahrenheit is\", (F-32)*(5/9))\n",
    "C=float(input(\"Enter the temperature in Celsius\"))\n",
    "print(\"The temperature in Fahrenheit corresponds to given temperature in Celsius is\", ((9/5)*C)+32)\n"
   ]
  },
  {
   "cell_type": "code",
   "execution_count": 14,
   "id": "d51bb469",
   "metadata": {},
   "outputs": [
    {
     "name": "stdout",
     "output_type": "stream",
     "text": [
      "Enter the number of hours you want to convert in minutes and seconds5\n",
      "The minutes corresponds to given number of hours are, Minutes= 300\n",
      "The seconds corresponds to given number of hours are, seconds= 18000\n"
     ]
    }
   ],
   "source": [
    "#7. Write a Python program to convert hours into minutes and seconds.\n",
    "#Reading variables from user defined\n",
    "H= int(input(\"Enter the number of hours you want to convert in minutes and seconds\"))\n",
    "#Printing output with print function along with variable name to be printed\n",
    "print(\"The minutes corresponds to given number of hours are, Minutes=\",H*60)\n",
    "print(\"The seconds corresponds to given number of hours are, seconds=\", H*60*60)\n"
   ]
  },
  {
   "cell_type": "code",
   "execution_count": 15,
   "id": "eaf93d43",
   "metadata": {},
   "outputs": [
    {
     "name": "stdout",
     "output_type": "stream",
     "text": [
      "Enter the positive number4\n",
      "The square root of entered number is 2.0\n"
     ]
    }
   ],
   "source": [
    "#8.Write a Python program to calculate the square root of a positive number.\n",
    "#importing math library\n",
    "import math\n",
    "#Reading variables from user defined\n",
    "a = float(input(\"Enter the positive number\"))\n",
    "#Formula to be provided in variable x with formula\n",
    "x =math.sqrt(a)\n",
    "#Printing output with print function along with variable name to be printed\n",
    "print(\"The square root of entered number is\",x)\n"
   ]
  },
  {
   "cell_type": "code",
   "execution_count": 17,
   "id": "a35b9eed",
   "metadata": {},
   "outputs": [
    {
     "name": "stdout",
     "output_type": "stream",
     "text": [
      "Enter the value of degree measure which you want to convert in radian45\n",
      "The radian measure corresponds to degree measure is 0.7853981633974483\n"
     ]
    }
   ],
   "source": [
    "#9. Write a Python program to convert degree to radian\n",
    "#importing math library\n",
    "import math\n",
    "#Formula to find math\n",
    "pie=math.pi\n",
    "#Reading variables from user defined\n",
    "d= int(input(\"Enter the value of degree measure which you want to convert in radian\"))\n",
    "r= (pie*d)/180\n",
    "print(\"The radian measure corresponds to degree measure is\",r)\n"
   ]
  },
  {
   "cell_type": "code",
   "execution_count": 21,
   "id": "d5b3f8ce",
   "metadata": {},
   "outputs": [
    {
     "name": "stdout",
     "output_type": "stream",
     "text": [
      "Enter number of days:68\n",
      "0 years 2 months 8 days\n"
     ]
    }
   ],
   "source": [
    "#10. Enter days and convert into 'years, months, days : Consider 1year——365 days, 1nonth——30 days\n",
    "#Reading variables from user defined\n",
    "days=int(input(\"Enter number of days:\")) \n",
    "y=days//365\n",
    "m=(days%365)//30 \n",
    "d=(days%365)%30\n",
    "print(y,\"years\",m,\"months\",d,\"days\")\n"
   ]
  },
  {
   "cell_type": "code",
   "execution_count": 23,
   "id": "5522cf58",
   "metadata": {},
   "outputs": [
    {
     "name": "stdout",
     "output_type": "stream",
     "text": [
      "Enter number 1:2\n",
      "Enter number 2:3\n",
      "After swapping a: 3 b: 2\n"
     ]
    }
   ],
   "source": [
    "#11. Enter two numbers and swap values without using temporary variabLe\n",
    "#Reading variables from user defined\n",
    "a=int(input(\"Enter number 1:\"))\n",
    "b=int(input(\"Enter number 2:\")) \n",
    "a=a+b\n",
    "b=a-b \n",
    "a=a-b\n",
    "print(\"After swapping a:\",a,\"b:\",b)\n"
   ]
  },
  {
   "cell_type": "code",
   "execution_count": 25,
   "id": "980a2c35",
   "metadata": {},
   "outputs": [
    {
     "name": "stdout",
     "output_type": "stream",
     "text": [
      "True\n",
      "False\n",
      "True\n",
      "False\n",
      "False\n",
      "True\n"
     ]
    }
   ],
   "source": [
    "#12. ReLationaL operators\n",
    "a=20\n",
    "b=2 \n",
    "print(a>b) \n",
    "print(a<b) \n",
    "print(a>=b) \n",
    "print(a<=b) \n",
    "print(a==b) \n",
    "print(a!=b)\n"
   ]
  },
  {
   "cell_type": "code",
   "execution_count": 27,
   "id": "f335099f",
   "metadata": {},
   "outputs": [
    {
     "name": "stdout",
     "output_type": "stream",
     "text": [
      "False\n",
      "True\n",
      "False\n",
      "True\n"
     ]
    }
   ],
   "source": [
    "#13. LogicaL operatons\n",
    "a=20 \n",
    "b=10 \n",
    "c=30\n",
    "print(a>b and a>c) \n",
    "print(a>b or a>c) \n",
    "print(not a>b) \n",
    "print(not a>c)\n"
   ]
  },
  {
   "cell_type": "code",
   "execution_count": 28,
   "id": "90a0ab5e",
   "metadata": {},
   "outputs": [
    {
     "name": "stdout",
     "output_type": "stream",
     "text": [
      "20\n",
      "0\n",
      "100\n",
      "1.0\n",
      "1\n",
      "0\n"
     ]
    }
   ],
   "source": [
    "#14. Assignment operator\n",
    "x=10 \n",
    "x1=10 \n",
    "x2=10 \n",
    "x3=10 \n",
    "x4=10 \n",
    "x5=10 \n",
    "x6=2\n",
    "x+=10\n",
    "print(x)\n",
    "x1-=10\n",
    "print(x1) \n",
    "x2*=10 \n",
    "print(x2) \n",
    "x3/=10 \n",
    "print(x3) \n",
    "x4//=10 \n",
    "print(x4) \n",
    "x5%=10\n",
    "print(x5)\n"
   ]
  },
  {
   "cell_type": "code",
   "execution_count": 3,
   "id": "69d6f91a",
   "metadata": {},
   "outputs": [
    {
     "name": "stdout",
     "output_type": "stream",
     "text": [
      "Enter number 1:2\n",
      "Enter number 2:3\n",
      "After swapping a: 3 b: 2\n"
     ]
    }
   ],
   "source": [
    "#15. Enter two numbers ond swop votues with using temporary vortobte\n",
    "a=int(input(\"Enter number 1:\")) \n",
    "b=int(input(\"Enter number 2:\")) \n",
    "c=a\n",
    "a=b \n",
    "b=c\n",
    "print(\"After swapping a:\",a,\"b:\",b)"
   ]
  },
  {
   "cell_type": "code",
   "execution_count": 9,
   "id": "a6d9fce4",
   "metadata": {},
   "outputs": [
    {
     "name": "stdout",
     "output_type": "stream",
     "text": [
      "0b1010\n",
      "0b111\n",
      "0b1010011\n",
      "0b101010111100\n"
     ]
    }
   ],
   "source": [
    "#16. #Number system\n",
    "a=10 \n",
    "b=0b111 \n",
    "c=0o123 \n",
    "d=0xABC\n",
    "print (bin(a))\n",
    "print (bin(b))\n",
    "print(bin(c))\n",
    "print(bin(d))"
   ]
  },
  {
   "cell_type": "code",
   "execution_count": 10,
   "id": "fc38b64b",
   "metadata": {},
   "outputs": [
    {
     "name": "stdout",
     "output_type": "stream",
     "text": [
      "0xa\n",
      "0x7\n",
      "0x53\n",
      "0xabc\n"
     ]
    }
   ],
   "source": [
    "#17. #Number system\n",
    "a=10 \n",
    "b=0b111 \n",
    "c=0o123 \n",
    "d=0xABC\n",
    "print(hex(a))\n",
    "print(hex(b))\n",
    "print (hex(c))\n",
    "print (hex(d))"
   ]
  },
  {
   "cell_type": "code",
   "execution_count": 11,
   "id": "e4ce8268",
   "metadata": {},
   "outputs": [
    {
     "name": "stdout",
     "output_type": "stream",
     "text": [
      "False\n"
     ]
    }
   ],
   "source": [
    "#18. Demonstrate the use of membership function\n",
    "x=\"ABCDEF\"\n",
    "print('P' in x)"
   ]
  }
 ],
 "metadata": {
  "kernelspec": {
   "display_name": "Python 3 (ipykernel)",
   "language": "python",
   "name": "python3"
  },
  "language_info": {
   "codemirror_mode": {
    "name": "ipython",
    "version": 3
   },
   "file_extension": ".py",
   "mimetype": "text/x-python",
   "name": "python",
   "nbconvert_exporter": "python",
   "pygments_lexer": "ipython3",
   "version": "3.10.7"
  }
 },
 "nbformat": 4,
 "nbformat_minor": 5
}
