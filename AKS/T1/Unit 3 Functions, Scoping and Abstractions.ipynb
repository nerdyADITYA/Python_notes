{
 "cells": [
  {
   "cell_type": "markdown",
   "id": "6e6d3702",
   "metadata": {},
   "source": [
    "#Unit 3 Functions, Scoping and Abstractions\n",
    "\n",
    "##Functions:\n",
    "In Python, a function is a group of related statements that performs a specific task.\n",
    "\n",
    "Functions help break our program into smaller and modular chunks. As our program grows larger and larger, functions make it more organized and manageable.\n",
    "\n",
    "Furthermore, it avoids repetition and makes the code reusable.\n",
    "\n",
    "A function takes an i nput, performs a computation, and produces an output. Python has user-defined functions, anonymous functions and built-in functions. While creating a functions we can use 2 keywords\n",
    "\n",
    "1. def (Mandatory)\n",
    "2. return (Optional)\n",
    "\n",
    "A function is a block of code which only runs when it is called.\n",
    "\n",
    "You can pass data, known as parameters, into a function.\n",
    "\n",
    "A function can return data as a result.\n",
    "\n",
    "Syntax of Function\n",
    "\n",
    "def function_name(parameters):\n",
    "\n",
    "\t\"\"\"docstring\"\"\"\n",
    "    \n",
    "\tstatement(s)\n",
    " \n",
    "Above shown is a function definition that consists of the following components.\n",
    "\n",
    "Keyword def that marks the start of the function header.\n",
    "A function name to uniquely identify the function. Function naming follows the same rules of writing identifiers in Python.\n",
    "Parameters (arguments) through which we pass values to a function. They are optional.\n",
    "\n",
    "A colon (:) to mark the end of the function header.\n",
    "\n",
    "Optional documentation string (docstring) to describe what the function does.\n",
    "\n",
    "One or more valid python statements that make up the function body. \n",
    "\n",
    "Statements must have the same indentation level (usually 4 spaces).\n",
    "\n",
    "An optional return statement to return a value from the function."
   ]
  },
  {
   "cell_type": "markdown",
   "id": "374a2b50",
   "metadata": {},
   "source": [
    "## Calling a Function\n",
    "\n",
    "Once we have defined a function, we can call it from another function, program, or even the Python prompt. To call a function we simply type the function name with appropriate parameters.\n",
    "\n",
    "Function call syntax:\n",
    "Function_name(parameters or arguments)\n",
    "\n",
    "Without calling it will not give any output."
   ]
  },
  {
   "cell_type": "code",
   "execution_count": 2,
   "id": "4a732af8",
   "metadata": {},
   "outputs": [
    {
     "name": "stdout",
     "output_type": "stream",
     "text": [
      "Hello, Python. Good morning!\n"
     ]
    }
   ],
   "source": [
    "#Example of writing a function and calling a function\n",
    "def greet(name):\n",
    "    \"\"\"\n",
    "    This function greets to\n",
    "    the person passed in as\n",
    "    a parameter\n",
    "    \"\"\"\n",
    "    print(\"Hello, \" + name + \". Good morning!\")\n",
    "greet(\"Python\")"
   ]
  },
  {
   "cell_type": "code",
   "execution_count": 3,
   "id": "dba0c516",
   "metadata": {},
   "outputs": [
    {
     "name": "stdout",
     "output_type": "stream",
     "text": [
      "Hello from a function\n"
     ]
    }
   ],
   "source": [
    "#Another example of function\n",
    "def my_function():\n",
    "    print(\"Hello from a function\")\n",
    "\n",
    "my_function()"
   ]
  },
  {
   "cell_type": "markdown",
   "id": "cd3b69f8",
   "metadata": {},
   "source": [
    "## Return Values\n",
    "To let a function return a value, use the return statement:"
   ]
  },
  {
   "cell_type": "code",
   "execution_count": 4,
   "id": "ef9f12bc",
   "metadata": {},
   "outputs": [
    {
     "name": "stdout",
     "output_type": "stream",
     "text": [
      "15\n",
      "25\n",
      "45\n"
     ]
    }
   ],
   "source": [
    "#Example of return values\n",
    "def my_function(x):\n",
    "    return 5 * x\n",
    "\n",
    "print(my_function(3))\n",
    "print(my_function(5))\n",
    "print(my_function(9))"
   ]
  },
  {
   "cell_type": "markdown",
   "id": "001ef6d9",
   "metadata": {},
   "source": [
    "#Defining Categories of User Defined Functions:\n",
    "1. Function with no parameters and no return type\n",
    "2. Function with parameters and no return type\n",
    "3. Function with parameters and with return type\n",
    "4. Function with no parameters and with return type"
   ]
  },
  {
   "cell_type": "code",
   "execution_count": 6,
   "id": "d33204bc",
   "metadata": {},
   "outputs": [
    {
     "name": "stdout",
     "output_type": "stream",
     "text": [
      "Enter number:2\n",
      "4\n"
     ]
    }
   ],
   "source": [
    "#Example of Function with no parameters and no return type.\n",
    "def square():\n",
    "    s=int(input(\"Enter number:\"))\n",
    "    a=s**2\n",
    "    print(a)\n",
    "square()"
   ]
  },
  {
   "cell_type": "code",
   "execution_count": 9,
   "id": "62930101",
   "metadata": {},
   "outputs": [
    {
     "name": "stdout",
     "output_type": "stream",
     "text": [
      "Enter number:2\n",
      "4\n"
     ]
    }
   ],
   "source": [
    "#Example of Function with parameters and no return type.\n",
    "def square(s):\n",
    "    a=s**2\n",
    "    print(a)\n",
    "s=int(input(\"Enter number:\"))\n",
    "square(s)"
   ]
  },
  {
   "cell_type": "code",
   "execution_count": 14,
   "id": "ddbba121",
   "metadata": {},
   "outputs": [
    {
     "name": "stdout",
     "output_type": "stream",
     "text": [
      "Enter number:2\n",
      "4\n"
     ]
    }
   ],
   "source": [
    "#Example of Function with parameters and with return type.\n",
    "def square(s):\n",
    "    a=s**2\n",
    "    return a\n",
    "s=int(input(\"Enter number:\"))\n",
    "print(square(s))"
   ]
  },
  {
   "cell_type": "code",
   "execution_count": 15,
   "id": "d66c9a54",
   "metadata": {},
   "outputs": [
    {
     "name": "stdout",
     "output_type": "stream",
     "text": [
      "Enter number:2\n",
      "4\n"
     ]
    }
   ],
   "source": [
    "#Example of Function with no parameters and with return type.\n",
    "def square():\n",
    "    a=s**2\n",
    "    return a\n",
    "s=int(input(\"Enter number:\"))\n",
    "print(square())"
   ]
  },
  {
   "cell_type": "code",
   "execution_count": 17,
   "id": "69af490e",
   "metadata": {},
   "outputs": [
    {
     "name": "stdout",
     "output_type": "stream",
     "text": [
      "Enter a:4\n",
      "Enter b:2\n",
      "2\n"
     ]
    }
   ],
   "source": [
    "#Example to subtract one number from another number and to take that two numbers from user input.\n",
    "def subtract(a,b):\n",
    "    return a-b\n",
    "a=int(input(\"Enter a:\"))\n",
    "b=int(input(\"Enter b:\"))\n",
    "print(subtract(a,b))"
   ]
  },
  {
   "cell_type": "code",
   "execution_count": 18,
   "id": "5fb46873",
   "metadata": {},
   "outputs": [
    {
     "name": "stdout",
     "output_type": "stream",
     "text": [
      "Enter number to be tested:-1\n",
      "The number is -ve\n"
     ]
    }
   ],
   "source": [
    "#Example to make a function which accept a number and tells whether it is +ve, -ve or zero.\n",
    "def test(a):\n",
    "    if (a==0):\n",
    "        print(\"The number is Zero\")\n",
    "    elif(a>0):\n",
    "        print(\"The number is +ve\")\n",
    "    else:\n",
    "        print(\"The number is -ve\")\n",
    "a=int(input(\"Enter number to be tested:\"))\n",
    "test(a)"
   ]
  },
  {
   "cell_type": "code",
   "execution_count": 20,
   "id": "5a0f9b98",
   "metadata": {},
   "outputs": [
    {
     "name": "stdout",
     "output_type": "stream",
     "text": [
      "Enter a:4\n",
      "Enter b:2\n",
      "6\n",
      "2\n",
      "8\n",
      "2.0\n"
     ]
    }
   ],
   "source": [
    "#Example of returning multiple values:\n",
    "def cal(a,b):\n",
    "    sum=a+b\n",
    "    sub=a-b\n",
    "    mult=a*b\n",
    "    div=a/b\n",
    "    return sum,sub,mult,div\n",
    "a=int(input(\"Enter a:\"))\n",
    "b=int(input(\"Enter b:\"))\n",
    "t=cal(a,b)\n",
    "for i in t:\n",
    "    print(i)"
   ]
  },
  {
   "cell_type": "markdown",
   "id": "a54b8327",
   "metadata": {},
   "source": [
    "##Function Specification:\n",
    "Function Specifications\n",
    "One of the the most important aspects of writing a quality Python function is proper specification. While the term may sound generic, a specification actually has a very precise definition and implementation for a Python function. \n",
    "Debugging: It is the process of finding out why a program does not work, and then fixing it.\n",
    "\n",
    "Docstring: In the programming worls, it is a standard practice to document your code to make for better reading. This can be in the form of comments or doc string. \n",
    "The program should be easily understood by third party. \n",
    "\n",
    "Commenting and docstrings will also make for easier recall on individual as well as work projects and open source collaboration.\n",
    "\n",
    "Docstring is a string literal which helps to describe what the function does, not how to use it.\n",
    "\n",
    "From docstring, 3rd party can understand, better grasp of parameters and conditions what is returned and any errors that may arise.\n",
    "\n",
    "\n",
    "In practice, a specification is a docstring, a “string literal” that occurs as the first statement in a function, module, class or method, formed by a bracketed set of “””. \n",
    "2 types of function specification:\n",
    "1. One-Liner\n",
    "2. Multi Liner.\n",
    "\n",
    "\n",
    "The function specification is everything between the sets of “””. When Python sees this docstring at the front of a function definition, it automatically is stored as the “__doc__” associated with the function. With this specification in place, any user that loads this function can access its __doc__ by typing help(radians_to_degrees), which will print the following to the terminal:\n",
    "Here is an example of a simple function I wrote with a specification:"
   ]
  },
  {
   "cell_type": "code",
   "execution_count": 26,
   "id": "85ecd696",
   "metadata": {},
   "outputs": [
    {
     "name": "stdout",
     "output_type": "stream",
     "text": [
      "Enter number:2\n",
      "4\n",
      "Argument passed into x returns x squared\n"
     ]
    }
   ],
   "source": [
    "#Example of one liner\n",
    "def square(a):\n",
    "    \"\"\"Argument passed into x returns x squared\"\"\"\n",
    "    return a*a\n",
    "a=int(input(\"Enter number:\"))\n",
    "print(square(a))\n",
    "print(square.__doc__)"
   ]
  },
  {
   "cell_type": "code",
   "execution_count": 27,
   "id": "96728189",
   "metadata": {},
   "outputs": [
    {
     "name": "stdout",
     "output_type": "stream",
     "text": [
      "\n",
      "    Returns: theta converted to degrees\n",
      "     \n",
      "    Value return has type float\n",
      "     \n",
      "    Parameter theta: the angle in radians\n",
      "    Precondition: theta is a float\n",
      "    \n"
     ]
    }
   ],
   "source": [
    "#Example of multi liner\n",
    "def radians_to_degrees(theta):\n",
    "    \"\"\"\n",
    "    Returns: theta converted to degrees\n",
    "     \n",
    "    Value return has type float\n",
    "     \n",
    "    Parameter theta: the angle in radians\n",
    "    Precondition: theta is a float\n",
    "    \"\"\"\n",
    "    return theta * (180.0/3.14159)\n",
    "print(radians_to_degrees.__doc__)"
   ]
  },
  {
   "cell_type": "markdown",
   "id": "82efe319",
   "metadata": {},
   "source": [
    "#Parameters and Arguments\n",
    "The following are the types of arguments that we can use to call a function:\n",
    "\n",
    "1. Default arguments\n",
    "2. Keyword arguments\n",
    "3. Required arguments\n",
    "4. Variable-length arguments"
   ]
  },
  {
   "cell_type": "markdown",
   "id": "1fef40ee",
   "metadata": {},
   "source": [
    "1. Default Arguments\n",
    "A default argument is a kind of parameter that takes as input a default value if no value is supplied for the argument when the function is called. Default arguments are demonstrated in the following instance."
   ]
  },
  {
   "cell_type": "code",
   "execution_count": 28,
   "id": "2b3f77a6",
   "metadata": {},
   "outputs": [
    {
     "name": "stdout",
     "output_type": "stream",
     "text": [
      "Passing one argument\n",
      "num1 is:  10\n",
      "num2 is:  40\n",
      "Passing two arguments\n",
      "num1 is:  10\n",
      "num2 is:  30\n"
     ]
    }
   ],
   "source": [
    "## Python code to demonstrate the use of default arguments  \n",
    "# defining a function  \n",
    "def function( num1, num2 = 40 ):  \n",
    "    print(\"num1 is: \", num1)  \n",
    "    print(\"num2 is: \", num2)  \n",
    "   \n",
    "   \n",
    "# Calling the function and passing only one argument  \n",
    "print( \"Passing one argument\" )  \n",
    "function(10)  \n",
    "  \n",
    "# Now giving two arguments to the function  \n",
    "print( \"Passing two arguments\" )  \n",
    "function(10,30)  "
   ]
  },
  {
   "cell_type": "markdown",
   "id": "15ed2f3c",
   "metadata": {},
   "source": [
    "2. Keyword Arguments\n",
    "\n",
    "The arguments in a function called are connected to keyword arguments. If we provide keyword arguments while calling a function, the user uses the parameter label to identify which parameters value it is.\n",
    "\n",
    "Since the Python interpreter will connect the keywords given to link the values with its parameters, we can omit some arguments or arrange them out of order. The function() method can also be called with keywords in the following manner:"
   ]
  },
  {
   "cell_type": "code",
   "execution_count": 29,
   "id": "142bc56a",
   "metadata": {},
   "outputs": [
    {
     "name": "stdout",
     "output_type": "stream",
     "text": [
      "Without using keyword\n",
      "num1 is:  50\n",
      "num2 is:  30\n",
      "With using keyword\n",
      "num1 is:  30\n",
      "num2 is:  50\n"
     ]
    }
   ],
   "source": [
    "# Python code to demonstrate the use of keyword arguments  \n",
    "  \n",
    "# Defining a function  \n",
    "def function( num1, num2 ):  \n",
    "    print(\"num1 is: \", num1)  \n",
    "    print(\"num2 is: \", num2)  \n",
    "    \n",
    "# Calling function and passing arguments without using keyword  \n",
    "print( \"Without using keyword\" )  \n",
    "function( 50, 30)     \n",
    "      \n",
    "# Calling function and passing arguments using keyword  \n",
    "print( \"With using keyword\" )  \n",
    "function( num2 = 50, num1 = 30)  "
   ]
  },
  {
   "cell_type": "markdown",
   "id": "b3e925bf",
   "metadata": {},
   "source": [
    "3. Required Arguments or Positional Arguments\n",
    "The arguments given to a function while calling in a pre-defined positional sequence are required arguments. The count of required arguments in the method call must be equal to the count of arguments provided while defining the function.\n",
    "\n",
    "We must send two arguments to the function function() in the correct order, or it will return a syntax error, as seen below."
   ]
  },
  {
   "cell_type": "code",
   "execution_count": 30,
   "id": "79615747",
   "metadata": {},
   "outputs": [
    {
     "name": "stdout",
     "output_type": "stream",
     "text": [
      "-100\n",
      "100\n"
     ]
    }
   ],
   "source": [
    "#Example of Required or Positional Argumemnts:\n",
    "def sub(a,b):\n",
    "    print(a-b)\n",
    "sub(100,200)\n",
    "sub(200,100)"
   ]
  },
  {
   "cell_type": "markdown",
   "id": "c1e132b9",
   "metadata": {},
   "source": [
    "4. Variable-Length Arguments\n",
    "We can use special characters in Python functions to pass as many arguments as we want in a function. There are two types of characters that we can use for this purpose:\n",
    "\n",
    "*args -These are Non-Keyword Arguments\n",
    "**kwargs - These are Keyword Arguments."
   ]
  },
  {
   "cell_type": "code",
   "execution_count": 31,
   "id": "2b6e1801",
   "metadata": {},
   "outputs": [
    {
     "name": "stdout",
     "output_type": "stream",
     "text": [
      "The Sum= 10\n",
      "The Sum= 30\n",
      "The Sum= 60\n"
     ]
    }
   ],
   "source": [
    "# Python code to demonstrate the use of variable-length arguments  \n",
    "   \n",
    "def sum(*n):\n",
    "    total=0\n",
    "    for n1 in n:\n",
    "        total=total+n1\n",
    "    print(\"The Sum=\",total)\n",
    "sum(10)\n",
    "sum(10,20)\n",
    "sum(10,20,30)"
   ]
  },
  {
   "cell_type": "code",
   "execution_count": 32,
   "id": "c4cca290",
   "metadata": {},
   "outputs": [
    {
     "name": "stdout",
     "output_type": "stream",
     "text": [
      "10\n",
      "10\n",
      "20\n",
      "30\n",
      "10\n",
      "A\n"
     ]
    }
   ],
   "source": [
    "#Python code for mixing more than variable\n",
    "def f(n1,*s):\n",
    "    print(n1)\n",
    "    for s1 in s:\n",
    "        print(s1)\n",
    "f(10)\n",
    "f(10,20,30)\n",
    "f(10,\"A\")"
   ]
  },
  {
   "cell_type": "markdown",
   "id": "1760c716",
   "metadata": {},
   "source": [
    "#Global and Local Variables:\n",
    "All variables in a program may not be accessible at all locations in that program. This depends on where you have declared a variable.\n",
    "\n",
    "The scope of a variable determines the portion of the program where you can access a particular identifier. There are two basic scopes of variables in Python −\n",
    "\n",
    "Global variables\n",
    "Local variables\n",
    "Global vs. Local variables\n",
    "Variables that are defined inside a function body have a local scope, and those defined outside have a global scope.\n",
    "\n",
    "This means that local variables can be accessed only inside the function in which they are declared, whereas global variables can be accessed throughout the program body by all functions. When you call a function, the variables declared inside it are brought into scope."
   ]
  },
  {
   "cell_type": "code",
   "execution_count": 34,
   "id": "1ec060fe",
   "metadata": {},
   "outputs": [
    {
     "name": "stdout",
     "output_type": "stream",
     "text": [
      "Inside the function local total :  30\n",
      "Outside the function global total :  0\n"
     ]
    }
   ],
   "source": [
    "total = 0; # This is global variable.\n",
    "# Function definition is here\n",
    "def sum(arg1, arg2):\n",
    "   # Add both the parameters and return them.\"\n",
    "    total = arg1 + arg2; # Here total is local variable.\n",
    "    print (\"Inside the function local total : \", total)\n",
    "    return total\n",
    "\n",
    "# Now you can call sum function\n",
    "sum(10, 20)\n",
    "print (\"Outside the function global total : \", total)"
   ]
  },
  {
   "cell_type": "markdown",
   "id": "c7f10d9b",
   "metadata": {},
   "source": [
    "#Exercise:"
   ]
  },
  {
   "cell_type": "code",
   "execution_count": 35,
   "id": "397c16fe",
   "metadata": {},
   "outputs": [
    {
     "name": "stdout",
     "output_type": "stream",
     "text": [
      "6\n"
     ]
    }
   ],
   "source": [
    "#1. Write a Python function to find the Max of three numbers.\n",
    "def max_of_two( x, y ):\n",
    "    if x > y:\n",
    "        return x\n",
    "    return y\n",
    "def max_of_three( x, y, z ):\n",
    "    return max_of_two( x, max_of_two( y, z ) )\n",
    "print(max_of_three(3, 6, -5))"
   ]
  },
  {
   "cell_type": "code",
   "execution_count": 36,
   "id": "c8a2794a",
   "metadata": {},
   "outputs": [
    {
     "name": "stdout",
     "output_type": "stream",
     "text": [
      "Input a number to compute the factiorial : 5\n",
      "120\n"
     ]
    }
   ],
   "source": [
    "#2. Write a Python function to calculate the factorial of a number (a non-negative integer).\n",
    "def factorial(n):\n",
    "    if n == 0:\n",
    "        return 1\n",
    "    else:\n",
    "        return n * factorial(n-1)\n",
    "n=int(input(\"Input a number to compute the factiorial : \"))\n",
    "print(factorial(n))\n"
   ]
  },
  {
   "cell_type": "markdown",
   "id": "6a5871b5",
   "metadata": {},
   "source": [
    "3. Write a Python function to check whether a number is perfect or not. Go to the editor\n",
    "According to Wikipedia : In number theory, a perfect number is a positive integer that is equal to the sum of its proper positive divisors, that is, the sum of its positive divisors excluding the number itself (also known as its aliquot sum). Equivalently, a perfect number is a number that is half the sum of all of its positive divisors (including itself).\n",
    "Example : The first perfect number is 6, because 1, 2, and 3 are its proper positive divisors, and 1 + 2 + 3 = 6. Equivalently, the number 6 is equal to half the sum of all its positive divisors: ( 1 + 2 + 3 + 6 ) / 2 = 6. The next perfect number is 28 = 1 + 2 + 4 + 7 + 14. This is followed by the perfect numbers 496 and 8128."
   ]
  },
  {
   "cell_type": "code",
   "execution_count": 37,
   "id": "ea84c9fe",
   "metadata": {},
   "outputs": [
    {
     "name": "stdout",
     "output_type": "stream",
     "text": [
      "True\n"
     ]
    }
   ],
   "source": [
    "#3. \n",
    "def perfect_number(n):\n",
    "    sum = 0\n",
    "    for x in range(1, n):\n",
    "        if n % x == 0:\n",
    "            sum += x\n",
    "    return sum == n\n",
    "print(perfect_number(6))"
   ]
  },
  {
   "cell_type": "code",
   "execution_count": 38,
   "id": "4879e879",
   "metadata": {},
   "outputs": [
    {
     "name": "stdout",
     "output_type": "stream",
     "text": [
      "Please select the operation.\n",
      "a. Add\n",
      "b. Subtract\n",
      "c. Multiply\n",
      "d. Divide\n",
      "Please enter choice (a/ b/ c/ d): a\n",
      "Please enter the first number: 3\n",
      "Please enter the second number: 4\n",
      "3  +  4  =  7\n"
     ]
    }
   ],
   "source": [
    "#4. Write a Python Program to make a simple calculator using function:\n",
    "def add(P, Q):    \n",
    "   # This function is used for adding two numbers   \n",
    "   return P + Q   \n",
    "def subtract(P, Q):   \n",
    "   # This function is used for subtracting two numbers   \n",
    "   return P - Q   \n",
    "def multiply(P, Q):   \n",
    "   # This function is used for multiplying two numbers   \n",
    "   return P * Q   \n",
    "def divide(P, Q):   \n",
    "   # This function is used for dividing two numbers    \n",
    "   return P / Q    \n",
    "# Now we will take inputs from the user    \n",
    "print (\"Please select the operation.\")    \n",
    "print (\"a. Add\")    \n",
    "print (\"b. Subtract\")    \n",
    "print (\"c. Multiply\")    \n",
    "print (\"d. Divide\")    \n",
    "    \n",
    "choice = input(\"Please enter choice (a/ b/ c/ d): \")    \n",
    "    \n",
    "num_1 = int (input (\"Please enter the first number: \"))    \n",
    "num_2 = int (input (\"Please enter the second number: \"))    \n",
    "    \n",
    "if choice == 'a':    \n",
    "    print (num_1, \" + \", num_2, \" = \", add(num_1, num_2))    \n",
    "    \n",
    "elif choice == 'b':    \n",
    "    print (num_1, \" - \", num_2, \" = \", subtract(num_1, num_2))    \n",
    "    \n",
    "elif choice == 'c':    \n",
    "    print (num1, \" * \", num2, \" = \", multiply(num1, num2))    \n",
    "elif choice == 'd':    \n",
    "    print (num_1, \" / \", num_2, \" = \", divide(num_1, num_2))    \n",
    "else:    \n",
    "    print (\"This is an invalid input\")    "
   ]
  },
  {
   "cell_type": "code",
   "execution_count": 40,
   "id": "4864f539",
   "metadata": {},
   "outputs": [
    {
     "name": "stdout",
     "output_type": "stream",
     "text": [
      "Enter a number: 153\n",
      "153 is an Armstrong number\n"
     ]
    }
   ],
   "source": [
    "#5. Python program to check if the number is an Armstrong number or not\n",
    "\n",
    "# take input from the user\n",
    "def armstrong(num):\n",
    "\n",
    "\n",
    "# initialize sum\n",
    "    sum = 0\n",
    "\n",
    "# find the sum of the cube of each digit\n",
    "    temp = num\n",
    "    while temp > 0:\n",
    "        digit = temp % 10\n",
    "        sum += digit ** 3\n",
    "        temp //= 10\n",
    "\n",
    "# display the result\n",
    "    if num == sum:\n",
    "        print(num,\"is an Armstrong number\")\n",
    "    else:\n",
    "        print(num,\"is not an Armstrong number\")\n",
    "num = int(input(\"Enter a number: \"))\n",
    "armstrong(num)"
   ]
  },
  {
   "cell_type": "code",
   "execution_count": 42,
   "id": "8adce987",
   "metadata": {},
   "outputs": [
    {
     "name": "stdout",
     "output_type": "stream",
     "text": [
      "Enter number:153\n",
      "Reverse no. 351\n"
     ]
    }
   ],
   "source": [
    "#6. Write a Python Program to find the reverse of given number using function.\n",
    "def reverse(num):\n",
    "    rev_num=0\n",
    "    while num!=0:\n",
    "        digit = num % 10\n",
    "        rev_num=rev_num*10+digit\n",
    "        num //= 10   \n",
    "    print(\"Reverse no.\",rev_num)\n",
    "num=int(input(\"Enter number:\"))\n",
    "reverse(num)"
   ]
  },
  {
   "cell_type": "code",
   "execution_count": 44,
   "id": "c7c8e680",
   "metadata": {},
   "outputs": [
    {
     "name": "stdout",
     "output_type": "stream",
     "text": [
      "Enter your choice:1\n",
      "1. Temp in Celsius\n",
      "2. Temp in Fahrenheit\n",
      "Enter temp in Fahrenheit:33\n",
      "Temp in Celsius: 0.5555555555555556\n"
     ]
    }
   ],
   "source": [
    "#7. Write a Python Program to convert Fahrenheit to Celsius temperature\n",
    "ch=int(input(\"Enter your choice:\"))\n",
    "def cel():\n",
    "    f=float(input(\"Enter temp in Fahrenheit:\"))\n",
    "    c=(f-32)*(5/9)\n",
    "    print(\"Temp in Celsius:\",c)\n",
    "def fah():\n",
    "    c=float(input(\"Enter temp in Celsius:\"))\n",
    "    f=((9/5)*c)+32\n",
    "    print(\"Temp in Fahrenheit:\",f)\n",
    "print(\"1. Temp in Celsius\\n2. Temp in Fahrenheit\")\n",
    "if (ch==1):\n",
    "    cel()\n",
    "elif(ch==2):\n",
    "    fah()\n",
    "else:\n",
    "    print(\"Enter correct choice\")"
   ]
  },
  {
   "cell_type": "code",
   "execution_count": 45,
   "id": "afee7016",
   "metadata": {},
   "outputs": [
    {
     "name": "stdout",
     "output_type": "stream",
     "text": [
      "Enter your choice:2\n",
      "1. Temp in Celsius\n",
      "2. Temp in Fahrenheit\n",
      "Enter temp in Celsius:95\n",
      "Temp in Fahrenheit: 203.0\n"
     ]
    }
   ],
   "source": [
    "#7. Write a Python Program to convert Fahrenheit to Celsius temperature\n",
    "ch=int(input(\"Enter your choice:\"))\n",
    "def cel():\n",
    "    f=float(input(\"Enter temp in Fahrenheit:\"))\n",
    "    c=(f-32)*(5/9)\n",
    "    print(\"Temp in Celsius:\",c)\n",
    "def fah():\n",
    "    c=float(input(\"Enter temp in Celsius:\"))\n",
    "    f=((9/5)*c)+32\n",
    "    print(\"Temp in Fahrenheit:\",f)\n",
    "print(\"1. Temp in Celsius\\n2. Temp in Fahrenheit\")\n",
    "if (ch==1):\n",
    "    cel()\n",
    "elif(ch==2):\n",
    "    fah()\n",
    "else:\n",
    "    print(\"Enter correct choice\")"
   ]
  },
  {
   "cell_type": "code",
   "execution_count": 46,
   "id": "89d8928b",
   "metadata": {},
   "outputs": [
    {
     "name": "stdout",
     "output_type": "stream",
     "text": [
      "Enter your choice:3\n",
      "1. Temp in Celsius\n",
      "2. Temp in Fahrenheit\n",
      "Enter correct choice\n"
     ]
    }
   ],
   "source": [
    "#7. Write a Python Program to convert Fahrenheit to Celsius temperature\n",
    "ch=int(input(\"Enter your choice:\"))\n",
    "def cel():\n",
    "    f=float(input(\"Enter temp in Fahrenheit:\"))\n",
    "    c=(f-32)*(5/9)\n",
    "    print(\"Temp in Celsius:\",c)\n",
    "def fah():\n",
    "    c=float(input(\"Enter temp in Celsius:\"))\n",
    "    f=((9/5)*c)+32\n",
    "    print(\"Temp in Fahrenheit:\",f)\n",
    "print(\"1. Temp in Celsius\\n2. Temp in Fahrenheit\")\n",
    "if (ch==1):\n",
    "    cel()\n",
    "elif(ch==2):\n",
    "    fah()\n",
    "else:\n",
    "    print(\"Enter correct choice\")"
   ]
  },
  {
   "cell_type": "code",
   "execution_count": 47,
   "id": "801917ff",
   "metadata": {},
   "outputs": [
    {
     "name": "stdout",
     "output_type": "stream",
     "text": [
      "0\n",
      "1\n",
      "1\n",
      "2\n",
      "3\n",
      "5\n",
      "8\n",
      "13\n",
      "21\n",
      "34\n"
     ]
    }
   ],
   "source": [
    "#8. Write a Python Program to calculate fibonacci series using function\n",
    "def fib(n):\n",
    "    a = 0\n",
    "    b = 1\n",
    "    if n == 1:\n",
    "        print(a)\n",
    "    else:\n",
    "        print(a)\n",
    "        print(b)\n",
    "        for i in range(2,n):\n",
    "            c = a + b\n",
    "            a = b\n",
    "            b = c\n",
    "            print(c)\n",
    "fib(10)"
   ]
  },
  {
   "cell_type": "code",
   "execution_count": 48,
   "id": "8ba5f4cb",
   "metadata": {},
   "outputs": [
    {
     "name": "stdout",
     "output_type": "stream",
     "text": [
      "Enter the number upto which you want the sum:7\n",
      "Sum= 28 Average= 4.0\n"
     ]
    }
   ],
   "source": [
    "#9. Write a Python Program to find sum and average of first n natural numbers using function.\n",
    "n=int(input(\"Enter the number upto which you want the sum:\"))\n",
    "def sum(n):\n",
    "    sum=0\n",
    "    for i in range(1,n+1):\n",
    "        sum=sum+i\n",
    "        avg=sum/i\n",
    "    return sum,avg\n",
    "sum,avg=sum(n)\n",
    "print(\"Sum=\",sum,\"Average=\",avg)"
   ]
  },
  {
   "cell_type": "code",
   "execution_count": 49,
   "id": "463347ac",
   "metadata": {},
   "outputs": [
    {
     "name": "stdout",
     "output_type": "stream",
     "text": [
      "Enter num:5\n",
      "Enter start:2\n",
      "Enter stop:10\n",
      "Yes\n"
     ]
    }
   ],
   "source": [
    "#10. Write a Python Program to check whether a number is in a given range using function.\n",
    "n=int(input(\"Enter num:\"))\n",
    "start=int(input(\"Enter start:\"))\n",
    "stop=int(input(\"Enter stop:\"))\n",
    "def num(n,start,stop):\n",
    "    if(n>start and n<stop):\n",
    "        print(\"Yes\")\n",
    "    else:\n",
    "        print(\"No\")\n",
    "num(n,start,stop)"
   ]
  },
  {
   "cell_type": "code",
   "execution_count": 50,
   "id": "67affd37",
   "metadata": {},
   "outputs": [
    {
     "name": "stdout",
     "output_type": "stream",
     "text": [
      "Enter num:1\n",
      "Enter start:2\n",
      "Enter stop:10\n",
      "No\n"
     ]
    }
   ],
   "source": [
    "#10. Write a Python Program to check whether a number is in a given range using function.\n",
    "n=int(input(\"Enter num:\"))\n",
    "start=int(input(\"Enter start:\"))\n",
    "stop=int(input(\"Enter stop:\"))\n",
    "def num(n,start,stop):\n",
    "    if(n>start and n<stop):\n",
    "        print(\"Yes\")\n",
    "    else:\n",
    "        print(\"No\")\n",
    "num(n,start,stop)"
   ]
  },
  {
   "cell_type": "code",
   "execution_count": 51,
   "id": "0c294b3f",
   "metadata": {},
   "outputs": [
    {
     "name": "stdout",
     "output_type": "stream",
     "text": [
      "1\n",
      "2\n",
      "3\n",
      "4\n",
      "5\n",
      "6\n",
      "7\n",
      "8\n"
     ]
    }
   ],
   "source": [
    "#11. Write a Python Program to demonstrate a function to print the number 1 to 8.\n",
    "def printnum():\n",
    "    for i in range(1,9):\n",
    "        print(i)\n",
    "printnum()"
   ]
  }
 ],
 "metadata": {
  "kernelspec": {
   "display_name": "Python 3 (ipykernel)",
   "language": "python",
   "name": "python3"
  },
  "language_info": {
   "codemirror_mode": {
    "name": "ipython",
    "version": 3
   },
   "file_extension": ".py",
   "mimetype": "text/x-python",
   "name": "python",
   "nbconvert_exporter": "python",
   "pygments_lexer": "ipython3",
   "version": "3.10.7"
  }
 },
 "nbformat": 4,
 "nbformat_minor": 5
}
