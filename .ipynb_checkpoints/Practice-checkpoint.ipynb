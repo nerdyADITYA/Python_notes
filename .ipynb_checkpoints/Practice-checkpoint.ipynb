{
 "cells": [
  {
   "cell_type": "code",
   "execution_count": 1,
   "id": "dbfc2b23-2af6-4d67-aa90-8b46f8f57afb",
   "metadata": {},
   "outputs": [
    {
     "name": "stdin",
     "output_type": "stream",
     "text": [
      "Enter the index vlaue:  6\n"
     ]
    },
    {
     "name": "stdout",
     "output_type": "stream",
     "text": [
      "Hey, Hw are you?\n"
     ]
    }
   ],
   "source": [
    "x = \"Hey, How are you?\"\n",
    "n = int(input(\"Enter the index vlaue: \"))\n",
    "\n",
    "a = x[:n] + x[n+1:len(x)]\n",
    "\n",
    "print(a)"
   ]
  },
  {
   "cell_type": "code",
   "execution_count": 7,
   "id": "966c73a8-ccd9-4fe1-bed7-f321125e314b",
   "metadata": {},
   "outputs": [
    {
     "name": "stdin",
     "output_type": "stream",
     "text": [
      "Enter a String:  hello my name is aditya\n"
     ]
    },
    {
     "name": "stdout",
     "output_type": "stream",
     "text": [
      "New String:  hma\n"
     ]
    }
   ],
   "source": [
    "s = input(\"Enter a String: \")\n",
    "\n",
    "first = s[0]\n",
    "last = s[-1]\n",
    "middle = s[len(s) // 2]\n",
    "\n",
    "new = first + middle + last\n",
    "\n",
    "print(\"New String: \",new)"
   ]
  },
  {
   "cell_type": "code",
   "execution_count": 1,
   "id": "3c2877c1-82bf-4c31-9f89-85589ea2b1de",
   "metadata": {},
   "outputs": [
    {
     "name": "stdin",
     "output_type": "stream",
     "text": [
      "Enter the main String:  Hello hello HELLO\n",
      "Enter the sub String:  hello\n"
     ]
    },
    {
     "name": "stdout",
     "output_type": "stream",
     "text": [
      "SubString found at position: 0\n",
      "SubString found at position: 6\n",
      "SubString found at position: 12\n"
     ]
    }
   ],
   "source": [
    "main = input(\"Enter the main String: \")\n",
    "sub = input(\"Enter the sub String: \")\n",
    "\n",
    "main_lower = main.lower()\n",
    "sub_lower = sub.lower()\n",
    "\n",
    "index = main_lower.find(sub_lower)\n",
    "\n",
    "while(index != -1):\n",
    "    print(f\"SubString found at position: {index}\")\n",
    "    index = main_lower.find(sub_lower,index + 1)"
   ]
  },
  {
   "cell_type": "code",
   "execution_count": 9,
   "id": "dc536a09-3e40-482d-a59f-59a73ad1f4f3",
   "metadata": {},
   "outputs": [
    {
     "name": "stdin",
     "output_type": "stream",
     "text": [
      "Enter a String:  347458684\n"
     ]
    },
    {
     "name": "stdout",
     "output_type": "stream",
     "text": [
      "SUM = 49, AVERAGE = 5.444444444444445\n"
     ]
    }
   ],
   "source": [
    "s = input(\"Enter a String: \")\n",
    "\n",
    "Sum = 0\n",
    "count = 0\n",
    "\n",
    "for i in s:\n",
    "    if(i.isdigit()):\n",
    "        Sum = Sum+int(i)\n",
    "        count = count+1\n",
    "\n",
    "average = Sum/count\n",
    "\n",
    "print(f\"SUM = {Sum}, AVERAGE = {average}\")"
   ]
  },
  {
   "cell_type": "code",
   "execution_count": 10,
   "id": "6e9261fd-a276-4ba4-8151-f76b7274f634",
   "metadata": {},
   "outputs": [
    {
     "name": "stdin",
     "output_type": "stream",
     "text": [
      "Enter a String:  abcdef\n"
     ]
    },
    {
     "name": "stdout",
     "output_type": "stream",
     "text": [
      "fedcba\n"
     ]
    }
   ],
   "source": [
    "s = input(\"Enter a String: \")\n",
    "\n",
    "ans = s[ : :-1]\n",
    "\n",
    "print(ans)"
   ]
  },
  {
   "cell_type": "code",
   "execution_count": 12,
   "id": "ee88fa45-404f-476a-9d80-233065ae5f9e",
   "metadata": {},
   "outputs": [
    {
     "name": "stdin",
     "output_type": "stream",
     "text": [
      "Enter string:  Hello my name is Aditya Kadia\n"
     ]
    },
    {
     "name": "stdout",
     "output_type": "stream",
     "text": [
      "my\n",
      "name\n",
      "is\n",
      "Aditya\n"
     ]
    }
   ],
   "source": [
    "s = input(\"Enter string: \")\n",
    "words = s.split()\n",
    "\n",
    "for i in words:\n",
    "    if(len(i)%2 == 0):\n",
    "        print(i)"
   ]
  },
  {
   "cell_type": "code",
   "execution_count": 15,
   "id": "fb2d86ac-c3a9-43d9-a149-364e6d57c740",
   "metadata": {},
   "outputs": [
    {
     "name": "stdin",
     "output_type": "stream",
     "text": [
      "Enter Index value:  8\n"
     ]
    },
    {
     "name": "stdout",
     "output_type": "stream",
     "text": [
      "THIS IS a house\n"
     ]
    }
   ],
   "source": [
    "a = \"This is a house\"\n",
    "x = int(input(\"Enter Index value: \"))\n",
    "\n",
    "first_half = a[:x]\n",
    "second_half = a[x:len(a)]\n",
    "\n",
    "print(first_half.upper() + second_half.lower())"
   ]
  },
  {
   "cell_type": "code",
   "execution_count": 18,
   "id": "7fa6040b-869a-446e-ab3f-bc7a2b35b76c",
   "metadata": {},
   "outputs": [
    {
     "name": "stdin",
     "output_type": "stream",
     "text": [
      "Enter a String:  hello my name is aditya\n"
     ]
    },
    {
     "name": "stdout",
     "output_type": "stream",
     "text": [
      "HellO\n",
      "MY\n",
      "NamE\n",
      "IS\n",
      "AdityA\n"
     ]
    }
   ],
   "source": [
    "s = input(\"Enter a String: \")\n",
    "\n",
    "words = s.split()\n",
    "\n",
    "for i in words:\n",
    "    new = i[0].upper() + i[1:-1] + i[-1].upper()\n",
    "    print(new)"
   ]
  },
  {
   "cell_type": "code",
   "execution_count": 19,
   "id": "e568475c-fece-4806-b502-97c9075ab1d2",
   "metadata": {},
   "outputs": [
    {
     "name": "stdin",
     "output_type": "stream",
     "text": [
      "Enter a string:  abcdefghi\n"
     ]
    },
    {
     "name": "stdout",
     "output_type": "stream",
     "text": [
      "Middle three characters:  def\n"
     ]
    }
   ],
   "source": [
    "s = input(\"Enter a string: \")\n",
    "\n",
    "middle = len(s)//2\n",
    "mid_three = s[middle-1:middle+2]\n",
    "\n",
    "print(\"Middle three characters: \", mid_three)"
   ]
  },
  {
   "cell_type": "code",
   "execution_count": 20,
   "id": "7283dce1-b59f-4570-bbf5-eb71660c840a",
   "metadata": {},
   "outputs": [
    {
     "name": "stdin",
     "output_type": "stream",
     "text": [
      "Enter a string:  hello-my-name-is-aditya\n"
     ]
    },
    {
     "name": "stdout",
     "output_type": "stream",
     "text": [
      "['hello', 'my', 'name', 'is', 'aditya']\n"
     ]
    }
   ],
   "source": [
    "s = input(\"Enter a string: \")\n",
    "ans = s.split(\"-\")\n",
    "print(ans)"
   ]
  },
  {
   "cell_type": "code",
   "execution_count": 12,
   "id": "a4d85d2c-7595-4499-9149-7d95911f1b24",
   "metadata": {},
   "outputs": [
    {
     "name": "stdin",
     "output_type": "stream",
     "text": [
      "Enter a string:  abcdef ghijk\n",
      "Enter a shift value:  2\n"
     ]
    },
    {
     "name": "stdout",
     "output_type": "stream",
     "text": [
      "cdefgh ijklm\n"
     ]
    }
   ],
   "source": [
    "# Encryption program\n",
    "l = \"abcdefghijklmnopqrstuvwxyz\"\n",
    "s = input(\"Enter a string: \")\n",
    "shift = int(input(\"Enter a shift value: \"))\n",
    "temp = \"\"\n",
    "\n",
    "for i in s:\n",
    "    if i in l:\n",
    "        index = (l.index(i)+shift)%len(l)\n",
    "        temp = temp+l[index]\n",
    "    else:\n",
    "        temp = temp+\" \"\n",
    "\n",
    "print(temp)"
   ]
  },
  {
   "cell_type": "code",
   "execution_count": 18,
   "id": "6cb6e376-c297-4f13-bdac-a6b4b7ff559b",
   "metadata": {},
   "outputs": [
    {
     "name": "stdin",
     "output_type": "stream",
     "text": [
      "Enter a string:  This is class c8\n",
      "Enter a key value:  3\n"
     ]
    },
    {
     "name": "stdout",
     "output_type": "stream",
     "text": [
      "Tssls8h  a iicsc\n"
     ]
    }
   ],
   "source": [
    "# Encryption program\n",
    "s = input(\"Enter a string: \")\n",
    "key = int(input(\"Enter a key value: \"))\n",
    "temp = \"\"\n",
    "\n",
    "for i in range(key): \n",
    "    temp += s[i::key]\n",
    "\n",
    "print(temp)"
   ]
  },
  {
   "cell_type": "code",
   "execution_count": 18,
   "id": "ba25ce62-e962-43fc-ba81-c9746190445e",
   "metadata": {},
   "outputs": [
    {
     "name": "stdin",
     "output_type": "stream",
     "text": [
      "Enter IP Address:  255.255.255.255\n"
     ]
    },
    {
     "name": "stdout",
     "output_type": "stream",
     "text": [
      "VALID IP ADDRESS !!!!\n"
     ]
    }
   ],
   "source": [
    "s = input(\"Enter IP Address: \")\n",
    "c = 0\n",
    "a = s.split(\".\")\n",
    "flag  = 0\n",
    "if(len(a) == 4):\n",
    "    for i in a:\n",
    "        if (int(i) <= 255 and int(i) >=0):\n",
    "            flag = 1\n",
    "        else:\n",
    "            flag = 0\n",
    "    if(flag == 1):\n",
    "        print(\"VALID IP ADDRESS !!!!\")\n",
    "    else:\n",
    "        print(\"INVALID IP ADDRESS\")\n",
    "else:\n",
    "    print(\"INVALID IP ADDRESS\")"
   ]
  },
  {
   "cell_type": "code",
   "execution_count": 30,
   "id": "60e948e7-ceee-448e-a221-d823d0b83936",
   "metadata": {},
   "outputs": [
    {
     "name": "stdin",
     "output_type": "stream",
     "text": [
      "Enter a String:  Adityaa\n"
     ]
    },
    {
     "name": "stdout",
     "output_type": "stream",
     "text": [
      "#ditya#\n"
     ]
    }
   ],
   "source": [
    "a = input(\"Enter a String: \")\n",
    "ans = a.replace(a[0],\"#\")+a[1:len(a)-1]+a.replace(a[-1],\"#\")\n",
    "print(b)"
   ]
  },
  {
   "cell_type": "code",
   "execution_count": null,
   "id": "70e9532e-43af-4a8c-82d1-bbf5595cb8f6",
   "metadata": {},
   "outputs": [],
   "source": []
  }
 ],
 "metadata": {
  "kernelspec": {
   "display_name": "Python 3 (ipykernel)",
   "language": "python",
   "name": "python3"
  },
  "language_info": {
   "codemirror_mode": {
    "name": "ipython",
    "version": 3
   },
   "file_extension": ".py",
   "mimetype": "text/x-python",
   "name": "python",
   "nbconvert_exporter": "python",
   "pygments_lexer": "ipython3",
   "version": "3.12.6"
  }
 },
 "nbformat": 4,
 "nbformat_minor": 5
}
