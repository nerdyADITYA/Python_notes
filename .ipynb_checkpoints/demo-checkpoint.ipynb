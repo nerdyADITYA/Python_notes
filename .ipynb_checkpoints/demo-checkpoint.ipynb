{
 "cells": [
  {
   "cell_type": "code",
   "execution_count": 1,
   "id": "04f7138a-90db-41bc-ac13-195191de6650",
   "metadata": {},
   "outputs": [
    {
     "name": "stdout",
     "output_type": "stream",
     "text": [
      "HELLO WORLD !!!\n"
     ]
    }
   ],
   "source": [
    "print(\"HELLO WORLD !!!\")"
   ]
  },
  {
   "cell_type": "code",
   "execution_count": 1,
   "id": "8949a7d8-7034-4e94-9be9-3b669a06f170",
   "metadata": {},
   "outputs": [
    {
     "name": "stdout",
     "output_type": "stream",
     "text": [
      "30\n"
     ]
    }
   ],
   "source": [
    "a = 10\n",
    "b = 20\n",
    "\n",
    "print(a+b)"
   ]
  },
  {
   "cell_type": "code",
   "execution_count": 6,
   "id": "287f6e9d-3e62-4e71-a0c6-c936813fc1d7",
   "metadata": {},
   "outputs": [
    {
     "name": "stdin",
     "output_type": "stream",
     "text": [
      "ENTER VALUE OF A:  20\n",
      "ENTER VALUE OF B:  10\n"
     ]
    },
    {
     "name": "stdout",
     "output_type": "stream",
     "text": [
      "The value of a: 20 and The value of b: 10; ADDITION = 30\n",
      "The value of a: 20 and The value of b: 10; SUBTRACTION = 10\n",
      "The value of a: 20 and The value of b: 10; MULTIPLICATION = 200\n",
      "The value of a: 20 and The value of b: 10; DIVISION =  2\n"
     ]
    }
   ],
   "source": [
    "a = int(input(\"ENTER VALUE OF A: \"))\n",
    "b = int(input(\"ENTER VALUE OF B: \"))\n",
    "\n",
    "print(f\"The value of a: {a} and The value of b: {b}; ADDITION = {a+b}\")\n",
    "print(f\"The value of a: {a} and The value of b: {b}; SUBTRACTION = {a-b}\")\n",
    "print(f\"The value of a: {a} and The value of b: {b}; MULTIPLICATION = {a*b}\")\n",
    "print(f\"The value of a: {a} and The value of b: {b}; DIVISION = \",int(a/b))"
   ]
  },
  {
   "cell_type": "code",
   "execution_count": 9,
   "id": "e9a64fd6-8f85-4c05-beb2-64d803082401",
   "metadata": {},
   "outputs": [
    {
     "name": "stdin",
     "output_type": "stream",
     "text": [
      "ENTER VALUE OF A:  20\n",
      "ENTER VALUE OF B:  69\n"
     ]
    },
    {
     "name": "stdout",
     "output_type": "stream",
     "text": [
      "The LCM of 20 and 69 is 1380\n"
     ]
    }
   ],
   "source": [
    "import math\n",
    "\n",
    "a = int(input(\"ENTER VALUE OF A: \"))\n",
    "b = int(input(\"ENTER VALUE OF B: \"))\n",
    "\n",
    "gcd = math.gcd(a,b)\n",
    "lcm = (a*b)\n",
    "\n",
    "print(f\"The LCM of {a} and {b} is {lcm}\")\n",
    "print(f\"The GCD of {a} and {b} is {gcd}\")"
   ]
  },
  {
   "cell_type": "code",
   "execution_count": 3,
   "id": "72666dc8-4881-42de-9791-052384370b8f",
   "metadata": {},
   "outputs": [
    {
     "name": "stdout",
     "output_type": "stream",
     "text": [
      "0.5\n"
     ]
    }
   ],
   "source": [
    "print(3/2%1)"
   ]
  },
  {
   "cell_type": "code",
   "execution_count": null,
   "id": "f937676f-9d84-4249-b31c-d8aa71468022",
   "metadata": {},
   "outputs": [],
   "source": [
    "year = int(input(\"Enter the year: \"))\n",
    "\n",
    "if(year%4 == 0):\n",
    "    if(year%400 == 0 or year%100 != 0):\n",
    "        print(\"IT IS A LEAP YEAR\")\n",
    "    else:\n",
    "        print(\"IT IS NOT A LEAP YEAR\")"
   ]
  },
  {
   "cell_type": "code",
   "execution_count": null,
   "id": "84b9759d-fe35-4652-80ba-285304ee0454",
   "metadata": {},
   "outputs": [],
   "source": []
  }
 ],
 "metadata": {
  "kernelspec": {
   "display_name": "Python 3 (ipykernel)",
   "language": "python",
   "name": "python3"
  },
  "language_info": {
   "codemirror_mode": {
    "name": "ipython",
    "version": 3
   },
   "file_extension": ".py",
   "mimetype": "text/x-python",
   "name": "python",
   "nbconvert_exporter": "python",
   "pygments_lexer": "ipython3",
   "version": "3.12.6"
  }
 },
 "nbformat": 4,
 "nbformat_minor": 5
}
