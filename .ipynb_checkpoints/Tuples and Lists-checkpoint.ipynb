{
 "cells": [
  {
   "cell_type": "code",
   "execution_count": 10,
   "id": "2e0b56c7-3e43-4e5c-a70b-0cb275244866",
   "metadata": {},
   "outputs": [
    {
     "name": "stdin",
     "output_type": "stream",
     "text": [
      "Enter a list:  (523,325,735,35,563,35,76,34,4,753,5,7,28,97)\n",
      "Enter the number:  35\n"
     ]
    },
    {
     "name": "stdout",
     "output_type": "stream",
     "text": [
      "Max value = 753, Min value = 4, Sorted tuple = [4, 5, 7, 28, 34, 35, 35, 76, 97, 325, 523, 563, 735, 753], Count = 2, Reversed tuple = [753, 735, 563, 523, 325, 97, 76, 35, 35, 34, 28, 7, 5, 4], Last element = 97, First element = 523\n"
     ]
    }
   ],
   "source": [
    "t = eval(input(\"Enter a list: \"))\n",
    "n = int(input(\"Enter the number: \"))\n",
    "\n",
    "Max = max(t)\n",
    "Min = min(t)\n",
    "sort = sorted(t)\n",
    "count = t.count(n)\n",
    "reverse = sorted(t,reverse = True)\n",
    "last = t[-1]\n",
    "first = t[0]\n",
    "\n",
    "print(f\"Max value = {Max}, Min value = {Min}, Sorted tuple = {sort}, Count = {count}, Reversed tuple = {reverse}, \n",
    "Last element = {last}, First element = {first}\")"
   ]
  },
  {
   "cell_type": "code",
   "execution_count": 17,
   "id": "a3cef420-073d-47b4-8a34-faf4a7c13a6d",
   "metadata": {},
   "outputs": [
    {
     "name": "stdin",
     "output_type": "stream",
     "text": [
      "Enter a tuple 1,2,3,4,5,6,7,8,9,10\n"
     ]
    },
    {
     "name": "stdout",
     "output_type": "stream",
     "text": [
      "(2, 4, 6, 8, 10)\n",
      "(1, 3, 5, 7, 9)\n"
     ]
    }
   ],
   "source": [
    "t = eval(input(\"Enter a tuple\"))\n",
    "even = ()\n",
    "odd = ()\n",
    "for i in t:\n",
    "    if i%2 == 0:\n",
    "        even +=(i,)\n",
    "    else:\n",
    "        odd +=(i,)\n",
    "\n",
    "print(even)\n",
    "print(odd)"
   ]
  },
  {
   "cell_type": "code",
   "execution_count": 22,
   "id": "de415425-7553-4226-96c6-f00931e3b506",
   "metadata": {},
   "outputs": [
    {
     "name": "stdin",
     "output_type": "stream",
     "text": [
      "Enter a List 1,2,3,4,5,6\n"
     ]
    },
    {
     "name": "stdout",
     "output_type": "stream",
     "text": [
      "[2, 4, 6]\n",
      "[1, 3, 5]\n"
     ]
    }
   ],
   "source": [
    "l = eval(input(\"Enter a List\"))\n",
    "even = []\n",
    "odd = []\n",
    "for i in l:\n",
    "    if i%2 == 0:\n",
    "        even.append(i)\n",
    "    else:\n",
    "        odd.append(i)\n",
    "\n",
    "print(even)\n",
    "print(odd)"
   ]
  },
  {
   "cell_type": "code",
   "execution_count": 28,
   "id": "4deab80d-8a81-4ca0-9e86-6a6ab77d9c7f",
   "metadata": {
    "scrolled": true
   },
   "outputs": [
    {
     "name": "stdin",
     "output_type": "stream",
     "text": [
      "Enter a List:  2,54,3,2,57,8,2,8,24,865\n"
     ]
    },
    {
     "name": "stdout",
     "output_type": "stream",
     "text": [
      "[2, 2, 2, 3, 8, 8, 24, 54, 57, 865]\n",
      "Max = 865, Second max = 57, Third max = 54\n"
     ]
    }
   ],
   "source": [
    "l = eval(input(\"Enter a List: \"))\n",
    "sort = sorted(l)\n",
    "print(sort)\n",
    "print(f\"Max = {sort[-1]}, Second max = {sort[-2]}, Third max = {sort[-3]}\")"
   ]
  },
  {
   "cell_type": "code",
   "execution_count": 34,
   "id": "01db76ec-6a38-444e-89fe-13e5058b7844",
   "metadata": {},
   "outputs": [
    {
     "name": "stdin",
     "output_type": "stream",
     "text": [
      "Enter a list:  [\"Aditya\",\"Dwij\"]\n"
     ]
    },
    {
     "name": "stdout",
     "output_type": "stream",
     "text": [
      "['adityA', 'jwiD']\n"
     ]
    }
   ],
   "source": [
    "l = eval(input(\"Enter a list: \"))\n",
    "temp = []\n",
    "for i in l:\n",
    "    ans = i[-1] + i[1:len(i)-1]+i[0]\n",
    "    temp.append(ans)\n",
    "print(temp)"
   ]
  },
  {
   "cell_type": "code",
   "execution_count": 43,
   "id": "09522032-102b-4190-b90f-6655fd09a0fd",
   "metadata": {},
   "outputs": [
    {
     "name": "stdin",
     "output_type": "stream",
     "text": [
      "Enter a list:  [\"aditya\",\"hello\",\"pyp\"]\n"
     ]
    },
    {
     "name": "stdout",
     "output_type": "stream",
     "text": [
      "None\n",
      "['aditya', 'pyp']\n"
     ]
    }
   ],
   "source": [
    "l = eval(input(\"Enter a list: \"))\n",
    "temp = []\n",
    "for i in l:\n",
    "    if i[0] == i[-1]:\n",
    "        temp.append(i)\n",
    "    else:\n",
    "        print(\"None\")\n",
    "\n",
    "print(temp)"
   ]
  },
  {
   "cell_type": "code",
   "execution_count": 46,
   "id": "4e3bab92-b945-4772-84fb-f87917522f64",
   "metadata": {},
   "outputs": [
    {
     "name": "stdin",
     "output_type": "stream",
     "text": [
      "Enter a list:  [\"aditya\",\"hello\",\"pyp\"]\n"
     ]
    },
    {
     "name": "stdout",
     "output_type": "stream",
     "text": [
      "['aytida', 'olleh', 'pyp']\n"
     ]
    }
   ],
   "source": [
    "l = eval(input(\"Enter a list: \"))\n",
    "temp = []\n",
    "for i in l:\n",
    "    pal = i[ : :-1]\n",
    "    temp.append(pal)\n",
    "print(temp)"
   ]
  },
  {
   "cell_type": "code",
   "execution_count": 50,
   "id": "f722533a-b871-41e3-8d64-0cb5558c136d",
   "metadata": {},
   "outputs": [
    {
     "name": "stdin",
     "output_type": "stream",
     "text": [
      "Enter a list:  [\"aditya\",\"hello\",\"py\"]\n"
     ]
    },
    {
     "name": "stdout",
     "output_type": "stream",
     "text": [
      "['aditya', 'hello']\n"
     ]
    }
   ],
   "source": [
    "l = eval(input(\"Enter a list: \"))\n",
    "temp = []\n",
    "for i in l:\n",
    "    if(len(i) >= 3):\n",
    "        temp.append(i)\n",
    "print(temp)"
   ]
  },
  {
   "cell_type": "code",
   "execution_count": 63,
   "id": "cc47b22f-bed3-477a-8f56-70744bd20fd5",
   "metadata": {},
   "outputs": [
    {
     "name": "stdin",
     "output_type": "stream",
     "text": [
      "Enter a list:  [\"zomato\",\"py\",\"pyt\",\"python\"]\n",
      "Enter a String:  \"py\"\n"
     ]
    },
    {
     "name": "stdout",
     "output_type": "stream",
     "text": [
      "Common found =  py\n"
     ]
    }
   ],
   "source": [
    "l = eval(input(\"Enter a list: \"))\n",
    "s = eval(input(\"Enter a String: \"))\n",
    "\n",
    "for i in l:\n",
    "    if s not in i:\n",
    "        break\n",
    "    elif s in i:\n",
    "        ans = i[:len(s)]\n",
    "\n",
    "print(\"Common SubSequence = \",ans)"
   ]
  },
  {
   "cell_type": "code",
   "execution_count": 1,
   "id": "9d7c6f4e-3278-4ca7-b583-833174b22d98",
   "metadata": {},
   "outputs": [
    {
     "name": "stdin",
     "output_type": "stream",
     "text": [
      "Enter list:  [\"py\",\"pyt\",\"python\",\"zomato\"]\n"
     ]
    },
    {
     "name": "stdout",
     "output_type": "stream",
     "text": [
      "\n"
     ]
    }
   ],
   "source": [
    "l = eval(input(\"Enter list: \"))\n",
    "y = sorted(l,reverse=True)\n",
    "f = \"\"\n",
    "for i in range(0,len(y[-1])):\n",
    "    if y[0][i] == y[-1][i]:\n",
    "        f = f+y[0][i]\n",
    "        continue\n",
    "\n",
    "    else:\n",
    "        break\n",
    "        # print(\"not found\")\n",
    "print(f)"
   ]
  },
  {
   "cell_type": "code",
   "execution_count": null,
   "id": "787a09e6-a5dd-4a7b-9be0-7e45f31b20d8",
   "metadata": {},
   "outputs": [],
   "source": [
    "s = input(\"Enter a String: \")\n",
    "key = int(input(\"Enter a key value: \"))\n",
    "\n",
    "for i in s:"
   ]
  }
 ],
 "metadata": {
  "kernelspec": {
   "display_name": "Python 3 (ipykernel)",
   "language": "python",
   "name": "python3"
  },
  "language_info": {
   "codemirror_mode": {
    "name": "ipython",
    "version": 3
   },
   "file_extension": ".py",
   "mimetype": "text/x-python",
   "name": "python",
   "nbconvert_exporter": "python",
   "pygments_lexer": "ipython3",
   "version": "3.12.6"
  }
 },
 "nbformat": 4,
 "nbformat_minor": 5
}
