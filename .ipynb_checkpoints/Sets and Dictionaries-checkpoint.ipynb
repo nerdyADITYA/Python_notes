{
 "cells": [
  {
   "cell_type": "code",
   "execution_count": 11,
   "id": "cac1b6dd-80bf-442a-ae54-458a40b10b6d",
   "metadata": {},
   "outputs": [
    {
     "name": "stdout",
     "output_type": "stream",
     "text": [
      "{3, 4, 7, 8}\n"
     ]
    }
   ],
   "source": [
    "a = {1,2,3,4}\n",
    "b = {2,1,7,8}\n",
    "\n",
    "# print(a.union(b))\n",
    "# print(a.intersection(b))\n",
    "# print(a.difference(b))\n",
    "# print(b.difference(a))\n",
    "# print(a.issubset(b))\n",
    "# print(a.issuperset(b))\n",
    "print(a.symmetric_difference(b))"
   ]
  },
  {
   "cell_type": "code",
   "execution_count": 13,
   "id": "f6a4b5ad-de1b-4180-a0f4-cfeb9602c7bc",
   "metadata": {},
   "outputs": [
    {
     "name": "stdin",
     "output_type": "stream",
     "text": [
      "Enter a set A:  {1,2,3,4,5}\n",
      "Enter a set B:  {1,2,3,4,5,6,7,8,9}\n"
     ]
    },
    {
     "name": "stdout",
     "output_type": "stream",
     "text": [
      "{1, 2, 3, 4, 5, 6, 7, 8, 9}\n",
      "{1, 2, 3, 4, 5}\n",
      "set()\n",
      "{8, 9, 6, 7}\n",
      "True\n",
      "False\n",
      "{6, 7, 8, 9}\n"
     ]
    }
   ],
   "source": [
    "a = eval(input(\"Enter a set A: \"))\n",
    "b = eval(input(\"Enter a set B: \"))\n",
    "\n",
    "print(a.union(b))\n",
    "print(a.intersection(b))\n",
    "print(a.difference(b))\n",
    "print(b.difference(a))\n",
    "print(a.issubset(b))\n",
    "print(a.issuperset(b))\n",
    "print(a.symmetric_difference(b))"
   ]
  },
  {
   "cell_type": "code",
   "execution_count": null,
   "id": "fff6f684-a51d-48bd-b610-9ed028ea1129",
   "metadata": {},
   "outputs": [],
   "source": [
    "a = eval(input(\"Enter a set: \"))\n",
    "ans = 0\n",
    "for i in a:\n",
    "    ans = ans + i\n",
    "\n",
    "print(ans)"
   ]
  }
 ],
 "metadata": {
  "kernelspec": {
   "display_name": "Python 3 (ipykernel)",
   "language": "python",
   "name": "python3"
  },
  "language_info": {
   "codemirror_mode": {
    "name": "ipython",
    "version": 3
   },
   "file_extension": ".py",
   "mimetype": "text/x-python",
   "name": "python",
   "nbconvert_exporter": "python",
   "pygments_lexer": "ipython3",
   "version": "3.12.6"
  }
 },
 "nbformat": 4,
 "nbformat_minor": 5
}
