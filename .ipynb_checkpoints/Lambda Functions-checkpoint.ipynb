{
 "cells": [
  {
   "cell_type": "code",
   "execution_count": 6,
   "id": "f8e916df-491a-4944-b117-b198353425bf",
   "metadata": {},
   "outputs": [
    {
     "name": "stdout",
     "output_type": "stream",
     "text": [
      "[2, 4, 6, 8, 10, 12]\n"
     ]
    }
   ],
   "source": [
    "numbers = [1,2,3,4,5,6]\n",
    "\n",
    "result = map(lambda n : n*2, numbers)\n",
    "print(list(result))"
   ]
  },
  {
   "cell_type": "code",
   "execution_count": 10,
   "id": "ba66dbd6-84e1-4104-badf-540f9de963a6",
   "metadata": {},
   "outputs": [
    {
     "name": "stdin",
     "output_type": "stream",
     "text": [
      "Enter a list:  [1,2,3,4,5,6]\n"
     ]
    },
    {
     "name": "stdout",
     "output_type": "stream",
     "text": [
      "[1, 4, 9, 16, 25, 36]\n"
     ]
    }
   ],
   "source": [
    "numbers = eval(input(\"Enter a list: \"))\n",
    "\n",
    "ans = list(map(lambda n : n**2,numbers))\n",
    "print(ans)"
   ]
  },
  {
   "cell_type": "code",
   "execution_count": 12,
   "id": "402a777a-beee-4016-a371-8c7068b761eb",
   "metadata": {},
   "outputs": [
    {
     "name": "stdout",
     "output_type": "stream",
     "text": [
      "[9, 2, 6, 12, 20, 30, 42]\n"
     ]
    }
   ],
   "source": [
    "l1 = [9,1,2,3,4,5,6]\n",
    "l2 = [1,2,3,4,5,6,7]\n",
    "\n",
    "ans = list(map(lambda a,b: a*b,l1,l2))\n",
    "print(ans)"
   ]
  },
  {
   "cell_type": "code",
   "execution_count": 14,
   "id": "9ff13b5d-2673-473f-9749-5e9a26692e2f",
   "metadata": {},
   "outputs": [
    {
     "name": "stdout",
     "output_type": "stream",
     "text": [
      "[2, 4, 6]\n",
      "[1, 3, 5]\n"
     ]
    }
   ],
   "source": [
    "numbers = [1,2,3,4,5,6]\n",
    "\n",
    "even = list(filter(lambda n : n%2 == 0,numbers))\n",
    "odd = list(filter(lambda n : n%2 != 0,numbers))\n",
    "\n",
    "print(even)\n",
    "print(odd)"
   ]
  },
  {
   "cell_type": "code",
   "execution_count": 22,
   "id": "9be3eef6-3adb-4703-8237-dd5ee0ef44bb",
   "metadata": {},
   "outputs": [
    {
     "name": "stdout",
     "output_type": "stream",
     "text": [
      "[-45, -30, -15]\n",
      "[0, 15, 30, 45]\n"
     ]
    }
   ],
   "source": [
    "l = list(range(-50,50))\n",
    "\n",
    "negative = list(filter(lambda n : n%3 == 0 and n%5 == 0 and n<0,l))\n",
    "positive = list(filter(lambda n : n%3 == 0 and n%5 == 0 and n>=0,l))\n",
    "\n",
    "print(negative)\n",
    "print(positive)"
   ]
  },
  {
   "cell_type": "code",
   "execution_count": 26,
   "id": "bed9a630-c15a-4aae-a398-13ca02d3611d",
   "metadata": {},
   "outputs": [
    {
     "name": "stdout",
     "output_type": "stream",
     "text": [
      "12\n"
     ]
    }
   ],
   "source": [
    "from functools import reduce\n",
    "\n",
    "numbers = [1,2,3,4,5,6]\n",
    "\n",
    "even = list(filter(lambda a : a%2 == 0,numbers ))\n",
    "add = reduce(lambda x,y : x+y,even)\n",
    "print(\"Sum of even numbers: \",add)"
   ]
  },
  {
   "cell_type": "code",
   "execution_count": null,
   "id": "88dc79e6-6b78-481a-adb6-ba01ac5a3a66",
   "metadata": {},
   "outputs": [],
   "source": []
  }
 ],
 "metadata": {
  "kernelspec": {
   "display_name": "Python 3 (ipykernel)",
   "language": "python",
   "name": "python3"
  },
  "language_info": {
   "codemirror_mode": {
    "name": "ipython",
    "version": 3
   },
   "file_extension": ".py",
   "mimetype": "text/x-python",
   "name": "python",
   "nbconvert_exporter": "python",
   "pygments_lexer": "ipython3",
   "version": "3.12.6"
  }
 },
 "nbformat": 4,
 "nbformat_minor": 5
}
