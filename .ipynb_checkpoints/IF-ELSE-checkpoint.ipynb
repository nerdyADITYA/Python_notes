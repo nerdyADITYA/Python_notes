{
 "cells": [
  {
   "cell_type": "code",
   "execution_count": 11,
   "id": "ab3eb9a1-5f1c-4528-a813-7c87d252fb0a",
   "metadata": {},
   "outputs": [
    {
     "name": "stdin",
     "output_type": "stream",
     "text": [
      "Enter number:  45\n"
     ]
    },
    {
     "name": "stdout",
     "output_type": "stream",
     "text": [
      "The number is positive\n"
     ]
    }
   ],
   "source": [
    "a = int(input(\"Enter number: \"))\n",
    "\n",
    "if (a > 0):\n",
    "    print(\"The number is positive\")\n",
    "elif(a < 0):\n",
    "    print(\"The number is negative\")\n",
    "else:\n",
    "    print(\"the number is zero\")"
   ]
  },
  {
   "cell_type": "code",
   "execution_count": 6,
   "id": "8107ed74-77ec-42bd-82ca-3d570fe697ca",
   "metadata": {},
   "outputs": [
    {
     "name": "stdin",
     "output_type": "stream",
     "text": [
      "Enter number 3\n"
     ]
    },
    {
     "name": "stdout",
     "output_type": "stream",
     "text": [
      "This is an odd number\n"
     ]
    }
   ],
   "source": [
    "a = int(input(\"Enter number\"))\n",
    "\n",
    "if(a%2 == 0):\n",
    "    print(\"This is an even number\")\n",
    "\n",
    "else:\n",
    "    print(\"This is an odd number\")"
   ]
  },
  {
   "cell_type": "code",
   "execution_count": 22,
   "id": "89b33a0b-77c0-4846-ba03-c92a24916e88",
   "metadata": {},
   "outputs": [
    {
     "name": "stdin",
     "output_type": "stream",
     "text": [
      "Enter number 15\n"
     ]
    },
    {
     "name": "stdout",
     "output_type": "stream",
     "text": [
      "The number is divisible by both 3 and 5\n"
     ]
    }
   ],
   "source": [
    "a = int(input(\"Enter number\"))\n",
    "\n",
    "if(a%3 == 0 and a%5 == 0):\n",
    "    print(\"The number is divisible by both 3 and 5\")\n",
    "else:\n",
    "    print(\"The number is not divisible by 3 and 5\")"
   ]
  },
  {
   "cell_type": "code",
   "execution_count": 44,
   "id": "788f4c78-78f8-478e-b9b4-8387000894d4",
   "metadata": {},
   "outputs": [
    {
     "name": "stdin",
     "output_type": "stream",
     "text": [
      "Enter number 1\n",
      "Enter number 2\n",
      "Enter number 3\n"
     ]
    },
    {
     "name": "stdout",
     "output_type": "stream",
     "text": [
      "C is greater than A and B\n"
     ]
    }
   ],
   "source": [
    "a = int(input(\"Enter number\"))\n",
    "b = int(input(\"Enter number\"))\n",
    "c = int(input(\"Enter number\"))\n",
    "\n",
    "if(a>b and a>c):\n",
    "    print(\"A Is greater than B And C\")\n",
    "elif(b>c):\n",
    "    print(\"B is greater than A and C\")\n",
    "else:\n",
    "    print(\"C is greater than A and B\")"
   ]
  },
  {
   "cell_type": "code",
   "execution_count": 64,
   "id": "e3913d5c-3f06-4f9a-9a90-73387231e346",
   "metadata": {},
   "outputs": [
    {
     "name": "stdin",
     "output_type": "stream",
     "text": [
      "Enter an alphabet:  a\n"
     ]
    },
    {
     "name": "stdout",
     "output_type": "stream",
     "text": [
      "It is a vowel! \n"
     ]
    }
   ],
   "source": [
    "a = input(\"Enter an alphabet: \")\n",
    "\n",
    "if(a==\"A\" or a==\"E\" or a==\"I\" or a==\"O\" or a==\"U\" or a==\"a\" or a==\"e\" or a==\"i\" or a==\"o\" or a==\"u\"):\n",
    "    print(\"It is a vowel! \")\n",
    "else:\n",
    "    print(\"IT IS NOT A VOWEL! \")"
   ]
  },
  {
   "cell_type": "code",
   "execution_count": 67,
   "id": "cd3fe775-cece-49cc-a281-85fbf241fa7a",
   "metadata": {},
   "outputs": [
    {
     "name": "stdin",
     "output_type": "stream",
     "text": [
      "Enter an alphabet:  d\n"
     ]
    },
    {
     "name": "stdout",
     "output_type": "stream",
     "text": [
      "This is a vowel\n"
     ]
    }
   ],
   "source": [
    "a = input(\"Enter an alphabet: \")\n",
    "\n",
    "if(\"AEIOU\" or \"aeiou\" in a):\n",
    "    print(\"This is a vowel\")\n",
    "else:\n",
    "    print(\"this is not a vowel!\")"
   ]
  },
  {
   "cell_type": "code",
   "execution_count": 78,
   "id": "43056cc6-3e7b-4a5d-a9c4-0391f9862e6f",
   "metadata": {},
   "outputs": [
    {
     "name": "stdin",
     "output_type": "stream",
     "text": [
      "Enter an alphabet:  d\n"
     ]
    },
    {
     "name": "stdout",
     "output_type": "stream",
     "text": [
      "It is not a vowel\n"
     ]
    }
   ],
   "source": [
    "a = input(\"Enter an alphabet: \")\n",
    "\n",
    "if(a.upper()==\"A\" and a.lower()==\"a\" or a.upper()==\"E\" and a.lower()==\"e\" or a.upper()==\"I\" and a.lower()==\"i\" or a.upper()==\"O\" and a.lower()==\"o\" or a.upper()==\"U\" and a.lower()==\"u\"):\n",
    "    print(\"It is a vowel\")\n",
    "else:\n",
    "    print(\"It is not a vowel\")"
   ]
  },
  {
   "cell_type": "code",
   "execution_count": 81,
   "id": "78f030c5-6f7d-4651-b0cc-9a5f3cc27f95",
   "metadata": {},
   "outputs": [
    {
     "name": "stdin",
     "output_type": "stream",
     "text": [
      "Enter an alphabet:  c\n"
     ]
    },
    {
     "name": "stdout",
     "output_type": "stream",
     "text": [
      "It is not a vowel\n"
     ]
    }
   ],
   "source": [
    "a = input(\"Enter an alphabet: \")\n",
    "a = a.lower()\n",
    "\n",
    "if(a==\"a\" or a==\"e\" or a==\"i\" or a==\"o\" or a==\"u\"):\n",
    "    print(\"It is a vowel\")\n",
    "else:\n",
    "    print(\"It is not a vowel\")\n"
   ]
  },
  {
   "cell_type": "code",
   "execution_count": 96,
   "id": "afddc8ca-0c6e-4dfd-954a-e1dc69a36a90",
   "metadata": {},
   "outputs": [
    {
     "name": "stdin",
     "output_type": "stream",
     "text": [
      "Enter number:  123\n"
     ]
    },
    {
     "name": "stdout",
     "output_type": "stream",
     "text": [
      "It is a 3 digit number\n"
     ]
    }
   ],
   "source": [
    "a = input(\"Enter number: \")\n",
    "x = len(a)\n",
    "if(x == 3):\n",
    "    print(\"It is a 3 digit number\")\n",
    "else:\n",
    "    print(\"It is not a 3 digit number\")"
   ]
  },
  {
   "cell_type": "code",
   "execution_count": 114,
   "id": "8eae5ea6-ddc2-4cea-81fd-1149ccc09b9a",
   "metadata": {},
   "outputs": [
    {
     "name": "stdin",
     "output_type": "stream",
     "text": [
      "Enter number:  123\n"
     ]
    },
    {
     "name": "stdout",
     "output_type": "stream",
     "text": [
      "last digit: 3\n",
      "first digit: 1\n"
     ]
    }
   ],
   "source": [
    "a = input(\"Enter number: \")\n",
    "x = len(a)\n",
    "n = int(a)\n",
    "\n",
    "if(x == 3):\n",
    "    print(f\"last digit: {n%10}\")\n",
    "    print(f\"first digit: {n//100}\")\n",
    "else:\n",
    "    print(\"not a 3 digit number\")"
   ]
  },
  {
   "cell_type": "code",
   "execution_count": 128,
   "id": "9d6572f6-0017-442b-9b0b-7b14f4292255",
   "metadata": {},
   "outputs": [
    {
     "name": "stdin",
     "output_type": "stream",
     "text": [
      "Enter number:  234\n"
     ]
    },
    {
     "name": "stdout",
     "output_type": "stream",
     "text": [
      "first digit: 2\n",
      "last digit: 4\n"
     ]
    }
   ],
   "source": [
    "n = int(input(\"Enter number: \"))\n",
    "x = len(a)\n",
    "\n",
    "print(f\"first digit: {n // (10**(x-1))}\")\n",
    "print(f\"last digit: {n%10}\")"
   ]
  },
  {
   "cell_type": "code",
   "execution_count": 144,
   "id": "e5717562-eec3-4c35-86ce-841eac39b0f8",
   "metadata": {},
   "outputs": [
    {
     "name": "stdin",
     "output_type": "stream",
     "text": [
      "Enter number:  23456789\n"
     ]
    },
    {
     "name": "stdout",
     "output_type": "stream",
     "text": [
      "2\n",
      "9\n",
      "345678\n"
     ]
    }
   ],
   "source": [
    "a = input(\"Enter number: \")\n",
    "n = int(a)\n",
    "x = len(a)\n",
    "\n",
    "first_digit = n // (10**(x-1))\n",
    "last_digit = n%10\n",
    "middle_num = n % (10**(x-1)) //10\n",
    "\n",
    "print(first_digit)\n",
    "print(last_digit)\n",
    "print(middle_num)"
   ]
  },
  {
   "cell_type": "code",
   "execution_count": 3,
   "id": "8286a9f4-88bd-401a-9342-400d389a9a61",
   "metadata": {},
   "outputs": [
    {
     "name": "stdin",
     "output_type": "stream",
     "text": [
      "Enter the number:  12345\n"
     ]
    },
    {
     "name": "stdout",
     "output_type": "stream",
     "text": [
      "First digit: 1\n",
      "Last digit: 5\n",
      "Middle digits: 234\n",
      "Swap number: 52341\n"
     ]
    }
   ],
   "source": [
    "a = input(\"Enter the number: \")\n",
    "x = len(a)\n",
    "n = int(a)\n",
    "fd = n // (10**(x-1))\n",
    "ld = n % 10\n",
    "md = n % (10**(x-1)) // 10\n",
    "swap_number = ld * (10**(x-1)) + md * 10 + fd\n",
    "print(f\"First digit: {fd}\")\n",
    "print(f\"Last digit: {ld}\")\n",
    "print(f\"Middle digits: {md}\")\n",
    "print(f\"Swap number: {swap_number}\")"
   ]
  }
 ],
 "metadata": {
  "kernelspec": {
   "display_name": "Python 3 (ipykernel)",
   "language": "python",
   "name": "python3"
  },
  "language_info": {
   "codemirror_mode": {
    "name": "ipython",
    "version": 3
   },
   "file_extension": ".py",
   "mimetype": "text/x-python",
   "name": "python",
   "nbconvert_exporter": "python",
   "pygments_lexer": "ipython3",
   "version": "3.12.6"
  }
 },
 "nbformat": 4,
 "nbformat_minor": 5
}
