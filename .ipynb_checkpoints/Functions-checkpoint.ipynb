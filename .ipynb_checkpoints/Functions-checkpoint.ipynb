{
 "cells": [
  {
   "cell_type": "code",
   "execution_count": 6,
   "id": "9a591901-802d-4ddb-b62d-710dfb746c86",
   "metadata": {},
   "outputs": [
    {
     "name": "stdout",
     "output_type": "stream",
     "text": [
      "even\n",
      "odd\n"
     ]
    }
   ],
   "source": [
    "def func(a):\n",
    "    if a%2==0:\n",
    "        print(\"even\")\n",
    "    else:\n",
    "        print(\"odd\")\n",
    "\n",
    "func(10)\n",
    "func(3)"
   ]
  },
  {
   "cell_type": "code",
   "execution_count": 9,
   "id": "3f1a52f6-13fb-4b6d-a8c2-4fe2639c779c",
   "metadata": {},
   "outputs": [
    {
     "name": "stdout",
     "output_type": "stream",
     "text": [
      "30\n",
      "10\n"
     ]
    }
   ],
   "source": [
    "def sum(a,b):\n",
    "    sum = a+b\n",
    "    return sum\n",
    "\n",
    "def sub(a,b):\n",
    "    sub = a-b\n",
    "    return sub\n",
    "\n",
    "print(sum(10,20))\n",
    "print(sub(20,10))"
   ]
  },
  {
   "cell_type": "code",
   "execution_count": 31,
   "id": "5166ca0f-b687-4ddd-b875-1cb18c585184",
   "metadata": {},
   "outputs": [
    {
     "name": "stdin",
     "output_type": "stream",
     "text": [
      "UNITS USED:  202\n"
     ]
    },
    {
     "name": "stdout",
     "output_type": "stream",
     "text": [
      "1040\n"
     ]
    }
   ],
   "source": [
    "def bill():\n",
    "    n = int(input(\"UNITS USED: \"))\n",
    "    bill = 0 \n",
    "    if (n<=100):\n",
    "        print(\"Bill is free\")\n",
    "    elif(n>100 and n<=200):\n",
    "        charge = 10\n",
    "        bill = (n-100)*charge\n",
    "        print(bill)\n",
    "    elif(n>200):\n",
    "        charge = 20\n",
    "        bill = (n-200)*charge+1000\n",
    "        print(bill)\n",
    "bill()"
   ]
  },
  {
   "cell_type": "code",
   "execution_count": 55,
   "id": "dfc6e501-84d0-4998-902a-705bf5945e66",
   "metadata": {},
   "outputs": [
    {
     "name": "stdin",
     "output_type": "stream",
     "text": [
      "enter Value:  1\n",
      "enter Value:  2\n",
      "enter Value:  3\n",
      "enter Value:  4\n",
      "enter Value:  5\n",
      "enter Value:  6\n",
      "enter Value:  8\n",
      "enter Value:  98\n",
      "enter Value:  q\n"
     ]
    },
    {
     "name": "stdout",
     "output_type": "stream",
     "text": [
      "You have quit the loop\n",
      "127\n"
     ]
    }
   ],
   "source": [
    "sum = 0\n",
    "while True:\n",
    "    x = input(\"enter Value: \")\n",
    "    if(x == \"q\" or x == \"Q\"):\n",
    "        print(\"You have quit the loop\")\n",
    "        break\n",
    "    x = int(x)\n",
    "    sum = sum+x\n",
    "print(sum)"
   ]
  },
  {
   "cell_type": "code",
   "execution_count": 61,
   "id": "d41f6977-9a89-4505-9b5c-575ba0815114",
   "metadata": {},
   "outputs": [
    {
     "name": "stdin",
     "output_type": "stream",
     "text": [
      "Enter number 13542\n"
     ]
    },
    {
     "name": "stdout",
     "output_type": "stream",
     "text": [
      "NOT\n"
     ]
    }
   ],
   "source": [
    "# Harshad number\n",
    "\n",
    "n = int(input(\"Enter number\"))\n",
    "harshad = 0\n",
    "temp = n\n",
    "\n",
    "for i in range(n):\n",
    "    l = n%10\n",
    "    harshad = harshad + l\n",
    "    n = n//10\n",
    "\n",
    "if (temp%harshad == 0):\n",
    "    print(\"It is a harshad number\")\n",
    "else:\n",
    "    print(\"NOT\")"
   ]
  },
  {
   "cell_type": "code",
   "execution_count": 68,
   "id": "d777f6a3-ed58-4338-a68a-f4d06763e041",
   "metadata": {},
   "outputs": [
    {
     "name": "stdin",
     "output_type": "stream",
     "text": [
      "Enter number:  175\n"
     ]
    },
    {
     "name": "stdout",
     "output_type": "stream",
     "text": [
      "not\n"
     ]
    }
   ],
   "source": [
    "n = int(input(\"Enter number: \"))\n",
    "temp = n\n",
    "\n",
    "digits = 0\n",
    "while temp > 0:\n",
    "    digits = digits + 1\n",
    "    temp //= 10\n",
    "\n",
    "temp = n\n",
    "disarium = 0\n",
    "\n",
    "for i in range(digits,0,-1):\n",
    "    digit = temp // (10**(i-1))\n",
    "    disarium += digit**i\n",
    "    temp %= (10**(i-1))\n",
    "\n",
    "if(disarium == temp):\n",
    "    print(disarium,\"is a disarium number\")\n",
    "else:\n",
    "    print(\"not\")"
   ]
  },
  {
   "cell_type": "code",
   "execution_count": 65,
   "id": "341d8910-71f5-49ab-b514-fa5fd5cc520c",
   "metadata": {},
   "outputs": [
    {
     "name": "stdin",
     "output_type": "stream",
     "text": [
      "Enter a number:  175\n"
     ]
    },
    {
     "name": "stdout",
     "output_type": "stream",
     "text": [
      "175 is not a Disarium number.\n"
     ]
    }
   ],
   "source": [
    "# Input from the user\n",
    "number = int(input(\"Enter a number: \"))\n",
    "\n",
    "# Temporary variable to hold the value of the number\n",
    "temp = number\n",
    "\n",
    "# Determine the number of digits in the number\n",
    "num_digits = 0\n",
    "while temp > 0:\n",
    "    num_digits += 1\n",
    "    temp //= 10\n",
    "\n",
    "# Reset temp to the original number\n",
    "temp = number\n",
    "disarium_sum = 0\n",
    "\n",
    "# Use a for loop to iterate over the digits and their positions\n",
    "for i in range(num_digits, 0, -1):\n",
    "    digit = temp // (10 ** (i - 1))  # Extract the leftmost digit\n",
    "    disarium_sum += digit ** i\n",
    "    temp %= (10 ** (i - 1))  # Remove the leftmost digit\n",
    "\n",
    "# Check if the sum is equal to the original number\n",
    "if disarium_sum == number:\n",
    "    print(f\"{number} is a Disarium number.\")\n",
    "else:\n",
    "    print(f\"{number} is not a Disarium number.\")\n"
   ]
  },
  {
   "cell_type": "code",
   "execution_count": 8,
   "id": "36cc4ade-ceb5-41da-a166-0a4298b8a44a",
   "metadata": {},
   "outputs": [
    {
     "name": "stdin",
     "output_type": "stream",
     "text": [
      "Enter temprature in Fahrenheit:  122\n"
     ]
    },
    {
     "name": "stdout",
     "output_type": "stream",
     "text": [
      "50.0\n"
     ]
    }
   ],
   "source": [
    "def celcius():\n",
    "    n = int(input(\"Enter temprature in Fahrenheit: \"))\n",
    "    celcius = (n-32)*(5/9)\n",
    "    print(celcius)\n",
    "\n",
    "celcius()"
   ]
  },
  {
   "cell_type": "code",
   "execution_count": 11,
   "id": "e5a9dd39-564b-46a6-ae5d-2dd4da784f63",
   "metadata": {},
   "outputs": [
    {
     "name": "stdin",
     "output_type": "stream",
     "text": [
      "Enter number:  4\n"
     ]
    },
    {
     "name": "stdout",
     "output_type": "stream",
     "text": [
      "24\n"
     ]
    }
   ],
   "source": [
    "def fact():\n",
    "    n = int(input(\"Enter number: \"))\n",
    "    fact = 1\n",
    "    for i in range(n,1,-1):\n",
    "        fact *= i\n",
    "    print(fact)\n",
    "\n",
    "fact()"
   ]
  },
  {
   "cell_type": "code",
   "execution_count": 1,
   "id": "588fd901-a64e-4a49-9892-a87cc5a2d157",
   "metadata": {},
   "outputs": [
    {
     "name": "stdin",
     "output_type": "stream",
     "text": [
      "Enter number:  2\n"
     ]
    },
    {
     "name": "stdout",
     "output_type": "stream",
     "text": [
      "2 is in range\n"
     ]
    }
   ],
   "source": [
    "def is_range(n,start,end):\n",
    "    return start <= n <= end\n",
    "\n",
    "n = int(input(\"Enter number: \"))\n",
    "if is_range(n,1,10):\n",
    "    print(f\"{n} is in range\")\n",
    "else:\n",
    "    print(f\"{n} is not in range\")"
   ]
  },
  {
   "cell_type": "code",
   "execution_count": 17,
   "id": "ddb6d132-b69f-4e89-b131-318714a816ba",
   "metadata": {},
   "outputs": [
    {
     "name": "stdin",
     "output_type": "stream",
     "text": [
      "Enter the numbers of terms:  10\n"
     ]
    },
    {
     "name": "stdout",
     "output_type": "stream",
     "text": [
      "Fibonacci sequence up to 10 terms: \n",
      "0 1 1 2 3 5 8 13 21 34 "
     ]
    }
   ],
   "source": [
    "def fibonacci():\n",
    "    n = int(input(\"Enter the numbers of terms: \"))\n",
    "    a,b = 0,1\n",
    "    count = 0\n",
    "\n",
    "    print(f\"Fibonacci sequence up to {n} terms: \")\n",
    "\n",
    "    while count<n:\n",
    "        print(a,end=\" \")\n",
    "        nth = a + b\n",
    "        a = b\n",
    "        b = nth\n",
    "        count +=1\n",
    "\n",
    "fibonacci()"
   ]
  },
  {
   "cell_type": "code",
   "execution_count": 19,
   "id": "750351f9-174d-48f8-97b3-1197f60c16b3",
   "metadata": {},
   "outputs": [
    {
     "name": "stdin",
     "output_type": "stream",
     "text": [
      "ENTER VALUE OF A:  3\n",
      "ENTER VALUE OF B:  4\n"
     ]
    },
    {
     "name": "stdout",
     "output_type": "stream",
     "text": [
      "B is greater than A\n"
     ]
    }
   ],
   "source": [
    "def max():\n",
    "    a = int(input(\"ENTER VALUE OF A: \"))\n",
    "    b = int(input(\"ENTER VALUE OF B: \"))\n",
    "    if (a>b):\n",
    "        print(\"A is greater than B\")\n",
    "    else:\n",
    "        print(\"B is greater than A\")\n",
    "\n",
    "max()"
   ]
  },
  {
   "cell_type": "code",
   "execution_count": 23,
   "id": "bec244cc-ff05-400c-af8b-5183303fb936",
   "metadata": {},
   "outputs": [
    {
     "name": "stdin",
     "output_type": "stream",
     "text": [
      "ENTER NUMBER:  7\n"
     ]
    },
    {
     "name": "stdout",
     "output_type": "stream",
     "text": [
      "7 is odd number\n"
     ]
    }
   ],
   "source": [
    "def odd_even():\n",
    "    n = int(input(\"ENTER NUMBER: \"))\n",
    "    if(n%2 == 0):\n",
    "        print(f\"{n} is even number\")\n",
    "    else:\n",
    "        print(f\"{n} is odd number\")\n",
    "\n",
    "odd_even()"
   ]
  },
  {
   "cell_type": "code",
   "execution_count": 6,
   "id": "7bcfd9dc-efa6-4637-a444-1b271b026124",
   "metadata": {},
   "outputs": [
    {
     "name": "stdin",
     "output_type": "stream",
     "text": [
      "ENTER NUMBER:  370\n"
     ]
    },
    {
     "name": "stdout",
     "output_type": "stream",
     "text": [
      "370 is an ArmStrong number\n"
     ]
    }
   ],
   "source": [
    "def armstrong():\n",
    "    n = int(input(\"ENTER NUMBER: \"))\n",
    "    arm = 0\n",
    "    temp = n\n",
    "    \n",
    "    for i in range(n):\n",
    "        l = n%10\n",
    "        arm = arm + l**3\n",
    "        n = n//10\n",
    "    \n",
    "    if(temp == arm):\n",
    "        print(f\"{temp} is an ArmStrong number\")\n",
    "    else:\n",
    "        print(f\"{temp} is not an Armstrong number\")\n",
    "\n",
    "armstrong()"
   ]
  },
  {
   "cell_type": "code",
   "execution_count": 28,
   "id": "741c4cb3-9626-4e1d-93c8-2469bfd013de",
   "metadata": {},
   "outputs": [
    {
     "name": "stdout",
     "output_type": "stream",
     "text": [
      "1\n",
      "2\n",
      "3\n",
      "4\n",
      "5\n"
     ]
    }
   ],
   "source": [
    "def loop():\n",
    "    for i in range(1,6):\n",
    "        print(i)\n",
    "\n",
    "loop()"
   ]
  },
  {
   "cell_type": "code",
   "execution_count": 36,
   "id": "b079b06c-caef-49e8-9670-01ae34e365ce",
   "metadata": {},
   "outputs": [
    {
     "name": "stdin",
     "output_type": "stream",
     "text": [
      "Enter choice(1,2,3,4):  3\n",
      "Enter number 1:  4\n",
      "Enter number 2:  3\n"
     ]
    },
    {
     "name": "stdout",
     "output_type": "stream",
     "text": [
      "Product = 12\n"
     ]
    }
   ],
   "source": [
    "def add(a,b):\n",
    "    return a+b\n",
    "\n",
    "def sub(a,b):\n",
    "    return a-b\n",
    "\n",
    "def mul(a,b):\n",
    "    return a*b\n",
    "\n",
    "def div(a,b):\n",
    "    return a/b\n",
    "\n",
    "def calculator():\n",
    "    choice = input(\"Enter choice(add,sub,mul,div): \")\n",
    "\n",
    "    if choice in [\"1\",\"2\",\"3\",\"4\"]:\n",
    "        num1 = int(input(\"Enter number 1: \"))\n",
    "        num2 = int(input(\"Enter number 2: \"))\n",
    "\n",
    "        if (choice == \"1\"):\n",
    "            print(f\"Sum = {add(num1,num2)}\")\n",
    "        elif (choice == \"2\"):\n",
    "            print(f\"Difference = {sub(num1,num2)}\")\n",
    "        elif (choice == \"3\"):\n",
    "            print(f\"Product = {mul(num1,num2)}\")\n",
    "        elif (choice == \"4\"):\n",
    "            print(f\"Division = {div(num1,num2)}\")\n",
    "        else:\n",
    "            print(\"invalid input !!!\")\n",
    "\n",
    "calculator()"
   ]
  },
  {
   "cell_type": "code",
   "execution_count": 38,
   "id": "b9ee3097-c5f8-4daa-99fc-96458d5d3e8c",
   "metadata": {},
   "outputs": [
    {
     "name": "stdin",
     "output_type": "stream",
     "text": [
      "Enter the number:  50\n"
     ]
    },
    {
     "name": "stdout",
     "output_type": "stream",
     "text": [
      "Sum =  1275\n",
      "Average =  25.5\n"
     ]
    }
   ],
   "source": [
    "def sum_avg():\n",
    "    x = int(input(\"Enter the number: \"))\n",
    "    a = 0 \n",
    "    for i in range(x+1):\n",
    "        a = a+i\n",
    "    average = a/x\n",
    "    print(\"Sum = \",a)\n",
    "    print(\"Average = \",average)\n",
    "\n",
    "sum_avg()"
   ]
  },
  {
   "cell_type": "code",
   "execution_count": 43,
   "id": "2ce1a01e-8b85-4d18-b406-a446b33212b0",
   "metadata": {},
   "outputs": [
    {
     "name": "stdin",
     "output_type": "stream",
     "text": [
      "Enter the number:  5\n"
     ]
    },
    {
     "name": "stdout",
     "output_type": "stream",
     "text": [
      "Product =  120\n"
     ]
    }
   ],
   "source": [
    "def mul():\n",
    "    n = int(input(\"Enter the number: \"))\n",
    "    a = 1\n",
    "    for i in range(1,n+1):\n",
    "        a = a*i\n",
    "    print(\"Product = \",a)\n",
    "\n",
    "mul()"
   ]
  },
  {
   "cell_type": "code",
   "execution_count": 44,
   "id": "3089c8b8-56d3-40de-a080-aa337df00dae",
   "metadata": {},
   "outputs": [
    {
     "name": "stdin",
     "output_type": "stream",
     "text": [
      "ENTER NO:  12345\n"
     ]
    },
    {
     "name": "stdout",
     "output_type": "stream",
     "text": [
      "reversed number:  54321\n"
     ]
    }
   ],
   "source": [
    "def reverse():\n",
    "    n = int(input(\"ENTER NO: \"))\n",
    "    r = 0\n",
    "    for i in range(n):\n",
    "        if (n==0):\n",
    "            break\n",
    "        l = n%10\n",
    "        r = r * 10 + l\n",
    "        n = n//10\n",
    "    print(\"reversed number: \",r)\n",
    "\n",
    "reverse()"
   ]
  },
  {
   "cell_type": "code",
   "execution_count": null,
   "id": "adf7730a-7384-4632-ba01-1223685755d8",
   "metadata": {},
   "outputs": [],
   "source": []
  }
 ],
 "metadata": {
  "kernelspec": {
   "display_name": "Python 3 (ipykernel)",
   "language": "python",
   "name": "python3"
  },
  "language_info": {
   "codemirror_mode": {
    "name": "ipython",
    "version": 3
   },
   "file_extension": ".py",
   "mimetype": "text/x-python",
   "name": "python",
   "nbconvert_exporter": "python",
   "pygments_lexer": "ipython3",
   "version": "3.12.6"
  }
 },
 "nbformat": 4,
 "nbformat_minor": 5
}
