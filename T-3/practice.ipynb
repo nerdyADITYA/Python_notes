{
 "cells": [
  {
   "cell_type": "code",
   "execution_count": 3,
   "metadata": {},
   "outputs": [
    {
     "name": "stdout",
     "output_type": "stream",
     "text": [
      "Name: Aditya Kadia\n",
      "Age: 19\n",
      "\n"
     ]
    }
   ],
   "source": [
    "def cust_data():\n",
    "    f = open(\"cust.txt\",\"w+\")\n",
    "    while True:\n",
    "        s = input(\"Enter Customer data: \")\n",
    "        if s == \"end\":\n",
    "            break\n",
    "        else:\n",
    "            f.write(s+\"\\n\")\n",
    "    f.seek(0)\n",
    "    print(f.read())\n",
    "    f.close()\n",
    "\n",
    "cust_data()"
   ]
  },
  {
   "cell_type": "code",
   "execution_count": 11,
   "metadata": {},
   "outputs": [
    {
     "name": "stdout",
     "output_type": "stream",
     "text": [
      "[('2', 1), ('3', 1), ('4', 1), ('5', 1), ('6', 1), ('7', 1), ('8', 1), ('9', 1), ('0', 1), ('1', 2), ('\\n', 9), ('h', 10), ('o', 10), ('r', 10), ('p', 10), ('a', 10), ('i', 10), ('m', 10), ('s', 10), ('l', 20), ('t', 20), (' ', 30), ('e', 40)]\n"
     ]
    }
   ],
   "source": [
    "f = open(\"3.txt\",\"w+\")\n",
    "f.write(\"hello repeat 1 times\\nhello repeat 2 times\\nhello repeat 3 times\\nhello repeat 4 times\\nhello repeat 5 times\\nhello repeat 6 times\\nhello repeat 7 times\\nhello repeat 8 times\\nhello repeat 9 times\\nhello repeat 10 times\")\n",
    "f.seek(0)\n",
    "x = f.read()\n",
    "d={}\n",
    "for i in x:\n",
    "    d[i] = d.get(i,0)+1\n",
    "\n",
    "x = sorted(d.items(),key=lambda a : a[1])\n",
    "\n",
    "print(x)\n",
    "\n",
    "f.close()"
   ]
  },
  {
   "cell_type": "code",
   "execution_count": 6,
   "metadata": {},
   "outputs": [
    {
     "name": "stdout",
     "output_type": "stream",
     "text": [
      "{'hello': 10, 'repeat': 10, '1': 1, 'times': 10, '2': 1, '3': 1, '4': 1, '5': 1, '6': 1, '7': 1, '8': 1, '9': 1, '10': 1}\n"
     ]
    }
   ],
   "source": [
    "f = open(\"3.txt\",\"r\")\n",
    "x = f.readlines()\n",
    "d={}\n",
    "for i in x:\n",
    "    for j in i.split():\n",
    "        d[j] = d.get(j,0)+1\n",
    "\n",
    "print(d)\n",
    "\n",
    "f.close()"
   ]
  },
  {
   "cell_type": "code",
   "execution_count": 7,
   "metadata": {},
   "outputs": [
    {
     "name": "stdout",
     "output_type": "stream",
     "text": [
      "{'h': ['hello', 'hello', 'hello', 'hello', 'hello', 'hello', 'hello', 'hello', 'hello', 'hello'], 'r': ['repeat', 'repeat', 'repeat', 'repeat', 'repeat', 'repeat', 'repeat', 'repeat', 'repeat', 'repeat'], '1': ['1', '10'], 't': ['times', 'times', 'times', 'times', 'times', 'times', 'times', 'times', 'times', 'times'], '2': ['2'], '3': ['3'], '4': ['4'], '5': ['5'], '6': ['6'], '7': ['7'], '8': ['8'], '9': ['9']}\n"
     ]
    }
   ],
   "source": [
    "f = open(\"3.txt\",\"r\")\n",
    "x = f.readlines()\n",
    "d={}\n",
    "for i in x:\n",
    "    for j in i.split():\n",
    "        d[j[0]] = d.get(j[0],[])\n",
    "        d[j[0]].append(j)\n",
    "\n",
    "print(d)\n",
    "\n",
    "f.close()"
   ]
  },
  {
   "cell_type": "code",
   "execution_count": 9,
   "metadata": {},
   "outputs": [
    {
     "name": "stdout",
     "output_type": "stream",
     "text": [
      "{'hello': ['hello', 'hello', 'hello', 'hello', 'hello', 'hello', 'hello', 'hello', 'hello', 'hello'], 'repeat': ['repeat', 'repeat', 'repeat', 'repeat', 'repeat', 'repeat', 'repeat', 'repeat', 'repeat', 'repeat'], '1': ['1'], 'times': ['times', 'times', 'times', 'times', 'times', 'times', 'times', 'times', 'times', 'times'], '2': ['2'], '3': ['3'], '4': ['4'], '5': ['5'], '6': ['6'], '7': ['7'], '8': ['8'], '9': ['9'], '10': ['10']}\n"
     ]
    }
   ],
   "source": [
    "f = open(\"3.txt\",\"r\")\n",
    "x = f.readlines()\n",
    "d={}\n",
    "for i in x:\n",
    "    for j in i.split():\n",
    "        d[j] = d.get(j,[])\n",
    "        d[j].append(j)\n",
    "\n",
    "print(d)\n",
    "\n",
    "f.close()"
   ]
  },
  {
   "cell_type": "code",
   "execution_count": 62,
   "metadata": {},
   "outputs": [
    {
     "name": "stdout",
     "output_type": "stream",
     "text": [
      "The highest bidder is Dharmik with a bid of 1000.\n"
     ]
    }
   ],
   "source": [
    "bids = {}\n",
    "\n",
    "while True:\n",
    "    name = input(\"Enter your name:\")\n",
    "    bid = int(input(\"Enter your bid amount: \"))\n",
    "    bids[name] = bid\n",
    "    if input(\"Another bidder(yes/no)? \").lower() == \"yes\":\n",
    "        continue\n",
    "    else:\n",
    "        break\n",
    "\n",
    "x = max(bids, key = bids.get)\n",
    "print(f\"The highest bidder is {x} with a bid of {bids[x]}.\")"
   ]
  },
  {
   "cell_type": "code",
   "execution_count": 36,
   "metadata": {},
   "outputs": [
    {
     "name": "stdout",
     "output_type": "stream",
     "text": [
      "Total no. of words =  15\n"
     ]
    }
   ],
   "source": [
    "f = open(\"C8.txt\",\"w+\")\n",
    "f.write(\"hello,Aditya,C8\\nStudents how are you,Bye\\nI,am,fine and what,about,you\")\n",
    "f.seek(0)\n",
    "x = f.read()\n",
    "c = 0\n",
    "for i in x.split():\n",
    "    b = i.split(\",\")\n",
    "    for j in b:\n",
    "        c += 1\n",
    "\n",
    "print(\"Total no. of words = \",c)\n",
    "f.close()"
   ]
  },
  {
   "cell_type": "code",
   "execution_count": 35,
   "metadata": {},
   "outputs": [
    {
     "name": "stdout",
     "output_type": "stream",
     "text": [
      "Total no. of words =  15\n"
     ]
    }
   ],
   "source": [
    "f = open(\"C8.txt\",\"w+\")\n",
    "f.write(\"hello,Aditya,C8\\nStudents how are you,Bye\\nI,am,fine and what,about,you\")\n",
    "f.seek(0)\n",
    "x = f.read()\n",
    "c = 0\n",
    "x = x.replace(\",\",\" \")\n",
    "for i in x.split():\n",
    "    c += 1\n",
    "\n",
    "print(\"Total no. of words = \",c)\n",
    "f.close()"
   ]
  },
  {
   "cell_type": "code",
   "execution_count": 19,
   "metadata": {},
   "outputs": [
    {
     "name": "stdout",
     "output_type": "stream",
     "text": [
      "Word is found at line '3' at index position '0'\n"
     ]
    }
   ],
   "source": [
    "f = open(\"4.txt\",\"w+\")\n",
    "f.write(\"hello hi bye\\nhow are you\\nIndia VS Australia\")\n",
    "f.seek(0)\n",
    "x = f.readlines()\n",
    "a = input(\"Enter word to be found: \")\n",
    "c = 0\n",
    "for i in x:\n",
    "    c += 1\n",
    "    z = i.find(a)\n",
    "    if z != -1:\n",
    "        print(f\"Word is found at line '{c}' at index position '{z}'\")\n",
    "        break\n",
    "else:\n",
    "    print(\"word not found in file\")\n"
   ]
  },
  {
   "cell_type": "code",
   "execution_count": 18,
   "metadata": {},
   "outputs": [
    {
     "name": "stdout",
     "output_type": "stream",
     "text": [
      "Total no. of lines =  4\n"
     ]
    }
   ],
   "source": [
    "# Count the number of lines\n",
    "def count_lines():\n",
    "    f = open(\"Friends.txt\",\"w+\")\n",
    "    f.write(\"Friends are crazy, Friends are naughty !\\nFriends are honest, Friends are best !\\nFriends are like keygen, friends are like license key !\\nWe are nothing without friends, Life is not possible without friends !\")\n",
    "    f.seek(0)\n",
    "    c = 0\n",
    "    for i in f:\n",
    "        c+=1\n",
    "    print(\"Total no. of lines = \",c)\n",
    "\n",
    "    f.close()\n",
    "\n",
    "count_lines()"
   ]
  },
  {
   "cell_type": "code",
   "execution_count": 11,
   "metadata": {},
   "outputs": [
    {
     "name": "stdout",
     "output_type": "stream",
     "text": [
      "Friends are crazy, Friends are naughty !\n",
      "Friends are like keygen, friends are like license key !\n"
     ]
    }
   ],
   "source": [
    "# display odd lines\n",
    "def display_oddLines():\n",
    "    f = open(\"Friends.txt\",\"r+\")\n",
    "    a = f.readlines()\n",
    "    for i in range(0,len(a),2):\n",
    "        print(a[i],end=\"\")\n",
    "\n",
    "    f.close()\n",
    "\n",
    "display_oddLines()"
   ]
  },
  {
   "cell_type": "code",
   "execution_count": 23,
   "metadata": {},
   "outputs": [
    {
     "name": "stdout",
     "output_type": "stream",
     "text": [
      "Total no. of words in file: 36\n"
     ]
    }
   ],
   "source": [
    "# Count the total number of words\n",
    "# def count_words():\n",
    "#     f = open(\"Friends.txt\",\"r+\")\n",
    "#     a = f.read()\n",
    "#     count = len(a.split(\" \"))\n",
    "#     print(f\"Total no. of words in file: {count}\")\n",
    "\n",
    "def count_words():\n",
    "    f = open(\"Friends.txt\",\"r+\")\n",
    "    count = 0\n",
    "    for i in f:\n",
    "        count += len(i.split(\" \"))\n",
    "    \n",
    "    print(f\"Total no. of words in file: {count}\")\n",
    "\n",
    "count_words()"
   ]
  },
  {
   "cell_type": "code",
   "execution_count": 19,
   "metadata": {},
   "outputs": [
    {
     "name": "stdout",
     "output_type": "stream",
     "text": [
      "HELLO, #HOW ARE YOU?\n",
      "ADITYA\n",
      "GOOD MORNING # LJ\n",
      "PYTHON #T-3\n"
     ]
    }
   ],
   "source": [
    "f = open(\"Python.txt\",\"r\")\n",
    "a = f.read()\n",
    "f2 = open(\"f2.txt\",\"w+\")\n",
    "\n",
    "for i in a:\n",
    "    f2.write(i.upper())\n",
    "\n",
    "f2.seek(0)\n",
    "x = f2.read()\n",
    "print(x)\n",
    "\n",
    "f.close()\n",
    "f2.close()"
   ]
  },
  {
   "cell_type": "code",
   "execution_count": 20,
   "metadata": {},
   "outputs": [
    {
     "name": "stdout",
     "output_type": "stream",
     "text": [
      "Hello my name is Aditya Kadia \n",
      "I am currently studying python\n",
      "I am from class C8\n",
      "\n"
     ]
    }
   ],
   "source": [
    "# Copy the contents of one file into another file\n",
    "f = open(\"2.txt\",\"r+\")\n",
    "f1 = open(\"copy.txt\",\"w+\")\n",
    "\n",
    "x = f.read()\n",
    "a = f1.write(x)\n",
    "\n",
    "f1.seek(0)\n",
    "b = f1.read()\n",
    "\n",
    "print(b)\n",
    "\n",
    "f.close()\n",
    "f1.close()\n"
   ]
  },
  {
   "cell_type": "code",
   "execution_count": 10,
   "metadata": {},
   "outputs": [
    {
     "name": "stdout",
     "output_type": "stream",
     "text": [
      "Name: Aditya\n",
      "age: 19\n",
      "gender: Male\n",
      "\n"
     ]
    }
   ],
   "source": [
    "f = open(\"cust.txt\",\"w+\")\n",
    "while True:\n",
    "    s = input(\"Enter Customer data: \")\n",
    "    if s == \"end\":\n",
    "        break\n",
    "    else:\n",
    "        f.write(s+\"\\n\")\n",
    "f.seek(0)\n",
    "print(f.read())\n",
    "f.close()"
   ]
  },
  {
   "cell_type": "code",
   "execution_count": 10,
   "metadata": {},
   "outputs": [
    {
     "name": "stdout",
     "output_type": "stream",
     "text": [
      "From stephen.marquard@uct.ac.za Sat Jan  5 09:14:16 2008\n",
      "Return-Path: <postmaster@collab.sakaiproject.org>\n",
      "Received: from murder (mail.umich.edu [141.211.14.90])\n",
      "\t by frankenstein.mail.umich.edu (Cyrus v2.3.8) with LMTPA;\n",
      "\t Sat, 05 Jan 2008 09:14:16 -0500\n",
      "From stephen.marquard@uct.ac.za Sat Jan  5 09:14:16 2008\n",
      "Return-Path: <postmaster@collab.sakaiproject.org>\n",
      "Received: from murder (mail.umich.edu [141.211.14.90])\n",
      "\t by frankenstein.mail.umich.edu (Cyrus v2.3.8) with LMTPA;\n",
      "\t Sat, 05 Jan 2008 09:14:16 -0500\n",
      "From stephen.marquard@uct.ac.za Sat Jan  5 09:14:16 2008\n",
      "Return-Path: <postmaster@collab.sakaiproject.org>\n",
      "Received: from murder (mail.umich.edu [141.211.14.90])\n",
      "\t by frankenstein.mail.umich.edu (Cyrus v2.3.8) with LMTPA;\n",
      "\t Sat, 05 Jan 2008 09:14:16 -0500\n",
      "END OF FILE\n"
     ]
    }
   ],
   "source": [
    "f = open(\"mbox-short.txt\",\"r\")\n",
    "x = f.readlines()\n",
    "start = 0\n",
    "size = 5\n",
    "total_lines = len(x)\n",
    "while start < total_lines:\n",
    "    for i in range(start,min(start+size,total_lines)):\n",
    "        print(x[i].rstrip())\n",
    "\n",
    "    user = input(\"continue or stop ?\")\n",
    "    if user == \"stop\":\n",
    "        break\n",
    "\n",
    "print(\"END OF FILE\")\n",
    "f.close()"
   ]
  },
  {
   "cell_type": "code",
   "execution_count": 19,
   "metadata": {},
   "outputs": [
    {
     "name": "stdout",
     "output_type": "stream",
     "text": [
      "vitamins\n"
     ]
    }
   ],
   "source": [
    "u = input(\"Enter characters: \")\n",
    "with open(\"Fruits.txt\",\"w+\") as f:\n",
    "    f.write(\"oranges bananas vitamins greenapple apple\")\n",
    "    f.seek(0)\n",
    "    x = f.read().split()\n",
    "    for i in x:\n",
    "        for j in u:\n",
    "            if j not in i:\n",
    "                break\n",
    "            if u.count(j) > i.count(j):\n",
    "                break\n",
    "        else:\n",
    "            print(i)\n",
    "f.close()\n"
   ]
  },
  {
   "cell_type": "code",
   "execution_count": 25,
   "metadata": {},
   "outputs": [
    {
     "name": "stdout",
     "output_type": "stream",
     "text": [
      "Hi friends\n",
      "I am fine\n"
     ]
    }
   ],
   "source": [
    "f = open(\"p1.txt\",\"w+\")\n",
    "while True:\n",
    "    s = input(\"Enter something(to quit enter END): \")\n",
    "    if s.upper() == \"END\":\n",
    "        break\n",
    "    else:\n",
    "        f.write(s+\"\\n\")\n",
    "\n",
    "f.seek(0)\n",
    "x = f.readlines()\n",
    "for i in x:\n",
    "    for j in i:\n",
    "        if j[0].isupper():\n",
    "            print(i,end=\"\")\n",
    "\n",
    "f.close()\n"
   ]
  },
  {
   "cell_type": "code",
   "execution_count": 31,
   "metadata": {},
   "outputs": [
    {
     "name": "stdout",
     "output_type": "stream",
     "text": [
      "Line no: 3, col: 18\n"
     ]
    }
   ],
   "source": [
    "f1 = open(\"copy1.txt\",\"r\")\n",
    "f2 = open(\"copy2.txt\",\"r\")\n",
    "\n",
    "d1 = f1.read()\n",
    "d2 = f2.read()\n",
    "\n",
    "line,col = 1,1\n",
    "\n",
    "if d1 == d2 :\n",
    "    print(\"both files are the same\")\n",
    "else: \n",
    "    l = min(len(d1),len(d2))\n",
    "    for i in range(l):\n",
    "        if d1[i] == d2[i]:\n",
    "            col += 1\n",
    "        else:\n",
    "            print(f\"Line no: {line}, col: {col}\")\n",
    "            break\n",
    "        if d1[i]==\"\\n\":\n",
    "            line+=1\n",
    "            col=1\n",
    "\n",
    "f1.close()\n",
    "f2.close()"
   ]
  },
  {
   "cell_type": "code",
   "execution_count": null,
   "metadata": {},
   "outputs": [],
   "source": []
  }
 ],
 "metadata": {
  "kernelspec": {
   "display_name": "Python 3",
   "language": "python",
   "name": "python3"
  },
  "language_info": {
   "codemirror_mode": {
    "name": "ipython",
    "version": 3
   },
   "file_extension": ".py",
   "mimetype": "text/x-python",
   "name": "python",
   "nbconvert_exporter": "python",
   "pygments_lexer": "ipython3",
   "version": "3.11.9"
  }
 },
 "nbformat": 4,
 "nbformat_minor": 2
}
