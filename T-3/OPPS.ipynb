{
 "cells": [
  {
   "cell_type": "code",
   "execution_count": 1,
   "metadata": {},
   "outputs": [
    {
     "name": "stdout",
     "output_type": "stream",
     "text": [
      "Aditya Kadia\n",
      "19\n"
     ]
    }
   ],
   "source": [
    "class Student: \n",
    "    name = \"Aditya Kadia\"\n",
    "    age = 19\n",
    "\n",
    "s1 = Student()\n",
    "print(s1.name)\n",
    "print(s1.age)"
   ]
  },
  {
   "cell_type": "code",
   "execution_count": 3,
   "metadata": {},
   "outputs": [
    {
     "name": "stdout",
     "output_type": "stream",
     "text": [
      "Student name is Aditya Kadia and student age is 19\n"
     ]
    }
   ],
   "source": [
    "class Student: \n",
    "    name = \"Aditya Kadia\"\n",
    "    age = 19\n",
    "    def display(self):\n",
    "        print(f\"Student name is {self.name} and student age is {self.age}\")\n",
    "\n",
    "s1 = Student()\n",
    "s1.display()"
   ]
  },
  {
   "cell_type": "code",
   "execution_count": 7,
   "metadata": {},
   "outputs": [
    {
     "name": "stdout",
     "output_type": "stream",
     "text": [
      "Student name is Aditya  and student age is 20\n"
     ]
    }
   ],
   "source": [
    "\n",
    "class Student:\n",
    "    def display(self):\n",
    "        self.name = name\n",
    "        self.age = age\n",
    "        print(f\"Student name is {self.name} and student age is {self.age}\")\n",
    "\n",
    "name = input(\"Enter name: \")\n",
    "age = int(input(\"Enter Age: \"))\n",
    "s1 = Student()\n",
    "s1.display()\n"
   ]
  },
  {
   "cell_type": "code",
   "execution_count": 2,
   "metadata": {},
   "outputs": [
    {
     "name": "stdout",
     "output_type": "stream",
     "text": [
      "Student name is Aditya and student age is 19\n"
     ]
    }
   ],
   "source": [
    "class Student:\n",
    "    def display(self,name,age):\n",
    "        print(f\"Student name is {name} and student age is {age}\")\n",
    "\n",
    "name = input(\"Enter name: \")\n",
    "age = int(input(\"Enter Age: \"))\n",
    "s1 = Student()\n",
    "s1.display(name,age)\n"
   ]
  },
  {
   "cell_type": "code",
   "execution_count": 3,
   "metadata": {},
   "outputs": [
    {
     "name": "stdout",
     "output_type": "stream",
     "text": [
      "Student name is Aditya and student age is 19\n",
      "Student name is Dwij and student age is 19\n"
     ]
    }
   ],
   "source": [
    "# CONSTRUCTOR\n",
    "class Student:\n",
    "    def __init__(self,name,age):\n",
    "        self.name = name\n",
    "        self.age = age\n",
    "        print(f\"Student name is {self.name} and student age is {self.age}\")\n",
    "\n",
    "s1 = Student(\"Aditya\",19)\n",
    "s2 = Student(\"Dwij\",19)"
   ]
  },
  {
   "cell_type": "code",
   "execution_count": 5,
   "metadata": {},
   "outputs": [
    {
     "name": "stdout",
     "output_type": "stream",
     "text": [
      "Student name is Aditya and student age is 19\n",
      "Student name is Dwij and student age is 19\n",
      "The object is deleted !!!\n",
      "The object is deleted !!!\n",
      "Student name is Dharmik and student age is 20\n"
     ]
    }
   ],
   "source": [
    "# DESTRUCTOR\n",
    "class Student:\n",
    "    def __init__(self,name,age):\n",
    "        self.name = name\n",
    "        self.age = age\n",
    "        print(f\"Student name is {self.name} and student age is {self.age}\")\n",
    "\n",
    "    def __del__(self):\n",
    "        print(\"The object is deleted !!!\")\n",
    "\n",
    "s1 = Student(\"Aditya\",19)\n",
    "s2 = Student(\"Dwij\",19)\n",
    "del(s1)\n",
    "s1 = Student(\"Dharmik\",20)"
   ]
  },
  {
   "cell_type": "code",
   "execution_count": 7,
   "metadata": {},
   "outputs": [
    {
     "name": "stdout",
     "output_type": "stream",
     "text": [
      "Number 1 =  6\n",
      "Number 2 =  10\n"
     ]
    }
   ],
   "source": [
    "class NumberSet:\n",
    "    def __init__(self,num1,num2):\n",
    "        print(\"Number 1 = \",num1)\n",
    "        print(\"Number 2 = \",num2)\n",
    "\n",
    "t = NumberSet(6,10)"
   ]
  },
  {
   "cell_type": "code",
   "execution_count": 2,
   "metadata": {},
   "outputs": [
    {
     "name": "stdout",
     "output_type": "stream",
     "text": [
      "Spider has 4 arms and 4 legs\n",
      "Total limbs = 8\n"
     ]
    }
   ],
   "source": [
    "class Animal:\n",
    "    def __init__(self,name,arms,legs):\n",
    "        self.name = name\n",
    "        self.arms = arms\n",
    "        self.legs = legs\n",
    "    def limbs(self):\n",
    "        # return self.legs + self.arms\n",
    "        print(f\"{self.name} has {self.arms} arms and {self.legs} legs\")\n",
    "        print(f\"Total limbs = {self.arms + self.legs}\")\n",
    "\n",
    "spider = Animal(\"Spider\",4,4)\n",
    "spidlimbs = spider.limbs()"
   ]
  },
  {
   "cell_type": "code",
   "execution_count": 26,
   "metadata": {},
   "outputs": [
    {
     "name": "stdout",
     "output_type": "stream",
     "text": [
      "BMW S1000RR has the max speed of 320km/h and gives a mileage of 12\n",
      "BMW M4 Comp has the max speed of 600km/h and gives a mileage of 20\n"
     ]
    }
   ],
   "source": [
    "class Vehicle:\n",
    "    def __init__(self,name,speed,mileage):\n",
    "        self.name = name\n",
    "        self.speed = speed\n",
    "        self.mileage = mileage\n",
    "    def car(self):\n",
    "        print(f\"{self.name} has the max speed of {self.speed}km/h and gives a mileage of {self.mileage}\")\n",
    "    def bike(self):\n",
    "        print(f\"{self.name} has the max speed of {self.speed}km/h and gives a mileage of {self.mileage}\")\n",
    "\n",
    "b1 = Vehicle(\"BMW S1000RR\",320,12)\n",
    "bike = b1.bike()\n",
    "c1 = Vehicle(\"BMW M4 Comp\",600,20)\n",
    "car = c1.car()"
   ]
  },
  {
   "cell_type": "code",
   "execution_count": 4,
   "metadata": {},
   "outputs": [
    {
     "name": "stdout",
     "output_type": "stream",
     "text": [
      "Name: A\n",
      "Roll no: 1\n",
      "Marks1: 20\n",
      "Marks2: 23\n",
      "Name: B\n",
      "Roll no: 2\n",
      "Marks1: 100.0\n",
      "Marks2: 100.0\n",
      "Name: C\n",
      "Roll no: 3\n",
      "Marks1: 90.0\n",
      "Marks2: 90.0\n",
      "Data found: \n",
      "Name: C\n",
      "Roll no: 3\n",
      "Marks1: 90.0\n",
      "Marks2: 90.0\n",
      "Data successfully deleted !!!\n",
      "Name: A\n",
      "Roll no: 1\n",
      "Marks1: 20\n",
      "Marks2: 23\n",
      "Name: B\n",
      "Roll no: 2\n",
      "Marks1: 100.0\n",
      "Marks2: 100.0\n",
      "Roll no. updated!!!\n",
      "Name: A\n",
      "Roll no: 1\n",
      "Marks1: 20\n",
      "Marks2: 23\n",
      "Name: B\n",
      "Roll no: 102\n",
      "Marks1: 100.0\n",
      "Marks2: 100.0\n"
     ]
    }
   ],
   "source": [
    "class Student:\n",
    "    l = []\n",
    "    def __init__(self,name,rollno,marks1,marks2):\n",
    "        self.name = name\n",
    "        self.rollno = rollno\n",
    "        self.marks1 = marks1\n",
    "        self.marks2 = marks2\n",
    "        Student.l.append(self)\n",
    "\n",
    "    def accept(self):\n",
    "        name = input(\"Enter student name: \")\n",
    "        rollno = int(input(\"Enter roll number: \"))\n",
    "        marks1 = float(input(\"Enter marks for 1 sub: \"))\n",
    "        marks2 = float(input(\"Enter marks for 2 sub: \"))\n",
    "        x = Student(name,rollno,marks1,marks2)\n",
    "\n",
    "    def display(self):\n",
    "        for x in Student.l:\n",
    "            print(f\"Name: {x.name}\\nRoll no: {x.rollno}\\nMarks1: {x.marks1}\\nMarks2: {x.marks2}\")\n",
    "\n",
    "    def search(self):\n",
    "            sear = int(input(\"Enter roll no to search: \"))\n",
    "            for x in Student.l:\n",
    "                if sear == x.rollno:\n",
    "                    print(\"Data found: \")\n",
    "                    print(f\"Name: {x.name}\\nRoll no: {x.rollno}\\nMarks1: {x.marks1}\\nMarks2: {x.marks2}\")\n",
    "            \n",
    "    def delete(self):\n",
    "        rn = int(input(\"Enter roll no to delete: \"))\n",
    "        for x in Student.l:\n",
    "            if x.rollno == rn:\n",
    "                Student.l.remove(x)\n",
    "                print(\"Data successfully deleted !!!\")\n",
    "        self.display()\n",
    "        \n",
    "    def update(self):\n",
    "        rm = int(input(\"Enter old roll no: \"))\n",
    "        new = int(input(\"Enter new roll no\"))\n",
    "        for x in Student.l:\n",
    "            if x.rollno == rm:\n",
    "                x.rollno = new\n",
    "                print(\"Roll no. updated!!!\")\n",
    "        self.display()\n",
    "        \n",
    "s1 = Student(\"A\",1,20,23) \n",
    "s1.accept()\n",
    "s1.accept()\n",
    "s1.display()\n",
    "s1.search()\n",
    "s1.delete()\n",
    "s1.update()"
   ]
  },
  {
   "cell_type": "code",
   "execution_count": null,
   "metadata": {},
   "outputs": [],
   "source": []
  }
 ],
 "metadata": {
  "kernelspec": {
   "display_name": "Python 3",
   "language": "python",
   "name": "python3"
  },
  "language_info": {
   "codemirror_mode": {
    "name": "ipython",
    "version": 3
   },
   "file_extension": ".py",
   "mimetype": "text/x-python",
   "name": "python",
   "nbconvert_exporter": "python",
   "pygments_lexer": "ipython3",
   "version": "3.11.9"
  }
 },
 "nbformat": 4,
 "nbformat_minor": 2
}
