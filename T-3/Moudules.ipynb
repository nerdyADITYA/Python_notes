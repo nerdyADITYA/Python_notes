{
 "cells": [
  {
   "cell_type": "code",
   "execution_count": 1,
   "metadata": {},
   "outputs": [
    {
     "data": {
      "text/plain": [
       "['1.txt',\n",
       " '2.txt',\n",
       " '3.txt',\n",
       " '4.txt',\n",
       " '69.txt',\n",
       " '6969.txt',\n",
       " 'abc.txt',\n",
       " 'Aditya.txt',\n",
       " 'C8.txt',\n",
       " 'calculator.py',\n",
       " 'copy.txt',\n",
       " 'copy1.txt',\n",
       " 'copy2.txt',\n",
       " 'cust.txt',\n",
       " 'example.txt',\n",
       " 'Exception.ipynb',\n",
       " 'f2.txt',\n",
       " 'File_Handling.ipynb',\n",
       " 'Friends.txt',\n",
       " 'Fruits.txt',\n",
       " 'Func.py',\n",
       " 'India.txt',\n",
       " 'Input.txt',\n",
       " 'mbox-short.txt',\n",
       " 'Moudules.ipynb',\n",
       " 'OPPS.ipynb',\n",
       " 'output.txt',\n",
       " 'p1.txt',\n",
       " 'pager.txt',\n",
       " 'practice.ipynb',\n",
       " 'Practice.txt',\n",
       " 'Python.txt',\n",
       " '__pycache__']"
      ]
     },
     "execution_count": 1,
     "metadata": {},
     "output_type": "execute_result"
    }
   ],
   "source": [
    "import os\n",
    "os.getcwd()\n",
    "os.listdir()"
   ]
  },
  {
   "cell_type": "code",
   "execution_count": 15,
   "metadata": {},
   "outputs": [],
   "source": [
    "import os\n",
    "# os.makedirs(\"abc\")\n",
    "# os.makedirs(\"xyz\")\n",
    "os.makedirs(os.path.join(\"abc\",\"xyz\"),exist_ok=True)"
   ]
  },
  {
   "cell_type": "markdown",
   "metadata": {},
   "source": [
    "USER DEFINE MODULES"
   ]
  },
  {
   "cell_type": "code",
   "execution_count": 16,
   "metadata": {},
   "outputs": [
    {
     "name": "stdout",
     "output_type": "stream",
     "text": [
      "Writing cal.py\n"
     ]
    }
   ],
   "source": [
    "%%writefile cal.py\n",
    "a = 10\n",
    "def add(a,b):\n",
    "    return a+b\n",
    "def sub(a,b):\n",
    "    return a-b\n",
    "def mul(a,b):\n",
    "    return a*b\n",
    "def div(a,b):\n",
    "    return a/b"
   ]
  },
  {
   "cell_type": "code",
   "execution_count": null,
   "metadata": {},
   "outputs": [
    {
     "name": "stdout",
     "output_type": "stream",
     "text": [
      "Addition:  30\n"
     ]
    }
   ],
   "source": [
    "import calculator\n",
    "# print(cal.a)\n",
    "print(\"Addition: \",calculator.add(10,20))"
   ]
  },
  {
   "cell_type": "code",
   "execution_count": 26,
   "metadata": {},
   "outputs": [
    {
     "name": "stdout",
     "output_type": "stream",
     "text": [
      "Addition =  30\n"
     ]
    }
   ],
   "source": [
    "from calculator import add\n",
    "print(\"Addition = \",add(10,20))"
   ]
  },
  {
   "cell_type": "code",
   "execution_count": 27,
   "metadata": {},
   "outputs": [
    {
     "name": "stdout",
     "output_type": "stream",
     "text": [
      "Subtraction =  10\n"
     ]
    }
   ],
   "source": [
    "from calculator import sub\n",
    "print(\"Subtraction = \",sub(20,10))"
   ]
  },
  {
   "cell_type": "code",
   "execution_count": 32,
   "metadata": {},
   "outputs": [
    {
     "name": "stdout",
     "output_type": "stream",
     "text": [
      "Multiplication =  200\n"
     ]
    }
   ],
   "source": [
    "from calculator import mul,add\n",
    "print(\"Multiplication = \",mul(10,20))"
   ]
  },
  {
   "cell_type": "code",
   "execution_count": 30,
   "metadata": {},
   "outputs": [
    {
     "name": "stdout",
     "output_type": "stream",
     "text": [
      "Division =  2.0\n"
     ]
    }
   ],
   "source": [
    "from calculator import div\n",
    "print(\"Division = \",div(20,10))"
   ]
  },
  {
   "cell_type": "code",
   "execution_count": 1,
   "metadata": {},
   "outputs": [
    {
     "name": "stdout",
     "output_type": "stream",
     "text": [
      "aidaK aytidA\n",
      "11\n"
     ]
    }
   ],
   "source": [
    "import Func\n",
    "Func.rev(\"Aditya Kadia\")\n",
    "Func.count(\"Hello my name is Aditya Kadia\")"
   ]
  }
 ],
 "metadata": {
  "kernelspec": {
   "display_name": "Python 3",
   "language": "python",
   "name": "python3"
  },
  "language_info": {
   "codemirror_mode": {
    "name": "ipython",
    "version": 3
   },
   "file_extension": ".py",
   "mimetype": "text/x-python",
   "name": "python",
   "nbconvert_exporter": "python",
   "pygments_lexer": "ipython3",
   "version": "3.13.6"
  }
 },
 "nbformat": 4,
 "nbformat_minor": 2
}
