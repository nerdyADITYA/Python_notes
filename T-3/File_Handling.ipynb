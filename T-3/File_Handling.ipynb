{
 "cells": [
  {
   "cell_type": "code",
   "execution_count": 2,
   "metadata": {},
   "outputs": [
    {
     "name": "stdout",
     "output_type": "stream",
     "text": [
      "File name:  Python.txt\n",
      "Mode of File:  w+\n",
      "File is Readable:  True\n",
      "File is writeable:  True\n",
      "File is closed:  True\n"
     ]
    }
   ],
   "source": [
    "f = open(\"Python.txt\",\"w+\")\n",
    "\n",
    "print(\"File name: \",f.name)\n",
    "print(\"Mode of File: \",f.mode)\n",
    "print(\"File is Readable: \",f.readable())\n",
    "print(\"File is writeable: \",f.writable())\n",
    "f.close()\n",
    "print(\"File is closed: \",f.closed)"
   ]
  },
  {
   "cell_type": "code",
   "execution_count": 33,
   "metadata": {},
   "outputs": [
    {
     "name": "stdout",
     "output_type": "stream",
     "text": [
      "['Hello, How are you?\\n', 'Aditya\\n']\n"
     ]
    }
   ],
   "source": [
    "f = open(\"Python.txt\",\"r\")\n",
    "# x = f.read(10)        #It will read the first 10 characters\n",
    "# y = f.read(10)        #It will read the next 10 characters\n",
    "# z = f.readline(2)        #It will read the first line of the file\n",
    "a = f.readlines(20)\n",
    "# b = f.readlines(3)\n",
    "# print(x)\n",
    "# print(z)\n",
    "print(a)\n",
    "# print(b)\n",
    "# print(f.readline(2))    #It will read the first 2 characters from the first line\n",
    "# print(f.readline())\n",
    "f.close()"
   ]
  },
  {
   "cell_type": "code",
   "execution_count": 1,
   "metadata": {},
   "outputs": [],
   "source": [
    "f = open(\"Aditya.txt\",\"w\")\n",
    "# f.write(\"Hello world\\nDharmik is Gay\")\n",
    "f.writelines([\"Hello world\\n\",\"Dharmik is gay\"])\n",
    "f.close()"
   ]
  },
  {
   "cell_type": "code",
   "execution_count": 46,
   "metadata": {},
   "outputs": [],
   "source": [
    "f = open(\"Aditya.txt\",\"a\")\n",
    "f.write(\"\\nHe is a dumb son of a bitch\")\n",
    "f.close()"
   ]
  },
  {
   "cell_type": "code",
   "execution_count": 2,
   "metadata": {},
   "outputs": [
    {
     "name": "stdout",
     "output_type": "stream",
     "text": [
      "['Name: Aditya\\n', 'Age: 19\\n', 'Division: C8']\n",
      "Name: Aditya\n",
      "Age: 19\n",
      "Division: C8"
     ]
    }
   ],
   "source": [
    "f = open(\"Practice.txt\",\"w\")\n",
    "f.write(\"Name: Aditya\\nAge: 19\\nDivision: C8\")\n",
    "f.close()\n",
    "f = open(\"Practice.txt\",\"r\")\n",
    "a = f.readlines()\n",
    "print(a)\n",
    "for i in a:\n",
    "    print(i,end=\"\")\n",
    "f.close()"
   ]
  },
  {
   "cell_type": "code",
   "execution_count": 60,
   "metadata": {},
   "outputs": [
    {
     "name": "stdout",
     "output_type": "stream",
     "text": [
      "Hello\n",
      "world\n",
      "bye\n",
      "world\n"
     ]
    }
   ],
   "source": [
    "f = open(\"abc.txt\",\"w+\")\n",
    "f.write(\"Hello\\nworld\\nbye\\nworld\")\n",
    "f.seek(0)\n",
    "a = f.read()\n",
    "print(a)"
   ]
  },
  {
   "cell_type": "code",
   "execution_count": 6,
   "metadata": {},
   "outputs": [
    {
     "name": "stdout",
     "output_type": "stream",
     "text": [
      "Hello, #How are you?\n",
      "Aditya\n",
      "Good morning # LJ\n",
      "python #T-3\n",
      "Number of lines =  4\n"
     ]
    }
   ],
   "source": [
    "f = open(\"Python.txt\",\"r\")\n",
    "c = 0\n",
    "for i in f:\n",
    "    c = c+1\n",
    "    print(i,end=\"\")\n",
    "    # for w in i.split(): #To print each and every word\n",
    "    #     print(w)\n",
    "    # for w in i:       #To print each and every character\n",
    "    #     print(w)\n",
    "print(\"\\nNumber of lines = \",c)"
   ]
  },
  {
   "cell_type": "code",
   "execution_count": 9,
   "metadata": {},
   "outputs": [
    {
     "name": "stdout",
     "output_type": "stream",
     "text": [
      "['hello\\n', 'aditya\\n', 'eye\\n', 'byeb']\n",
      "aditya\n",
      "eye\n"
     ]
    }
   ],
   "source": [
    "f = open(\"example.txt\",\"w+\")\n",
    "f.write(\"hello\\naditya\\neye\\nbyeb\")\n",
    "f.seek(0)\n",
    "l = f.readlines()\n",
    "print(l)\n",
    "for i in l:\n",
    "    if i[0] == i[len(i)-2]:\n",
    "        print(i,end=\"\")\n",
    "f.close()"
   ]
  },
  {
   "cell_type": "code",
   "execution_count": 15,
   "metadata": {},
   "outputs": [
    {
     "name": "stdout",
     "output_type": "stream",
     "text": [
      "aditya\n",
      "eye\n",
      "byeb\n"
     ]
    }
   ],
   "source": [
    "f = open(\"example.txt\",\"w+\")\n",
    "f.write(\"hello\\naditya\\neye\\nbyeb\")\n",
    "f.seek(0)\n",
    "for i in f:\n",
    "    for w in i.split():\n",
    "        if w[0] == w[-1]:\n",
    "            print(w)\n",
    "f.close()"
   ]
  },
  {
   "cell_type": "code",
   "execution_count": 1,
   "metadata": {},
   "outputs": [
    {
     "name": "stdout",
     "output_type": "stream",
     "text": [
      "HELLO, #HOW ARE YOU?\n",
      "ADITYA\n",
      "GOOD MORNING # LJ\n",
      "PYTHON #T-3\n"
     ]
    }
   ],
   "source": [
    "f = open(\"Python.txt\",\"r\")\n",
    "a = f.read()\n",
    "f2 = open(\"f2.txt\",\"w+\")\n",
    "\n",
    "for i in a:\n",
    "    f2.write(i.upper())\n",
    "    \n",
    "f2.seek(0)\n",
    "print(f2.read())\n",
    "f.close()\n",
    "f2.close()\n"
   ]
  },
  {
   "cell_type": "code",
   "execution_count": 2,
   "metadata": {},
   "outputs": [
    {
     "name": "stdout",
     "output_type": "stream",
     "text": [
      "3-T# NOHTYP\n",
      "JL # GNINROM DOOG\n",
      "AYTIDA\n",
      "?UOY ERA WOH# ,OLLEH\n"
     ]
    }
   ],
   "source": [
    "f = open(\"f2.txt\",\"r\")\n",
    "a=f.read()\n",
    "a=a[::-1]\n",
    "f2 = open(\"69.txt\",\"w+\")\n",
    "for i in a:\n",
    "    f2.write(i)\n",
    "\n",
    "f2.seek(0)\n",
    "print(f2.read())\n",
    "f.close()\n",
    "f2.close()"
   ]
  },
  {
   "cell_type": "code",
   "execution_count": 39,
   "metadata": {},
   "outputs": [
    {
     "name": "stdout",
     "output_type": "stream",
     "text": [
      "Total vowels =  15\n"
     ]
    }
   ],
   "source": [
    "f = open(\"69.txt\",\"r\")\n",
    "c = 0\n",
    "a = f.read()\n",
    "for i in a:\n",
    "    if i in \"AEIOU\":\n",
    "            c +=1\n",
    "\n",
    "print(\"Total vowels = \",c)\n",
    "f.close()"
   ]
  },
  {
   "cell_type": "code",
   "execution_count": 7,
   "metadata": {},
   "outputs": [
    {
     "name": "stdout",
     "output_type": "stream",
     "text": [
      "['JL # GNINROM DOOG\\n', 'AYTIDA\\n']\n"
     ]
    }
   ],
   "source": [
    "f = open(\"69.txt\",\"r\")\n",
    "a = f.readlines()\n",
    "print(a[1:-1])"
   ]
  },
  {
   "cell_type": "code",
   "execution_count": 3,
   "metadata": {},
   "outputs": [
    {
     "name": "stdout",
     "output_type": "stream",
     "text": [
      "3-T# DOOG ?UOY WOH# \n"
     ]
    }
   ],
   "source": [
    "f = open(\"69.txt\",\"r\")\n",
    "f1 = open(\"6969.txt\",\"w+\")\n",
    "a = f.readlines()\n",
    "for i in a:\n",
    "    for w in i.split():\n",
    "        if len(w) == 4:\n",
    "            f1.write(w+\" \")\n",
    "\n",
    "f1.seek(0)\n",
    "print(f1.read())\n",
    "f.close()\n",
    "f1.close()"
   ]
  },
  {
   "cell_type": "code",
   "execution_count": 72,
   "metadata": {},
   "outputs": [
    {
     "name": "stdout",
     "output_type": "stream",
     "text": [
      "aidnI si my country \n"
     ]
    }
   ],
   "source": [
    "f = open(\"India.txt\",\"w+\")\n",
    "f.write(\"India is my country\")\n",
    "f.seek(0)\n",
    "r = \"\"\n",
    "a = f.readlines()\n",
    "for i in a:\n",
    "    for w in i.split():\n",
    "        if w[0] == \"i\" or w[0] == \"I\":\n",
    "            r = r + w[::-1] + \" \"\n",
    "        else:\n",
    "            r = r + w + \" \"\n",
    "print(r)\n",
    "\n",
    "f.close()"
   ]
  },
  {
   "cell_type": "code",
   "execution_count": null,
   "metadata": {},
   "outputs": [
    {
     "name": "stdout",
     "output_type": "stream",
     "text": [
      "Hello,\n",
      "Aditya\n",
      "Goodmorning\n",
      "python\n"
     ]
    }
   ],
   "source": [
    "f = open(\"Python.txt\",\"r\")\n",
    "a = f.readlines()\n",
    "x = \"\"\n",
    "for i in a:\n",
    "    for j in i.split():\n",
    "        if \"#\" in j:\n",
    "            break\n",
    "        else:\n",
    "            print(j,end=\"\")\n",
    "    print()\n",
    "f.close()"
   ]
  },
  {
   "cell_type": "code",
   "execution_count": 8,
   "metadata": {},
   "outputs": [
    {
     "name": "stdout",
     "output_type": "stream",
     "text": [
      "Hello, \n",
      "Aditya\n",
      "Good morning \n",
      "python \n"
     ]
    }
   ],
   "source": [
    "f = open(\"Python.txt\",\"r\")\n",
    "a = f.readlines()\n",
    "for i in a:\n",
    "    temp = i\n",
    "    index = temp.find(\"#\")\n",
    "    print(i[:index])\n",
    "\n",
    "f.close()"
   ]
  },
  {
   "cell_type": "code",
   "execution_count": 9,
   "metadata": {},
   "outputs": [
    {
     "name": "stdout",
     "output_type": "stream",
     "text": [
      "hello \n",
      "my name is Aditya kadia \n",
      "I am studying AIML\n",
      "\n"
     ]
    }
   ],
   "source": [
    "f = open(\"Input.txt\",\"w+\")\n",
    "while True:\n",
    "    x = input(\"Enter data\")\n",
    "    if x == \"end\":\n",
    "        break\n",
    "    else:\n",
    "        f.write(x+\"\\n\")\n",
    "\n",
    "f.seek(0)\n",
    "print(f.read())\n",
    "\n",
    "f.close()"
   ]
  },
  {
   "cell_type": "code",
   "execution_count": 23,
   "metadata": {},
   "outputs": [
    {
     "name": "stdout",
     "output_type": "stream",
     "text": [
      "Hello my name is Aditya kadia\n",
      "I am currently in AIML Batch\n",
      "\n"
     ]
    }
   ],
   "source": [
    "f = open(\"1.txt\",\"w+\")\n",
    "while True:\n",
    "    s = input(\"Enter Data: \")\n",
    "    if s == \"end\":\n",
    "        break\n",
    "    else:\n",
    "        f.write(s+\"\\n\")\n",
    "f.seek(0)\n",
    "x = f.readlines()\n",
    "f1 = open(\"2.txt\",\"w+\")\n",
    "for i in x:\n",
    "    if len(i) >= 10:\n",
    "        f1.write(i)\n",
    "    else:\n",
    "        continue\n",
    "f1.seek(0)\n",
    "a = f1.read()\n",
    "print(a)\n",
    "f.close()\n",
    "f1.close()"
   ]
  },
  {
   "cell_type": "code",
   "execution_count": null,
   "metadata": {},
   "outputs": [],
   "source": []
  }
 ],
 "metadata": {
  "kernelspec": {
   "display_name": "Python 3",
   "language": "python",
   "name": "python3"
  },
  "language_info": {
   "codemirror_mode": {
    "name": "ipython",
    "version": 3
   },
   "file_extension": ".py",
   "mimetype": "text/x-python",
   "name": "python",
   "nbconvert_exporter": "python",
   "pygments_lexer": "ipython3",
   "version": "3.13.6"
  }
 },
 "nbformat": 4,
 "nbformat_minor": 2
}
